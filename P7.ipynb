{
  "nbformat": 4,
  "nbformat_minor": 0,
  "metadata": {
    "colab": {
      "name": "P7.ipynb",
      "provenance": [],
      "collapsed_sections": [],
      "authorship_tag": "ABX9TyPOeoff0OJYFLrrjTY1TGkZ",
      "include_colab_link": true
    },
    "kernelspec": {
      "name": "python3",
      "display_name": "Python 3"
    },
    "language_info": {
      "name": "python"
    }
  },
  "cells": [
    {
      "cell_type": "markdown",
      "metadata": {
        "id": "view-in-github",
        "colab_type": "text"
      },
      "source": [
        "<a href=\"https://colab.research.google.com/github/vpvinc/P7_loan_scoring_model/blob/main/P7.ipynb\" target=\"_parent\"><img src=\"https://colab.research.google.com/assets/colab-badge.svg\" alt=\"Open In Colab\"/></a>"
      ]
    },
    {
      "cell_type": "markdown",
      "metadata": {
        "id": "9IVP42Wz29lV"
      },
      "source": [
        "**Implémentez un modèle de scoring**"
      ]
    },
    {
      "cell_type": "markdown",
      "metadata": {
        "id": "HijU83Yh02kv"
      },
      "source": [
        "https://www.kaggle.com/c/home-credit-default-risk/data"
      ]
    },
    {
      "cell_type": "markdown",
      "metadata": {
        "id": "GqUI-vng24YH"
      },
      "source": [
        "This is a test "
      ]
    },
    {
      "cell_type": "markdown",
      "metadata": {
        "id": "e-57_a0p6LZ8"
      },
      "source": [
        "another test"
      ]
    },
    {
      "cell_type": "code",
      "metadata": {
        "colab": {
          "base_uri": "https://localhost:8080/"
        },
        "id": "GzhDhEfO66bL",
        "outputId": "2b009502-4bdf-4a35-defb-37bd8a3d8187"
      },
      "source": [
        "# third test for commit with git bash\n",
        "print('hello')"
      ],
      "execution_count": null,
      "outputs": [
        {
          "output_type": "stream",
          "text": [
            "hello\n"
          ],
          "name": "stdout"
        }
      ]
    },
    {
      "cell_type": "markdown",
      "metadata": {
        "id": "hgfuNOd77BC3"
      },
      "source": [
        "test for git bash"
      ]
    },
    {
      "cell_type": "markdown",
      "metadata": {
        "id": "ykRuP93cB5O7"
      },
      "source": [
        "test for colab"
      ]
    },
    {
      "cell_type": "code",
      "metadata": {
        "id": "qMucf1pxB7lC"
      },
      "source": [
        ""
      ],
      "execution_count": null,
      "outputs": []
    }
  ]
}