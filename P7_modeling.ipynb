{
 "cells": [
  {
   "cell_type": "markdown",
   "id": "319c3148",
   "metadata": {},
   "source": [
    "USE VENV_1 AS A KERNEL"
   ]
  },
  {
   "cell_type": "markdown",
   "id": "1c131380",
   "metadata": {},
   "source": [
    "This notebook is exploits the cleaned and agregated dataset built in notebook P7_EDA to design a model predicting credit default while minimizing the rate of false negatives.\n",
    "A SHAP explainer is built and fitted on the final model to be used for prediction interpration in the final streamlit dashboard.\n",
    "\n",
    "Bothe the fitted explainer and the fitted final model are saved locally to be used in the streamlit dashboard"
   ]
  },
  {
   "cell_type": "markdown",
   "id": "abddc904",
   "metadata": {},
   "source": [
    "## importing libraries and custom functions"
   ]
  },
  {
   "cell_type": "code",
   "execution_count": 6,
   "id": "246a4699",
   "metadata": {},
   "outputs": [],
   "source": [
    "seed = 42\n",
    "import os\n",
    "#os.add_dll_directory(\"C:/Users/VP/anaconda3/envs/env_p7/lib/site-packages/scipy/.libs/libbanded5x.UGR6EUQPIWHQH7SL62IWIXB5545VDNQZ.gfortran-win_amd64.dll\")\n",
    "import numpy as np\n",
    "import pandas as pd\n",
    "import re\n",
    "import random\n",
    "import matplotlib\n",
    "import matplotlib.pyplot as plt\n",
    "%matplotlib inline\n",
    "\n",
    "import seaborn as sns\n",
    "sns.set()\n",
    "plt.rc('figure', figsize=(10, 6))\n",
    "\n",
    "import pickle\n",
    "import dill\n",
    "import IPython.display"
   ]
  },
  {
   "cell_type": "code",
   "execution_count": 7,
   "id": "64cd197d",
   "metadata": {},
   "outputs": [],
   "source": [
    "\"\"\"display options\"\"\"\n",
    "\n",
    "pd.set_option('display.max_rows', 100)\n",
    "pd.set_option('display.max_columns', None)\n",
    "# pd.set_option('display.width', None)\n",
    "pd.set_option('display.max_colwidth', None)\n",
    "# pd.reset_option(\"max_colwidth\")"
   ]
  },
  {
   "cell_type": "code",
   "execution_count": 8,
   "id": "e1543627",
   "metadata": {},
   "outputs": [],
   "source": [
    "\"\"\"Functions for serializing with dill\"\"\"\n",
    "# The functions\n",
    "def write_file(data, folder_path, file_name):\n",
    "    with open(str.join(folder_path, file_name), \"wb\") as output:\n",
    "        dill.dump(data, output)\n",
    "\n",
    "def read_file(folder_path, file_name):\n",
    "    with open(str.join(folder_path, file_name), \"rb\") as input:\n",
    "        data= dill.load(input)\n",
    "    return data"
   ]
  },
  {
   "cell_type": "code",
   "execution_count": 9,
   "id": "d8ca7917",
   "metadata": {},
   "outputs": [],
   "source": [
    "\"\"\"Importing functions and style params\"\"\"\n",
    "os.chdir('C:/Users/VP/Google Drive/Education/OC/working_directory/personal_modules')\n",
    "from useful_functions import* \n",
    "# help(useful_functions)"
   ]
  },
  {
   "cell_type": "markdown",
   "id": "bd68fed9",
   "metadata": {},
   "source": [
    "# Importing datasets after EDA"
   ]
  },
  {
   "cell_type": "markdown",
   "id": "50f47abe",
   "metadata": {},
   "source": [
    "these datasets have been cleaned from outliers for DAYS_BIRTH, cat variables have been onehotencoded or labelencoded (card <= 2) and variables correlated at more than 0.8 were removed"
   ]
  },
  {
   "cell_type": "code",
   "execution_count": 10,
   "id": "3b654990",
   "metadata": {},
   "outputs": [],
   "source": [
    "with open(\"D:/Dowloads_D/Data_OC/P7/uncorr_data.txt\", 'rb') as fic:\n",
    "    mon_depickler = pickle.Unpickler(fic)\n",
    "    loaded = mon_depickler.load()\n",
    "\n",
    "train, test = loaded"
   ]
  },
  {
   "cell_type": "code",
   "execution_count": 11,
   "id": "ab1ffeee-a508-42f7-a2ec-6cb6f0a13330",
   "metadata": {},
   "outputs": [],
   "source": [
    "# train = pd.read_pickle(\"D:/Dowloads_D/Data_OC/P7/train_corrs_removed.pkl\")\n",
    "# test = pd.read_pickle(\"D:/Dowloads_D/Data_OC/P7/test_corrs_removed.pkl\")"
   ]
  },
  {
   "cell_type": "code",
   "execution_count": 12,
   "id": "e3a5df49",
   "metadata": {},
   "outputs": [],
   "source": [
    "dfs_dict= dict()\n",
    "dfs_dict[\"train\"] = train\n",
    "dfs_dict[\"test\"] = test"
   ]
  },
  {
   "cell_type": "code",
   "execution_count": 13,
   "id": "6bbdd599-a4a7-41a3-bf03-b244c35cdbd7",
   "metadata": {},
   "outputs": [],
   "source": [
    "test['DAYS_EMPLOYED_ANOM'] = test['DAYS_EMPLOYED'] > 0"
   ]
  },
  {
   "cell_type": "markdown",
   "id": "70f863c9",
   "metadata": {},
   "source": [
    "# Particular case, imputation of Days_Employed"
   ]
  },
  {
   "cell_type": "markdown",
   "id": "78e97eae",
   "metadata": {},
   "source": [
    "During the EDA, we spotted 55474 clients with an aberrant number of days_employed, we replaced it by NaN and flagged them with a column DAYS_EMPLOYED_ANOM.\n",
    "We are now imputing them with the median of the following group: NAME_EDUCATION_TYPE>OCCUPATION_TYPE>AGE_GROUP (last one to be created below)"
   ]
  },
  {
   "cell_type": "code",
   "execution_count": 14,
   "id": "0da4735b",
   "metadata": {},
   "outputs": [],
   "source": [
    "# to deep dive in EDA: there are three DAYS_EMPLOYED that are NaN but that are flagged as False, we correct it below:\n",
    "# train.loc[(train['DAYS_EMPLOYED'].isna() == True) & (train['DAYS_EMPLOYED_ANOM'] == False), 'DAYS_EMPLOYED_ANOM'] = True\n",
    "# train.loc[(train['DAYS_EMPLOYED'].isna() == True), 'DAYS_EMPLOYED_ANOM'] == True\n",
    "# check done in EDA; looks ok, probably a punctual mistake"
   ]
  },
  {
   "cell_type": "code",
   "execution_count": 15,
   "id": "863021f5",
   "metadata": {},
   "outputs": [],
   "source": [
    "# we need categorical variables not encoded to compute this median\n",
    "os.chdir('D:/Dowloads_D/Data_OC/P7' )\n",
    "app_test_impute = pd.read_csv('application_test.csv', usecols=['SK_ID_CURR', 'NAME_EDUCATION_TYPE','DAYS_BIRTH', 'DAYS_EMPLOYED'])\n",
    "app_train_impute = pd.read_csv('application_train.csv', usecols=['SK_ID_CURR', 'NAME_EDUCATION_TYPE','DAYS_BIRTH', 'DAYS_EMPLOYED'])"
   ]
  },
  {
   "cell_type": "code",
   "execution_count": 16,
   "id": "f599727a-2994-48a3-81ca-f992331f9c10",
   "metadata": {},
   "outputs": [],
   "source": [
    "# Replace the anomalous values with nan\n",
    "app_train_impute.loc[(app_train_impute['DAYS_EMPLOYED'] > 0), 'DAYS_EMPLOYED'] = np.NaN"
   ]
  },
  {
   "cell_type": "code",
   "execution_count": 17,
   "id": "83ebddfe",
   "metadata": {},
   "outputs": [],
   "source": [
    "# we are going to use the age group of the client for the imputation as well\n",
    "#            70y     60      45      21   \n",
    "age_bins = [-25550, -21900, -16425, -7665, 0]\n",
    "bins_labels = ['60-70', '45-60', '21-45', '0-21']\n",
    "app_train_impute['AGE_GROUP'] = pd.cut(app_train_impute['DAYS_BIRTH'], age_bins, labels=bins_labels)\n",
    "app_test_impute['AGE_GROUP'] = pd.cut(app_test_impute['DAYS_BIRTH'], age_bins, labels=bins_labels)"
   ]
  },
  {
   "cell_type": "code",
   "execution_count": 18,
   "id": "9d3e0eb2",
   "metadata": {},
   "outputs": [
    {
     "data": {
      "text/html": [
       "<div>\n",
       "<style scoped>\n",
       "    .dataframe tbody tr th:only-of-type {\n",
       "        vertical-align: middle;\n",
       "    }\n",
       "\n",
       "    .dataframe tbody tr th {\n",
       "        vertical-align: top;\n",
       "    }\n",
       "\n",
       "    .dataframe thead th {\n",
       "        text-align: right;\n",
       "    }\n",
       "</style>\n",
       "<table border=\"1\" class=\"dataframe\">\n",
       "  <thead>\n",
       "    <tr style=\"text-align: right;\">\n",
       "      <th></th>\n",
       "      <th>NAME_EDUCATION_TYPE</th>\n",
       "      <th>AGE_GROUP</th>\n",
       "      <th>DAYS_EMPLOYED</th>\n",
       "    </tr>\n",
       "  </thead>\n",
       "  <tbody>\n",
       "    <tr>\n",
       "      <th>0</th>\n",
       "      <td>Academic degree</td>\n",
       "      <td>60-70</td>\n",
       "      <td>-3892.0</td>\n",
       "    </tr>\n",
       "    <tr>\n",
       "      <th>1</th>\n",
       "      <td>Academic degree</td>\n",
       "      <td>45-60</td>\n",
       "      <td>-2957.0</td>\n",
       "    </tr>\n",
       "    <tr>\n",
       "      <th>2</th>\n",
       "      <td>Academic degree</td>\n",
       "      <td>21-45</td>\n",
       "      <td>-1553.0</td>\n",
       "    </tr>\n",
       "    <tr>\n",
       "      <th>4</th>\n",
       "      <td>Higher education</td>\n",
       "      <td>60-70</td>\n",
       "      <td>-3152.0</td>\n",
       "    </tr>\n",
       "    <tr>\n",
       "      <th>5</th>\n",
       "      <td>Higher education</td>\n",
       "      <td>45-60</td>\n",
       "      <td>-2420.0</td>\n",
       "    </tr>\n",
       "    <tr>\n",
       "      <th>6</th>\n",
       "      <td>Higher education</td>\n",
       "      <td>21-45</td>\n",
       "      <td>-1455.0</td>\n",
       "    </tr>\n",
       "    <tr>\n",
       "      <th>8</th>\n",
       "      <td>Incomplete higher</td>\n",
       "      <td>60-70</td>\n",
       "      <td>-2164.0</td>\n",
       "    </tr>\n",
       "    <tr>\n",
       "      <th>9</th>\n",
       "      <td>Incomplete higher</td>\n",
       "      <td>45-60</td>\n",
       "      <td>-1984.0</td>\n",
       "    </tr>\n",
       "    <tr>\n",
       "      <th>10</th>\n",
       "      <td>Incomplete higher</td>\n",
       "      <td>21-45</td>\n",
       "      <td>-1096.0</td>\n",
       "    </tr>\n",
       "    <tr>\n",
       "      <th>12</th>\n",
       "      <td>Lower secondary</td>\n",
       "      <td>60-70</td>\n",
       "      <td>-2579.5</td>\n",
       "    </tr>\n",
       "    <tr>\n",
       "      <th>13</th>\n",
       "      <td>Lower secondary</td>\n",
       "      <td>45-60</td>\n",
       "      <td>-1777.0</td>\n",
       "    </tr>\n",
       "    <tr>\n",
       "      <th>14</th>\n",
       "      <td>Lower secondary</td>\n",
       "      <td>21-45</td>\n",
       "      <td>-1168.5</td>\n",
       "    </tr>\n",
       "    <tr>\n",
       "      <th>16</th>\n",
       "      <td>Secondary / secondary special</td>\n",
       "      <td>60-70</td>\n",
       "      <td>-2718.5</td>\n",
       "    </tr>\n",
       "    <tr>\n",
       "      <th>17</th>\n",
       "      <td>Secondary / secondary special</td>\n",
       "      <td>45-60</td>\n",
       "      <td>-2264.0</td>\n",
       "    </tr>\n",
       "    <tr>\n",
       "      <th>18</th>\n",
       "      <td>Secondary / secondary special</td>\n",
       "      <td>21-45</td>\n",
       "      <td>-1452.0</td>\n",
       "    </tr>\n",
       "  </tbody>\n",
       "</table>\n",
       "</div>"
      ],
      "text/plain": [
       "              NAME_EDUCATION_TYPE AGE_GROUP  DAYS_EMPLOYED\n",
       "0                 Academic degree     60-70        -3892.0\n",
       "1                 Academic degree     45-60        -2957.0\n",
       "2                 Academic degree     21-45        -1553.0\n",
       "4                Higher education     60-70        -3152.0\n",
       "5                Higher education     45-60        -2420.0\n",
       "6                Higher education     21-45        -1455.0\n",
       "8               Incomplete higher     60-70        -2164.0\n",
       "9               Incomplete higher     45-60        -1984.0\n",
       "10              Incomplete higher     21-45        -1096.0\n",
       "12                Lower secondary     60-70        -2579.5\n",
       "13                Lower secondary     45-60        -1777.0\n",
       "14                Lower secondary     21-45        -1168.5\n",
       "16  Secondary / secondary special     60-70        -2718.5\n",
       "17  Secondary / secondary special     45-60        -2264.0\n",
       "18  Secondary / secondary special     21-45        -1452.0"
      ]
     },
     "execution_count": 18,
     "metadata": {},
     "output_type": "execute_result"
    }
   ],
   "source": [
    "# we build our table of median per group using the train data (data leakage)\n",
    "# to exclude the val data that will be isolated later, we apply the same train_test_split that excludes 90% of the data\n",
    "from sklearn.model_selection import train_test_split\n",
    "days_employed_medians_raw, *_ = train_test_split(app_train_impute, test_size=0.80, stratify=train['TARGET'], random_state=seed) \n",
    "days_employed_medians = days_employed_medians_raw[['NAME_EDUCATION_TYPE', 'AGE_GROUP', 'DAYS_EMPLOYED']].groupby(['NAME_EDUCATION_TYPE', 'AGE_GROUP']).median().reset_index()\n",
    "days_employed_medians.dropna(how='any', inplace=True)\n",
    "#days_employed_medians['DAYS_EMPLOYED'] = days_employed_medians['DAYS_EMPLOYED'].astype('int')\n",
    "days_employed_medians"
   ]
  },
  {
   "cell_type": "code",
   "execution_count": 19,
   "id": "403ce3d5",
   "metadata": {
    "tags": []
   },
   "outputs": [],
   "source": [
    "# we add non encoded grouping features to the train and test datasets to use them in the GroupBy\n",
    "train['NAME_EDUCATION_TYPE'] = app_train_impute['NAME_EDUCATION_TYPE']\n",
    "train['AGE_GROUP'] = app_train_impute['AGE_GROUP']\n",
    "\n",
    "test['NAME_EDUCATION_TYPE'] = app_test_impute['NAME_EDUCATION_TYPE']\n",
    "test['AGE_GROUP'] = app_test_impute['AGE_GROUP']"
   ]
  },
  {
   "cell_type": "code",
   "execution_count": 20,
   "id": "3489300b-0d90-48b2-8a33-e328ca238728",
   "metadata": {},
   "outputs": [
    {
     "data": {
      "text/plain": [
       "False    252137\n",
       "True      55374\n",
       "Name: DAYS_EMPLOYED_ANOM, dtype: int64"
      ]
     },
     "execution_count": 20,
     "metadata": {},
     "output_type": "execute_result"
    }
   ],
   "source": [
    "train['DAYS_EMPLOYED_ANOM'].value_counts()"
   ]
  },
  {
   "cell_type": "code",
   "execution_count": 21,
   "id": "7e62e3e1",
   "metadata": {},
   "outputs": [],
   "source": [
    "# alternative with custom heavy function that has the advatantage of preveting data leakage without creating a transformer \n",
    "mask_train = (train['DAYS_EMPLOYED_ANOM'] == True)\n",
    "mask_test = (test['DAYS_EMPLOYED_ANOM'] == True)\n",
    "\n",
    "def get_median(NAME_EDUCATION_TYPE, AGE_GROUP, days_employed_medians):\n",
    "    \n",
    "    days_employed_medians = days_employed_medians.loc[(days_employed_medians['NAME_EDUCATION_TYPE'] == NAME_EDUCATION_TYPE) \n",
    "                                                      # & (days_employed_medians['OCCUPATION_TYPE'] == OCCUPATION_TYPE) \n",
    "                                                      & (days_employed_medians['AGE_GROUP'] == AGE_GROUP),:]\n",
    "    \n",
    "    # print(days_employed_medians['DAYS_EMPLOYED'])\n",
    "    return int(days_employed_medians['DAYS_EMPLOYED'])"
   ]
  },
  {
   "cell_type": "code",
   "execution_count": 22,
   "id": "af6839b8",
   "metadata": {},
   "outputs": [],
   "source": [
    "train.loc[mask_train,'DAYS_EMPLOYED'] = train.loc[mask_train,:].apply(lambda x: get_median(x['NAME_EDUCATION_TYPE'], x['AGE_GROUP'], days_employed_medians), axis=1)\n",
    "test.loc[mask_test,'DAYS_EMPLOYED'] = test.loc[mask_test,:].apply(lambda x: get_median(x['NAME_EDUCATION_TYPE'], x['AGE_GROUP'], days_employed_medians), axis=1)"
   ]
  },
  {
   "cell_type": "code",
   "execution_count": 23,
   "id": "bbc60d04",
   "metadata": {},
   "outputs": [],
   "source": [
    "# imputation using pandas (faster)\n",
    "# fill_median = lambda g: g.fillna(g.median())\n",
    "# train.loc[train['DAYS_EMPLOYED_ANOM'] == True,'DAYS_EMPLOYED'] = train.groupby(['NAME_EDUCATION_TYPE', 'AGE_GROUP'])['DAYS_EMPLOYED'].apply(fill_median)"
   ]
  },
  {
   "cell_type": "code",
   "execution_count": 24,
   "id": "588e720a",
   "metadata": {},
   "outputs": [
    {
     "data": {
      "text/plain": [
       "\"\\ndef median(s):\\n    m = s.median()\\n    if np.isnan(m):\\n        m = train['DAYS_EMPLOYED'].median()\\n    return m\\ntrain['DAYS_EMPLOYED'] =  (train.groupby(['NAME_EDUCATION_TYPE', 'AGE_GROUP'],\\n                                         dropna=False\\n                                        )\\n                                ['DAYS_EMPLOYED'].apply(lambda x: x.fillna(median(x)))\\n                          )\\n\""
      ]
     },
     "execution_count": 24,
     "metadata": {},
     "output_type": "execute_result"
    }
   ],
   "source": [
    "# imputation using pandas (faster) + use of general median in case of median equal to NaN for the group\n",
    "\"\"\"\n",
    "def median(s):\n",
    "    m = s.median()\n",
    "    if np.isnan(m):\n",
    "        m = train['DAYS_EMPLOYED'].median()\n",
    "    return m\n",
    "train['DAYS_EMPLOYED'] =  (train.groupby(['NAME_EDUCATION_TYPE', 'AGE_GROUP'],\n",
    "                                         dropna=False\n",
    "                                        )\n",
    "                                ['DAYS_EMPLOYED'].apply(lambda x: x.fillna(median(x)))\n",
    "                          )\n",
    "\"\"\""
   ]
  },
  {
   "cell_type": "code",
   "execution_count": 25,
   "id": "609f8d54",
   "metadata": {},
   "outputs": [],
   "source": [
    "# droping cat columns used for imputation\n",
    "train.drop(['NAME_EDUCATION_TYPE', 'AGE_GROUP'], axis=1, inplace=True)\n",
    "# droping another useless column\n",
    "# train.drop(['1'], axis=1, inplace=True)\n",
    "\n",
    "test.drop(['NAME_EDUCATION_TYPE', 'AGE_GROUP'], axis=1, inplace=True)\n",
    "# droping another useless column\n",
    "# test.drop(['1'], axis=1, inplace=True)"
   ]
  },
  {
   "cell_type": "markdown",
   "id": "2f52cb90",
   "metadata": {},
   "source": [
    "# Preprocessing pipeline"
   ]
  },
  {
   "cell_type": "markdown",
   "id": "fb489700",
   "metadata": {},
   "source": [
    "# sampling dataset for cross validation"
   ]
  },
  {
   "cell_type": "code",
   "execution_count": 26,
   "id": "892f0c6a",
   "metadata": {},
   "outputs": [],
   "source": [
    "from sklearn.model_selection import train_test_split"
   ]
  },
  {
   "cell_type": "code",
   "execution_count": 27,
   "id": "1efa4fdf",
   "metadata": {},
   "outputs": [],
   "source": [
    "# sampling the train dataset to make the CV faster, stratifying as per TARGET\n",
    "train_sample, val_sample = train_test_split(train, test_size=0.80, stratify=train['TARGET'], random_state=seed)"
   ]
  },
  {
   "cell_type": "code",
   "execution_count": 28,
   "id": "c1694b3b",
   "metadata": {},
   "outputs": [
    {
     "data": {
      "text/plain": [
       "0    56537\n",
       "1     4965\n",
       "Name: TARGET, dtype: int64"
      ]
     },
     "execution_count": 28,
     "metadata": {},
     "output_type": "execute_result"
    }
   ],
   "source": [
    "target_count = train_sample['TARGET'].value_counts()\n",
    "target_count"
   ]
  },
  {
   "cell_type": "code",
   "execution_count": null,
   "id": "6133caec",
   "metadata": {},
   "outputs": [],
   "source": []
  },
  {
   "cell_type": "code",
   "execution_count": 29,
   "id": "d3d83ae5",
   "metadata": {},
   "outputs": [
    {
     "data": {
      "image/png": "[encoded data removed]",
      "text/plain": [
       "<Figure size 720x432 with 1 Axes>"
      ]
     },
     "metadata": {},
     "output_type": "display_data"
    }
   ],
   "source": [
    "sns.barplot(x=target_count.index, y=target_count.values)\n",
    "\n",
    "for p in plt.gca().patches:\n",
    "    plt.gca().annotate(\"{:.1%} \\n {}\".format(round(p.get_height() / sum(target_count.values), 1)\n",
    "                                             , round(p.get_height()))                             # % and count\n",
    "                        , (p.get_x()+0.4, p.get_height()+2000)                                    # position\n",
    "                        , ha='center', va='top', color='k', size=18)                              # kwargs\n",
    "    \n",
    "plt.title('Distribution of TARGET after Sampling', fontsize=25);"
   ]
  },
  {
   "cell_type": "markdown",
   "id": "d99e9b29",
   "metadata": {},
   "source": [
    "## imputation transform"
   ]
  },
  {
   "cell_type": "markdown",
   "id": "d82de1a0",
   "metadata": {},
   "source": [
    "We are building different imputers to find the best one. Note that categorical variables are now numeric thanks to encoding, so no need to applied a separate treatment"
   ]
  },
  {
   "cell_type": "code",
   "execution_count": 30,
   "id": "25604680",
   "metadata": {},
   "outputs": [],
   "source": [
    "from sklearn.impute import SimpleImputer"
   ]
  },
  {
   "cell_type": "code",
   "execution_count": 31,
   "id": "50bae821",
   "metadata": {},
   "outputs": [],
   "source": [
    "median_imputer = SimpleImputer(strategy='median')\n",
    "mean_imputer = SimpleImputer(strategy='mean')\n",
    "zero_imputer = SimpleImputer(strategy='constant')"
   ]
  },
  {
   "cell_type": "markdown",
   "id": "c4c00dc3",
   "metadata": {},
   "source": [
    "### Custom imputer"
   ]
  },
  {
   "cell_type": "markdown",
   "id": "056068e2",
   "metadata": {},
   "source": [
    "We are going to create a custom transformer that will apply two distinct treatments, either 0 for for selected variables or the the median by  for all the other variables"
   ]
  },
  {
   "cell_type": "code",
   "execution_count": 32,
   "id": "935eda74",
   "metadata": {},
   "outputs": [
    {
     "data": {
      "text/plain": [
       "COMMONAREA_AVG                              214865\n",
       "NONLIVINGAPARTMENTS_AVG                     213514\n",
       "FLOORSMIN_AVG                               208642\n",
       "YEARS_BUILD_AVG                             204488\n",
       "OWN_CAR_AGE                                 202929\n",
       "LANDAREA_AVG                                182590\n",
       "BASEMENTAREA_AVG                            179943\n",
       "NONLIVINGAREA_AVG                           169682\n",
       "APARTMENTS_AVG                              156061\n",
       "ENTRANCES_AVG                               154828\n",
       "FLOORSMAX_AVG                               153020\n",
       "YEARS_BEGINEXPLUATATION_AVG                 150007\n",
       "AMT_REQ_CREDIT_BUREAU_HOUR                   41519\n",
       "AMT_REQ_CREDIT_BUREAU_YEAR                   41519\n",
       "AMT_REQ_CREDIT_BUREAU_DAY                    41519\n",
       "AMT_REQ_CREDIT_BUREAU_WEEK                   41519\n",
       "AMT_REQ_CREDIT_BUREAU_MON                    41519\n",
       "AMT_REQ_CREDIT_BUREAU_QRT                    41519\n",
       "DEF_30_CNT_SOCIAL_CIRCLE                      1021\n",
       "OBS_30_CNT_SOCIAL_CIRCLE                      1021\n",
       "EXT_SOURCE_2_x                                 660\n",
       "AMT_ANNUITY                                     12\n",
       "DAYS_LAST_PHONE_CHANGE                           1\n",
       "ORGANIZATION_TYPE_Business Entity Type 3         0\n",
       "ORGANIZATION_TYPE_Industry: type 8               0\n",
       "ORGANIZATION_TYPE_Industry: type 2               0\n",
       "ORGANIZATION_TYPE_Industry: type 3               0\n",
       "ORGANIZATION_TYPE_Industry: type 4               0\n",
       "ORGANIZATION_TYPE_Industry: type 5               0\n",
       "ORGANIZATION_TYPE_Industry: type 6               0\n",
       "dtype: int64"
      ]
     },
     "execution_count": 32,
     "metadata": {},
     "output_type": "execute_result"
    }
   ],
   "source": [
    "train[[col for col in train.columns if 'bureau' not in col]].isna().sum().sort_values(ascending=False).head(30)"
   ]
  },
  {
   "cell_type": "markdown",
   "id": "07a179fe",
   "metadata": {},
   "source": [
    "EXT_SOURCE_2_x has 0.2% of NaN, so we can impute it with median despite its correlation to the target without running the risk of biasing the dataset"
   ]
  },
  {
   "cell_type": "code",
   "execution_count": 33,
   "id": "6df4d957",
   "metadata": {},
   "outputs": [],
   "source": [
    "# variables where NaN will be replaced by 0\n",
    "zero_imputed_cols = [\n",
    "       *list(train[[col for col in train.columns if 'bureau' in col]].isna().mean().sort_values(ascending=False).index) # all variables to the bureau datasets, NaN are all the clients of app train that had no history in the bueau datasets, so 0 is a relevant choice\n",
    "        , 'COMMONAREA_AVG' # if the person is not living in a common area, 0 would be logical\n",
    "        , 'YEARS_BUILD_AVG'\n",
    "        , 'OWN_CAR_AGE'   # NaN probably means client does not own a car\n",
    "        , 'YEARS_BEGINEXPLUATATION_AVG'\n",
    "        , 'AMT_REQ_CREDIT_BUREAU_HOUR'  # number of enquiries made about a client to credit bureau, NaN means probably no inquiries were made\n",
    "        , 'AMT_REQ_CREDIT_BUREAU_DAY'\n",
    "        , 'AMT_REQ_CREDIT_BUREAU_WEEK'\n",
    "        , 'AMT_REQ_CREDIT_BUREAU_MON'\n",
    "        , 'AMT_REQ_CREDIT_BUREAU_QRT'\n",
    "        , 'AMT_REQ_CREDIT_BUREAU_YEAR'\n",
    "        , 'DEF_30_CNT_SOCIAL_CIRCLE'   # NaN probably means no observations\n",
    "        , 'OBS_30_CNT_SOCIAL_CIRCLE'\n",
    "    \n",
    "]\n",
    "\n",
    "# variables where NaN will be replaced by median\n",
    "non_zero_imputed_cols = [col for col in train.columns if col not in zero_imputed_cols]"
   ]
  },
  {
   "cell_type": "code",
   "execution_count": 34,
   "id": "f71bc27f",
   "metadata": {},
   "outputs": [],
   "source": [
    "from sklearn.compose import ColumnTransformer\n",
    "cust_imputer = ColumnTransformer([\n",
    "      (\"zero_imputer\", SimpleImputer(strategy='constant'), zero_imputed_cols)\n",
    "    , (\"median\", SimpleImputer(strategy='median'), non_zero_imputed_cols)\n",
    "], remainder='passthrough')"
   ]
  },
  {
   "cell_type": "code",
   "execution_count": 35,
   "id": "117172f5",
   "metadata": {},
   "outputs": [],
   "source": [
    "# test to check that custom imputer works\n",
    "# train_array = cust_imputer.fit_transform(train)"
   ]
  },
  {
   "cell_type": "code",
   "execution_count": 36,
   "id": "2208aca3",
   "metadata": {},
   "outputs": [],
   "source": [
    "# train_array = pd.DataFrame(train_array, index = train.index, columns=train.columns)"
   ]
  },
  {
   "cell_type": "code",
   "execution_count": 37,
   "id": "9ceb2b71",
   "metadata": {},
   "outputs": [],
   "source": [
    "# train_array[[col for col in train.columns if 'bureau' not in col]].isna().sum().sort_values(ascending=False).head(30)\n",
    "# train_array.isna().sum().sort_index().head(30)\n",
    "# train[non_zero_imputed_cols].isna().sum().sort_values(ascending=False).head(100)\n",
    "# train['ENTRANCES_AVG'].median()"
   ]
  },
  {
   "cell_type": "markdown",
   "id": "a687aec7",
   "metadata": {},
   "source": [
    "## feature scaling transform"
   ]
  },
  {
   "cell_type": "code",
   "execution_count": 38,
   "id": "7896240e",
   "metadata": {},
   "outputs": [],
   "source": [
    "from sklearn.preprocessing import MinMaxScaler, RobustScaler"
   ]
  },
  {
   "cell_type": "markdown",
   "id": "cbca0ffe",
   "metadata": {},
   "source": [
    "MinMaxScaler = MinMaxScaler()\n",
    "RobustScaler = RobustScaler()"
   ]
  },
  {
   "cell_type": "markdown",
   "id": "1c811aae",
   "metadata": {},
   "source": [
    "## RUS and SMOTE"
   ]
  },
  {
   "cell_type": "code",
   "execution_count": 39,
   "id": "fa3e9a88",
   "metadata": {},
   "outputs": [],
   "source": [
    "from imblearn.over_sampling import SMOTE\n",
    "from imblearn.under_sampling import RandomUnderSampler\n",
    "from imblearn.pipeline import Pipeline as im_pipeline\n",
    "\n",
    "# parameters to adapt\n",
    "over = SMOTE(sampling_strategy=0.8, random_state=seed) # means that we want the minority class population to be oversampled up to 60% of the majority class pop\n",
    "under = RandomUnderSampler(sampling_strategy='majority', random_state=seed) # will under sample the majority class down to be equal to the minority classs pop\n",
    "over_under = im_pipeline(steps=[\n",
    "      ('over', over)\n",
    "    , ('under', under)\n",
    "])"
   ]
  },
  {
   "cell_type": "markdown",
   "id": "a40f4349",
   "metadata": {},
   "source": [
    "## Feature selection"
   ]
  },
  {
   "cell_type": "code",
   "execution_count": 40,
   "id": "3f1458b7",
   "metadata": {},
   "outputs": [],
   "source": [
    "from sklearn.feature_selection import RFE\n",
    "from sklearn.tree import DecisionTreeClassifier\n",
    "from sklearn.feature_selection import SelectKBest\n",
    "\n",
    "rfe = RFE(estimator=DecisionTreeClassifier(random_state=seed), n_features_to_select=50)\n",
    "SKB = SelectKBest(k=50)"
   ]
  },
  {
   "cell_type": "markdown",
   "id": "56ec3b21",
   "metadata": {
    "tags": []
   },
   "source": [
    "# GridSearchCV per model"
   ]
  },
  {
   "cell_type": "markdown",
   "id": "bff1de08",
   "metadata": {},
   "source": [
    "We are going to to a grid search for steps and hyperparamaters for to models successively: RFClassifier and LGBM"
   ]
  },
  {
   "cell_type": "markdown",
   "id": "adfd1c3e-7e6d-47a7-9790-c1589717b191",
   "metadata": {},
   "source": [
    "## lists to collect results"
   ]
  },
  {
   "cell_type": "code",
   "execution_count": 41,
   "id": "e015583a",
   "metadata": {},
   "outputs": [],
   "source": [
    "from sklearn.model_selection import StratifiedKFold"
   ]
  },
  {
   "cell_type": "markdown",
   "id": "ce14eab9",
   "metadata": {},
   "source": [
    "## lists of models"
   ]
  },
  {
   "cell_type": "code",
   "execution_count": 42,
   "id": "767c7201",
   "metadata": {},
   "outputs": [],
   "source": [
    "# these lists will be used to the mean train and test scores of both considered models, and then plot these scores for easy comparison\n",
    "models_cv = []\n",
    "mean_train_scores = []\n",
    "mean_test_scores = []"
   ]
  },
  {
   "cell_type": "markdown",
   "id": "2971147b-cbc0-41e2-8688-77ddeaaa5328",
   "metadata": {},
   "source": [
    "## Skfold and X,y split"
   ]
  },
  {
   "cell_type": "markdown",
   "id": "3e3fb024",
   "metadata": {},
   "source": [
    "## SKFold and spliting X and y"
   ]
  },
  {
   "cell_type": "code",
   "execution_count": 43,
   "id": "1344505c",
   "metadata": {},
   "outputs": [],
   "source": [
    "# stratified kfold used for the two CVs\n",
    "Skfold = StratifiedKFold(n_splits=5, shuffle=True, random_state=seed)"
   ]
  },
  {
   "cell_type": "code",
   "execution_count": 44,
   "id": "135f5c8f",
   "metadata": {},
   "outputs": [],
   "source": [
    "# splitting features and Target \n",
    "X, y = train_sample.iloc[:,1:-1], train_sample.iloc[:,-1]"
   ]
  },
  {
   "cell_type": "markdown",
   "id": "5c599753-83a8-4290-a3a7-b0d5ff99d700",
   "metadata": {},
   "source": [
    "## Random Forest Classifier"
   ]
  },
  {
   "cell_type": "markdown",
   "id": "d1dc6216",
   "metadata": {},
   "source": [
    "## RFClassifier"
   ]
  },
  {
   "cell_type": "code",
   "execution_count": 45,
   "id": "5e3f60a2",
   "metadata": {},
   "outputs": [],
   "source": [
    "from sklearn.ensemble import RandomForestClassifier\n",
    "RFC = RandomForestClassifier(random_state=seed)"
   ]
  },
  {
   "cell_type": "markdown",
   "id": "c0bb446e",
   "metadata": {},
   "source": [
    "### building imbl pipeline and grid"
   ]
  },
  {
   "cell_type": "code",
   "execution_count": 46,
   "id": "fe4b7e8c",
   "metadata": {},
   "outputs": [],
   "source": [
    "pipe_rfc = im_pipeline(steps=[\n",
    "      ('imputer', SimpleImputer())\n",
    "    , ('scaler', MinMaxScaler())\n",
    "    , ('weight_strat', SMOTE())\n",
    "    , ('feat_selec', SelectKBest(k=50))\n",
    "    , ('RFC', RandomForestClassifier())    \n",
    "]\n",
    "    ,memory=\"D:/Dowloads_D/Data_OC/P7\", verbose=True)"
   ]
  },
  {
   "cell_type": "code",
   "execution_count": 47,
   "id": "6ccfc587",
   "metadata": {},
   "outputs": [],
   "source": [
    "imputers=[\n",
    "    # median_imputer \n",
    "     mean_imputer # best\n",
    "    # , zero_imputer # retunrs NaN, 0s cause a division to raise an error\n",
    "    # , cust_imputer # retunrs NaN\n",
    "]\n",
    "# scalers\n",
    "scalers=[\n",
    "     #MinMaxScaler\n",
    "     RobustScaler()    #best\n",
    "]\n",
    "# over/undersampling\n",
    "weight_strat=[\n",
    "    # over\n",
    "     under\n",
    "    # , over_under #returns NaN\n",
    "]\n",
    "# Feature_selectors\n",
    "SKB #best\n",
    "\n",
    "# params grid\n",
    "\n",
    "param_grid_rfc = {  'imputer': imputers\n",
    "        , 'scaler': scalers\n",
    "        , 'weight_strat': weight_strat\n",
    "        , 'feat_selec': [SKB] \n",
    "        , 'RFC': [RFC]\n",
    "        , 'RFC__max_depth': [10]\n",
    "        , 'RFC__n_estimators': [50]\n",
    "       }"
   ]
  },
  {
   "cell_type": "code",
   "execution_count": 48,
   "id": "240a6c1c",
   "metadata": {},
   "outputs": [],
   "source": [
    "from sklearn.model_selection import GridSearchCV\n",
    "\n",
    "grid_rfc = GridSearchCV(pipe_rfc, param_grid_rfc, cv=Skfold, scoring='roc_auc', verbose=2, n_jobs=-1, return_train_score=True)"
   ]
  },
  {
   "cell_type": "code",
   "execution_count": 49,
   "id": "3bd7e920",
   "metadata": {},
   "outputs": [
    {
     "name": "stdout",
     "output_type": "stream",
     "text": [
      "Fitting 5 folds for each of 1 candidates, totalling 5 fits\n",
      "[Pipeline] ............... (step 5 of 5) Processing RFC, total=   1.0s\n"
     ]
    },
    {
     "data": {
      "text/plain": [
       "GridSearchCV(cv=StratifiedKFold(n_splits=5, random_state=42, shuffle=True),\n",
       "             estimator=Pipeline(memory='D:/Dowloads_D/Data_OC/P7',\n",
       "                                steps=[('imputer', SimpleImputer()),\n",
       "                                       ('scaler', MinMaxScaler()),\n",
       "                                       ('weight_strat', SMOTE()),\n",
       "                                       ('feat_selec', SelectKBest(k=50)),\n",
       "                                       ('RFC', RandomForestClassifier())],\n",
       "                                verbose=True),\n",
       "             n_jobs=-1,\n",
       "             param_grid={'RFC': [RandomForestClassifier(max_depth=10,\n",
       "                                                        n_estimators=50,\n",
       "                                                        random_state=42)],\n",
       "                         'RFC__max_depth': [10], 'RFC__n_estimators': [50],\n",
       "                         'feat_selec': [SelectKBest(k=50)],\n",
       "                         'imputer': [SimpleImputer()],\n",
       "                         'scaler': [RobustScaler()],\n",
       "                         'weight_strat': [RandomUnderSampler(random_state=42,\n",
       "                                                             sampling_strategy='majority')]},\n",
       "             return_train_score=True, scoring='roc_auc', verbose=2)"
      ]
     },
     "execution_count": 49,
     "metadata": {},
     "output_type": "execute_result"
    }
   ],
   "source": [
    "grid_rfc.fit(X, y)"
   ]
  },
  {
   "cell_type": "code",
   "execution_count": 50,
   "id": "5293801d",
   "metadata": {},
   "outputs": [
    {
     "data": {
      "text/plain": [
       "{'RFC': RandomForestClassifier(max_depth=10, n_estimators=50, random_state=42),\n",
       " 'RFC__max_depth': 10,\n",
       " 'RFC__n_estimators': 50,\n",
       " 'feat_selec': SelectKBest(k=50),\n",
       " 'imputer': SimpleImputer(),\n",
       " 'scaler': RobustScaler(),\n",
       " 'weight_strat': RandomUnderSampler(random_state=42, sampling_strategy='majority')}"
      ]
     },
     "execution_count": 50,
     "metadata": {},
     "output_type": "execute_result"
    }
   ],
   "source": [
    "grid_rfc.best_params_"
   ]
  },
  {
   "cell_type": "code",
   "execution_count": 51,
   "id": "5c7ac4bc",
   "metadata": {},
   "outputs": [],
   "source": [
    "grid_rfc_results = pd.DataFrame(grid_rfc.cv_results_)"
   ]
  },
  {
   "cell_type": "code",
   "execution_count": 52,
   "id": "a51f0a92",
   "metadata": {},
   "outputs": [
    {
     "data": {
      "text/html": [
       "<div>\n",
       "<style scoped>\n",
       "    .dataframe tbody tr th:only-of-type {\n",
       "        vertical-align: middle;\n",
       "    }\n",
       "\n",
       "    .dataframe tbody tr th {\n",
       "        vertical-align: top;\n",
       "    }\n",
       "\n",
       "    .dataframe thead th {\n",
       "        text-align: right;\n",
       "    }\n",
       "</style>\n",
       "<table border=\"1\" class=\"dataframe\">\n",
       "  <thead>\n",
       "    <tr style=\"text-align: right;\">\n",
       "      <th></th>\n",
       "      <th>mean_fit_time</th>\n",
       "      <th>std_fit_time</th>\n",
       "      <th>mean_score_time</th>\n",
       "      <th>std_score_time</th>\n",
       "      <th>param_RFC</th>\n",
       "      <th>param_RFC__max_depth</th>\n",
       "      <th>param_RFC__n_estimators</th>\n",
       "      <th>param_feat_selec</th>\n",
       "      <th>param_imputer</th>\n",
       "      <th>param_scaler</th>\n",
       "      <th>param_weight_strat</th>\n",
       "      <th>params</th>\n",
       "      <th>split0_test_score</th>\n",
       "      <th>split1_test_score</th>\n",
       "      <th>split2_test_score</th>\n",
       "      <th>split3_test_score</th>\n",
       "      <th>split4_test_score</th>\n",
       "      <th>mean_test_score</th>\n",
       "      <th>std_test_score</th>\n",
       "      <th>rank_test_score</th>\n",
       "      <th>split0_train_score</th>\n",
       "      <th>split1_train_score</th>\n",
       "      <th>split2_train_score</th>\n",
       "      <th>split3_train_score</th>\n",
       "      <th>split4_train_score</th>\n",
       "      <th>mean_train_score</th>\n",
       "      <th>std_train_score</th>\n",
       "    </tr>\n",
       "  </thead>\n",
       "  <tbody>\n",
       "    <tr>\n",
       "      <th>0</th>\n",
       "      <td>21.013721</td>\n",
       "      <td>8.093773</td>\n",
       "      <td>0.575695</td>\n",
       "      <td>0.099804</td>\n",
       "      <td>RandomForestClassifier(max_depth=10, n_estimators=50, random_state=42)</td>\n",
       "      <td>10</td>\n",
       "      <td>50</td>\n",
       "      <td>SelectKBest(k=50)</td>\n",
       "      <td>SimpleImputer()</td>\n",
       "      <td>RobustScaler()</td>\n",
       "      <td>RandomUnderSampler(random_state=42, sampling_strategy='majority')</td>\n",
       "      <td>{'RFC': RandomForestClassifier(max_depth=10, n_estimators=50, random_state=42), 'RFC__max_depth': 10, 'RFC__n_estimators': 50, 'feat_selec': SelectKBest(k=50), 'imputer': SimpleImputer(), 'scaler': RobustScaler(), 'weight_strat': RandomUnderSampler(random_state=42, sampling_strategy='majority')}</td>\n",
       "      <td>0.722332</td>\n",
       "      <td>0.71304</td>\n",
       "      <td>0.717322</td>\n",
       "      <td>0.729902</td>\n",
       "      <td>0.710284</td>\n",
       "      <td>0.718576</td>\n",
       "      <td>0.006977</td>\n",
       "      <td>1</td>\n",
       "      <td>0.846532</td>\n",
       "      <td>0.847355</td>\n",
       "      <td>0.849436</td>\n",
       "      <td>0.847292</td>\n",
       "      <td>0.85449</td>\n",
       "      <td>0.849021</td>\n",
       "      <td>0.0029</td>\n",
       "    </tr>\n",
       "  </tbody>\n",
       "</table>\n",
       "</div>"
      ],
      "text/plain": [
       "   mean_fit_time  std_fit_time  mean_score_time  std_score_time  \\\n",
       "0      21.013721      8.093773         0.575695        0.099804   \n",
       "\n",
       "                                                                param_RFC  \\\n",
       "0  RandomForestClassifier(max_depth=10, n_estimators=50, random_state=42)   \n",
       "\n",
       "  param_RFC__max_depth param_RFC__n_estimators   param_feat_selec  \\\n",
       "0                   10                      50  SelectKBest(k=50)   \n",
       "\n",
       "     param_imputer    param_scaler  \\\n",
       "0  SimpleImputer()  RobustScaler()   \n",
       "\n",
       "                                                  param_weight_strat  \\\n",
       "0  RandomUnderSampler(random_state=42, sampling_strategy='majority')   \n",
       "\n",
       "                                                                                                                                                                                                                                                                                                     params  \\\n",
       "0  {'RFC': RandomForestClassifier(max_depth=10, n_estimators=50, random_state=42), 'RFC__max_depth': 10, 'RFC__n_estimators': 50, 'feat_selec': SelectKBest(k=50), 'imputer': SimpleImputer(), 'scaler': RobustScaler(), 'weight_strat': RandomUnderSampler(random_state=42, sampling_strategy='majority')}   \n",
       "\n",
       "   split0_test_score  split1_test_score  split2_test_score  split3_test_score  \\\n",
       "0           0.722332            0.71304           0.717322           0.729902   \n",
       "\n",
       "   split4_test_score  mean_test_score  std_test_score  rank_test_score  \\\n",
       "0           0.710284         0.718576        0.006977                1   \n",
       "\n",
       "   split0_train_score  split1_train_score  split2_train_score  \\\n",
       "0            0.846532            0.847355            0.849436   \n",
       "\n",
       "   split3_train_score  split4_train_score  mean_train_score  std_train_score  \n",
       "0            0.847292             0.85449          0.849021           0.0029  "
      ]
     },
     "execution_count": 52,
     "metadata": {},
     "output_type": "execute_result"
    }
   ],
   "source": [
    "grid_rfc_results.head(1)"
   ]
  },
  {
   "cell_type": "markdown",
   "id": "68171e47",
   "metadata": {},
   "source": [
    "#### Imputers grid results"
   ]
  },
  {
   "cell_type": "code",
   "execution_count": 53,
   "id": "f902b7ea",
   "metadata": {},
   "outputs": [],
   "source": [
    "grid_rfc_results['param_imputer'] = grid_rfc_results['param_imputer'].astype('str')"
   ]
  },
  {
   "cell_type": "code",
   "execution_count": 54,
   "id": "bb0745a0",
   "metadata": {},
   "outputs": [
    {
     "data": {
      "text/html": [
       "<div>\n",
       "<style scoped>\n",
       "    .dataframe tbody tr th:only-of-type {\n",
       "        vertical-align: middle;\n",
       "    }\n",
       "\n",
       "    .dataframe tbody tr th {\n",
       "        vertical-align: top;\n",
       "    }\n",
       "\n",
       "    .dataframe thead th {\n",
       "        text-align: right;\n",
       "    }\n",
       "</style>\n",
       "<table border=\"1\" class=\"dataframe\">\n",
       "  <thead>\n",
       "    <tr style=\"text-align: right;\">\n",
       "      <th></th>\n",
       "      <th>mean_test_score</th>\n",
       "      <th>std_test_score</th>\n",
       "    </tr>\n",
       "    <tr>\n",
       "      <th>param_imputer</th>\n",
       "      <th></th>\n",
       "      <th></th>\n",
       "    </tr>\n",
       "  </thead>\n",
       "  <tbody>\n",
       "    <tr>\n",
       "      <th>SimpleImputer()</th>\n",
       "      <td>0.718576</td>\n",
       "      <td>0.006977</td>\n",
       "    </tr>\n",
       "  </tbody>\n",
       "</table>\n",
       "</div>"
      ],
      "text/plain": [
       "                 mean_test_score  std_test_score\n",
       "param_imputer                                   \n",
       "SimpleImputer()         0.718576        0.006977"
      ]
     },
     "execution_count": 54,
     "metadata": {},
     "output_type": "execute_result"
    }
   ],
   "source": [
    "grid_rfc_results[['param_imputer', 'mean_test_score', 'std_test_score']].groupby('param_imputer').agg({'mean_test_score':'mean', 'std_test_score':'mean'})"
   ]
  },
  {
   "cell_type": "markdown",
   "id": "378d37b1",
   "metadata": {},
   "source": [
    "Mean imputation (0.695) is slightly better than median (0.688) imputation. Why constant and custom imputation threw NaN ?"
   ]
  },
  {
   "cell_type": "markdown",
   "id": "b283d29c",
   "metadata": {
    "tags": []
   },
   "source": [
    "#### Scaler grid results"
   ]
  },
  {
   "cell_type": "code",
   "execution_count": 55,
   "id": "4e61df6a",
   "metadata": {},
   "outputs": [],
   "source": [
    "grid_rfc_results['param_scaler'] = grid_rfc_results['param_scaler'].astype('str')"
   ]
  },
  {
   "cell_type": "code",
   "execution_count": 56,
   "id": "68204dda",
   "metadata": {},
   "outputs": [
    {
     "data": {
      "text/html": [
       "<div>\n",
       "<style scoped>\n",
       "    .dataframe tbody tr th:only-of-type {\n",
       "        vertical-align: middle;\n",
       "    }\n",
       "\n",
       "    .dataframe tbody tr th {\n",
       "        vertical-align: top;\n",
       "    }\n",
       "\n",
       "    .dataframe thead th {\n",
       "        text-align: right;\n",
       "    }\n",
       "</style>\n",
       "<table border=\"1\" class=\"dataframe\">\n",
       "  <thead>\n",
       "    <tr style=\"text-align: right;\">\n",
       "      <th></th>\n",
       "      <th>mean_test_score</th>\n",
       "      <th>std_test_score</th>\n",
       "    </tr>\n",
       "    <tr>\n",
       "      <th>param_scaler</th>\n",
       "      <th></th>\n",
       "      <th></th>\n",
       "    </tr>\n",
       "  </thead>\n",
       "  <tbody>\n",
       "    <tr>\n",
       "      <th>RobustScaler()</th>\n",
       "      <td>0.718576</td>\n",
       "      <td>0.006977</td>\n",
       "    </tr>\n",
       "  </tbody>\n",
       "</table>\n",
       "</div>"
      ],
      "text/plain": [
       "                mean_test_score  std_test_score\n",
       "param_scaler                                   \n",
       "RobustScaler()         0.718576        0.006977"
      ]
     },
     "execution_count": 56,
     "metadata": {},
     "output_type": "execute_result"
    }
   ],
   "source": [
    "grid_rfc_results[['param_scaler', 'mean_test_score', 'std_test_score']].groupby('param_scaler').agg({'mean_test_score':'mean', 'std_test_score':'mean'})"
   ]
  },
  {
   "cell_type": "markdown",
   "id": "03be8e11",
   "metadata": {},
   "source": [
    "RobustScaler (0.694) is slightly better than MinMaxScaler (0.688987)"
   ]
  },
  {
   "cell_type": "markdown",
   "id": "ff6777f4",
   "metadata": {
    "tags": []
   },
   "source": [
    "#### Weight strat grid results"
   ]
  },
  {
   "cell_type": "code",
   "execution_count": 57,
   "id": "a31bf265",
   "metadata": {},
   "outputs": [],
   "source": [
    "grid_rfc_results['param_weight_strat'] = grid_rfc_results['param_weight_strat'].astype('str')"
   ]
  },
  {
   "cell_type": "code",
   "execution_count": 58,
   "id": "ba0b2208",
   "metadata": {},
   "outputs": [
    {
     "data": {
      "text/html": [
       "<div>\n",
       "<style scoped>\n",
       "    .dataframe tbody tr th:only-of-type {\n",
       "        vertical-align: middle;\n",
       "    }\n",
       "\n",
       "    .dataframe tbody tr th {\n",
       "        vertical-align: top;\n",
       "    }\n",
       "\n",
       "    .dataframe thead th {\n",
       "        text-align: right;\n",
       "    }\n",
       "</style>\n",
       "<table border=\"1\" class=\"dataframe\">\n",
       "  <thead>\n",
       "    <tr style=\"text-align: right;\">\n",
       "      <th></th>\n",
       "      <th>mean_test_score</th>\n",
       "      <th>std_test_score</th>\n",
       "    </tr>\n",
       "    <tr>\n",
       "      <th>param_weight_strat</th>\n",
       "      <th></th>\n",
       "      <th></th>\n",
       "    </tr>\n",
       "  </thead>\n",
       "  <tbody>\n",
       "    <tr>\n",
       "      <th>RandomUnderSampler(random_state=42, sampling_strategy='majority')</th>\n",
       "      <td>0.718576</td>\n",
       "      <td>0.006977</td>\n",
       "    </tr>\n",
       "  </tbody>\n",
       "</table>\n",
       "</div>"
      ],
      "text/plain": [
       "                                                                   mean_test_score  \\\n",
       "param_weight_strat                                                                   \n",
       "RandomUnderSampler(random_state=42, sampling_strategy='majority')         0.718576   \n",
       "\n",
       "                                                                   std_test_score  \n",
       "param_weight_strat                                                                 \n",
       "RandomUnderSampler(random_state=42, sampling_strategy='majority')        0.006977  "
      ]
     },
     "execution_count": 58,
     "metadata": {},
     "output_type": "execute_result"
    }
   ],
   "source": [
    "grid_rfc_results[['param_weight_strat', 'mean_test_score', 'std_test_score']].groupby('param_weight_strat').agg({'mean_test_score':'mean', 'std_test_score':'mean'})"
   ]
  },
  {
   "cell_type": "markdown",
   "id": "faed2792",
   "metadata": {},
   "source": [
    "RUS is slitghly better (0.714754) VS SMOTE (0.710505). Why over_under returns NaN ?"
   ]
  },
  {
   "cell_type": "markdown",
   "id": "894ead9b",
   "metadata": {},
   "source": [
    "#### Feature selector grid results"
   ]
  },
  {
   "cell_type": "code",
   "execution_count": 59,
   "id": "10fd7fa6",
   "metadata": {},
   "outputs": [],
   "source": [
    "grid_rfc_results['param_feat_selec'] = grid_rfc_results['param_feat_selec'].astype('str')"
   ]
  },
  {
   "cell_type": "code",
   "execution_count": 60,
   "id": "1f6714d1",
   "metadata": {},
   "outputs": [
    {
     "data": {
      "text/html": [
       "<div>\n",
       "<style scoped>\n",
       "    .dataframe tbody tr th:only-of-type {\n",
       "        vertical-align: middle;\n",
       "    }\n",
       "\n",
       "    .dataframe tbody tr th {\n",
       "        vertical-align: top;\n",
       "    }\n",
       "\n",
       "    .dataframe thead th {\n",
       "        text-align: right;\n",
       "    }\n",
       "</style>\n",
       "<table border=\"1\" class=\"dataframe\">\n",
       "  <thead>\n",
       "    <tr style=\"text-align: right;\">\n",
       "      <th></th>\n",
       "      <th>mean_test_score</th>\n",
       "      <th>std_test_score</th>\n",
       "    </tr>\n",
       "    <tr>\n",
       "      <th>param_feat_selec</th>\n",
       "      <th></th>\n",
       "      <th></th>\n",
       "    </tr>\n",
       "  </thead>\n",
       "  <tbody>\n",
       "    <tr>\n",
       "      <th>SelectKBest(k=50)</th>\n",
       "      <td>0.718576</td>\n",
       "      <td>0.006977</td>\n",
       "    </tr>\n",
       "  </tbody>\n",
       "</table>\n",
       "</div>"
      ],
      "text/plain": [
       "                   mean_test_score  std_test_score\n",
       "param_feat_selec                                  \n",
       "SelectKBest(k=50)         0.718576        0.006977"
      ]
     },
     "execution_count": 60,
     "metadata": {},
     "output_type": "execute_result"
    }
   ],
   "source": [
    "grid_rfc_results[['param_feat_selec', 'mean_test_score', 'std_test_score']].groupby('param_feat_selec').agg({'mean_test_score':'mean', 'std_test_score':'mean'})"
   ]
  },
  {
   "cell_type": "markdown",
   "id": "45df41d7",
   "metadata": {},
   "source": [
    "En moyenne sur l'ensemble des 320 fits SelectKbest(k=50) (avg test AUC: 0.698) est meilleur est beaucoup plus rapide que RFE (avg test AUC: 0.684)\n",
    "\n",
    "grille des fits\n",
    "param_grid_rfc = {  'imputer': [SimpleImputer(strategy='median'), SimpleImputer(strategy='mean'), SimpleImputer(strategy='constant'), cust_imputer]\n",
    "        , 'scaler': [MinMaxScaler(), RobustScaler()]\n",
    "        , 'over': [over]\n",
    "        #, 'under': [RandomUnderSampler(sampling_strategy=0.5)]\n",
    "        , 'feat_selec': [rfe, SKB] \n",
    "        , 'RFC': [RFC]\n",
    "        , 'RFC__max_depth': [None, 10, 20, 30]\n",
    "        , 'RFC__n_estimators': [100,]\n",
    "       }"
   ]
  },
  {
   "cell_type": "code",
   "execution_count": 61,
   "id": "fa273285",
   "metadata": {},
   "outputs": [],
   "source": [
    "models_cv.append('RFClassifier')\n",
    "mean_test_scores.append(max(grid_rfc.cv_results_['mean_test_score']))\n",
    "mean_train_scores.append(max(grid_rfc.cv_results_['mean_train_score']))"
   ]
  },
  {
   "cell_type": "markdown",
   "id": "09f0131f",
   "metadata": {},
   "source": [
    "## LGBMC"
   ]
  },
  {
   "cell_type": "code",
   "execution_count": 62,
   "id": "91fbc6b8",
   "metadata": {},
   "outputs": [],
   "source": [
    "from lightgbm import LGBMClassifier\n",
    "LBMC = LGBMClassifier(objective='binary', random_state=seed)"
   ]
  },
  {
   "cell_type": "markdown",
   "id": "0fc2744e",
   "metadata": {},
   "source": [
    "### building imbl pipeline and grid"
   ]
  },
  {
   "cell_type": "code",
   "execution_count": 63,
   "id": "80ea920e",
   "metadata": {},
   "outputs": [],
   "source": [
    "pipe_lgbm = im_pipeline(steps=[\n",
    "      ('imputer', SimpleImputer())\n",
    "    , ('scaler', MinMaxScaler())\n",
    "    , ('weight_strat', SMOTE())\n",
    "#    , ('under', RandomUnderSampler())\n",
    "    , ('feat_selec', SelectKBest(k=50))\n",
    "    , ('LBMC', LGBMClassifier())    \n",
    "]\n",
    "    ,memory=\"D:/Dowloads_D/Data_OC/P7\", verbose=True)"
   ]
  },
  {
   "cell_type": "code",
   "execution_count": 64,
   "id": "01337a20",
   "metadata": {},
   "outputs": [],
   "source": [
    "imputers=[\n",
    "     median_imputer # best\n",
    "    #, mean_imputer \n",
    "    #, zero_imputer # retunrs NaN\n",
    "    #, cust_imputer # retunrs NaN\n",
    "]\n",
    "# scalers\n",
    "scalers=[\n",
    "     #MinMaxScaler\n",
    "     RobustScaler()    #best\n",
    "]\n",
    "# over/undersampling\n",
    "weight_strat=[\n",
    "    #  over\n",
    "     under\n",
    "    # , over_under # returns NaN\n",
    "]\n",
    "# Feature_selectors\n",
    "SKB #best\n",
    "\n",
    "# LGBM parameters\n",
    "boosting_type = [\n",
    "    #'gbdt'\n",
    "     'dart' # best\n",
    "    #, 'goss'\n",
    "    #, 'rf'   \n",
    "]\n",
    "max_depth =[\n",
    "    7\n",
    "    #, 8\n",
    "    #, 10\n",
    "    #, 50\n",
    "    #, 100\n",
    "    #, None\n",
    "]\n",
    "n_estimators=[\n",
    "  #  20\n",
    "  #  , 30\n",
    "     40\n",
    "]\n",
    "num_leaves=[\n",
    "   # 5\n",
    "     7\n",
    "   # , 10\n",
    "]\n",
    "subsample=[\n",
    "    1\n",
    "   # , .8\n",
    "]\n",
    "colsample_bytree=[\n",
    "    .8\n",
    "]\n",
    "reg_alpha=[\n",
    "    # 0\n",
    "    .1\n",
    "]\n",
    "reg_lambda=[\n",
    "    0\n",
    "    # , .1\n",
    "]\n",
    "min_split_gain=[\n",
    "      0\n",
    "    # , .01\n",
    "]\n",
    "# params grid\n",
    "\n",
    "param_grid_lgbm = {\n",
    "          'imputer': imputers\n",
    "        , 'scaler': scalers\n",
    "        , 'weight_strat': weight_strat\n",
    "        #, 'under': [RandomUnderSampler(sampling_strategy=0.5)]\n",
    "        , 'feat_selec': [SKB] \n",
    "        , 'LBMC': [LBMC]\n",
    "        , 'LBMC__n_estimators':n_estimators\n",
    "        , 'LBMC__num_leaves':num_leaves\n",
    "        , 'LBMC__colsample_bytree':colsample_bytree\n",
    "        , 'LBMC__subsample':subsample\n",
    "        , 'LBMC__max_depth':max_depth\n",
    "        , 'LBMC__reg_alpha':reg_alpha\n",
    "        , 'LBMC__reg_lambda':reg_lambda\n",
    "        , 'LBMC__min_split_gain':min_split_gain\n",
    "       }"
   ]
  },
  {
   "cell_type": "code",
   "execution_count": 65,
   "id": "595d3067",
   "metadata": {},
   "outputs": [],
   "source": [
    "from sklearn.model_selection import GridSearchCV\n",
    "\n",
    "grid_lgbm = GridSearchCV(pipe_lgbm, param_grid_lgbm, cv=Skfold, scoring='roc_auc', verbose=2, n_jobs=-1, return_train_score=True)"
   ]
  },
  {
   "cell_type": "code",
   "execution_count": 66,
   "id": "caea5b55",
   "metadata": {},
   "outputs": [
    {
     "name": "stdout",
     "output_type": "stream",
     "text": [
      "Fitting 5 folds for each of 1 candidates, totalling 5 fits\n",
      "[Pipeline] .............. (step 5 of 5) Processing LBMC, total=   0.1s\n"
     ]
    },
    {
     "data": {
      "text/plain": [
       "GridSearchCV(cv=StratifiedKFold(n_splits=5, random_state=42, shuffle=True),\n",
       "             estimator=Pipeline(memory='D:/Dowloads_D/Data_OC/P7',\n",
       "                                steps=[('imputer', SimpleImputer()),\n",
       "                                       ('scaler', MinMaxScaler()),\n",
       "                                       ('weight_strat', SMOTE()),\n",
       "                                       ('feat_selec', SelectKBest(k=50)),\n",
       "                                       ('LBMC', LGBMClassifier())],\n",
       "                                verbose=True),\n",
       "             n_jobs=-1,\n",
       "             param_grid={'LBMC': [LGBMClassifier(colsample_bytree=0....\n",
       "                         'LBMC__n_estimators': [40], 'LBMC__num_leaves': [7],\n",
       "                         'LBMC__reg_alpha': [0.1], 'LBMC__reg_lambda': [0],\n",
       "                         'LBMC__subsample': [1],\n",
       "                         'feat_selec': [SelectKBest(k=50)],\n",
       "                         'imputer': [SimpleImputer(strategy='median')],\n",
       "                         'scaler': [RobustScaler()],\n",
       "                         'weight_strat': [RandomUnderSampler(random_state=42,\n",
       "                                                             sampling_strategy='majority')]},\n",
       "             return_train_score=True, scoring='roc_auc', verbose=2)"
      ]
     },
     "execution_count": 66,
     "metadata": {},
     "output_type": "execute_result"
    }
   ],
   "source": [
    "grid_lgbm.fit(X, y)"
   ]
  },
  {
   "cell_type": "code",
   "execution_count": 67,
   "id": "cb9bf39c",
   "metadata": {},
   "outputs": [
    {
     "data": {
      "text/plain": [
       "0.7272136566475538"
      ]
     },
     "execution_count": 67,
     "metadata": {},
     "output_type": "execute_result"
    }
   ],
   "source": [
    "max(grid_lgbm.cv_results_['mean_test_score'])"
   ]
  },
  {
   "cell_type": "code",
   "execution_count": 68,
   "id": "683841a0",
   "metadata": {},
   "outputs": [
    {
     "data": {
      "text/plain": [
       "{'LBMC': LGBMClassifier(colsample_bytree=0.8, max_depth=7, min_split_gain=0,\n",
       "                n_estimators=40, num_leaves=7, objective='binary',\n",
       "                random_state=42, reg_alpha=0.1, reg_lambda=0, subsample=1),\n",
       " 'LBMC__colsample_bytree': 0.8,\n",
       " 'LBMC__max_depth': 7,\n",
       " 'LBMC__min_split_gain': 0,\n",
       " 'LBMC__n_estimators': 40,\n",
       " 'LBMC__num_leaves': 7,\n",
       " 'LBMC__reg_alpha': 0.1,\n",
       " 'LBMC__reg_lambda': 0,\n",
       " 'LBMC__subsample': 1,\n",
       " 'feat_selec': SelectKBest(k=50),\n",
       " 'imputer': SimpleImputer(strategy='median'),\n",
       " 'scaler': RobustScaler(),\n",
       " 'weight_strat': RandomUnderSampler(random_state=42, sampling_strategy='majority')}"
      ]
     },
     "execution_count": 68,
     "metadata": {},
     "output_type": "execute_result"
    }
   ],
   "source": [
    "grid_lgbm.best_params_"
   ]
  },
  {
   "cell_type": "markdown",
   "id": "69d9daa6",
   "metadata": {},
   "source": [
    "### backup best params and scores"
   ]
  },
  {
   "cell_type": "markdown",
   "id": "19448658",
   "metadata": {},
   "source": [
    "full param grid best params\n",
    "{'LBMC': LGBMClassifier(colsample_bytree=0.8, max_depth=10, min_split_gain=0,\n",
    "                n_estimators=50, num_leaves=10, objective='binary',\n",
    "                random_state=42, reg_alpha=0, reg_lambda=0, subsample=1),\n",
    " 'LBMC__colsample_bytree': 0.8,\n",
    " 'LBMC__max_depth': 10,\n",
    " 'LBMC__min_split_gain': 0,\n",
    " 'LBMC__n_estimators': 50,\n",
    " 'LBMC__num_leaves': 10,\n",
    " 'LBMC__reg_alpha': 0,\n",
    " 'LBMC__reg_lambda': 0,\n",
    " 'LBMC__subsample': 1,\n",
    " 'feat_selec': SelectKBest(k=50),\n",
    " 'imputer': SimpleImputer(strategy='median'),\n",
    " 'scaler': RobustScaler(),\n",
    " 'weight_strat': SMOTE(random_state=42, sampling_strategy=0.4)}\n",
    "\n",
    "best score = 0.715\n",
    "\n",
    "second more specific grid\n",
    "{'LBMC': LGBMClassifier(colsample_bytree=0.8, max_depth=7, min_split_gain=0,\n",
    "                n_estimators=40, num_leaves=10, objective='binary',\n",
    "                random_state=42, reg_alpha=0.1, reg_lambda=0, subsample=1),\n",
    " 'LBMC__colsample_bytree': 0.8,\n",
    " 'LBMC__max_depth': 7,\n",
    " 'LBMC__min_split_gain': 0,\n",
    " 'LBMC__n_estimators': 40,\n",
    " 'LBMC__num_leaves': 10,\n",
    " 'LBMC__reg_alpha': 0.1,\n",
    " 'LBMC__reg_lambda': 0,\n",
    " 'LBMC__subsample': 1,\n",
    " 'feat_selec': SelectKBest(k=50),\n",
    " 'imputer': SimpleImputer(strategy='median'),\n",
    " 'scaler': RobustScaler(),\n",
    " 'weight_strat': SMOTE(random_state=42, sampling_strategy=0.4)}\n",
    " \n",
    " best score:0.7146\n",
    " the score is not better\n",
    " \n",
    " third grid: increased the size of the training set by 8%\n",
    " {'LBMC': LGBMClassifier(colsample_bytree=0.8, max_depth=7, min_split_gain=0,\n",
    "                n_estimators=40, num_leaves=10, objective='binary',\n",
    "                random_state=42, reg_alpha=0.1, reg_lambda=0, subsample=1),\n",
    " 'LBMC__colsample_bytree': 0.8,\n",
    " 'LBMC__max_depth': 7,\n",
    " 'LBMC__min_split_gain': 0,\n",
    " 'LBMC__n_estimators': 40,\n",
    " 'LBMC__num_leaves': 10,\n",
    " 'LBMC__reg_alpha': 0.1,\n",
    " 'LBMC__reg_lambda': 0,\n",
    " 'LBMC__subsample': 1,\n",
    " 'feat_selec': SelectKBest(k=50),\n",
    " 'imputer': SimpleImputer(strategy='median'),\n",
    " 'scaler': RobustScaler(),\n",
    " 'weight_strat': SMOTE(random_state=42, sampling_strategy=0.4)}\n",
    " \n",
    " best score: 0.7118340056655664"
   ]
  },
  {
   "cell_type": "code",
   "execution_count": 69,
   "id": "7d8cbb3e",
   "metadata": {},
   "outputs": [],
   "source": [
    "df_grid_lgbm = pd.DataFrame(grid_lgbm.cv_results_)"
   ]
  },
  {
   "cell_type": "code",
   "execution_count": 70,
   "id": "d06e85c0",
   "metadata": {},
   "outputs": [
    {
     "data": {
      "text/html": [
       "<div>\n",
       "<style scoped>\n",
       "    .dataframe tbody tr th:only-of-type {\n",
       "        vertical-align: middle;\n",
       "    }\n",
       "\n",
       "    .dataframe tbody tr th {\n",
       "        vertical-align: top;\n",
       "    }\n",
       "\n",
       "    .dataframe thead th {\n",
       "        text-align: right;\n",
       "    }\n",
       "</style>\n",
       "<table border=\"1\" class=\"dataframe\">\n",
       "  <thead>\n",
       "    <tr style=\"text-align: right;\">\n",
       "      <th></th>\n",
       "      <th>mean_fit_time</th>\n",
       "      <th>std_fit_time</th>\n",
       "      <th>mean_score_time</th>\n",
       "      <th>std_score_time</th>\n",
       "      <th>param_LBMC</th>\n",
       "      <th>param_LBMC__colsample_bytree</th>\n",
       "      <th>param_LBMC__max_depth</th>\n",
       "      <th>param_LBMC__min_split_gain</th>\n",
       "      <th>param_LBMC__n_estimators</th>\n",
       "      <th>param_LBMC__num_leaves</th>\n",
       "      <th>param_LBMC__reg_alpha</th>\n",
       "      <th>param_LBMC__reg_lambda</th>\n",
       "      <th>param_LBMC__subsample</th>\n",
       "      <th>param_feat_selec</th>\n",
       "      <th>param_imputer</th>\n",
       "      <th>param_scaler</th>\n",
       "      <th>param_weight_strat</th>\n",
       "      <th>params</th>\n",
       "      <th>split0_test_score</th>\n",
       "      <th>split1_test_score</th>\n",
       "      <th>split2_test_score</th>\n",
       "      <th>split3_test_score</th>\n",
       "      <th>split4_test_score</th>\n",
       "      <th>mean_test_score</th>\n",
       "      <th>std_test_score</th>\n",
       "      <th>rank_test_score</th>\n",
       "      <th>split0_train_score</th>\n",
       "      <th>split1_train_score</th>\n",
       "      <th>split2_train_score</th>\n",
       "      <th>split3_train_score</th>\n",
       "      <th>split4_train_score</th>\n",
       "      <th>mean_train_score</th>\n",
       "      <th>std_train_score</th>\n",
       "    </tr>\n",
       "  </thead>\n",
       "  <tbody>\n",
       "    <tr>\n",
       "      <th>0</th>\n",
       "      <td>18.768926</td>\n",
       "      <td>7.400092</td>\n",
       "      <td>0.542954</td>\n",
       "      <td>0.127975</td>\n",
       "      <td>LGBMClassifier(colsample_bytree=0.8, max_depth=7, min_split_gain=0,\\n               n_estimators=40, num_leaves=7, objective='binary',\\n               random_state=42, reg_alpha=0.1, reg_lambda=0, subsample=1)</td>\n",
       "      <td>0.8</td>\n",
       "      <td>7</td>\n",
       "      <td>0</td>\n",
       "      <td>40</td>\n",
       "      <td>7</td>\n",
       "      <td>0.1</td>\n",
       "      <td>0</td>\n",
       "      <td>1</td>\n",
       "      <td>SelectKBest(k=50)</td>\n",
       "      <td>SimpleImputer(strategy='median')</td>\n",
       "      <td>RobustScaler()</td>\n",
       "      <td>RandomUnderSampler(random_state=42, sampling_strategy='majority')</td>\n",
       "      <td>{'LBMC': LGBMClassifier(colsample_bytree=0.8, max_depth=7, min_split_gain=0,\n",
       "               n_estimators=40, num_leaves=7, objective='binary',\n",
       "               random_state=42, reg_alpha=0.1, reg_lambda=0, subsample=1), 'LBMC__colsample_bytree': 0.8, 'LBMC__max_depth': 7, 'LBMC__min_split_gain': 0, 'LBMC__n_estimators': 40, 'LBMC__num_leaves': 7, 'LBMC__reg_alpha': 0.1, 'LBMC__reg_lambda': 0, 'LBMC__subsample': 1, 'feat_selec': SelectKBest(k=50), 'imputer': SimpleImputer(strategy='median'), 'scaler': RobustScaler(), 'weight_strat': RandomUnderSampler(random_state=42, sampling_strategy='majority')}</td>\n",
       "      <td>0.728747</td>\n",
       "      <td>0.721999</td>\n",
       "      <td>0.727412</td>\n",
       "      <td>0.740062</td>\n",
       "      <td>0.717849</td>\n",
       "      <td>0.727214</td>\n",
       "      <td>0.007515</td>\n",
       "      <td>1</td>\n",
       "      <td>0.744908</td>\n",
       "      <td>0.745485</td>\n",
       "      <td>0.743115</td>\n",
       "      <td>0.74322</td>\n",
       "      <td>0.745632</td>\n",
       "      <td>0.744472</td>\n",
       "      <td>0.001093</td>\n",
       "    </tr>\n",
       "  </tbody>\n",
       "</table>\n",
       "</div>"
      ],
      "text/plain": [
       "   mean_fit_time  std_fit_time  mean_score_time  std_score_time  \\\n",
       "0      18.768926      7.400092         0.542954        0.127975   \n",
       "\n",
       "                                                                                                                                                                                                          param_LBMC  \\\n",
       "0  LGBMClassifier(colsample_bytree=0.8, max_depth=7, min_split_gain=0,\\n               n_estimators=40, num_leaves=7, objective='binary',\\n               random_state=42, reg_alpha=0.1, reg_lambda=0, subsample=1)   \n",
       "\n",
       "  param_LBMC__colsample_bytree param_LBMC__max_depth  \\\n",
       "0                          0.8                     7   \n",
       "\n",
       "  param_LBMC__min_split_gain param_LBMC__n_estimators param_LBMC__num_leaves  \\\n",
       "0                          0                       40                      7   \n",
       "\n",
       "  param_LBMC__reg_alpha param_LBMC__reg_lambda param_LBMC__subsample  \\\n",
       "0                   0.1                      0                     1   \n",
       "\n",
       "    param_feat_selec                     param_imputer    param_scaler  \\\n",
       "0  SelectKBest(k=50)  SimpleImputer(strategy='median')  RobustScaler()   \n",
       "\n",
       "                                                  param_weight_strat  \\\n",
       "0  RandomUnderSampler(random_state=42, sampling_strategy='majority')   \n",
       "\n",
       "                                                                                                                                                                                                                                                                                                                                                                                                                                                                                                                                                                                                                       params  \\\n",
       "0  {'LBMC': LGBMClassifier(colsample_bytree=0.8, max_depth=7, min_split_gain=0,\n",
       "               n_estimators=40, num_leaves=7, objective='binary',\n",
       "               random_state=42, reg_alpha=0.1, reg_lambda=0, subsample=1), 'LBMC__colsample_bytree': 0.8, 'LBMC__max_depth': 7, 'LBMC__min_split_gain': 0, 'LBMC__n_estimators': 40, 'LBMC__num_leaves': 7, 'LBMC__reg_alpha': 0.1, 'LBMC__reg_lambda': 0, 'LBMC__subsample': 1, 'feat_selec': SelectKBest(k=50), 'imputer': SimpleImputer(strategy='median'), 'scaler': RobustScaler(), 'weight_strat': RandomUnderSampler(random_state=42, sampling_strategy='majority')}   \n",
       "\n",
       "   split0_test_score  split1_test_score  split2_test_score  split3_test_score  \\\n",
       "0           0.728747           0.721999           0.727412           0.740062   \n",
       "\n",
       "   split4_test_score  mean_test_score  std_test_score  rank_test_score  \\\n",
       "0           0.717849         0.727214        0.007515                1   \n",
       "\n",
       "   split0_train_score  split1_train_score  split2_train_score  \\\n",
       "0            0.744908            0.745485            0.743115   \n",
       "\n",
       "   split3_train_score  split4_train_score  mean_train_score  std_train_score  \n",
       "0             0.74322            0.745632          0.744472         0.001093  "
      ]
     },
     "execution_count": 70,
     "metadata": {},
     "output_type": "execute_result"
    }
   ],
   "source": [
    "df_grid_lgbm.head(1)"
   ]
  },
  {
   "cell_type": "markdown",
   "id": "5c9699b6",
   "metadata": {},
   "source": [
    "#### Imputers grid results"
   ]
  },
  {
   "cell_type": "code",
   "execution_count": 71,
   "id": "88d364a6",
   "metadata": {},
   "outputs": [],
   "source": [
    "df_grid_lgbm['param_imputer'] = df_grid_lgbm['param_imputer'].astype('str')"
   ]
  },
  {
   "cell_type": "code",
   "execution_count": 72,
   "id": "c2ca3a31",
   "metadata": {},
   "outputs": [
    {
     "data": {
      "text/html": [
       "<div>\n",
       "<style scoped>\n",
       "    .dataframe tbody tr th:only-of-type {\n",
       "        vertical-align: middle;\n",
       "    }\n",
       "\n",
       "    .dataframe tbody tr th {\n",
       "        vertical-align: top;\n",
       "    }\n",
       "\n",
       "    .dataframe thead th {\n",
       "        text-align: right;\n",
       "    }\n",
       "</style>\n",
       "<table border=\"1\" class=\"dataframe\">\n",
       "  <thead>\n",
       "    <tr style=\"text-align: right;\">\n",
       "      <th></th>\n",
       "      <th>mean_test_score</th>\n",
       "      <th>std_test_score</th>\n",
       "    </tr>\n",
       "    <tr>\n",
       "      <th>param_imputer</th>\n",
       "      <th></th>\n",
       "      <th></th>\n",
       "    </tr>\n",
       "  </thead>\n",
       "  <tbody>\n",
       "    <tr>\n",
       "      <th>SimpleImputer(strategy='median')</th>\n",
       "      <td>0.727214</td>\n",
       "      <td>0.007515</td>\n",
       "    </tr>\n",
       "  </tbody>\n",
       "</table>\n",
       "</div>"
      ],
      "text/plain": [
       "                                  mean_test_score  std_test_score\n",
       "param_imputer                                                    \n",
       "SimpleImputer(strategy='median')         0.727214        0.007515"
      ]
     },
     "execution_count": 72,
     "metadata": {},
     "output_type": "execute_result"
    }
   ],
   "source": [
    "df_grid_lgbm[['param_imputer', 'mean_test_score', 'std_test_score']].groupby('param_imputer').agg({'mean_test_score':'mean', 'std_test_score':'mean'})"
   ]
  },
  {
   "cell_type": "markdown",
   "id": "8c1435e1",
   "metadata": {},
   "source": [
    "median imputation (0.680) is slightly better than mean (0.679) imputation. Why constant and custom imputation threw NaN ?"
   ]
  },
  {
   "cell_type": "markdown",
   "id": "73c1b908",
   "metadata": {},
   "source": [
    "#### Scaler grid results"
   ]
  },
  {
   "cell_type": "code",
   "execution_count": 73,
   "id": "7d43a364",
   "metadata": {},
   "outputs": [],
   "source": [
    "df_grid_lgbm['param_scaler'] = df_grid_lgbm['param_scaler'].astype('str')"
   ]
  },
  {
   "cell_type": "code",
   "execution_count": 74,
   "id": "0e8714c3",
   "metadata": {},
   "outputs": [
    {
     "data": {
      "text/html": [
       "<div>\n",
       "<style scoped>\n",
       "    .dataframe tbody tr th:only-of-type {\n",
       "        vertical-align: middle;\n",
       "    }\n",
       "\n",
       "    .dataframe tbody tr th {\n",
       "        vertical-align: top;\n",
       "    }\n",
       "\n",
       "    .dataframe thead th {\n",
       "        text-align: right;\n",
       "    }\n",
       "</style>\n",
       "<table border=\"1\" class=\"dataframe\">\n",
       "  <thead>\n",
       "    <tr style=\"text-align: right;\">\n",
       "      <th></th>\n",
       "      <th>mean_test_score</th>\n",
       "      <th>std_test_score</th>\n",
       "    </tr>\n",
       "    <tr>\n",
       "      <th>param_scaler</th>\n",
       "      <th></th>\n",
       "      <th></th>\n",
       "    </tr>\n",
       "  </thead>\n",
       "  <tbody>\n",
       "    <tr>\n",
       "      <th>RobustScaler()</th>\n",
       "      <td>0.727214</td>\n",
       "      <td>0.007515</td>\n",
       "    </tr>\n",
       "  </tbody>\n",
       "</table>\n",
       "</div>"
      ],
      "text/plain": [
       "                mean_test_score  std_test_score\n",
       "param_scaler                                   \n",
       "RobustScaler()         0.727214        0.007515"
      ]
     },
     "execution_count": 74,
     "metadata": {},
     "output_type": "execute_result"
    }
   ],
   "source": [
    "df_grid_lgbm[['param_scaler', 'mean_test_score', 'std_test_score']].groupby('param_scaler').agg({'mean_test_score':'mean', 'std_test_score':'mean'})"
   ]
  },
  {
   "cell_type": "markdown",
   "id": "a45212bb",
   "metadata": {},
   "source": [
    "RobustScaler (0.681) is slightly better than MinMaxScaler (0.678315)"
   ]
  },
  {
   "cell_type": "markdown",
   "id": "22d2ad95",
   "metadata": {
    "tags": []
   },
   "source": [
    "#### Weight strat grid results"
   ]
  },
  {
   "cell_type": "code",
   "execution_count": 75,
   "id": "42eebcba",
   "metadata": {},
   "outputs": [],
   "source": [
    "df_grid_lgbm['param_weight_strat'] = df_grid_lgbm['param_weight_strat'].astype('str')"
   ]
  },
  {
   "cell_type": "code",
   "execution_count": 76,
   "id": "582a4af6",
   "metadata": {},
   "outputs": [
    {
     "data": {
      "text/html": [
       "<div>\n",
       "<style scoped>\n",
       "    .dataframe tbody tr th:only-of-type {\n",
       "        vertical-align: middle;\n",
       "    }\n",
       "\n",
       "    .dataframe tbody tr th {\n",
       "        vertical-align: top;\n",
       "    }\n",
       "\n",
       "    .dataframe thead th {\n",
       "        text-align: right;\n",
       "    }\n",
       "</style>\n",
       "<table border=\"1\" class=\"dataframe\">\n",
       "  <thead>\n",
       "    <tr style=\"text-align: right;\">\n",
       "      <th></th>\n",
       "      <th>mean_test_score</th>\n",
       "      <th>std_test_score</th>\n",
       "    </tr>\n",
       "    <tr>\n",
       "      <th>param_weight_strat</th>\n",
       "      <th></th>\n",
       "      <th></th>\n",
       "    </tr>\n",
       "  </thead>\n",
       "  <tbody>\n",
       "    <tr>\n",
       "      <th>RandomUnderSampler(random_state=42, sampling_strategy='majority')</th>\n",
       "      <td>0.727214</td>\n",
       "      <td>0.007515</td>\n",
       "    </tr>\n",
       "  </tbody>\n",
       "</table>\n",
       "</div>"
      ],
      "text/plain": [
       "                                                                   mean_test_score  \\\n",
       "param_weight_strat                                                                   \n",
       "RandomUnderSampler(random_state=42, sampling_strategy='majority')         0.727214   \n",
       "\n",
       "                                                                   std_test_score  \n",
       "param_weight_strat                                                                 \n",
       "RandomUnderSampler(random_state=42, sampling_strategy='majority')        0.007515  "
      ]
     },
     "execution_count": 76,
     "metadata": {},
     "output_type": "execute_result"
    }
   ],
   "source": [
    "df_grid_lgbm[['param_weight_strat', 'mean_test_score', 'std_test_score']].groupby('param_weight_strat').agg({'mean_test_score':'mean', 'std_test_score':'mean'})"
   ]
  },
  {
   "cell_type": "code",
   "execution_count": 77,
   "id": "1b5735cb",
   "metadata": {},
   "outputs": [
    {
     "data": {
      "text/html": [
       "<div>\n",
       "<style scoped>\n",
       "    .dataframe tbody tr th:only-of-type {\n",
       "        vertical-align: middle;\n",
       "    }\n",
       "\n",
       "    .dataframe tbody tr th {\n",
       "        vertical-align: top;\n",
       "    }\n",
       "\n",
       "    .dataframe thead th {\n",
       "        text-align: right;\n",
       "    }\n",
       "</style>\n",
       "<table border=\"1\" class=\"dataframe\">\n",
       "  <thead>\n",
       "    <tr style=\"text-align: right;\">\n",
       "      <th></th>\n",
       "      <th>mean_fit_time</th>\n",
       "      <th>std_fit_time</th>\n",
       "      <th>mean_score_time</th>\n",
       "      <th>std_score_time</th>\n",
       "      <th>param_LBMC</th>\n",
       "      <th>param_LBMC__colsample_bytree</th>\n",
       "      <th>param_LBMC__max_depth</th>\n",
       "      <th>param_LBMC__min_split_gain</th>\n",
       "      <th>param_LBMC__n_estimators</th>\n",
       "      <th>param_LBMC__num_leaves</th>\n",
       "      <th>param_LBMC__reg_alpha</th>\n",
       "      <th>param_LBMC__reg_lambda</th>\n",
       "      <th>param_LBMC__subsample</th>\n",
       "      <th>param_feat_selec</th>\n",
       "      <th>param_imputer</th>\n",
       "      <th>param_scaler</th>\n",
       "      <th>param_weight_strat</th>\n",
       "      <th>params</th>\n",
       "      <th>split0_test_score</th>\n",
       "      <th>split1_test_score</th>\n",
       "      <th>split2_test_score</th>\n",
       "      <th>split3_test_score</th>\n",
       "      <th>split4_test_score</th>\n",
       "      <th>mean_test_score</th>\n",
       "      <th>std_test_score</th>\n",
       "      <th>rank_test_score</th>\n",
       "      <th>split0_train_score</th>\n",
       "      <th>split1_train_score</th>\n",
       "      <th>split2_train_score</th>\n",
       "      <th>split3_train_score</th>\n",
       "      <th>split4_train_score</th>\n",
       "      <th>mean_train_score</th>\n",
       "      <th>std_train_score</th>\n",
       "    </tr>\n",
       "  </thead>\n",
       "  <tbody>\n",
       "  </tbody>\n",
       "</table>\n",
       "</div>"
      ],
      "text/plain": [
       "Empty DataFrame\n",
       "Columns: [mean_fit_time, std_fit_time, mean_score_time, std_score_time, param_LBMC, param_LBMC__colsample_bytree, param_LBMC__max_depth, param_LBMC__min_split_gain, param_LBMC__n_estimators, param_LBMC__num_leaves, param_LBMC__reg_alpha, param_LBMC__reg_lambda, param_LBMC__subsample, param_feat_selec, param_imputer, param_scaler, param_weight_strat, params, split0_test_score, split1_test_score, split2_test_score, split3_test_score, split4_test_score, mean_test_score, std_test_score, rank_test_score, split0_train_score, split1_train_score, split2_train_score, split3_train_score, split4_train_score, mean_train_score, std_train_score]\n",
       "Index: []"
      ]
     },
     "execution_count": 77,
     "metadata": {},
     "output_type": "execute_result"
    }
   ],
   "source": [
    "df_grid_lgbm[df_grid_lgbm['param_weight_strat'].str.contains('Pipeline')]"
   ]
  },
  {
   "cell_type": "markdown",
   "id": "a1c3507b",
   "metadata": {},
   "source": [
    "#### Feature selector grid results"
   ]
  },
  {
   "cell_type": "code",
   "execution_count": 78,
   "id": "e82f89b2",
   "metadata": {},
   "outputs": [],
   "source": [
    "df_grid_lgbm['param_feat_selec'] = df_grid_lgbm['param_feat_selec'].astype('str')"
   ]
  },
  {
   "cell_type": "code",
   "execution_count": 79,
   "id": "2042b736",
   "metadata": {},
   "outputs": [
    {
     "data": {
      "text/html": [
       "<div>\n",
       "<style scoped>\n",
       "    .dataframe tbody tr th:only-of-type {\n",
       "        vertical-align: middle;\n",
       "    }\n",
       "\n",
       "    .dataframe tbody tr th {\n",
       "        vertical-align: top;\n",
       "    }\n",
       "\n",
       "    .dataframe thead th {\n",
       "        text-align: right;\n",
       "    }\n",
       "</style>\n",
       "<table border=\"1\" class=\"dataframe\">\n",
       "  <thead>\n",
       "    <tr style=\"text-align: right;\">\n",
       "      <th></th>\n",
       "      <th>mean_test_score</th>\n",
       "      <th>std_test_score</th>\n",
       "    </tr>\n",
       "    <tr>\n",
       "      <th>param_feat_selec</th>\n",
       "      <th></th>\n",
       "      <th></th>\n",
       "    </tr>\n",
       "  </thead>\n",
       "  <tbody>\n",
       "    <tr>\n",
       "      <th>SelectKBest(k=50)</th>\n",
       "      <td>0.727214</td>\n",
       "      <td>0.007515</td>\n",
       "    </tr>\n",
       "  </tbody>\n",
       "</table>\n",
       "</div>"
      ],
      "text/plain": [
       "                   mean_test_score  std_test_score\n",
       "param_feat_selec                                  \n",
       "SelectKBest(k=50)         0.727214        0.007515"
      ]
     },
     "execution_count": 79,
     "metadata": {},
     "output_type": "execute_result"
    }
   ],
   "source": [
    "df_grid_lgbm[['param_feat_selec', 'mean_test_score', 'std_test_score']].groupby('param_feat_selec').agg({'mean_test_score':'mean', 'std_test_score':'mean'})"
   ]
  },
  {
   "cell_type": "markdown",
   "id": "89b2cb39",
   "metadata": {},
   "source": [
    "En moyenne sur l'ensemble des 320 fits SelectKbest(k=50) (avg test AUC: 0.698) est meilleur est beaucoup plus rapide que RFE (avg test AUC: 0.684)\n",
    "\n",
    "grille des fits\n",
    "param_grid_rfc = {  'imputer': [SimpleImputer(strategy='median'), SimpleImputer(strategy='mean'), SimpleImputer(strategy='constant'), cust_imputer]\n",
    "        , 'scaler': [MinMaxScaler(), RobustScaler()]\n",
    "        , 'over': [over]\n",
    "        #, 'under': [RandomUnderSampler(sampling_strategy=0.5)]\n",
    "        , 'feat_selec': [rfe, SKB] \n",
    "        , 'RFC': [RFC]\n",
    "        , 'RFC__max_depth': [None, 10, 20, 30]\n",
    "        , 'RFC__n_estimators': [100,]\n",
    "       }"
   ]
  },
  {
   "cell_type": "code",
   "execution_count": 80,
   "id": "ed9dba5b",
   "metadata": {},
   "outputs": [],
   "source": [
    "models_cv.append('LGBMC')\n",
    "mean_test_scores.append(max(df_grid_lgbm['mean_test_score']))\n",
    "mean_train_scores.append(max(df_grid_lgbm['mean_train_score']))"
   ]
  },
  {
   "cell_type": "markdown",
   "id": "04c8425d",
   "metadata": {},
   "source": [
    "# Selection of the best pipe"
   ]
  },
  {
   "cell_type": "code",
   "execution_count": 81,
   "id": "d21c6364",
   "metadata": {},
   "outputs": [],
   "source": [
    "set_style_pers()"
   ]
  },
  {
   "cell_type": "code",
   "execution_count": 82,
   "id": "b01b776f",
   "metadata": {},
   "outputs": [
    {
     "data": {
      "text/plain": [
       "Text(0.5, 1.0, 'Comparison of mean train and test scores of RFC and LGBMC')"
      ]
     },
     "execution_count": 82,
     "metadata": {},
     "output_type": "execute_result"
    },
    {
     "data": {
      "image/png": "[encoded data removed]",
      "text/plain": [
       "<Figure size 499.225x360 with 1 Axes>"
      ]
     },
     "metadata": {},
     "output_type": "display_data"
    }
   ],
   "source": [
    "# in oder to plot the scores by model, we build a df and melt it to use train/test as an hue\n",
    "df_models_scores = pd.DataFrame()\n",
    "df_models_scores['model'] = models_cv\n",
    "df_models_scores['mean_train_scores'] = mean_train_scores\n",
    "df_models_scores['mean_test_scores'] = mean_test_scores\n",
    "df_models_scores = pd.melt(df_models_scores, id_vars='model', var_name='train/test', value_name='AUC')\n",
    "sns.catplot(data=df_models_scores, x='model', y='AUC', hue='train/test', kind='bar')\n",
    "plt.gca().set_ylim([0.6, 0.9])\n",
    "plt.gca().set_title('Comparison of mean train and test scores of RFC and LGBMC', fontsize=18)\n"
   ]
  },
  {
   "cell_type": "code",
   "execution_count": 83,
   "id": "09bf5cf9",
   "metadata": {},
   "outputs": [],
   "source": [
    "# creating the best pipe with the optimised parameters and steps\n",
    "best_pipe = im_pipeline(steps=[\n",
    "      ('imputer', SimpleImputer(strategy='median'))\n",
    "    , ('scaler', RobustScaler())\n",
    "    , ('weight_strat', RandomUnderSampler(sampling_strategy='majority', random_state=seed))\n",
    "    , ('feat_selec', SelectKBest(k=50))\n",
    "    , ('LBMC', LGBMClassifier(colsample_bytree=0.8, max_depth=7, min_split_gain=0,\n",
    "                n_estimators=40, num_leaves=10, objective='binary',\n",
    "                random_state=seed, reg_alpha=0.1, reg_lambda=0, subsample=1))    \n",
    "]\n",
    "    , verbose=True)"
   ]
  },
  {
   "cell_type": "markdown",
   "id": "5a67ad31",
   "metadata": {},
   "source": [
    "## split Xval, yval"
   ]
  },
  {
   "cell_type": "code",
   "execution_count": 84,
   "id": "febc0021",
   "metadata": {},
   "outputs": [],
   "source": [
    "Xval, yval = val_sample.iloc[:,1:-1], val_sample.iloc[:,-1]"
   ]
  },
  {
   "cell_type": "code",
   "execution_count": 85,
   "id": "a3499025",
   "metadata": {},
   "outputs": [],
   "source": [
    "# X, y = train.iloc[:,1:-1], train.iloc[:, -1]"
   ]
  },
  {
   "cell_type": "markdown",
   "id": "413169b8",
   "metadata": {},
   "source": [
    "## lists for baseline comparison"
   ]
  },
  {
   "cell_type": "code",
   "execution_count": 86,
   "id": "ed8f0a11",
   "metadata": {},
   "outputs": [],
   "source": [
    "# These lists will collect the different metrics values for baseline, not optimized best model, and optimized best model\n",
    "# optimized means using a probability threshold that minimizes false negatives\n",
    "models_bs_check = []\n",
    "recalls_bs_check = []\n",
    "accuracy_bs_check = []\n",
    "auc_bs_check = []\n",
    "fn_bs_check = []\n",
    "cust_metrics_bs_check = []"
   ]
  },
  {
   "cell_type": "markdown",
   "id": "9bd0ed56",
   "metadata": {},
   "source": [
    "# Definition of custom metric to minimize fn"
   ]
  },
  {
   "cell_type": "code",
   "execution_count": 87,
   "id": "18a57380",
   "metadata": {},
   "outputs": [],
   "source": [
    "def cust_metric(ytrue, yval_pred):\n",
    "    \"\"\"we sum up the tems of the confusion matrix, false positives and false nagatives a negatively correlated to the score.\n",
    "    False negatives 10 times more than false positives.\n",
    "    In production, it will be up to the client to decide how both false predictions should impact the metrics\"\"\"\n",
    "    tp, fn, fp, tn = confusion_matrix(yval, yval_pred, labels=[1, 0]).ravel()\n",
    "    score = (tp - 100*fn- fp + tn)/(tp + 100*fn + fp + tn)\n",
    "    return score\n",
    "\n",
    "# test\n",
    "# cust_metric(yval, yval_pred)"
   ]
  },
  {
   "cell_type": "markdown",
   "id": "2b1442de",
   "metadata": {},
   "source": [
    "# Baseline check"
   ]
  },
  {
   "cell_type": "code",
   "execution_count": 88,
   "id": "0c77fbe9",
   "metadata": {},
   "outputs": [],
   "source": [
    "from sklearn.dummy import DummyClassifier"
   ]
  },
  {
   "cell_type": "code",
   "execution_count": 89,
   "id": "52eb0971",
   "metadata": {},
   "outputs": [],
   "source": [
    "baseline_pipe = im_pipeline(steps=[\n",
    "      ('imputer', SimpleImputer(strategy='median'))\n",
    "    , ('scaler', RobustScaler())\n",
    "    , ('weight_strat', RandomUnderSampler(sampling_strategy='majority', random_state=seed))\n",
    "#    , ('under', RandomUnderSampler())\n",
    "    , ('feat_selec', SelectKBest(k=50))\n",
    "    , ('Baseline', DummyClassifier(strategy=\"most_frequent\"))    \n",
    "]\n",
    "    , verbose=True)"
   ]
  },
  {
   "cell_type": "code",
   "execution_count": 90,
   "id": "46202ce7",
   "metadata": {},
   "outputs": [
    {
     "name": "stdout",
     "output_type": "stream",
     "text": [
      "[Pipeline] ........... (step 1 of 5) Processing imputer, total=  29.7s\n",
      "[Pipeline] ............ (step 2 of 5) Processing scaler, total=   1.7s\n",
      "[Pipeline] ...... (step 3 of 5) Processing weight_strat, total=   0.2s\n",
      "[Pipeline] ........ (step 4 of 5) Processing feat_selec, total=   0.2s\n",
      "[Pipeline] .......... (step 5 of 5) Processing Baseline, total=   0.0s\n"
     ]
    },
    {
     "name": "stderr",
     "output_type": "stream",
     "text": [
      "C:\\Users\\VP\\anaconda3\\envs\\env_p7\\lib\\site-packages\\sklearn\\feature_selection\\_univariate_selection.py:114: UserWarning: Features [ 13  48  50 194 217 227] are constant.\n",
      "  warnings.warn(\"Features %s are constant.\" % constant_features_idx,\n",
      "C:\\Users\\VP\\anaconda3\\envs\\env_p7\\lib\\site-packages\\sklearn\\feature_selection\\_univariate_selection.py:116: RuntimeWarning: invalid value encountered in true_divide\n",
      "  f = msb / msw\n"
     ]
    },
    {
     "data": {
      "text/plain": [
       "Pipeline(steps=[('imputer', SimpleImputer(strategy='median')),\n",
       "                ('scaler', RobustScaler()),\n",
       "                ('weight_strat',\n",
       "                 RandomUnderSampler(random_state=42,\n",
       "                                    sampling_strategy='majority')),\n",
       "                ('feat_selec', SelectKBest(k=50)),\n",
       "                ('Baseline', DummyClassifier(strategy='most_frequent'))],\n",
       "         verbose=True)"
      ]
     },
     "execution_count": 90,
     "metadata": {},
     "output_type": "execute_result"
    }
   ],
   "source": [
    "baseline_pipe.fit(Xval, yval)"
   ]
  },
  {
   "cell_type": "code",
   "execution_count": 91,
   "id": "f44a91a7",
   "metadata": {},
   "outputs": [],
   "source": [
    "from sklearn.metrics import confusion_matrix, accuracy_score, roc_auc_score"
   ]
  },
  {
   "cell_type": "code",
   "execution_count": 92,
   "id": "2c9120f2",
   "metadata": {},
   "outputs": [],
   "source": [
    "yval_base_pred = baseline_pipe.predict(Xval)\n",
    "yval_base_pred_proba = baseline_pipe.predict_proba(Xval)"
   ]
  },
  {
   "cell_type": "code",
   "execution_count": 93,
   "id": "d06071df",
   "metadata": {},
   "outputs": [],
   "source": [
    "from sklearn.metrics import recall_score"
   ]
  },
  {
   "cell_type": "code",
   "execution_count": 94,
   "id": "162d08af",
   "metadata": {},
   "outputs": [
    {
     "name": "stdout",
     "output_type": "stream",
     "text": [
      "recall : 0.0\n",
      "accuracy : 0.9192712461739204\n",
      "AUC : 0.5\n",
      "fn_rate : 1.0\n",
      "custom : -0.7955390889130886\n"
     ]
    }
   ],
   "source": [
    "print(\"recall :\", recall_score(yval, yval_base_pred))\n",
    "print(\"accuracy :\", accuracy_score(yval, yval_base_pred))\n",
    "print(\"AUC :\", roc_auc_score(yval, yval_base_pred_proba[:,1]))\n",
    "print(\"fn_rate :\", 1 - recall_score(yval, yval_base_pred))\n",
    "print(\"custom :\",cust_metric(yval, yval_base_pred))"
   ]
  },
  {
   "cell_type": "code",
   "execution_count": 95,
   "id": "fca0fbea",
   "metadata": {},
   "outputs": [],
   "source": [
    "models_bs_check.append(\"Most frequent\")\n",
    "recalls_bs_check.append(recall_score(yval, yval_base_pred))\n",
    "accuracy_bs_check.append(accuracy_score(yval, yval_base_pred))\n",
    "auc_bs_check.append(roc_auc_score(yval, yval_base_pred_proba[:,1]))\n",
    "fn_bs_check.append(1-recall_score(yval, yval_base_pred))\n",
    "cust_metrics_bs_check.append(cust_metric(yval, yval_base_pred_proba[:,1]))"
   ]
  },
  {
   "cell_type": "code",
   "execution_count": 96,
   "id": "6139cda3",
   "metadata": {},
   "outputs": [],
   "source": [
    "from sklearn.metrics import plot_roc_curve"
   ]
  },
  {
   "cell_type": "code",
   "execution_count": 97,
   "id": "9859d194",
   "metadata": {},
   "outputs": [
    {
     "data": {
      "text/plain": [
       "<sklearn.metrics._plot.roc_curve.RocCurveDisplay at 0x252ad64d2e0>"
      ]
     },
     "execution_count": 97,
     "metadata": {},
     "output_type": "execute_result"
    },
    {
     "data": {
      "image/png": "[encoded data removed]",
      "text/plain": [
       "<Figure size 720x432 with 1 Axes>"
      ]
     },
     "metadata": {},
     "output_type": "display_data"
    }
   ],
   "source": [
    "plot_roc_curve(baseline_pipe, Xval, yval)"
   ]
  },
  {
   "cell_type": "markdown",
   "id": "0981b3d9",
   "metadata": {},
   "source": [
    "Accuracy is high, but the recall of the model is low, hence an AUC of 0.5.\n",
    "Best model has an AUC of 0.715"
   ]
  },
  {
   "cell_type": "markdown",
   "id": "0575703c",
   "metadata": {},
   "source": [
    "# ROC Curve and confusion matrix of the best model"
   ]
  },
  {
   "cell_type": "code",
   "execution_count": 98,
   "id": "aa4f8152",
   "metadata": {},
   "outputs": [],
   "source": [
    "from sklearn.metrics import confusion_matrix, accuracy_score, roc_auc_score"
   ]
  },
  {
   "cell_type": "code",
   "execution_count": 99,
   "id": "a79a6939",
   "metadata": {},
   "outputs": [
    {
     "name": "stdout",
     "output_type": "stream",
     "text": [
      "[Pipeline] ........... (step 1 of 5) Processing imputer, total=  19.9s\n",
      "[Pipeline] ............ (step 2 of 5) Processing scaler, total=   1.7s\n",
      "[Pipeline] ...... (step 3 of 5) Processing weight_strat, total=   0.2s\n"
     ]
    },
    {
     "name": "stderr",
     "output_type": "stream",
     "text": [
      "C:\\Users\\VP\\anaconda3\\envs\\env_p7\\lib\\site-packages\\sklearn\\feature_selection\\_univariate_selection.py:114: UserWarning: Features [ 13  48  50 194 217 227] are constant.\n",
      "  warnings.warn(\"Features %s are constant.\" % constant_features_idx,\n",
      "C:\\Users\\VP\\anaconda3\\envs\\env_p7\\lib\\site-packages\\sklearn\\feature_selection\\_univariate_selection.py:116: RuntimeWarning: invalid value encountered in true_divide\n",
      "  f = msb / msw\n"
     ]
    },
    {
     "name": "stdout",
     "output_type": "stream",
     "text": [
      "[Pipeline] ........ (step 4 of 5) Processing feat_selec, total=   0.2s\n",
      "[Pipeline] .............. (step 5 of 5) Processing LBMC, total=   0.3s\n"
     ]
    },
    {
     "data": {
      "text/plain": [
       "Pipeline(steps=[('imputer', SimpleImputer(strategy='median')),\n",
       "                ('scaler', RobustScaler()),\n",
       "                ('weight_strat',\n",
       "                 RandomUnderSampler(random_state=42,\n",
       "                                    sampling_strategy='majority')),\n",
       "                ('feat_selec', SelectKBest(k=50)),\n",
       "                ('LBMC',\n",
       "                 LGBMClassifier(colsample_bytree=0.8, max_depth=7,\n",
       "                                min_split_gain=0, n_estimators=40,\n",
       "                                num_leaves=10, objective='binary',\n",
       "                                random_state=42, reg_alpha=0.1, reg_lambda=0,\n",
       "                                subsample=1))],\n",
       "         verbose=True)"
      ]
     },
     "execution_count": 99,
     "metadata": {},
     "output_type": "execute_result"
    }
   ],
   "source": [
    "best_pipe.fit(Xval, yval)"
   ]
  },
  {
   "cell_type": "code",
   "execution_count": 100,
   "id": "bde0fbee",
   "metadata": {},
   "outputs": [],
   "source": [
    "yval_pred = best_pipe.predict(Xval)\n",
    "yval_pred_proba = best_pipe.predict_proba(Xval)"
   ]
  },
  {
   "cell_type": "code",
   "execution_count": 101,
   "id": "c4b8ea13",
   "metadata": {},
   "outputs": [
    {
     "name": "stdout",
     "output_type": "stream",
     "text": [
      "recall : 0.6784491440080564\n",
      "accuracy : 0.6778410545955635\n",
      "AUC : 0.7409310703091119\n",
      "custom : -0.6202445164838544\n"
     ]
    }
   ],
   "source": [
    "print(\"recall :\", recall_score(yval, yval_pred))\n",
    "print(\"accuracy :\", accuracy_score(yval, yval_pred))\n",
    "print(\"AUC :\", roc_auc_score(yval, yval_pred_proba[:,1]))\n",
    "print(\"custom :\",cust_metric(yval, yval_pred))"
   ]
  },
  {
   "cell_type": "code",
   "execution_count": 102,
   "id": "3d8299a5",
   "metadata": {},
   "outputs": [],
   "source": [
    "models_bs_check.append(\"Best model\")\n",
    "recalls_bs_check.append(recall_score(yval, yval_pred))\n",
    "accuracy_bs_check.append(accuracy_score(yval, yval_pred))\n",
    "auc_bs_check.append(roc_auc_score(yval, yval_pred_proba[:,1]))\n",
    "fn_bs_check.append(1-recall_score(yval, yval_pred))\n",
    "cust_metrics_bs_check.append(cust_metric(yval, yval_pred))"
   ]
  },
  {
   "cell_type": "code",
   "execution_count": 103,
   "id": "9d33a146",
   "metadata": {},
   "outputs": [
    {
     "data": {
      "text/plain": [
       "<sklearn.metrics._plot.roc_curve.RocCurveDisplay at 0x25392912130>"
      ]
     },
     "execution_count": 103,
     "metadata": {},
     "output_type": "execute_result"
    },
    {
     "data": {
      "image/png": "[encoded data removed]",
      "text/plain": [
       "<Figure size 720x432 with 1 Axes>"
      ]
     },
     "metadata": {},
     "output_type": "display_data"
    }
   ],
   "source": [
    "plot_roc_curve(best_pipe, Xval, yval)"
   ]
  },
  {
   "cell_type": "code",
   "execution_count": 104,
   "id": "62bf485b",
   "metadata": {},
   "outputs": [],
   "source": [
    "cm_lgbm = confusion_matrix(yval, yval_pred, labels=[1, 0])\n",
    "tp, fn, fp, tn = cm_lgbm.ravel()"
   ]
  },
  {
   "cell_type": "code",
   "execution_count": 105,
   "id": "ac9be2e3",
   "metadata": {},
   "outputs": [],
   "source": [
    "cm_lgbm_df = pd.DataFrame(cm_lgbm\n",
    "                          , index=[['Actual', 'Actual'], ['def', 'nodef']]\n",
    "                          , columns=[['Predicted', 'Predicted'], ['def', 'nodef']])"
   ]
  },
  {
   "cell_type": "code",
   "execution_count": 106,
   "id": "75563177",
   "metadata": {},
   "outputs": [
    {
     "data": {
      "text/html": [
       "<div>\n",
       "<style scoped>\n",
       "    .dataframe tbody tr th:only-of-type {\n",
       "        vertical-align: middle;\n",
       "    }\n",
       "\n",
       "    .dataframe tbody tr th {\n",
       "        vertical-align: top;\n",
       "    }\n",
       "\n",
       "    .dataframe thead tr th {\n",
       "        text-align: left;\n",
       "    }\n",
       "</style>\n",
       "<table border=\"1\" class=\"dataframe\">\n",
       "  <thead>\n",
       "    <tr>\n",
       "      <th></th>\n",
       "      <th></th>\n",
       "      <th colspan=\"2\" halign=\"left\">Predicted</th>\n",
       "    </tr>\n",
       "    <tr>\n",
       "      <th></th>\n",
       "      <th></th>\n",
       "      <th>def</th>\n",
       "      <th>nodef</th>\n",
       "    </tr>\n",
       "  </thead>\n",
       "  <tbody>\n",
       "    <tr>\n",
       "      <th rowspan=\"2\" valign=\"top\">Actual</th>\n",
       "      <th>def</th>\n",
       "      <td>13474</td>\n",
       "      <td>6386</td>\n",
       "    </tr>\n",
       "    <tr>\n",
       "      <th>nodef</th>\n",
       "      <td>72868</td>\n",
       "      <td>153281</td>\n",
       "    </tr>\n",
       "  </tbody>\n",
       "</table>\n",
       "</div>"
      ],
      "text/plain": [
       "             Predicted        \n",
       "                   def   nodef\n",
       "Actual def       13474    6386\n",
       "       nodef     72868  153281"
      ]
     },
     "execution_count": 106,
     "metadata": {},
     "output_type": "execute_result"
    }
   ],
   "source": [
    "cm_lgbm_df"
   ]
  },
  {
   "cell_type": "code",
   "execution_count": 107,
   "id": "d189da44",
   "metadata": {},
   "outputs": [],
   "source": [
    "from sklearn.metrics import precision_recall_fscore_support\n",
    "from sklearn.metrics import precision_score\n",
    "from sklearn.metrics import recall_score\n",
    "from sklearn.metrics import f1_score\n",
    "# precision, recall, fscore, support = precision_recall_fscore_support(yval, yval_pred)\n",
    "precision = precision_score(yval, yval_pred)\n",
    "recall = recall_score(yval, yval_pred)\n",
    "specificity = tn / (tn + fp)\n",
    "fscore = f1_score(yval, yval_pred)"
   ]
  },
  {
   "cell_type": "code",
   "execution_count": 108,
   "id": "3c385242",
   "metadata": {},
   "outputs": [
    {
     "data": {
      "text/plain": [
       "precision      0.156054\n",
       "recall         0.678449\n",
       "specificity    0.677788\n",
       "fscore         0.253743\n",
       "dtype: float64"
      ]
     },
     "execution_count": 108,
     "metadata": {},
     "output_type": "execute_result"
    }
   ],
   "source": [
    "# cm_metrics = pd.Series([precision, recall, fscore, support], index = ['precision', 'recall', 'fscore', 'support'])\n",
    "cm_metrics = pd.Series([precision, recall, specificity, fscore], index = ['precision', 'recall', 'specificity', 'fscore'])\n",
    "cm_metrics"
   ]
  },
  {
   "cell_type": "markdown",
   "id": "5399c06a",
   "metadata": {
    "tags": []
   },
   "source": [
    "## Optimize threshold to maximise False Negative (1-recall)"
   ]
  },
  {
   "cell_type": "code",
   "execution_count": 173,
   "id": "0bdd47f7",
   "metadata": {},
   "outputs": [],
   "source": [
    "from sklearn.metrics import recall_score\n",
    "from sklearn.metrics import precision_score"
   ]
  },
  {
   "cell_type": "code",
   "execution_count": 174,
   "id": "6c6888d3",
   "metadata": {},
   "outputs": [],
   "source": [
    "def cust_predict_proba(pos_class_proba_array, thres=0.5):\n",
    "    \"\"\"This is a threshold function that convert an array of probabilities of belonging to class \"1\" into a array of labels 0 or 1 with respect to the threshold\n",
    "    We will use this function to set up an optimal threshold that minimize false negative, unlike the default value of 0.5\"\"\"\n",
    "    pos_class_proba_array = pd.Series(pos_class_proba_array)\n",
    "    pos_class_proba_array = pos_class_proba_array.map(lambda x: 1 if x > thres else 0)\n",
    "    return pos_class_proba_array.to_numpy()"
   ]
  },
  {
   "cell_type": "code",
   "execution_count": 175,
   "id": "497140e8",
   "metadata": {
    "tags": []
   },
   "outputs": [
    {
     "name": "stderr",
     "output_type": "stream",
     "text": [
      "invalid value encountered in longlong_scalars\n",
      "invalid value encountered in longlong_scalars\n"
     ]
    }
   ],
   "source": [
    "# we will visually determine the probability threshold that maximize the custom metrics (i.e.that penalizes false negatives) \n",
    "# but do not sacrifice accuracy too much\n",
    "scores = [] \n",
    "false_negatives_rates = [] \n",
    "false_positives_rates = []\n",
    "precision_scores = []\n",
    "f_scores = []\n",
    "accuracy_scores = []\n",
    "thresholds      = [0.95, 0.91, 0.86, 0.82, 0.77, 0.73, 0.68, 0.64, 0.59, 0.55, 0.5, 0.46, 0.41, 0.37, 0.32, 0.28, 0.23, 0.19, 0.14, 0.1]\n",
    "\n",
    "for thr in thresholds:\n",
    "    cm_lgbm = confusion_matrix(yval, cust_predict_proba(yval_pred_proba[:,1], thres=thr), labels=[1, 0])\n",
    "    tp, fn, fp, tn = cm_lgbm.ravel()\n",
    "    #fn\n",
    "    recall = tp / (tp + fn)\n",
    "    false_negatives_rate = 1 - recall\n",
    "    false_negatives_rates.append(false_negatives_rate)\n",
    "    #fp\n",
    "    false_positives_rate = fp / (tn + fp)\n",
    "    false_positives_rates.append(false_positives_rate)\n",
    "    # precision\n",
    "    precision_score_ = tp / (tp + fp)\n",
    "    precision_scores.append(precision_score_)\n",
    "    #f_score\n",
    "    f_score = (precision_score_*recall) / (precision_score_ + recall)\n",
    "    f_scores.append(f_score)\n",
    "    # accuracy\n",
    "    accuracy_score_ = (tp + tn) / (tp + fn + fp + tn)\n",
    "    accuracy_scores.append(accuracy_score_)\n",
    "    # custom metrics\n",
    "    scores.append(cust_metric(yval, cust_predict_proba(yval_pred_proba[:,1], thres=thr)))"
   ]
  },
  {
   "cell_type": "code",
   "execution_count": 176,
   "id": "3840823c",
   "metadata": {},
   "outputs": [
    {
     "data": {
      "text/plain": [
       "<matplotlib.legend.Legend at 0x25312f2beb0>"
      ]
     },
     "execution_count": 176,
     "metadata": {},
     "output_type": "execute_result"
    },
    {
     "data": {
      "image/png": "[encoded data removed]",
      "text/plain": [
       "<Figure size 720x432 with 2 Axes>"
      ]
     },
     "metadata": {},
     "output_type": "display_data"
    }
   ],
   "source": [
    "set_style_pers()\n",
    "matplotlib.rcParams.update({'lines.markersize'   :5,\n",
    "                           'lines.linewidth'    :2})\n",
    "fig, ax = plt.subplots()\n",
    "ax.plot(thresholds, scores,'ro', label='score')\n",
    "ax.set_ylabel(\"score\")\n",
    "ax.set_xlabel(\"default probability threshold\")\n",
    "plt.legend(loc='center left')\n",
    "# creating second y axis\n",
    "ax2 = ax.twinx()\n",
    "ax2.plot(thresholds, false_negatives_rates, label='False negative rate')\n",
    "ax2.plot(thresholds, false_positives_rates, label='False positive rate')\n",
    "# ax2.plot(thresholds, precision_scores, label='Precision')\n",
    "ax2.plot(thresholds, f_scores, label='F-score')\n",
    "ax2.plot(thresholds, accuracy_scores, label='Accuracy')\n",
    "ax2.set_ylabel(\"rate\")\n",
    "ax2.legend(loc='lower right')"
   ]
  },
  {
   "cell_type": "markdown",
   "id": "0536f8c9",
   "metadata": {},
   "source": [
    "It is up to the client to decide which threshold is best considering the above lines.\n",
    "\n",
    "Interpretation:\n",
    "- for a thr of 0.5: \n",
    "30% of actual negative(no def) clients will be rejected\n",
    "30% of actual positive(def) clients will be accepted\n",
    "Overall accuracy will be 65%\n",
    "\n",
    "Reminder:The precision is the ratio tp / (tp + fp) where tp is the number of true positives and fp the number of false positives. The precision is intuitively the ability of the classifier not to label as positive a sample that is negative."
   ]
  },
  {
   "cell_type": "code",
   "execution_count": 192,
   "id": "e67877d3",
   "metadata": {},
   "outputs": [],
   "source": [
    "cm_lgbm = confusion_matrix(yval, cust_predict_proba(yval_pred_proba[:,1], thres=0.30), labels=[1, 0])"
   ]
  },
  {
   "cell_type": "code",
   "execution_count": 193,
   "id": "74d102f3",
   "metadata": {},
   "outputs": [],
   "source": [
    "cm_lgbm_df = pd.DataFrame(cm_lgbm\n",
    "                          , index=[['Actual', 'Actual'], ['def', 'nodef']]\n",
    "                          , columns=[['Predicted', 'Predicted'], ['def', 'nodef']])"
   ]
  },
  {
   "cell_type": "code",
   "execution_count": 194,
   "id": "48127783",
   "metadata": {},
   "outputs": [
    {
     "data": {
      "text/html": [
       "<div>\n",
       "<style scoped>\n",
       "    .dataframe tbody tr th:only-of-type {\n",
       "        vertical-align: middle;\n",
       "    }\n",
       "\n",
       "    .dataframe tbody tr th {\n",
       "        vertical-align: top;\n",
       "    }\n",
       "\n",
       "    .dataframe thead tr th {\n",
       "        text-align: left;\n",
       "    }\n",
       "</style>\n",
       "<table border=\"1\" class=\"dataframe\">\n",
       "  <thead>\n",
       "    <tr>\n",
       "      <th></th>\n",
       "      <th></th>\n",
       "      <th colspan=\"2\" halign=\"left\">Predicted</th>\n",
       "    </tr>\n",
       "    <tr>\n",
       "      <th></th>\n",
       "      <th></th>\n",
       "      <th>def</th>\n",
       "      <th>nodef</th>\n",
       "    </tr>\n",
       "  </thead>\n",
       "  <tbody>\n",
       "    <tr>\n",
       "      <th rowspan=\"2\" valign=\"top\">Actual</th>\n",
       "      <th>def</th>\n",
       "      <td>7.5</td>\n",
       "      <td>0.6</td>\n",
       "    </tr>\n",
       "    <tr>\n",
       "      <th>nodef</th>\n",
       "      <td>65.4</td>\n",
       "      <td>26.6</td>\n",
       "    </tr>\n",
       "  </tbody>\n",
       "</table>\n",
       "</div>"
      ],
      "text/plain": [
       "             Predicted      \n",
       "                   def nodef\n",
       "Actual def         7.5   0.6\n",
       "       nodef      65.4  26.6"
      ]
     },
     "execution_count": 194,
     "metadata": {},
     "output_type": "execute_result"
    }
   ],
   "source": [
    "# confusion matrix in % of total applicants\n",
    "round(cm_lgbm_df / len(yval_pred_proba) * 100, 1)"
   ]
  },
  {
   "cell_type": "code",
   "execution_count": 180,
   "id": "ac5df828",
   "metadata": {},
   "outputs": [],
   "source": [
    "# nous prédisons la classe avec le seuil optimal de 0.65\n",
    "yval_pred_opti = cust_predict_proba(yval_pred_proba[:,1], thres=0.30)"
   ]
  },
  {
   "cell_type": "code",
   "execution_count": 181,
   "id": "a68b71ba",
   "metadata": {},
   "outputs": [
    {
     "name": "stdout",
     "output_type": "stream",
     "text": [
      "recall : 0.928147029204431\n",
      "accuracy : 0.34065826859992926\n",
      "AUC : 0.7409310703091119\n",
      "custom : -0.5672145878197282\n"
     ]
    }
   ],
   "source": [
    "print(\"recall :\", recall_score(yval, yval_pred_opti))\n",
    "print(\"accuracy :\", accuracy_score(yval, yval_pred_opti))\n",
    "print(\"AUC :\", roc_auc_score(yval, yval_pred_proba[:,1]))\n",
    "print(\"custom :\",cust_metric(yval, yval_pred_opti))"
   ]
  },
  {
   "cell_type": "code",
   "execution_count": 182,
   "id": "6f16999a",
   "metadata": {},
   "outputs": [],
   "source": [
    "models_bs_check.append(\"Opti best model\")\n",
    "recalls_bs_check.append(recall_score(yval, yval_pred_opti))\n",
    "accuracy_bs_check.append(accuracy_score(yval, yval_pred_opti))\n",
    "auc_bs_check.append(roc_auc_score(yval, yval_pred_proba[:,1]))\n",
    "fn_bs_check.append(1-recall_score(yval, yval_pred_opti))\n",
    "cust_metrics_bs_check.append(cust_metric(yval, yval_pred_opti))"
   ]
  },
  {
   "cell_type": "code",
   "execution_count": 183,
   "id": "31a86d0f",
   "metadata": {},
   "outputs": [
    {
     "data": {
      "text/plain": [
       "[0.5, 0.7409310703091119, 0.7409310703091119, 0.7409310703091119]"
      ]
     },
     "execution_count": 183,
     "metadata": {},
     "output_type": "execute_result"
    }
   ],
   "source": [
    "auc_bs_check"
   ]
  },
  {
   "cell_type": "code",
   "execution_count": 184,
   "id": "e94df45c",
   "metadata": {},
   "outputs": [
    {
     "data": {
      "text/plain": [
       "<seaborn.axisgrid.FacetGrid at 0x252bdc3cf40>"
      ]
     },
     "execution_count": 184,
     "metadata": {},
     "output_type": "execute_result"
    },
    {
     "data": {
      "image/png": "[encoded data removed]",
      "text/plain": [
       "<Figure size 452.6x360 with 1 Axes>"
      ]
     },
     "metadata": {},
     "output_type": "display_data"
    }
   ],
   "source": [
    "# in oder to plot the scores by model, we build a df and melt it to use train/test as an hue\n",
    "df_model_bs_scores = pd.DataFrame()\n",
    "df_model_bs_scores['model'] = models_bs_check\n",
    "df_model_bs_scores['Recall'] = recalls_bs_check\n",
    "df_model_bs_scores['Accuracy'] = accuracy_bs_check\n",
    "df_model_bs_scores['AUC'] = auc_bs_check\n",
    "df_model_bs_scores['fn_rate'] = fn_bs_check\n",
    "df_model_bs_scores['Custom'] = cust_metrics_bs_check\n",
    "df_model_bs_scores = pd.melt(df_model_bs_scores, id_vars='model', var_name='scores', value_name='values')\n",
    "sns.catplot(data=df_model_bs_scores, x='model', y='values', hue='scores', kind='bar')\n",
    "# plt.gca().set_ylim([0.6, 0.9])\n",
    "# plt.gca().set_title('Comparison of mean train and test scores of RFC and LGBMC', fontsize=18)"
   ]
  },
  {
   "cell_type": "markdown",
   "id": "f2678fb3",
   "metadata": {},
   "source": [
    "# Training of the best model"
   ]
  },
  {
   "cell_type": "code",
   "execution_count": 121,
   "id": "1cf3fc8c-c339-4cd7-b4f5-1e1f0291584f",
   "metadata": {},
   "outputs": [],
   "source": [
    "X = train.iloc[:,1:-1]\n",
    "y = train.iloc[:, -1]"
   ]
  },
  {
   "cell_type": "code",
   "execution_count": 122,
   "id": "2356663d",
   "metadata": {},
   "outputs": [
    {
     "name": "stdout",
     "output_type": "stream",
     "text": [
      "[Pipeline] ........... (step 1 of 5) Processing imputer, total=  24.7s\n",
      "[Pipeline] ............ (step 2 of 5) Processing scaler, total=   2.1s\n",
      "[Pipeline] ...... (step 3 of 5) Processing weight_strat, total=   0.3s\n"
     ]
    },
    {
     "name": "stderr",
     "output_type": "stream",
     "text": [
      "C:\\Users\\VP\\anaconda3\\envs\\env_p7\\lib\\site-packages\\sklearn\\feature_selection\\_univariate_selection.py:114: UserWarning: Features [ 13  48 194 208 220 227] are constant.\n",
      "  warnings.warn(\"Features %s are constant.\" % constant_features_idx,\n",
      "C:\\Users\\VP\\anaconda3\\envs\\env_p7\\lib\\site-packages\\sklearn\\feature_selection\\_univariate_selection.py:116: RuntimeWarning: invalid value encountered in true_divide\n",
      "  f = msb / msw\n"
     ]
    },
    {
     "name": "stdout",
     "output_type": "stream",
     "text": [
      "[Pipeline] ........ (step 4 of 5) Processing feat_selec, total=   0.3s\n",
      "[Pipeline] .............. (step 5 of 5) Processing LBMC, total=   0.3s\n"
     ]
    },
    {
     "data": {
      "text/plain": [
       "Pipeline(steps=[('imputer', SimpleImputer(strategy='median')),\n",
       "                ('scaler', RobustScaler()),\n",
       "                ('weight_strat',\n",
       "                 RandomUnderSampler(random_state=42,\n",
       "                                    sampling_strategy='majority')),\n",
       "                ('feat_selec', SelectKBest(k=50)),\n",
       "                ('LBMC',\n",
       "                 LGBMClassifier(colsample_bytree=0.8, max_depth=7,\n",
       "                                min_split_gain=0, n_estimators=40,\n",
       "                                num_leaves=10, objective='binary',\n",
       "                                random_state=42, reg_alpha=0.1, reg_lambda=0,\n",
       "                                subsample=1))],\n",
       "         verbose=True)"
      ]
     },
     "execution_count": 122,
     "metadata": {},
     "output_type": "execute_result"
    }
   ],
   "source": [
    "best_pipe.fit(X, y)"
   ]
  },
  {
   "cell_type": "markdown",
   "id": "75f7cf15",
   "metadata": {},
   "source": [
    "# Features importance best model"
   ]
  },
  {
   "cell_type": "markdown",
   "id": "5840b003",
   "metadata": {},
   "source": [
    "We are here analysing the features importance of the best model."
   ]
  },
  {
   "cell_type": "code",
   "execution_count": 123,
   "id": "bb80e338",
   "metadata": {},
   "outputs": [],
   "source": [
    "# getting indexes of the 50 columns selected by SelectKBest\n",
    "selected_columns= best_pipe.named_steps[\"feat_selec\"].get_support(indices=True)"
   ]
  },
  {
   "cell_type": "code",
   "execution_count": 124,
   "id": "fdcfa634",
   "metadata": {},
   "outputs": [
    {
     "data": {
      "image/png": "[encoded data removed]",
      "text/plain": [
       "<Figure size 1440x936 with 1 Axes>"
      ]
     },
     "metadata": {},
     "output_type": "display_data"
    }
   ],
   "source": [
    "# collecting features importance of the selected columns in a Dataframe\n",
    "feature_imp = pd.DataFrame(zip(best_pipe.named_steps[\"LBMC\"].feature_importances_, X.iloc[:,selected_columns].columns), columns=['Value','Feature'])\n",
    "plt.figure(figsize=(20, 13))\n",
    "# and plotting it\n",
    "sns.barplot(x=\"Value\", y=\"Feature\", data=feature_imp.sort_values(by=\"Value\", ascending=False).head(50))\n",
    "plt.title('LightGBM Features (avg over folds)')\n",
    "plt.tight_layout()\n",
    "plt.show()"
   ]
  },
  {
   "cell_type": "markdown",
   "id": "7675507f",
   "metadata": {
    "tags": []
   },
   "source": [
    "# SHAP"
   ]
  },
  {
   "cell_type": "code",
   "execution_count": 125,
   "id": "c57c5fe1",
   "metadata": {},
   "outputs": [],
   "source": [
    "import shap"
   ]
  },
  {
   "cell_type": "markdown",
   "id": "031f217f",
   "metadata": {},
   "source": [
    "### X preprocessed"
   ]
  },
  {
   "cell_type": "code",
   "execution_count": 126,
   "id": "2f40c419",
   "metadata": {},
   "outputs": [
    {
     "name": "stdout",
     "output_type": "stream",
     "text": [
      "imputer\n",
      "scaler\n",
      "weight_strat\n",
      "feat_selec\n",
      "imputer\n",
      "scaler\n"
     ]
    }
   ],
   "source": [
    "# to use shap we need to compute the shap values of the preprocessed data\n",
    "# and unfortunately shap.Explainer does not work directly with pipelines\n",
    "# we have to compute the fully preprocessed data to fit the model and the explainer\n",
    "Xprep = X.copy()\n",
    "yprep = y.copy()\n",
    "for step in list(best_pipe.named_steps.keys())[:4]:\n",
    "    print(step)\n",
    "    # unlike other transformers, SMOTE apply fit_resample, to both X and y\n",
    "    if step == 'weight_strat':\n",
    "        Xprep, yprep = best_pipe.named_steps[step].fit_resample(Xprep, yprep)\n",
    "    else:\n",
    "        Xprep = best_pipe.named_steps[step].transform(Xprep)\n",
    "        \n",
    "# but in order to compute the shap values of the whole training set, we also need to compute the preprocessed data minus \n",
    "# the undersampling step and the feature selection (it's ok for the feature selection because we know the selected columns \n",
    "# from the complete execution of the pipeline above)(WIP)\n",
    "Xprep_no_rus = X.copy()\n",
    "yprep_no_rus = y.copy()\n",
    "for step in list(best_pipe.named_steps.keys())[:2]:\n",
    "    print(step)\n",
    "    Xprep_no_rus = best_pipe.named_steps[step].transform(Xprep_no_rus)"
   ]
  },
  {
   "cell_type": "code",
   "execution_count": 127,
   "id": "15b9d40a-e7bf-47a1-8712-db0455cc2c20",
   "metadata": {},
   "outputs": [],
   "source": [
    "Xprep_no_rus = Xprep_no_rus[:, selected_columns]"
   ]
  },
  {
   "cell_type": "code",
   "execution_count": 128,
   "id": "ec35617a",
   "metadata": {},
   "outputs": [],
   "source": [
    "# then we need to store the preprocessed data as a df with the named features as colmuns\n",
    "# storing the names of features after SelectKBest\n",
    "feat_selec_cols = X.iloc[:,selected_columns].columns\n",
    "# storing preprocessed X as a df with columns names\n",
    "Xprep = pd.DataFrame(data=Xprep, columns=feat_selec_cols)\n",
    "Xprep_no_rus = pd.DataFrame(data=Xprep_no_rus, columns=feat_selec_cols)"
   ]
  },
  {
   "cell_type": "markdown",
   "id": "f40f0b1f",
   "metadata": {},
   "source": [
    "## Explainer and graphs"
   ]
  },
  {
   "cell_type": "markdown",
   "id": "f661c184",
   "metadata": {},
   "source": [
    "https://github.com/slundberg/shap/issues/1917"
   ]
  },
  {
   "cell_type": "code",
   "execution_count": 129,
   "id": "bdbeea5a",
   "metadata": {},
   "outputs": [
    {
     "data": {
      "text/plain": [
       "LGBMClassifier(colsample_bytree=0.8, max_depth=7, min_split_gain=0,\n",
       "               n_estimators=40, num_leaves=10, objective='binary',\n",
       "               random_state=42, reg_alpha=0.1, reg_lambda=0, subsample=1)"
      ]
     },
     "execution_count": 129,
     "metadata": {},
     "output_type": "execute_result"
    }
   ],
   "source": [
    "model = best_pipe.named_steps['LBMC']\n",
    "model.fit(Xprep, yprep)"
   ]
  },
  {
   "cell_type": "code",
   "execution_count": 130,
   "id": "2e14f314",
   "metadata": {},
   "outputs": [
    {
     "name": "stderr",
     "output_type": "stream",
     "text": [
      "LightGBM binary classifier with TreeExplainer shap values output has changed to a list of ndarray\n"
     ]
    }
   ],
   "source": [
    "explainer = shap.TreeExplainer(model) # data is required if you're using interventional feature_perturbation\n",
    "# or\n",
    "# expainer = shap.Explainer(model, masker=X_) # masker required\n",
    "# calculate shap with shap_values method\n",
    "\n",
    "# if the below line is run in a different cell, I get an error of reshaping, no solution found\n",
    "# the explainer is fitted using the model itself fitted on the preprocessed (undersampled data)\n",
    "# but we want the shap values for all clients, not just the undersampled\n",
    "shapvs = explainer.shap_values(Xprep_no_rus, check_additivity=True) # check should be default"
   ]
  },
  {
   "cell_type": "code",
   "execution_count": 131,
   "id": "4fa5a4cb-ef89-40a8-b4b4-141d39b6bfa0",
   "metadata": {},
   "outputs": [
    {
     "data": {
      "text/plain": [
       "(307511, 50)"
      ]
     },
     "execution_count": 131,
     "metadata": {},
     "output_type": "execute_result"
    }
   ],
   "source": [
    "shapvs[1].shape"
   ]
  },
  {
   "cell_type": "markdown",
   "id": "335c27f3",
   "metadata": {},
   "source": [
    "waterfall long : 2min"
   ]
  },
  {
   "cell_type": "code",
   "execution_count": 132,
   "id": "24fa1c96",
   "metadata": {},
   "outputs": [
    {
     "data": {
      "image/png": "[encoded data removed]",
      "text/plain": [
       "<Figure size 576x468 with 3 Axes>"
      ]
     },
     "metadata": {},
     "output_type": "display_data"
    }
   ],
   "source": [
    "# use the following function for waterfall: display contribution for one client\n",
    "# tree explainer with LGBM returns the shap values of both class 0 and 1 : list of two arrays of shape (44686, 50)\n",
    "# we are interested in explaining the contributions to default predictions so our shap values will be shapvs[1]\n",
    "# more info here https://github.com/slundberg/shap/issues/837\n",
    "shap.plots._waterfall.waterfall_legacy(explainer.expected_value[1], shapvs[1][3], features=Xprep_no_rus.iloc[3].values, feature_names=Xprep_no_rus.columns, max_display=10)"
   ]
  },
  {
   "cell_type": "code",
   "execution_count": 133,
   "id": "98ba3ac2",
   "metadata": {},
   "outputs": [
    {
     "data": {
      "image/png": "[encoded data removed]",
      "text/plain": [
       "<Figure size 1440x216 with 1 Axes>"
      ]
     },
     "metadata": {},
     "output_type": "display_data"
    }
   ],
   "source": [
    "# visualize the first prediction's explanation with a force plot\n",
    "shap.force_plot(explainer.expected_value[1], shapvs[1][0, :], features=Xprep_no_rus.iloc[0,:], feature_names=feat_selec_cols, matplotlib=True)"
   ]
  },
  {
   "cell_type": "code",
   "execution_count": 134,
   "id": "686b022d-390c-409f-a250-bf473830bde6",
   "metadata": {},
   "outputs": [
    {
     "data": {
      "text/html": [
       "<div>\n",
       "<style scoped>\n",
       "    .dataframe tbody tr th:only-of-type {\n",
       "        vertical-align: middle;\n",
       "    }\n",
       "\n",
       "    .dataframe tbody tr th {\n",
       "        vertical-align: top;\n",
       "    }\n",
       "\n",
       "    .dataframe thead th {\n",
       "        text-align: right;\n",
       "    }\n",
       "</style>\n",
       "<table border=\"1\" class=\"dataframe\">\n",
       "  <thead>\n",
       "    <tr style=\"text-align: right;\">\n",
       "      <th></th>\n",
       "      <th>NAME_CONTRACT_TYPE</th>\n",
       "      <th>AMT_CREDIT</th>\n",
       "      <th>REGION_POPULATION_RELATIVE</th>\n",
       "      <th>DAYS_BIRTH_x</th>\n",
       "      <th>DAYS_EMPLOYED</th>\n",
       "      <th>DAYS_REGISTRATION</th>\n",
       "      <th>DAYS_ID_PUBLISH</th>\n",
       "      <th>FLAG_EMP_PHONE</th>\n",
       "      <th>FLAG_WORK_PHONE</th>\n",
       "      <th>REGION_RATING_CLIENT</th>\n",
       "      <th>REG_CITY_NOT_LIVE_CITY</th>\n",
       "      <th>REG_CITY_NOT_WORK_CITY</th>\n",
       "      <th>EXT_SOURCE_2_x</th>\n",
       "      <th>APARTMENTS_AVG</th>\n",
       "      <th>FLOORSMAX_AVG</th>\n",
       "      <th>DEF_30_CNT_SOCIAL_CIRCLE</th>\n",
       "      <th>DAYS_LAST_PHONE_CHANGE</th>\n",
       "      <th>FLAG_DOCUMENT_3</th>\n",
       "      <th>FLAG_DOCUMENT_6</th>\n",
       "      <th>NAME_INCOME_TYPE_Pensioner</th>\n",
       "      <th>NAME_INCOME_TYPE_State servant</th>\n",
       "      <th>NAME_INCOME_TYPE_Working</th>\n",
       "      <th>NAME_EDUCATION_TYPE_Higher education</th>\n",
       "      <th>NAME_EDUCATION_TYPE_Secondary / secondary special</th>\n",
       "      <th>NAME_HOUSING_TYPE_With parents</th>\n",
       "      <th>OCCUPATION_TYPE_Drivers</th>\n",
       "      <th>OCCUPATION_TYPE_Laborers</th>\n",
       "      <th>ORGANIZATION_TYPE_Self-employed</th>\n",
       "      <th>HOUSETYPE_MODE_block of flats</th>\n",
       "      <th>WALLSMATERIAL_MODE_Panel</th>\n",
       "      <th>DAYS_EMPLOYED_ANOM</th>\n",
       "      <th>EXT_SOURCE_2 EXT_SOURCE_3</th>\n",
       "      <th>bureau_CREDIT_ACTIVE_Active_count</th>\n",
       "      <th>bureau_CREDIT_ACTIVE_Active_count_norm</th>\n",
       "      <th>bureau_CREDIT_ACTIVE_Closed_count</th>\n",
       "      <th>bureau_CREDIT_ACTIVE_Closed_count_norm</th>\n",
       "      <th>bureau_CREDIT_TYPE_Credit card_count_norm</th>\n",
       "      <th>bureau_CREDIT_TYPE_Microloan_count_norm</th>\n",
       "      <th>bureau_DAYS_CREDIT_mean</th>\n",
       "      <th>bureau_DAYS_CREDIT_max</th>\n",
       "      <th>bureau_DAYS_CREDIT_sum</th>\n",
       "      <th>bureau_DAYS_CREDIT_ENDDATE_mean</th>\n",
       "      <th>bureau_DAYS_ENDDATE_FACT_mean</th>\n",
       "      <th>bureau_AMT_CREDIT_SUM_mean</th>\n",
       "      <th>bureau_DAYS_CREDIT_UPDATE_mean</th>\n",
       "      <th>bureau_DAYS_CREDIT_UPDATE_max</th>\n",
       "      <th>bureau_DAYS_CREDIT_UPDATE_min</th>\n",
       "      <th>client_bureau_balance_MONTHS_BALANCE_count_mean</th>\n",
       "      <th>client_bureau_balance_STATUS_1_count_norm_max</th>\n",
       "      <th>client_bureau_balance_STATUS_C_count_mean</th>\n",
       "    </tr>\n",
       "  </thead>\n",
       "  <tbody>\n",
       "    <tr>\n",
       "      <th>count</th>\n",
       "      <td>307511.000000</td>\n",
       "      <td>307511.000000</td>\n",
       "      <td>307511.000000</td>\n",
       "      <td>307511.000000</td>\n",
       "      <td>307511.000000</td>\n",
       "      <td>307511.000000</td>\n",
       "      <td>307511.000000</td>\n",
       "      <td>307511.000000</td>\n",
       "      <td>307511.000000</td>\n",
       "      <td>307511.000000</td>\n",
       "      <td>307511.000000</td>\n",
       "      <td>307511.000000</td>\n",
       "      <td>307511.000000</td>\n",
       "      <td>307511.000000</td>\n",
       "      <td>307511.000000</td>\n",
       "      <td>307511.000000</td>\n",
       "      <td>307511.000000</td>\n",
       "      <td>307511.000000</td>\n",
       "      <td>307511.000000</td>\n",
       "      <td>307511.000000</td>\n",
       "      <td>307511.000000</td>\n",
       "      <td>307511.000000</td>\n",
       "      <td>307511.000000</td>\n",
       "      <td>307511.000000</td>\n",
       "      <td>307511.000000</td>\n",
       "      <td>307511.000000</td>\n",
       "      <td>307511.000000</td>\n",
       "      <td>307511.000000</td>\n",
       "      <td>307511.000000</td>\n",
       "      <td>307511.000000</td>\n",
       "      <td>307511.000000</td>\n",
       "      <td>307511.000000</td>\n",
       "      <td>307511.000000</td>\n",
       "      <td>307511.000000</td>\n",
       "      <td>307511.000000</td>\n",
       "      <td>307511.000000</td>\n",
       "      <td>307511.000000</td>\n",
       "      <td>307511.000000</td>\n",
       "      <td>307511.000000</td>\n",
       "      <td>307511.000000</td>\n",
       "      <td>307511.000000</td>\n",
       "      <td>307511.000000</td>\n",
       "      <td>307511.000000</td>\n",
       "      <td>307511.000000</td>\n",
       "      <td>307511.000000</td>\n",
       "      <td>307511.000000</td>\n",
       "      <td>307511.000000</td>\n",
       "      <td>307511.000000</td>\n",
       "      <td>307511.000000</td>\n",
       "      <td>307511.000000</td>\n",
       "    </tr>\n",
       "    <tr>\n",
       "      <th>mean</th>\n",
       "      <td>0.095213</td>\n",
       "      <td>0.158721</td>\n",
       "      <td>0.108169</td>\n",
       "      <td>0.039482</td>\n",
       "      <td>-0.124038</td>\n",
       "      <td>-0.088147</td>\n",
       "      <td>0.100736</td>\n",
       "      <td>-0.180111</td>\n",
       "      <td>0.199368</td>\n",
       "      <td>0.052463</td>\n",
       "      <td>0.078173</td>\n",
       "      <td>0.230454</td>\n",
       "      <td>-0.190270</td>\n",
       "      <td>0.014697</td>\n",
       "      <td>0.029933</td>\n",
       "      <td>0.142944</td>\n",
       "      <td>-0.158841</td>\n",
       "      <td>-0.289977</td>\n",
       "      <td>0.088055</td>\n",
       "      <td>0.180033</td>\n",
       "      <td>0.070576</td>\n",
       "      <td>-0.483680</td>\n",
       "      <td>0.243448</td>\n",
       "      <td>-0.289811</td>\n",
       "      <td>0.048258</td>\n",
       "      <td>0.060495</td>\n",
       "      <td>0.179460</td>\n",
       "      <td>0.124913</td>\n",
       "      <td>0.489423</td>\n",
       "      <td>0.214757</td>\n",
       "      <td>0.180072</td>\n",
       "      <td>-0.015389</td>\n",
       "      <td>0.024287</td>\n",
       "      <td>0.120849</td>\n",
       "      <td>0.137946</td>\n",
       "      <td>-0.143566</td>\n",
       "      <td>0.101928</td>\n",
       "      <td>0.003605</td>\n",
       "      <td>-0.044313</td>\n",
       "      <td>-0.438378</td>\n",
       "      <td>-0.266747</td>\n",
       "      <td>0.669248</td>\n",
       "      <td>-0.068442</td>\n",
       "      <td>0.684699</td>\n",
       "      <td>-0.119405</td>\n",
       "      <td>-3.733217</td>\n",
       "      <td>-0.098340</td>\n",
       "      <td>0.817973</td>\n",
       "      <td>0.011962</td>\n",
       "      <td>1.191482</td>\n",
       "    </tr>\n",
       "    <tr>\n",
       "      <th>std</th>\n",
       "      <td>0.293509</td>\n",
       "      <td>0.747221</td>\n",
       "      <td>0.741345</td>\n",
       "      <td>0.600356</td>\n",
       "      <td>1.083521</td>\n",
       "      <td>0.644097</td>\n",
       "      <td>0.585285</td>\n",
       "      <td>0.384280</td>\n",
       "      <td>0.399526</td>\n",
       "      <td>0.509034</td>\n",
       "      <td>0.268444</td>\n",
       "      <td>0.421124</td>\n",
       "      <td>0.705754</td>\n",
       "      <td>0.077412</td>\n",
       "      <td>0.106761</td>\n",
       "      <td>0.446033</td>\n",
       "      <td>0.637969</td>\n",
       "      <td>0.453752</td>\n",
       "      <td>0.283376</td>\n",
       "      <td>0.384215</td>\n",
       "      <td>0.256116</td>\n",
       "      <td>0.499734</td>\n",
       "      <td>0.429164</td>\n",
       "      <td>0.453675</td>\n",
       "      <td>0.214312</td>\n",
       "      <td>0.238403</td>\n",
       "      <td>0.383738</td>\n",
       "      <td>0.330620</td>\n",
       "      <td>0.499889</td>\n",
       "      <td>0.410654</td>\n",
       "      <td>0.384248</td>\n",
       "      <td>0.653490</td>\n",
       "      <td>0.827524</td>\n",
       "      <td>1.061498</td>\n",
       "      <td>1.044938</td>\n",
       "      <td>1.144438</td>\n",
       "      <td>0.715526</td>\n",
       "      <td>0.042824</td>\n",
       "      <td>0.830577</td>\n",
       "      <td>1.356781</td>\n",
       "      <td>0.991586</td>\n",
       "      <td>3.039360</td>\n",
       "      <td>1.011553</td>\n",
       "      <td>3.623397</td>\n",
       "      <td>0.904580</td>\n",
       "      <td>11.632374</td>\n",
       "      <td>0.940940</td>\n",
       "      <td>9.300091</td>\n",
       "      <td>0.052851</td>\n",
       "      <td>7.846654</td>\n",
       "    </tr>\n",
       "    <tr>\n",
       "      <th>min</th>\n",
       "      <td>0.000000</td>\n",
       "      <td>-0.869825</td>\n",
       "      <td>-0.994801</td>\n",
       "      <td>-1.136470</td>\n",
       "      <td>-8.037774</td>\n",
       "      <td>-3.687357</td>\n",
       "      <td>-1.528887</td>\n",
       "      <td>-1.000000</td>\n",
       "      <td>0.000000</td>\n",
       "      <td>-1.000000</td>\n",
       "      <td>0.000000</td>\n",
       "      <td>0.000000</td>\n",
       "      <td>-2.092680</td>\n",
       "      <td>-0.087600</td>\n",
       "      <td>-0.166700</td>\n",
       "      <td>0.000000</td>\n",
       "      <td>-2.727623</td>\n",
       "      <td>-1.000000</td>\n",
       "      <td>0.000000</td>\n",
       "      <td>0.000000</td>\n",
       "      <td>0.000000</td>\n",
       "      <td>-1.000000</td>\n",
       "      <td>0.000000</td>\n",
       "      <td>-1.000000</td>\n",
       "      <td>0.000000</td>\n",
       "      <td>0.000000</td>\n",
       "      <td>0.000000</td>\n",
       "      <td>0.000000</td>\n",
       "      <td>0.000000</td>\n",
       "      <td>0.000000</td>\n",
       "      <td>0.000000</td>\n",
       "      <td>-1.258613</td>\n",
       "      <td>-1.000000</td>\n",
       "      <td>-1.392857</td>\n",
       "      <td>-1.000000</td>\n",
       "      <td>-2.500000</td>\n",
       "      <td>-0.600000</td>\n",
       "      <td>0.000000</td>\n",
       "      <td>-2.980140</td>\n",
       "      <td>-7.086486</td>\n",
       "      <td>-13.237151</td>\n",
       "      <td>-41.760302</td>\n",
       "      <td>-16.239328</td>\n",
       "      <td>-0.855701</td>\n",
       "      <td>-89.049821</td>\n",
       "      <td>-1495.392857</td>\n",
       "      <td>-37.140781</td>\n",
       "      <td>-23.750000</td>\n",
       "      <td>0.000000</td>\n",
       "      <td>-9.000000</td>\n",
       "    </tr>\n",
       "    <tr>\n",
       "      <th>25%</th>\n",
       "      <td>0.000000</td>\n",
       "      <td>-0.452114</td>\n",
       "      <td>-0.474031</td>\n",
       "      <td>-0.459073</td>\n",
       "      <td>-0.370597</td>\n",
       "      <td>-0.544017</td>\n",
       "      <td>-0.405196</td>\n",
       "      <td>0.000000</td>\n",
       "      <td>0.000000</td>\n",
       "      <td>0.000000</td>\n",
       "      <td>0.000000</td>\n",
       "      <td>0.000000</td>\n",
       "      <td>-0.639634</td>\n",
       "      <td>0.000000</td>\n",
       "      <td>0.000000</td>\n",
       "      <td>0.000000</td>\n",
       "      <td>-0.627315</td>\n",
       "      <td>-1.000000</td>\n",
       "      <td>0.000000</td>\n",
       "      <td>0.000000</td>\n",
       "      <td>0.000000</td>\n",
       "      <td>-1.000000</td>\n",
       "      <td>0.000000</td>\n",
       "      <td>-1.000000</td>\n",
       "      <td>0.000000</td>\n",
       "      <td>0.000000</td>\n",
       "      <td>0.000000</td>\n",
       "      <td>0.000000</td>\n",
       "      <td>0.000000</td>\n",
       "      <td>0.000000</td>\n",
       "      <td>0.000000</td>\n",
       "      <td>-0.537820</td>\n",
       "      <td>-0.500000</td>\n",
       "      <td>-0.535714</td>\n",
       "      <td>-0.666667</td>\n",
       "      <td>-0.500000</td>\n",
       "      <td>-0.600000</td>\n",
       "      <td>0.000000</td>\n",
       "      <td>-0.496887</td>\n",
       "      <td>-0.640541</td>\n",
       "      <td>-0.602175</td>\n",
       "      <td>-0.459152</td>\n",
       "      <td>-0.500604</td>\n",
       "      <td>-0.348063</td>\n",
       "      <td>-0.514337</td>\n",
       "      <td>-0.678571</td>\n",
       "      <td>-0.574024</td>\n",
       "      <td>0.000000</td>\n",
       "      <td>0.000000</td>\n",
       "      <td>0.000000</td>\n",
       "    </tr>\n",
       "    <tr>\n",
       "      <th>50%</th>\n",
       "      <td>0.000000</td>\n",
       "      <td>0.000000</td>\n",
       "      <td>0.000000</td>\n",
       "      <td>0.000000</td>\n",
       "      <td>0.000000</td>\n",
       "      <td>0.000000</td>\n",
       "      <td>0.000000</td>\n",
       "      <td>0.000000</td>\n",
       "      <td>0.000000</td>\n",
       "      <td>0.000000</td>\n",
       "      <td>0.000000</td>\n",
       "      <td>0.000000</td>\n",
       "      <td>0.000000</td>\n",
       "      <td>0.000000</td>\n",
       "      <td>0.000000</td>\n",
       "      <td>0.000000</td>\n",
       "      <td>0.000000</td>\n",
       "      <td>0.000000</td>\n",
       "      <td>0.000000</td>\n",
       "      <td>0.000000</td>\n",
       "      <td>0.000000</td>\n",
       "      <td>0.000000</td>\n",
       "      <td>0.000000</td>\n",
       "      <td>0.000000</td>\n",
       "      <td>0.000000</td>\n",
       "      <td>0.000000</td>\n",
       "      <td>0.000000</td>\n",
       "      <td>0.000000</td>\n",
       "      <td>0.000000</td>\n",
       "      <td>0.000000</td>\n",
       "      <td>0.000000</td>\n",
       "      <td>0.000000</td>\n",
       "      <td>0.000000</td>\n",
       "      <td>0.000000</td>\n",
       "      <td>0.000000</td>\n",
       "      <td>0.000000</td>\n",
       "      <td>0.000000</td>\n",
       "      <td>0.000000</td>\n",
       "      <td>0.000000</td>\n",
       "      <td>0.000000</td>\n",
       "      <td>0.000000</td>\n",
       "      <td>0.000000</td>\n",
       "      <td>0.000000</td>\n",
       "      <td>0.000000</td>\n",
       "      <td>0.000000</td>\n",
       "      <td>0.000000</td>\n",
       "      <td>0.000000</td>\n",
       "      <td>0.000000</td>\n",
       "      <td>0.000000</td>\n",
       "      <td>0.000000</td>\n",
       "    </tr>\n",
       "    <tr>\n",
       "      <th>75%</th>\n",
       "      <td>0.000000</td>\n",
       "      <td>0.547886</td>\n",
       "      <td>0.525969</td>\n",
       "      <td>0.540927</td>\n",
       "      <td>0.629403</td>\n",
       "      <td>0.455983</td>\n",
       "      <td>0.594804</td>\n",
       "      <td>0.000000</td>\n",
       "      <td>0.000000</td>\n",
       "      <td>0.000000</td>\n",
       "      <td>0.000000</td>\n",
       "      <td>0.000000</td>\n",
       "      <td>0.360366</td>\n",
       "      <td>0.000000</td>\n",
       "      <td>0.000000</td>\n",
       "      <td>0.000000</td>\n",
       "      <td>0.372685</td>\n",
       "      <td>0.000000</td>\n",
       "      <td>0.000000</td>\n",
       "      <td>0.000000</td>\n",
       "      <td>0.000000</td>\n",
       "      <td>0.000000</td>\n",
       "      <td>0.000000</td>\n",
       "      <td>0.000000</td>\n",
       "      <td>0.000000</td>\n",
       "      <td>0.000000</td>\n",
       "      <td>0.000000</td>\n",
       "      <td>0.000000</td>\n",
       "      <td>1.000000</td>\n",
       "      <td>0.000000</td>\n",
       "      <td>0.000000</td>\n",
       "      <td>0.462180</td>\n",
       "      <td>0.500000</td>\n",
       "      <td>0.464286</td>\n",
       "      <td>0.333333</td>\n",
       "      <td>0.500000</td>\n",
       "      <td>0.400000</td>\n",
       "      <td>0.000000</td>\n",
       "      <td>0.503113</td>\n",
       "      <td>0.359459</td>\n",
       "      <td>0.397825</td>\n",
       "      <td>0.540848</td>\n",
       "      <td>0.499396</td>\n",
       "      <td>0.651937</td>\n",
       "      <td>0.485663</td>\n",
       "      <td>0.321429</td>\n",
       "      <td>0.425976</td>\n",
       "      <td>0.000000</td>\n",
       "      <td>0.000000</td>\n",
       "      <td>0.000000</td>\n",
       "    </tr>\n",
       "    <tr>\n",
       "      <th>max</th>\n",
       "      <td>1.000000</td>\n",
       "      <td>6.565430</td>\n",
       "      <td>2.876025</td>\n",
       "      <td>1.304031</td>\n",
       "      <td>1.105666</td>\n",
       "      <td>0.823476</td>\n",
       "      <td>1.261729</td>\n",
       "      <td>0.000000</td>\n",
       "      <td>1.000000</td>\n",
       "      <td>1.000000</td>\n",
       "      <td>1.000000</td>\n",
       "      <td>1.000000</td>\n",
       "      <td>1.068738</td>\n",
       "      <td>0.912400</td>\n",
       "      <td>0.833300</td>\n",
       "      <td>34.000000</td>\n",
       "      <td>0.584105</td>\n",
       "      <td>0.000000</td>\n",
       "      <td>1.000000</td>\n",
       "      <td>1.000000</td>\n",
       "      <td>1.000000</td>\n",
       "      <td>0.000000</td>\n",
       "      <td>1.000000</td>\n",
       "      <td>0.000000</td>\n",
       "      <td>1.000000</td>\n",
       "      <td>1.000000</td>\n",
       "      <td>1.000000</td>\n",
       "      <td>1.000000</td>\n",
       "      <td>1.000000</td>\n",
       "      <td>1.000000</td>\n",
       "      <td>1.000000</td>\n",
       "      <td>2.005037</td>\n",
       "      <td>15.000000</td>\n",
       "      <td>2.321429</td>\n",
       "      <td>35.000000</td>\n",
       "      <td>1.500000</td>\n",
       "      <td>2.400000</td>\n",
       "      <td>1.000000</td>\n",
       "      <td>1.672973</td>\n",
       "      <td>0.810811</td>\n",
       "      <td>0.804245</td>\n",
       "      <td>31.349252</td>\n",
       "      <td>2.024220</td>\n",
       "      <td>866.072567</td>\n",
       "      <td>1.066308</td>\n",
       "      <td>13.964286</td>\n",
       "      <td>0.970936</td>\n",
       "      <td>72.250000</td>\n",
       "      <td>1.000000</td>\n",
       "      <td>87.000000</td>\n",
       "    </tr>\n",
       "  </tbody>\n",
       "</table>\n",
       "</div>"
      ],
      "text/plain": [
       "       NAME_CONTRACT_TYPE     AMT_CREDIT  REGION_POPULATION_RELATIVE  \\\n",
       "count       307511.000000  307511.000000               307511.000000   \n",
       "mean             0.095213       0.158721                    0.108169   \n",
       "std              0.293509       0.747221                    0.741345   \n",
       "min              0.000000      -0.869825                   -0.994801   \n",
       "25%              0.000000      -0.452114                   -0.474031   \n",
       "50%              0.000000       0.000000                    0.000000   \n",
       "75%              0.000000       0.547886                    0.525969   \n",
       "max              1.000000       6.565430                    2.876025   \n",
       "\n",
       "        DAYS_BIRTH_x  DAYS_EMPLOYED  DAYS_REGISTRATION  DAYS_ID_PUBLISH  \\\n",
       "count  307511.000000  307511.000000      307511.000000    307511.000000   \n",
       "mean        0.039482      -0.124038          -0.088147         0.100736   \n",
       "std         0.600356       1.083521           0.644097         0.585285   \n",
       "min        -1.136470      -8.037774          -3.687357        -1.528887   \n",
       "25%        -0.459073      -0.370597          -0.544017        -0.405196   \n",
       "50%         0.000000       0.000000           0.000000         0.000000   \n",
       "75%         0.540927       0.629403           0.455983         0.594804   \n",
       "max         1.304031       1.105666           0.823476         1.261729   \n",
       "\n",
       "       FLAG_EMP_PHONE  FLAG_WORK_PHONE  REGION_RATING_CLIENT  \\\n",
       "count   307511.000000    307511.000000         307511.000000   \n",
       "mean        -0.180111         0.199368              0.052463   \n",
       "std          0.384280         0.399526              0.509034   \n",
       "min         -1.000000         0.000000             -1.000000   \n",
       "25%          0.000000         0.000000              0.000000   \n",
       "50%          0.000000         0.000000              0.000000   \n",
       "75%          0.000000         0.000000              0.000000   \n",
       "max          0.000000         1.000000              1.000000   \n",
       "\n",
       "       REG_CITY_NOT_LIVE_CITY  REG_CITY_NOT_WORK_CITY  EXT_SOURCE_2_x  \\\n",
       "count           307511.000000           307511.000000   307511.000000   \n",
       "mean                 0.078173                0.230454       -0.190270   \n",
       "std                  0.268444                0.421124        0.705754   \n",
       "min                  0.000000                0.000000       -2.092680   \n",
       "25%                  0.000000                0.000000       -0.639634   \n",
       "50%                  0.000000                0.000000        0.000000   \n",
       "75%                  0.000000                0.000000        0.360366   \n",
       "max                  1.000000                1.000000        1.068738   \n",
       "\n",
       "       APARTMENTS_AVG  FLOORSMAX_AVG  DEF_30_CNT_SOCIAL_CIRCLE  \\\n",
       "count   307511.000000  307511.000000             307511.000000   \n",
       "mean         0.014697       0.029933                  0.142944   \n",
       "std          0.077412       0.106761                  0.446033   \n",
       "min         -0.087600      -0.166700                  0.000000   \n",
       "25%          0.000000       0.000000                  0.000000   \n",
       "50%          0.000000       0.000000                  0.000000   \n",
       "75%          0.000000       0.000000                  0.000000   \n",
       "max          0.912400       0.833300                 34.000000   \n",
       "\n",
       "       DAYS_LAST_PHONE_CHANGE  FLAG_DOCUMENT_3  FLAG_DOCUMENT_6  \\\n",
       "count           307511.000000    307511.000000    307511.000000   \n",
       "mean                -0.158841        -0.289977         0.088055   \n",
       "std                  0.637969         0.453752         0.283376   \n",
       "min                 -2.727623        -1.000000         0.000000   \n",
       "25%                 -0.627315        -1.000000         0.000000   \n",
       "50%                  0.000000         0.000000         0.000000   \n",
       "75%                  0.372685         0.000000         0.000000   \n",
       "max                  0.584105         0.000000         1.000000   \n",
       "\n",
       "       NAME_INCOME_TYPE_Pensioner  NAME_INCOME_TYPE_State servant  \\\n",
       "count               307511.000000                   307511.000000   \n",
       "mean                     0.180033                        0.070576   \n",
       "std                      0.384215                        0.256116   \n",
       "min                      0.000000                        0.000000   \n",
       "25%                      0.000000                        0.000000   \n",
       "50%                      0.000000                        0.000000   \n",
       "75%                      0.000000                        0.000000   \n",
       "max                      1.000000                        1.000000   \n",
       "\n",
       "       NAME_INCOME_TYPE_Working  NAME_EDUCATION_TYPE_Higher education  \\\n",
       "count             307511.000000                         307511.000000   \n",
       "mean                  -0.483680                              0.243448   \n",
       "std                    0.499734                              0.429164   \n",
       "min                   -1.000000                              0.000000   \n",
       "25%                   -1.000000                              0.000000   \n",
       "50%                    0.000000                              0.000000   \n",
       "75%                    0.000000                              0.000000   \n",
       "max                    0.000000                              1.000000   \n",
       "\n",
       "       NAME_EDUCATION_TYPE_Secondary / secondary special  \\\n",
       "count                                      307511.000000   \n",
       "mean                                           -0.289811   \n",
       "std                                             0.453675   \n",
       "min                                            -1.000000   \n",
       "25%                                            -1.000000   \n",
       "50%                                             0.000000   \n",
       "75%                                             0.000000   \n",
       "max                                             0.000000   \n",
       "\n",
       "       NAME_HOUSING_TYPE_With parents  OCCUPATION_TYPE_Drivers  \\\n",
       "count                   307511.000000            307511.000000   \n",
       "mean                         0.048258                 0.060495   \n",
       "std                          0.214312                 0.238403   \n",
       "min                          0.000000                 0.000000   \n",
       "25%                          0.000000                 0.000000   \n",
       "50%                          0.000000                 0.000000   \n",
       "75%                          0.000000                 0.000000   \n",
       "max                          1.000000                 1.000000   \n",
       "\n",
       "       OCCUPATION_TYPE_Laborers  ORGANIZATION_TYPE_Self-employed  \\\n",
       "count             307511.000000                    307511.000000   \n",
       "mean                   0.179460                         0.124913   \n",
       "std                    0.383738                         0.330620   \n",
       "min                    0.000000                         0.000000   \n",
       "25%                    0.000000                         0.000000   \n",
       "50%                    0.000000                         0.000000   \n",
       "75%                    0.000000                         0.000000   \n",
       "max                    1.000000                         1.000000   \n",
       "\n",
       "       HOUSETYPE_MODE_block of flats  WALLSMATERIAL_MODE_Panel  \\\n",
       "count                  307511.000000             307511.000000   \n",
       "mean                        0.489423                  0.214757   \n",
       "std                         0.499889                  0.410654   \n",
       "min                         0.000000                  0.000000   \n",
       "25%                         0.000000                  0.000000   \n",
       "50%                         0.000000                  0.000000   \n",
       "75%                         1.000000                  0.000000   \n",
       "max                         1.000000                  1.000000   \n",
       "\n",
       "       DAYS_EMPLOYED_ANOM  EXT_SOURCE_2 EXT_SOURCE_3  \\\n",
       "count       307511.000000              307511.000000   \n",
       "mean             0.180072                  -0.015389   \n",
       "std              0.384248                   0.653490   \n",
       "min              0.000000                  -1.258613   \n",
       "25%              0.000000                  -0.537820   \n",
       "50%              0.000000                   0.000000   \n",
       "75%              0.000000                   0.462180   \n",
       "max              1.000000                   2.005037   \n",
       "\n",
       "       bureau_CREDIT_ACTIVE_Active_count  \\\n",
       "count                      307511.000000   \n",
       "mean                            0.024287   \n",
       "std                             0.827524   \n",
       "min                            -1.000000   \n",
       "25%                            -0.500000   \n",
       "50%                             0.000000   \n",
       "75%                             0.500000   \n",
       "max                            15.000000   \n",
       "\n",
       "       bureau_CREDIT_ACTIVE_Active_count_norm  \\\n",
       "count                           307511.000000   \n",
       "mean                                 0.120849   \n",
       "std                                  1.061498   \n",
       "min                                 -1.392857   \n",
       "25%                                 -0.535714   \n",
       "50%                                  0.000000   \n",
       "75%                                  0.464286   \n",
       "max                                  2.321429   \n",
       "\n",
       "       bureau_CREDIT_ACTIVE_Closed_count  \\\n",
       "count                      307511.000000   \n",
       "mean                            0.137946   \n",
       "std                             1.044938   \n",
       "min                            -1.000000   \n",
       "25%                            -0.666667   \n",
       "50%                             0.000000   \n",
       "75%                             0.333333   \n",
       "max                            35.000000   \n",
       "\n",
       "       bureau_CREDIT_ACTIVE_Closed_count_norm  \\\n",
       "count                           307511.000000   \n",
       "mean                                -0.143566   \n",
       "std                                  1.144438   \n",
       "min                                 -2.500000   \n",
       "25%                                 -0.500000   \n",
       "50%                                  0.000000   \n",
       "75%                                  0.500000   \n",
       "max                                  1.500000   \n",
       "\n",
       "       bureau_CREDIT_TYPE_Credit card_count_norm  \\\n",
       "count                              307511.000000   \n",
       "mean                                    0.101928   \n",
       "std                                     0.715526   \n",
       "min                                    -0.600000   \n",
       "25%                                    -0.600000   \n",
       "50%                                     0.000000   \n",
       "75%                                     0.400000   \n",
       "max                                     2.400000   \n",
       "\n",
       "       bureau_CREDIT_TYPE_Microloan_count_norm  bureau_DAYS_CREDIT_mean  \\\n",
       "count                            307511.000000            307511.000000   \n",
       "mean                                  0.003605                -0.044313   \n",
       "std                                   0.042824                 0.830577   \n",
       "min                                   0.000000                -2.980140   \n",
       "25%                                   0.000000                -0.496887   \n",
       "50%                                   0.000000                 0.000000   \n",
       "75%                                   0.000000                 0.503113   \n",
       "max                                   1.000000                 1.672973   \n",
       "\n",
       "       bureau_DAYS_CREDIT_max  bureau_DAYS_CREDIT_sum  \\\n",
       "count           307511.000000           307511.000000   \n",
       "mean                -0.438378               -0.266747   \n",
       "std                  1.356781                0.991586   \n",
       "min                 -7.086486              -13.237151   \n",
       "25%                 -0.640541               -0.602175   \n",
       "50%                  0.000000                0.000000   \n",
       "75%                  0.359459                0.397825   \n",
       "max                  0.810811                0.804245   \n",
       "\n",
       "       bureau_DAYS_CREDIT_ENDDATE_mean  bureau_DAYS_ENDDATE_FACT_mean  \\\n",
       "count                    307511.000000                  307511.000000   \n",
       "mean                          0.669248                      -0.068442   \n",
       "std                           3.039360                       1.011553   \n",
       "min                         -41.760302                     -16.239328   \n",
       "25%                          -0.459152                      -0.500604   \n",
       "50%                           0.000000                       0.000000   \n",
       "75%                           0.540848                       0.499396   \n",
       "max                          31.349252                       2.024220   \n",
       "\n",
       "       bureau_AMT_CREDIT_SUM_mean  bureau_DAYS_CREDIT_UPDATE_mean  \\\n",
       "count               307511.000000                   307511.000000   \n",
       "mean                     0.684699                       -0.119405   \n",
       "std                      3.623397                        0.904580   \n",
       "min                     -0.855701                      -89.049821   \n",
       "25%                     -0.348063                       -0.514337   \n",
       "50%                      0.000000                        0.000000   \n",
       "75%                      0.651937                        0.485663   \n",
       "max                    866.072567                        1.066308   \n",
       "\n",
       "       bureau_DAYS_CREDIT_UPDATE_max  bureau_DAYS_CREDIT_UPDATE_min  \\\n",
       "count                  307511.000000                  307511.000000   \n",
       "mean                       -3.733217                      -0.098340   \n",
       "std                        11.632374                       0.940940   \n",
       "min                     -1495.392857                     -37.140781   \n",
       "25%                        -0.678571                      -0.574024   \n",
       "50%                         0.000000                       0.000000   \n",
       "75%                         0.321429                       0.425976   \n",
       "max                        13.964286                       0.970936   \n",
       "\n",
       "       client_bureau_balance_MONTHS_BALANCE_count_mean  \\\n",
       "count                                    307511.000000   \n",
       "mean                                          0.817973   \n",
       "std                                           9.300091   \n",
       "min                                         -23.750000   \n",
       "25%                                           0.000000   \n",
       "50%                                           0.000000   \n",
       "75%                                           0.000000   \n",
       "max                                          72.250000   \n",
       "\n",
       "       client_bureau_balance_STATUS_1_count_norm_max  \\\n",
       "count                                  307511.000000   \n",
       "mean                                        0.011962   \n",
       "std                                         0.052851   \n",
       "min                                         0.000000   \n",
       "25%                                         0.000000   \n",
       "50%                                         0.000000   \n",
       "75%                                         0.000000   \n",
       "max                                         1.000000   \n",
       "\n",
       "       client_bureau_balance_STATUS_C_count_mean  \n",
       "count                              307511.000000  \n",
       "mean                                    1.191482  \n",
       "std                                     7.846654  \n",
       "min                                    -9.000000  \n",
       "25%                                     0.000000  \n",
       "50%                                     0.000000  \n",
       "75%                                     0.000000  \n",
       "max                                    87.000000  "
      ]
     },
     "execution_count": 134,
     "metadata": {},
     "output_type": "execute_result"
    }
   ],
   "source": [
    "Xprep_no_rus.describe()"
   ]
  },
  {
   "cell_type": "code",
   "execution_count": 135,
   "id": "e663a2f8",
   "metadata": {},
   "outputs": [
    {
     "data": {
      "image/png": "[encoded data removed]",
      "text/plain": [
       "<Figure size 576x972 with 2 Axes>"
      ]
     },
     "metadata": {},
     "output_type": "display_data"
    }
   ],
   "source": [
    "# summarize the effects of top features\n",
    "shap.summary_plot(shapvs[1], Xprep_no_rus.values, Xprep_no_rus.columns, max_display=30)"
   ]
  },
  {
   "cell_type": "markdown",
   "id": "a76bf48c",
   "metadata": {},
   "source": [
    "Plus flag document 3 est faible (bleu), plus la proba de défaut est faible"
   ]
  },
  {
   "cell_type": "markdown",
   "id": "261b6384-2509-4a18-afc1-c3c2c3e756dd",
   "metadata": {},
   "source": [
    "# App_train unprocessed for dahsboard"
   ]
  },
  {
   "cell_type": "markdown",
   "id": "6ef4c20b-fc7a-41c5-baf1-eb2e97200fd0",
   "metadata": {},
   "source": [
    "In the streamlit app, we will display the value of a feature for a client with respect to the average value of this deature for default and non-default clients. The data must therefore be interpretable: imputed but not enconded and not normalized. We select only selected columns for the model"
   ]
  },
  {
   "cell_type": "code",
   "execution_count": 136,
   "id": "85f19613-685c-43f5-bffd-b36ed48d4d55",
   "metadata": {},
   "outputs": [],
   "source": [
    "app_train_selected_cols = ['NAME_CONTRACT_TYPE', 'AMT_CREDIT', 'REGION_POPULATION_RELATIVE',\n",
    "       'DAYS_BIRTH', 'DAYS_EMPLOYED', 'DAYS_REGISTRATION', 'DAYS_ID_PUBLISH',\n",
    "       'FLAG_EMP_PHONE', 'FLAG_WORK_PHONE', 'REGION_RATING_CLIENT',\n",
    "       'REG_CITY_NOT_LIVE_CITY', 'REG_CITY_NOT_WORK_CITY', 'EXT_SOURCE_2',\n",
    "       'APARTMENTS_AVG', 'FLOORSMAX_AVG', 'DEF_30_CNT_SOCIAL_CIRCLE',\n",
    "       'DAYS_LAST_PHONE_CHANGE', 'FLAG_DOCUMENT_3', 'FLAG_DOCUMENT_6',\n",
    "       'NAME_INCOME_TYPE', 'NAME_INCOME_TYPE',\n",
    "       'NAME_INCOME_TYPE', 'NAME_EDUCATION_TYPE',\n",
    "       'NAME_EDUCATION_TYPE',\n",
    "       'NAME_HOUSING_TYPE', 'OCCUPATION_TYPE',\n",
    "       'OCCUPATION_TYPE', 'ORGANIZATION_TYPE',\n",
    "       'HOUSETYPE_MODE', 'WALLSMATERIAL_MODE',\n",
    "        'EXT_SOURCE_3',]"
   ]
  },
  {
   "cell_type": "code",
   "execution_count": 137,
   "id": "5dc9ed02-68a1-4f2d-8f8c-e2c3718eef62",
   "metadata": {},
   "outputs": [],
   "source": [
    "app_train_dash = pd.read_csv('application_train.csv', usecols=app_train_selected_cols)\n",
    "# we need the anom flag for the imputation of DAYS_EMPLOYED\n",
    "app_train_dash['DAYS_EMPLOYED_ANOM'] = train['DAYS_EMPLOYED_ANOM']"
   ]
  },
  {
   "cell_type": "code",
   "execution_count": 138,
   "id": "7920fcb7-7fd5-4090-ac94-e7ba52f2edd6",
   "metadata": {},
   "outputs": [],
   "source": [
    "# Replace the anomalous values with nan\n",
    "app_train_dash.loc[(app_train_dash['DAYS_EMPLOYED'] > 0), 'DAYS_EMPLOYED'] = np.NaN"
   ]
  },
  {
   "cell_type": "markdown",
   "id": "384488bc-02c0-4ad5-b3bb-d9f6d7c20558",
   "metadata": {},
   "source": [
    "## imputation"
   ]
  },
  {
   "cell_type": "markdown",
   "id": "91f52f4b-35bf-4be2-a940-8b9508468e97",
   "metadata": {},
   "source": [
    "### Imputation DAYS_EMPLOYED"
   ]
  },
  {
   "cell_type": "code",
   "execution_count": 139,
   "id": "c0313df6-ddea-406d-a195-92f4af15a4de",
   "metadata": {},
   "outputs": [],
   "source": [
    "# we are going to use the age group of the client for the imputation as well\n",
    "#            70y     60      45      21   \n",
    "age_bins = [-25550, -21900, -16425, -7665, 0]\n",
    "bins_labels = ['60-70', '45-60', '21-45', '0-21']\n",
    "app_train_dash['AGE_GROUP'] = pd.cut(app_train_dash['DAYS_BIRTH'], age_bins, labels=bins_labels)"
   ]
  },
  {
   "cell_type": "code",
   "execution_count": 140,
   "id": "4fc69fd7-6f8f-4f8f-ba83-964e0c4758de",
   "metadata": {},
   "outputs": [],
   "source": [
    "# alternative with custom heavy function that has the advatantage of preveting data leakage without creating a transformer \n",
    "mask_train = app_train_dash['DAYS_EMPLOYED_ANOM'] == True\n",
    "\n",
    "def get_median(NAME_EDUCATION_TYPE, AGE_GROUP, days_employed_medians):\n",
    "    \n",
    "    days_employed_medians = days_employed_medians.loc[(days_employed_medians['NAME_EDUCATION_TYPE'] == NAME_EDUCATION_TYPE) \n",
    "                                                      # & (days_employed_medians['OCCUPATION_TYPE'] == OCCUPATION_TYPE) \n",
    "                                                      & (days_employed_medians['AGE_GROUP'] == AGE_GROUP),:]\n",
    "    \n",
    "    # print(days_employed_medians['DAYS_EMPLOYED'])\n",
    "    return int(days_employed_medians['DAYS_EMPLOYED'])"
   ]
  },
  {
   "cell_type": "code",
   "execution_count": 141,
   "id": "0a89736c-eb70-427a-bfb6-1b4ee7bad7df",
   "metadata": {},
   "outputs": [],
   "source": [
    "app_train_dash.loc[mask_train,'DAYS_EMPLOYED'] = app_train_dash.loc[mask_train,:].apply(lambda x: get_median(x['NAME_EDUCATION_TYPE'], x['AGE_GROUP'], days_employed_medians), axis=1)"
   ]
  },
  {
   "cell_type": "code",
   "execution_count": 142,
   "id": "fcbaa3d5-e688-40db-b1a0-aaa3d69f9b6e",
   "metadata": {},
   "outputs": [],
   "source": [
    "app_train_dash_bu = app_train_dash.copy()"
   ]
  },
  {
   "cell_type": "markdown",
   "id": "ed2e5283-0f61-4fa7-b2f1-4a38775e1f90",
   "metadata": {
    "tags": []
   },
   "source": [
    "### median and mode imputation for the rest"
   ]
  },
  {
   "cell_type": "code",
   "execution_count": 143,
   "id": "c3f43f37-ab37-4752-a9dc-9c178e19ad9b",
   "metadata": {},
   "outputs": [],
   "source": [
    "cat_cols = list(app_train_dash.dtypes[app_train_dash.dtypes=='object'].index)\n",
    "num_cols = list(app_train_dash.dtypes[~(app_train_dash.dtypes=='object')].index)\n",
    "# columns to be considered as categories:\n",
    "for col in ['DAYS_EMPLOYED_ANOM', 'AGE_GROUP', 'FLAG_EMP_PHONE', 'FLAG_WORK_PHONE', 'FLAG_DOCUMENT_3', 'FLAG_DOCUMENT_6', 'REGION_RATING_CLIENT',\n",
    "           'REG_CITY_NOT_LIVE_CITY', 'REG_CITY_NOT_WORK_CITY', 'DEF_30_CNT_SOCIAL_CIRCLE']:\n",
    "    num_cols.remove(col)\n",
    "    cat_cols.append(col)"
   ]
  },
  {
   "cell_type": "markdown",
   "id": "22d69c7c-3f08-4ff0-ab31-abf82e87c713",
   "metadata": {
    "tags": []
   },
   "source": [
    "### median imputation for numeric variables"
   ]
  },
  {
   "cell_type": "code",
   "execution_count": 144,
   "id": "a3238edd-ebf3-4332-b828-01a67bbb6493",
   "metadata": {},
   "outputs": [],
   "source": [
    "def median(s, col):\n",
    "    if pd.isnull(s.median()):\n",
    "        m = app_train_dash[col].median()\n",
    "    else:\n",
    "        m = s.median()\n",
    "    return m"
   ]
  },
  {
   "cell_type": "markdown",
   "id": "759ad8e7-a35e-499f-ba96-8fa74964f81d",
   "metadata": {},
   "source": [
    "Looks like ANOM is causing the error because is bool"
   ]
  },
  {
   "cell_type": "code",
   "execution_count": 145,
   "id": "b355c7cb-76f2-4e9d-929b-2e69a42cd957",
   "metadata": {},
   "outputs": [],
   "source": [
    "for col in num_cols:\n",
    "    if app_train_dash[col].isna().sum() > 0:\n",
    "        app_train_dash[col] = app_train_dash[col].groupby([app_train_dash['NAME_EDUCATION_TYPE'], app_train_dash['AGE_GROUP']],\n",
    "                                                      dropna=False).apply(lambda x: x.fillna(median(x, col)))"
   ]
  },
  {
   "cell_type": "markdown",
   "id": "7e81eccf-146b-4ffd-a04f-eeeaa898902c",
   "metadata": {},
   "source": [
    "### mode imputation for categorial variables "
   ]
  },
  {
   "cell_type": "code",
   "execution_count": 146,
   "id": "bc5dc70b-998f-4baa-a3ce-3626ed92bba3",
   "metadata": {},
   "outputs": [],
   "source": [
    "null_c = 0\n",
    "group_c = 0\n",
    "indexerr_c = 0"
   ]
  },
  {
   "cell_type": "code",
   "execution_count": 147,
   "id": "44a5edbd-2c46-407f-99be-9bc817f71afd",
   "metadata": {},
   "outputs": [],
   "source": [
    "for col in cat_cols:\n",
    "    if app_train_dash[col].isna().sum() > 0:\n",
    "        for name, group in app_train_dash[col].groupby([app_train_dash['NAME_EDUCATION_TYPE'], app_train_dash['AGE_GROUP']],\n",
    "                                                     dropna=False):\n",
    "            if len(group.values) < 2:\n",
    "                indexerr_c=+1\n",
    "            elif pd.isnull(group.mode().any()):\n",
    "                null_c=+1\n",
    "            else:\n",
    "                group_c=+1"
   ]
  },
  {
   "cell_type": "code",
   "execution_count": 148,
   "id": "715634d0-6bef-4256-bc2f-e2763e593e69",
   "metadata": {},
   "outputs": [
    {
     "name": "stdout",
     "output_type": "stream",
     "text": [
      "0\n",
      "1\n",
      "1\n"
     ]
    }
   ],
   "source": [
    "print(null_c)\n",
    "print(group_c)\n",
    "print(indexerr_c)"
   ]
  },
  {
   "cell_type": "code",
   "execution_count": 149,
   "id": "2e17897e-e559-46d3-b274-bde223952aa8",
   "metadata": {},
   "outputs": [
    {
     "data": {
      "text/plain": [
       "\"train['DAYS_EMPLOYED'] =  (train.groupby(['NAME_EDUCATION_TYPE', 'AGE_GROUP'],\\n                                         dropna=False\\n                                        )\\n                                ['DAYS_EMPLOYED'].apply(lambda x: x.fillna(median(x)))\\n                          )\""
      ]
     },
     "execution_count": 149,
     "metadata": {},
     "output_type": "execute_result"
    }
   ],
   "source": [
    "def mode_cats(s, col):\n",
    "    try:\n",
    "        if pd.isnull(s.mode().any()): # check if the mode of the group is NaN or contains NaN \n",
    "                                      # (mode() may return a list of several modes)\n",
    "            m = app_train_dash[col].mode().iloc[0] # returns the mode of the column\n",
    "        else:\n",
    "            m = s.mode().iloc[0]  # returns the mode of the group\n",
    "        return m\n",
    "    except IndexError: # mode returns an empty series if the group consists a single NaN value\n",
    "                       # this causes s.mode().iloc[0] to raise an index error\n",
    "        return app_train_dash[col].mode().iloc[0]\n",
    "\"\"\"train['DAYS_EMPLOYED'] =  (train.groupby(['NAME_EDUCATION_TYPE', 'AGE_GROUP'],\n",
    "                                         dropna=False\n",
    "                                        )\n",
    "                                ['DAYS_EMPLOYED'].apply(lambda x: x.fillna(median(x)))\n",
    "                          )\"\"\""
   ]
  },
  {
   "cell_type": "code",
   "execution_count": 150,
   "id": "15290436-27fd-4e13-b488-09f818188b95",
   "metadata": {
    "tags": []
   },
   "outputs": [],
   "source": [
    "#for col in cat_cols:\n",
    "    #print(app_train_dash[col].groupby([app_train_dash['NAME_EDUCATION_TYPE'], app_train_dash['AGE_GROUP']],\n",
    " #                                                     dropna=False).agg(pd.Series.mode))"
   ]
  },
  {
   "cell_type": "code",
   "execution_count": 151,
   "id": "88b54444-2b8e-47f6-a595-752afd11958d",
   "metadata": {},
   "outputs": [
    {
     "data": {
      "text/plain": [
       "NAME_CONTRACT_TYPE                 0\n",
       "AMT_CREDIT                         0\n",
       "NAME_INCOME_TYPE                   0\n",
       "NAME_EDUCATION_TYPE                0\n",
       "NAME_HOUSING_TYPE                  0\n",
       "REGION_POPULATION_RELATIVE         0\n",
       "DAYS_BIRTH                         0\n",
       "DAYS_EMPLOYED                      0\n",
       "DAYS_REGISTRATION                  0\n",
       "DAYS_ID_PUBLISH                    0\n",
       "FLAG_EMP_PHONE                     0\n",
       "FLAG_WORK_PHONE                    0\n",
       "OCCUPATION_TYPE                96391\n",
       "REGION_RATING_CLIENT               0\n",
       "REG_CITY_NOT_LIVE_CITY             0\n",
       "REG_CITY_NOT_WORK_CITY             0\n",
       "ORGANIZATION_TYPE                  0\n",
       "EXT_SOURCE_2                       0\n",
       "EXT_SOURCE_3                       0\n",
       "APARTMENTS_AVG                     0\n",
       "FLOORSMAX_AVG                      0\n",
       "HOUSETYPE_MODE                154297\n",
       "WALLSMATERIAL_MODE            156341\n",
       "DEF_30_CNT_SOCIAL_CIRCLE        1021\n",
       "DAYS_LAST_PHONE_CHANGE             0\n",
       "FLAG_DOCUMENT_3                    0\n",
       "FLAG_DOCUMENT_6                    0\n",
       "DAYS_EMPLOYED_ANOM                 0\n",
       "AGE_GROUP                          0\n",
       "dtype: int64"
      ]
     },
     "execution_count": 151,
     "metadata": {},
     "output_type": "execute_result"
    }
   ],
   "source": [
    "app_train_dash.isna().sum()"
   ]
  },
  {
   "cell_type": "code",
   "execution_count": 152,
   "id": "c7a219c1-cfc3-4cab-a889-82615f9b0862",
   "metadata": {},
   "outputs": [
    {
     "data": {
      "text/plain": [
       "block of flats      150503\n",
       "specific housing      1499\n",
       "terraced house        1212\n",
       "Name: HOUSETYPE_MODE, dtype: int64"
      ]
     },
     "execution_count": 152,
     "metadata": {},
     "output_type": "execute_result"
    }
   ],
   "source": [
    "app_train_dash['HOUSETYPE_MODE'].value_counts()"
   ]
  },
  {
   "cell_type": "code",
   "execution_count": 153,
   "id": "1f70a834-3caf-43db-b4c4-6333a2cdd9ab",
   "metadata": {},
   "outputs": [
    {
     "name": "stdout",
     "output_type": "stream",
     "text": [
      "OCCUPATION_TYPE\n",
      "HOUSETYPE_MODE\n",
      "WALLSMATERIAL_MODE\n",
      "DEF_30_CNT_SOCIAL_CIRCLE\n"
     ]
    }
   ],
   "source": [
    "for col in cat_cols:\n",
    "    if app_train_dash[col].isna().sum() > 0:\n",
    "        print(col)\n",
    "        app_train_dash[col] = app_train_dash[col].groupby([app_train_dash['NAME_EDUCATION_TYPE'], app_train_dash['AGE_GROUP']],\n",
    "                                                      dropna=False).apply(lambda x: x.fillna(mode_cats(x, col)))"
   ]
  },
  {
   "cell_type": "code",
   "execution_count": 154,
   "id": "86dbc3fe-109a-4de9-97bb-3f11064b1abd",
   "metadata": {},
   "outputs": [
    {
     "data": {
      "text/plain": [
       "'Stone, brick'"
      ]
     },
     "execution_count": 154,
     "metadata": {},
     "output_type": "execute_result"
    }
   ],
   "source": [
    "#app_train_dash['WALLSMATERIAL_MODE'].groupby([app_train_dash['NAME_EDUCATION_TYPE'], app_train_dash['AGE_GROUP']],\n",
    "#                                                      dropna=False).apply(lambda x: x.fillna(mode_cats(x, 'WALLSMATERIAL_MODE')))\n",
    "app_train_dash['WALLSMATERIAL_MODE'].mode().iloc[0]"
   ]
  },
  {
   "cell_type": "code",
   "execution_count": 155,
   "id": "f0c45032-95d9-4ac3-b7f9-6b75622e0fad",
   "metadata": {},
   "outputs": [
    {
     "data": {
      "text/plain": [
       "NAME_CONTRACT_TYPE            0\n",
       "AMT_CREDIT                    0\n",
       "NAME_INCOME_TYPE              0\n",
       "NAME_EDUCATION_TYPE           0\n",
       "NAME_HOUSING_TYPE             0\n",
       "REGION_POPULATION_RELATIVE    0\n",
       "DAYS_BIRTH                    0\n",
       "DAYS_EMPLOYED                 0\n",
       "DAYS_REGISTRATION             0\n",
       "DAYS_ID_PUBLISH               0\n",
       "FLAG_EMP_PHONE                0\n",
       "FLAG_WORK_PHONE               0\n",
       "OCCUPATION_TYPE               0\n",
       "REGION_RATING_CLIENT          0\n",
       "REG_CITY_NOT_LIVE_CITY        0\n",
       "REG_CITY_NOT_WORK_CITY        0\n",
       "ORGANIZATION_TYPE             0\n",
       "EXT_SOURCE_2                  0\n",
       "EXT_SOURCE_3                  0\n",
       "APARTMENTS_AVG                0\n",
       "FLOORSMAX_AVG                 0\n",
       "HOUSETYPE_MODE                0\n",
       "WALLSMATERIAL_MODE            0\n",
       "DEF_30_CNT_SOCIAL_CIRCLE      0\n",
       "DAYS_LAST_PHONE_CHANGE        0\n",
       "FLAG_DOCUMENT_3               0\n",
       "FLAG_DOCUMENT_6               0\n",
       "DAYS_EMPLOYED_ANOM            0\n",
       "AGE_GROUP                     0\n",
       "dtype: int64"
      ]
     },
     "execution_count": 155,
     "metadata": {},
     "output_type": "execute_result"
    }
   ],
   "source": [
    "app_train_dash.isna().sum()"
   ]
  },
  {
   "cell_type": "code",
   "execution_count": 156,
   "id": "74a75439-0c5d-41d4-aff1-569561254979",
   "metadata": {},
   "outputs": [
    {
     "data": {
      "text/plain": [
       "block of flats      304800\n",
       "specific housing      1499\n",
       "terraced house        1212\n",
       "Name: HOUSETYPE_MODE, dtype: int64"
      ]
     },
     "execution_count": 156,
     "metadata": {},
     "output_type": "execute_result"
    }
   ],
   "source": [
    "app_train_dash['HOUSETYPE_MODE'].value_counts()"
   ]
  },
  {
   "cell_type": "markdown",
   "id": "37c9bee7-5313-4a49-9037-b311479463d4",
   "metadata": {},
   "source": [
    "## graphs"
   ]
  },
  {
   "cell_type": "code",
   "execution_count": 157,
   "id": "ffbb2a6b-dec8-400f-a89f-41ebb4082659",
   "metadata": {},
   "outputs": [],
   "source": [
    "# we need the target to use at hue\n",
    "app_train_dash['TARGET'] = train['TARGET']\n",
    "app_train_dash.rename(columns={'TARGET':'Default(1)/No default(0)'}, inplace=True)"
   ]
  },
  {
   "cell_type": "code",
   "execution_count": 158,
   "id": "73e665d3-abbb-4cd2-b093-3d5ffc6e1599",
   "metadata": {},
   "outputs": [
    {
     "data": {
      "text/plain": [
       "count    307511.000000\n",
       "mean      -2408.990189\n",
       "std        2122.617353\n",
       "min      -17912.000000\n",
       "25%       -2892.000000\n",
       "50%       -2166.000000\n",
       "75%        -933.000000\n",
       "max           0.000000\n",
       "Name: DAYS_EMPLOYED, dtype: float64"
      ]
     },
     "execution_count": 158,
     "metadata": {},
     "output_type": "execute_result"
    }
   ],
   "source": [
    "app_train_dash['DAYS_EMPLOYED'].describe()"
   ]
  },
  {
   "cell_type": "code",
   "execution_count": 159,
   "id": "b37214df-82c6-458d-a5fc-12de5a712315",
   "metadata": {},
   "outputs": [
    {
     "data": {
      "image/png": "[encoded data removed]",
      "text/plain": [
       "<Figure size 720x432 with 1 Axes>"
      ]
     },
     "metadata": {},
     "output_type": "display_data"
    }
   ],
   "source": [
    "def kde_plot_num_var(data=None, x=None, y=None):\n",
    "    set_style_pers()\n",
    "    sns.boxplot(data=data, x=x, y=y, showfliers=False)\n",
    "    plt.title(\"Average value of feature between 'default' and 'non default' clients\",  fontsize=18)\n",
    "    plt.ylabel('{}'.format(y))\n",
    "    \n",
    "kde_plot_num_var(app_train_dash,'Default(1)/No default(0)', 'DAYS_EMPLOYED')"
   ]
  },
  {
   "cell_type": "code",
   "execution_count": 160,
   "id": "e34bf89e-39cd-40a1-b53e-8f5bc04d883b",
   "metadata": {},
   "outputs": [
    {
     "data": {
      "image/png": "[encoded data removed]",
      "text/plain": [
       "<Figure size 720x432 with 1 Axes>"
      ]
     },
     "metadata": {},
     "output_type": "display_data"
    }
   ],
   "source": [
    "def bar_plot_cat_var(data=None, x=None, hue=None):\n",
    "    barPerc(data,\n",
    "            x,\n",
    "            sns.countplot(data=data,x=x, hue=hue))\n",
    "    plt.title(\"proportion of clients 'default' and 'non default' per modality of the feature\",  fontsize=18)\n",
    "    plt.ylabel('Proportion of clients');\n",
    "    \n",
    "bar_plot_cat_var(app_train_dash, 'WALLSMATERIAL_MODE', 'Default(1)/No default(0)')"
   ]
  },
  {
   "cell_type": "markdown",
   "id": "254d494e",
   "metadata": {
    "tags": []
   },
   "source": [
    "# Pickling train data, explainer and model"
   ]
  },
  {
   "cell_type": "code",
   "execution_count": 161,
   "id": "83f88873",
   "metadata": {},
   "outputs": [],
   "source": [
    "# exporting train data\n",
    "app_train_dash.to_csv(\"C:/Users/VP/Google Drive/Education/OC/working_directory/P7/train.csv\")\n",
    "\n",
    "# exporting preprocessed train data (for shap plots) (excluding step RUS beacuse this step was only useful to balance classes \n",
    "# to train the model and the explainer\n",
    "# adding SK_CURR_ID column to the data to filter by client in streamlit app\n",
    "Xprep_no_rus = pd.concat([Xprep_no_rus, train['SK_ID_CURR']], axis=1)\n",
    "Xprep_no_rus.to_csv(\"C:/Users/VP/Google Drive/Education/OC/working_directory/P7/prep_train.csv\") \n",
    "# exporting num and cat_cols for average graphs\n",
    "num_cat_cols = [num_cols, cat_cols]\n",
    "with open(\"C:/Users/VP/Google Drive/Education/OC/working_directory/P7/Credit_granting_CS_Streamlit/data/num_cat_cols.pkl\", \"wb\") as f:\n",
    "    dill.dump(num_cat_cols, f)\n",
    "# exporting explainer and shap values\n",
    "explainer_shapvs = [explainer, shapvs]\n",
    "# write_file(explainer_shapvs, \"C:/Users/VP/Google Drive/Education/OC/working_directory/P7/Credit_granting_CS_Streamlit/\", \"explainer_shapvs\")\n",
    "with open(\"C:/Users/VP/Google Drive/Education/OC/working_directory/P7/Credit_granting_CS_Streamlit/data/explainer_shapvs.pkl\", \"wb\") as f:\n",
    "    dill.dump(explainer_shapvs, f)\n",
    "# exporting final model\n",
    "# write_file(best_pipe, \"C:/Users/VP/Google Drive/Education/OC/working_directory/P7/Credit_granting_CS_Streamlit/\", \"model\")\n",
    "with open(\"C:/Users/VP/Google Drive/Education/OC/working_directory/P7/Credit_granting_CS_Streamlit/data/pipe.pkl\", \"wb\") as f:\n",
    "    dill.dump(best_pipe, f)"
   ]
  }
 ],
 "metadata": {
  "kernelspec": {
   "display_name": "env_p7",
   "language": "python",
   "name": "env_p7"
  },
  "language_info": {
   "codemirror_mode": {
    "name": "ipython",
    "version": 3
   },
   "file_extension": ".py",
   "mimetype": "text/x-python",
   "name": "python",
   "nbconvert_exporter": "python",
   "pygments_lexer": "ipython3",
   "version": "3.8.11"
  }
 },
 "nbformat": 4,
 "nbformat_minor": 5
}
