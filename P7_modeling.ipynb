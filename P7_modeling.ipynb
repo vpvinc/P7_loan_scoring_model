{
 "cells": [
  {
   "cell_type": "markdown",
   "id": "5ff6694b-18d7-4cb4-9fe7-6f939a34edf8",
   "metadata": {},
   "source": [
    "USE VENV_1 AS A KERNEL"
   ]
  },
  {
   "cell_type": "markdown",
   "id": "2f45c2f5-960f-4fc5-8ccd-3b28c3ac8bf1",
   "metadata": {},
   "source": [
    "This notebook is exploits the cleaned and agregated dataset built in notebook P7_EDA to design a model predicting credit default while minimizing the rate of false negatives.\n",
    "A SHAP explainer is built and fitted on the final model to be used for prediction interpration in the final streamlit dashboard.\n",
    "\n",
    "Bothe the fitted explainer and the fitted final model are saved locally to be used in the streamlit dashboard"
   ]
  },
  {
   "cell_type": "markdown",
   "id": "504ce2cc",
   "metadata": {},
   "source": [
    "## importing libraries and custom functions"
   ]
  },
  {
   "cell_type": "code",
   "execution_count": 167,
   "id": "afa93302",
   "metadata": {},
   "outputs": [],
   "source": [
    "seed = 42\n",
    "\n",
    "import numpy as np\n",
    "import pandas as pd\n",
    "import os\n",
    "import re\n",
    "import random\n",
    "import matplotlib\n",
    "import matplotlib.pyplot as plt\n",
    "%matplotlib inline\n",
    "\n",
    "import seaborn as sns\n",
    "sns.set()\n",
    "plt.rc('figure', figsize=(10, 6))\n",
    "\n",
    "import pickle\n",
    "import IPython.display"
   ]
  },
  {
   "cell_type": "code",
   "execution_count": 168,
   "id": "1d239ee7",
   "metadata": {},
   "outputs": [],
   "source": [
    "\"\"\"display options\"\"\"\n",
    "\n",
    "pd.set_option('display.max_rows', 100)\n",
    "pd.set_option('display.max_columns', None)\n",
    "# pd.set_option('display.width', None)\n",
    "pd.set_option('display.max_colwidth', None)\n",
    "# pd.reset_option(\"max_colwidth\")"
   ]
  },
  {
   "cell_type": "code",
   "execution_count": 169,
   "id": "751fac20",
   "metadata": {},
   "outputs": [
    {
     "name": "stdout",
     "output_type": "stream",
     "text": [
      "\n",
      "# plot params\n",
      "- set_style_pers\n",
      "\n",
      "# EDA functions\n",
      " ## multiple dfs exploration\n",
      "- dfs_insight\n",
      " ## univariate analysis\n",
      "- plot_cont_kde\n",
      "- plot_cat_countplot\n",
      "# Clustering functions\n",
      "- radar_ploting_clustering\n",
      "\n"
     ]
    },
    {
     "data": {
      "text/plain": [
       "<Figure size 720x432 with 0 Axes>"
      ]
     },
     "metadata": {},
     "output_type": "display_data"
    }
   ],
   "source": [
    "\"\"\"Importing functions and style params\"\"\"\n",
    "os.chdir('C:/Users/VP/Google Drive/Education/OC/working_directory/personal_modules')\n",
    "%run -i useful_functions.py"
   ]
  },
  {
   "cell_type": "markdown",
   "id": "08f9f6f2",
   "metadata": {},
   "source": [
    "# Importing datasets after EDA"
   ]
  },
  {
   "cell_type": "markdown",
   "id": "b77ff9cb",
   "metadata": {},
   "source": [
    "these datasets have been cleaned from outliers for DAYS_BIRTH, cat variables have been onehotencoded or labelencoded (card <= 2) and variables correlated at more than 0.8 were removed"
   ]
  },
  {
   "cell_type": "code",
   "execution_count": 170,
   "id": "76eb2845",
   "metadata": {},
   "outputs": [],
   "source": [
    "with open(\"D:/Dowloads_D/Data_OC/P7/uncorr_data.txt\", 'rb') as fic:\n",
    "    mon_depickler = pickle.Unpickler(fic)\n",
    "    loaded = mon_depickler.load()\n",
    "\n",
    "train, test = loaded"
   ]
  },
  {
   "cell_type": "code",
   "execution_count": 171,
   "id": "588ecd70",
   "metadata": {},
   "outputs": [],
   "source": [
    "dfs_dict= dict()\n",
    "dfs_dict[\"train\"] = train\n",
    "dfs_dict[\"test\"] = test"
   ]
  },
  {
   "cell_type": "code",
   "execution_count": 291,
   "id": "651e92d0-69d9-4087-b298-dac4f7c6a984",
   "metadata": {},
   "outputs": [
    {
     "data": {
      "text/plain": [
       "(48744, 315)"
      ]
     },
     "execution_count": 291,
     "metadata": {},
     "output_type": "execute_result"
    }
   ],
   "source": [
    "test.shape"
   ]
  },
  {
   "cell_type": "markdown",
   "id": "cf2b90d0",
   "metadata": {},
   "source": [
    "# Particular case, imputation of Days_Employed"
   ]
  },
  {
   "cell_type": "markdown",
   "id": "350eab67",
   "metadata": {},
   "source": [
    "During the EDA, we spotted 55474 clients with an aberrant number of days_employed, we replaced it by NaN and flagged them with a column DAYS_EMPLOYED_ANOM.\n",
    "We are now imputing them with the median of the following group: NAME_EDUCATION_TYPE>OCCUPATION_TYPE>AGE_GROUP (last one to be created below)"
   ]
  },
  {
   "cell_type": "code",
   "execution_count": 172,
   "id": "baba8d71",
   "metadata": {},
   "outputs": [],
   "source": [
    "# to deep dive in EDA: there are three DAYS_EMPLOYED that are NaN but that are flagged as False, we correct it below:\n",
    "# train.loc[(train['DAYS_EMPLOYED'].isna() == True) & (train['DAYS_EMPLOYED_ANOM'] == False), 'DAYS_EMPLOYED_ANOM'] = True\n",
    "# train.loc[(train['DAYS_EMPLOYED'].isna() == True), 'DAYS_EMPLOYED_ANOM'] == True\n",
    "# check done in EDA; looks ok, probably a punctual mistake"
   ]
  },
  {
   "cell_type": "code",
   "execution_count": 173,
   "id": "d0f7ae00",
   "metadata": {},
   "outputs": [],
   "source": [
    "# we need categorical variables not encoded to compute this median\n",
    "os.chdir('D:/Dowloads_D/Data_OC/P7' )\n",
    "app_test_impute = pd.read_csv('application_test.csv', usecols=['SK_ID_CURR', 'NAME_EDUCATION_TYPE','DAYS_BIRTH', 'DAYS_EMPLOYED'])\n",
    "app_train_impute = pd.read_csv('application_train.csv', usecols=['SK_ID_CURR', 'NAME_EDUCATION_TYPE','DAYS_BIRTH', 'DAYS_EMPLOYED'])"
   ]
  },
  {
   "cell_type": "code",
   "execution_count": 174,
   "id": "830ab70e",
   "metadata": {},
   "outputs": [],
   "source": [
    "# we are going to use the age group of the client for the imputation as well\n",
    "#            70y     60      45      21   \n",
    "age_bins = [-25550, -21900, -16425, -7665, 0]\n",
    "bins_labels = ['60-70', '45-60', '21-45', '0-21']\n",
    "app_train_impute['AGE_GROUP'] = pd.cut(app_train_impute['DAYS_BIRTH'], age_bins, labels=bins_labels)\n",
    "app_test_impute['AGE_GROUP'] = pd.cut(app_test_impute['DAYS_BIRTH'], age_bins, labels=bins_labels)"
   ]
  },
  {
   "cell_type": "code",
   "execution_count": 175,
   "id": "0adc5707",
   "metadata": {},
   "outputs": [
    {
     "data": {
      "text/html": [
       "<div>\n",
       "<style scoped>\n",
       "    .dataframe tbody tr th:only-of-type {\n",
       "        vertical-align: middle;\n",
       "    }\n",
       "\n",
       "    .dataframe tbody tr th {\n",
       "        vertical-align: top;\n",
       "    }\n",
       "\n",
       "    .dataframe thead th {\n",
       "        text-align: right;\n",
       "    }\n",
       "</style>\n",
       "<table border=\"1\" class=\"dataframe\">\n",
       "  <thead>\n",
       "    <tr style=\"text-align: right;\">\n",
       "      <th></th>\n",
       "      <th>NAME_EDUCATION_TYPE</th>\n",
       "      <th>AGE_GROUP</th>\n",
       "      <th>DAYS_EMPLOYED</th>\n",
       "    </tr>\n",
       "  </thead>\n",
       "  <tbody>\n",
       "    <tr>\n",
       "      <th>0</th>\n",
       "      <td>Academic degree</td>\n",
       "      <td>60-70</td>\n",
       "      <td>365243.0</td>\n",
       "    </tr>\n",
       "    <tr>\n",
       "      <th>1</th>\n",
       "      <td>Academic degree</td>\n",
       "      <td>45-60</td>\n",
       "      <td>-1552.0</td>\n",
       "    </tr>\n",
       "    <tr>\n",
       "      <th>2</th>\n",
       "      <td>Academic degree</td>\n",
       "      <td>21-45</td>\n",
       "      <td>-1846.0</td>\n",
       "    </tr>\n",
       "    <tr>\n",
       "      <th>4</th>\n",
       "      <td>Higher education</td>\n",
       "      <td>60-70</td>\n",
       "      <td>365243.0</td>\n",
       "    </tr>\n",
       "    <tr>\n",
       "      <th>5</th>\n",
       "      <td>Higher education</td>\n",
       "      <td>45-60</td>\n",
       "      <td>-1762.0</td>\n",
       "    </tr>\n",
       "    <tr>\n",
       "      <th>6</th>\n",
       "      <td>Higher education</td>\n",
       "      <td>21-45</td>\n",
       "      <td>-1435.0</td>\n",
       "    </tr>\n",
       "    <tr>\n",
       "      <th>8</th>\n",
       "      <td>Incomplete higher</td>\n",
       "      <td>60-70</td>\n",
       "      <td>365243.0</td>\n",
       "    </tr>\n",
       "    <tr>\n",
       "      <th>9</th>\n",
       "      <td>Incomplete higher</td>\n",
       "      <td>45-60</td>\n",
       "      <td>-1588.0</td>\n",
       "    </tr>\n",
       "    <tr>\n",
       "      <th>10</th>\n",
       "      <td>Incomplete higher</td>\n",
       "      <td>21-45</td>\n",
       "      <td>-1109.0</td>\n",
       "    </tr>\n",
       "    <tr>\n",
       "      <th>12</th>\n",
       "      <td>Lower secondary</td>\n",
       "      <td>60-70</td>\n",
       "      <td>365243.0</td>\n",
       "    </tr>\n",
       "    <tr>\n",
       "      <th>13</th>\n",
       "      <td>Lower secondary</td>\n",
       "      <td>45-60</td>\n",
       "      <td>-220.0</td>\n",
       "    </tr>\n",
       "    <tr>\n",
       "      <th>14</th>\n",
       "      <td>Lower secondary</td>\n",
       "      <td>21-45</td>\n",
       "      <td>-1256.0</td>\n",
       "    </tr>\n",
       "    <tr>\n",
       "      <th>16</th>\n",
       "      <td>Secondary / secondary special</td>\n",
       "      <td>60-70</td>\n",
       "      <td>365243.0</td>\n",
       "    </tr>\n",
       "    <tr>\n",
       "      <th>17</th>\n",
       "      <td>Secondary / secondary special</td>\n",
       "      <td>45-60</td>\n",
       "      <td>-1354.0</td>\n",
       "    </tr>\n",
       "    <tr>\n",
       "      <th>18</th>\n",
       "      <td>Secondary / secondary special</td>\n",
       "      <td>21-45</td>\n",
       "      <td>-1430.0</td>\n",
       "    </tr>\n",
       "    <tr>\n",
       "      <th>19</th>\n",
       "      <td>Secondary / secondary special</td>\n",
       "      <td>0-21</td>\n",
       "      <td>-797.0</td>\n",
       "    </tr>\n",
       "  </tbody>\n",
       "</table>\n",
       "</div>"
      ],
      "text/plain": [
       "              NAME_EDUCATION_TYPE AGE_GROUP  DAYS_EMPLOYED\n",
       "0                 Academic degree     60-70       365243.0\n",
       "1                 Academic degree     45-60        -1552.0\n",
       "2                 Academic degree     21-45        -1846.0\n",
       "4                Higher education     60-70       365243.0\n",
       "5                Higher education     45-60        -1762.0\n",
       "6                Higher education     21-45        -1435.0\n",
       "8               Incomplete higher     60-70       365243.0\n",
       "9               Incomplete higher     45-60        -1588.0\n",
       "10              Incomplete higher     21-45        -1109.0\n",
       "12                Lower secondary     60-70       365243.0\n",
       "13                Lower secondary     45-60         -220.0\n",
       "14                Lower secondary     21-45        -1256.0\n",
       "16  Secondary / secondary special     60-70       365243.0\n",
       "17  Secondary / secondary special     45-60        -1354.0\n",
       "18  Secondary / secondary special     21-45        -1430.0\n",
       "19  Secondary / secondary special      0-21         -797.0"
      ]
     },
     "execution_count": 175,
     "metadata": {},
     "output_type": "execute_result"
    }
   ],
   "source": [
    "# we build our table of median per group using the train data (data leakage)\n",
    "days_employed_medians = app_train_impute[['NAME_EDUCATION_TYPE', 'AGE_GROUP', 'DAYS_EMPLOYED']].groupby(['NAME_EDUCATION_TYPE', 'AGE_GROUP']).median().reset_index()\n",
    "days_employed_medians.dropna(how='any', inplace=True)\n",
    "days_employed_medians"
   ]
  },
  {
   "cell_type": "code",
   "execution_count": 176,
   "id": "3a0f5b9f",
   "metadata": {},
   "outputs": [],
   "source": [
    "# we add non encoded grouping features to the train and test datasets to use them in the GroupBy\n",
    "train['NAME_EDUCATION_TYPE'] = app_train_impute['NAME_EDUCATION_TYPE']\n",
    "train['AGE_GROUP'] = app_train_impute['AGE_GROUP']\n",
    "\n",
    "test['NAME_EDUCATION_TYPE'] = app_test_impute['NAME_EDUCATION_TYPE']\n",
    "test['AGE_GROUP'] = app_test_impute['AGE_GROUP']"
   ]
  },
  {
   "cell_type": "code",
   "execution_count": 177,
   "id": "d69cd340",
   "metadata": {},
   "outputs": [],
   "source": [
    "# alternative with custom heavy function that has the advatantage of preveting data leakage without creating a transformer \n",
    "mask_train = (train['DAYS_EMPLOYED_ANOM'] == True)\n",
    "mask_test = (test['DAYS_EMPLOYED_ANOM'] == True)\n",
    "\n",
    "def get_median(NAME_EDUCATION_TYPE, AGE_GROUP, days_employed_medians):\n",
    "    \n",
    "    days_employed_medians = days_employed_medians.loc[(days_employed_medians['NAME_EDUCATION_TYPE'] == NAME_EDUCATION_TYPE) \n",
    "                                                      # & (days_employed_medians['OCCUPATION_TYPE'] == OCCUPATION_TYPE) \n",
    "                                                      & (days_employed_medians['AGE_GROUP'] == AGE_GROUP),:]\n",
    "    \n",
    "    # print(days_employed_medians['DAYS_EMPLOYED'])\n",
    "    return int(days_employed_medians['DAYS_EMPLOYED'])"
   ]
  },
  {
   "cell_type": "code",
   "execution_count": 178,
   "id": "9988f2cf",
   "metadata": {},
   "outputs": [],
   "source": [
    "train.loc[mask_train,'DAYS_EMPLOYED'] = train.loc[mask_train,:].apply(lambda x: get_median(x['NAME_EDUCATION_TYPE'], x['AGE_GROUP'], days_employed_medians), axis=1)\n",
    "test.loc[mask_test,'DAYS_EMPLOYED'] = test.loc[mask_test,:].apply(lambda x: get_median(x['NAME_EDUCATION_TYPE'], x['AGE_GROUP'], days_employed_medians), axis=1)"
   ]
  },
  {
   "cell_type": "code",
   "execution_count": 179,
   "id": "538b0e03",
   "metadata": {},
   "outputs": [],
   "source": [
    "# imputation using pandas (faster)\n",
    "# fill_median = lambda g: g.fillna(g.median())\n",
    "# train.loc[train['DAYS_EMPLOYED_ANOM'] == True,'DAYS_EMPLOYED'] = train.groupby(['NAME_EDUCATION_TYPE', 'AGE_GROUP'])['DAYS_EMPLOYED'].apply(fill_median)"
   ]
  },
  {
   "cell_type": "code",
   "execution_count": 180,
   "id": "4f6a5d81",
   "metadata": {},
   "outputs": [
    {
     "data": {
      "text/plain": [
       "\"\\ndef median(s):\\n    m = s.median()\\n    if np.isnan(m):\\n        m = train['DAYS_EMPLOYED'].median()\\n    return m\\ntrain['DAYS_EMPLOYED'] =  (train.groupby(['NAME_EDUCATION_TYPE', 'AGE_GROUP'],\\n                                         dropna=False\\n                                        )\\n                                ['DAYS_EMPLOYED'].apply(lambda x: x.fillna(median(x)))\\n                          )\\n\""
      ]
     },
     "execution_count": 180,
     "metadata": {},
     "output_type": "execute_result"
    }
   ],
   "source": [
    "# imputation using pandas (faster) + use of general median in case of median equal to NaN for the group\n",
    "\"\"\"\n",
    "def median(s):\n",
    "    m = s.median()\n",
    "    if np.isnan(m):\n",
    "        m = train['DAYS_EMPLOYED'].median()\n",
    "    return m\n",
    "train['DAYS_EMPLOYED'] =  (train.groupby(['NAME_EDUCATION_TYPE', 'AGE_GROUP'],\n",
    "                                         dropna=False\n",
    "                                        )\n",
    "                                ['DAYS_EMPLOYED'].apply(lambda x: x.fillna(median(x)))\n",
    "                          )\n",
    "\"\"\""
   ]
  },
  {
   "cell_type": "code",
   "execution_count": 181,
   "id": "57baaa6d",
   "metadata": {},
   "outputs": [],
   "source": [
    "# droping cat columns used for imputation\n",
    "train.drop(['NAME_EDUCATION_TYPE', 'AGE_GROUP'], axis=1, inplace=True)\n",
    "# droping another useless column\n",
    "# train.drop(['1'], axis=1, inplace=True)\n",
    "\n",
    "test.drop(['NAME_EDUCATION_TYPE', 'AGE_GROUP'], axis=1, inplace=True)\n",
    "# droping another useless column\n",
    "# test.drop(['1'], axis=1, inplace=True)"
   ]
  },
  {
   "cell_type": "markdown",
   "id": "a717d1ec-e9a6-4ae0-b500-7d7845452d24",
   "metadata": {},
   "source": [
    "# Preprocessing pipeline"
   ]
  },
  {
   "cell_type": "markdown",
   "id": "bc3517a7-2049-4187-ac4d-74609c8ae201",
   "metadata": {},
   "source": [
    "# sampling dataset for cross validation"
   ]
  },
  {
   "cell_type": "code",
   "execution_count": 182,
   "id": "a2fd92be-e019-4099-955e-7d58270be515",
   "metadata": {},
   "outputs": [],
   "source": [
    "from sklearn.model_selection import train_test_split"
   ]
  },
  {
   "cell_type": "code",
   "execution_count": 183,
   "id": "a4873c17-113c-42af-9fde-30e48fe0e36f",
   "metadata": {},
   "outputs": [],
   "source": [
    "# sampling the train dataset to make the CV faster, stratifying as per TARGET\n",
    "train_sample, val_sample = train_test_split(train, test_size=0.90, stratify=train['TARGET'], random_state=seed)"
   ]
  },
  {
   "cell_type": "code",
   "execution_count": 184,
   "id": "30bec212-fd42-44b8-af5d-57b2fcd1e486",
   "metadata": {},
   "outputs": [
    {
     "data": {
      "text/plain": [
       "0    28269\n",
       "1     2482\n",
       "Name: TARGET, dtype: int64"
      ]
     },
     "execution_count": 184,
     "metadata": {},
     "output_type": "execute_result"
    }
   ],
   "source": [
    "target_count = train_sample['TARGET'].value_counts()\n",
    "target_count"
   ]
  },
  {
   "cell_type": "code",
   "execution_count": null,
   "id": "45d4e5f8-c5d5-4407-bd35-27626257ecca",
   "metadata": {},
   "outputs": [],
   "source": []
  },
  {
   "cell_type": "code",
   "execution_count": 185,
   "id": "e224c1e7-fbe7-43fd-8d95-9fad1fa3df1f",
   "metadata": {},
   "outputs": [
    {
     "data": {
      "image/png": "[encoded data removed]",
      "text/plain": [
       "<Figure size 720x432 with 1 Axes>"
      ]
     },
     "metadata": {},
     "output_type": "display_data"
    }
   ],
   "source": [
    "sns.barplot(x=target_count.index, y=target_count.values)\n",
    "\n",
    "for p in plt.gca().patches:\n",
    "    plt.gca().annotate(\"{:.1%} \\n {}\".format(round(p.get_height() / sum(target_count.values), 1)\n",
    "                                             , round(p.get_height()))                             # % and count\n",
    "                        , (p.get_x()+0.4, p.get_height()+2000)                                    # position\n",
    "                        , ha='center', va='top', color='k', size=18)                              # kwargs\n",
    "    \n",
    "plt.title('Distribution of TARGET after Sampling', fontsize=25);"
   ]
  },
  {
   "cell_type": "markdown",
   "id": "4be21e38",
   "metadata": {},
   "source": [
    "## imputation transform"
   ]
  },
  {
   "cell_type": "markdown",
   "id": "f3cddcbb",
   "metadata": {},
   "source": [
    "We are building different imputers to find the best one. Note that categorical variables are now numeric thanks to encoding, so no need to applied a separate treatment"
   ]
  },
  {
   "cell_type": "code",
   "execution_count": 186,
   "id": "77efacbb",
   "metadata": {},
   "outputs": [],
   "source": [
    "from sklearn.impute import SimpleImputer"
   ]
  },
  {
   "cell_type": "code",
   "execution_count": 187,
   "id": "3d0419dd",
   "metadata": {},
   "outputs": [],
   "source": [
    "median_imputer = SimpleImputer(strategy='median')\n",
    "mean_imputer = SimpleImputer(strategy='mean')\n",
    "zero_imputer = SimpleImputer(strategy='constant')"
   ]
  },
  {
   "cell_type": "markdown",
   "id": "84c7627c",
   "metadata": {},
   "source": [
    "### Custom imputer"
   ]
  },
  {
   "cell_type": "markdown",
   "id": "cecf062e",
   "metadata": {},
   "source": [
    "We are going to create a custom transformer that will apply two distinct treatments, either 0 for for selected variables or the the median by  for all the other variables"
   ]
  },
  {
   "cell_type": "code",
   "execution_count": 188,
   "id": "e3aea702",
   "metadata": {},
   "outputs": [
    {
     "data": {
      "text/plain": [
       "COMMONAREA_AVG                              214865\n",
       "NONLIVINGAPARTMENTS_AVG                     213514\n",
       "FLOORSMIN_AVG                               208642\n",
       "YEARS_BUILD_AVG                             204488\n",
       "OWN_CAR_AGE                                 202929\n",
       "LANDAREA_AVG                                182590\n",
       "BASEMENTAREA_AVG                            179943\n",
       "NONLIVINGAREA_AVG                           169682\n",
       "APARTMENTS_AVG                              156061\n",
       "ENTRANCES_AVG                               154828\n",
       "FLOORSMAX_AVG                               153020\n",
       "YEARS_BEGINEXPLUATATION_AVG                 150007\n",
       "AMT_REQ_CREDIT_BUREAU_HOUR                   41519\n",
       "AMT_REQ_CREDIT_BUREAU_YEAR                   41519\n",
       "AMT_REQ_CREDIT_BUREAU_DAY                    41519\n",
       "AMT_REQ_CREDIT_BUREAU_WEEK                   41519\n",
       "AMT_REQ_CREDIT_BUREAU_MON                    41519\n",
       "AMT_REQ_CREDIT_BUREAU_QRT                    41519\n",
       "DEF_30_CNT_SOCIAL_CIRCLE                      1021\n",
       "OBS_30_CNT_SOCIAL_CIRCLE                      1021\n",
       "EXT_SOURCE_2_x                                 660\n",
       "AMT_ANNUITY                                     12\n",
       "DAYS_LAST_PHONE_CHANGE                           1\n",
       "ORGANIZATION_TYPE_Business Entity Type 3         0\n",
       "ORGANIZATION_TYPE_Industry: type 8               0\n",
       "ORGANIZATION_TYPE_Industry: type 2               0\n",
       "ORGANIZATION_TYPE_Industry: type 3               0\n",
       "ORGANIZATION_TYPE_Industry: type 4               0\n",
       "ORGANIZATION_TYPE_Industry: type 5               0\n",
       "ORGANIZATION_TYPE_Industry: type 6               0\n",
       "dtype: int64"
      ]
     },
     "execution_count": 188,
     "metadata": {},
     "output_type": "execute_result"
    }
   ],
   "source": [
    "train[[col for col in train.columns if 'bureau' not in col]].isna().sum().sort_values(ascending=False).head(30)"
   ]
  },
  {
   "cell_type": "markdown",
   "id": "f9755824",
   "metadata": {},
   "source": [
    "EXT_SOURCE_2_x has 0.2% of NaN, so we can impute it with median despite its correlation to the target without running the risk of biasing the dataset"
   ]
  },
  {
   "cell_type": "code",
   "execution_count": 189,
   "id": "c093c80e",
   "metadata": {},
   "outputs": [],
   "source": [
    "# variables where NaN will be replaced by 0\n",
    "zero_imputed_cols = [\n",
    "       *list(train[[col for col in train.columns if 'bureau' in col]].isna().mean().sort_values(ascending=False).index) # all variables to the bureau datasets, NaN are all the clients of app train that had no history in the bueau datasets, so 0 is a relevant choice\n",
    "        , 'COMMONAREA_AVG' # if the person is not living in a common area, 0 would be logical\n",
    "        , 'YEARS_BUILD_AVG'\n",
    "        , 'OWN_CAR_AGE'   # NaN probably means client does not own a car\n",
    "        , 'YEARS_BEGINEXPLUATATION_AVG'\n",
    "        , 'AMT_REQ_CREDIT_BUREAU_HOUR'  # number of enquiries made about a client to credit bureau, NaN means probably no inquiries were made\n",
    "        , 'AMT_REQ_CREDIT_BUREAU_DAY'\n",
    "        , 'AMT_REQ_CREDIT_BUREAU_WEEK'\n",
    "        , 'AMT_REQ_CREDIT_BUREAU_MON'\n",
    "        , 'AMT_REQ_CREDIT_BUREAU_QRT'\n",
    "        , 'AMT_REQ_CREDIT_BUREAU_YEAR'\n",
    "        , 'DEF_30_CNT_SOCIAL_CIRCLE'   # NaN probably means no observations\n",
    "        , 'OBS_30_CNT_SOCIAL_CIRCLE'\n",
    "    \n",
    "]\n",
    "\n",
    "# variables where NaN will be replaced by median\n",
    "non_zero_imputed_cols = [col for col in train.columns if col not in zero_imputed_cols]"
   ]
  },
  {
   "cell_type": "code",
   "execution_count": 190,
   "id": "ba559061",
   "metadata": {},
   "outputs": [],
   "source": [
    "from sklearn.compose import ColumnTransformer\n",
    "cust_imputer = ColumnTransformer([\n",
    "      (\"zero_imputer\", SimpleImputer(strategy='constant'), zero_imputed_cols)\n",
    "    , (\"median\", SimpleImputer(strategy='median'), non_zero_imputed_cols)\n",
    "], remainder='passthrough')"
   ]
  },
  {
   "cell_type": "code",
   "execution_count": 191,
   "id": "5a780f75",
   "metadata": {},
   "outputs": [],
   "source": [
    "# test to check that custom imputer works\n",
    "# train_array = cust_imputer.fit_transform(train)"
   ]
  },
  {
   "cell_type": "code",
   "execution_count": 192,
   "id": "86e53dd6",
   "metadata": {},
   "outputs": [],
   "source": [
    "# train_array = pd.DataFrame(train_array, index = train.index, columns=train.columns)"
   ]
  },
  {
   "cell_type": "code",
   "execution_count": 193,
   "id": "75075d10",
   "metadata": {},
   "outputs": [
    {
     "data": {
      "text/plain": [
       "1                             0\n",
       "AMT_ANNUITY                   0\n",
       "AMT_CREDIT                    0\n",
       "AMT_INCOME_TOTAL              0\n",
       "AMT_REQ_CREDIT_BUREAU_DAY     0\n",
       "AMT_REQ_CREDIT_BUREAU_HOUR    0\n",
       "AMT_REQ_CREDIT_BUREAU_MON     0\n",
       "AMT_REQ_CREDIT_BUREAU_QRT     0\n",
       "AMT_REQ_CREDIT_BUREAU_WEEK    0\n",
       "AMT_REQ_CREDIT_BUREAU_YEAR    0\n",
       "APARTMENTS_AVG                0\n",
       "BASEMENTAREA_AVG              0\n",
       "CNT_CHILDREN                  0\n",
       "COMMONAREA_AVG                0\n",
       "DAYS_BIRTH_x                  0\n",
       "DAYS_EMPLOYED                 0\n",
       "DAYS_EMPLOYED_ANOM            0\n",
       "DAYS_ID_PUBLISH               0\n",
       "DAYS_LAST_PHONE_CHANGE        0\n",
       "DAYS_REGISTRATION             0\n",
       "DEF_30_CNT_SOCIAL_CIRCLE      0\n",
       "EMERGENCYSTATE_MODE_Yes       0\n",
       "ENTRANCES_AVG                 0\n",
       "EXT_SOURCE_2 EXT_SOURCE_3     0\n",
       "EXT_SOURCE_2_x                0\n",
       "FLAG_CONT_MOBILE              0\n",
       "FLAG_DOCUMENT_10              0\n",
       "FLAG_DOCUMENT_11              0\n",
       "FLAG_DOCUMENT_12              0\n",
       "FLAG_DOCUMENT_13              0\n",
       "dtype: int64"
      ]
     },
     "execution_count": 193,
     "metadata": {},
     "output_type": "execute_result"
    }
   ],
   "source": [
    "# train_array[[col for col in train.columns if 'bureau' not in col]].isna().sum().sort_values(ascending=False).head(30)\n",
    "# train_array.isna().sum().sort_index().head(30)\n",
    "# train[non_zero_imputed_cols].isna().sum().sort_values(ascending=False).head(100)\n",
    "# train['ENTRANCES_AVG'].median()"
   ]
  },
  {
   "cell_type": "markdown",
   "id": "88383f1f",
   "metadata": {},
   "source": [
    "## feature scaling transform"
   ]
  },
  {
   "cell_type": "code",
   "execution_count": 194,
   "id": "35e5ea89",
   "metadata": {},
   "outputs": [],
   "source": [
    "from sklearn.preprocessing import MinMaxScaler, RobustScaler"
   ]
  },
  {
   "cell_type": "markdown",
   "id": "ffc46b9b",
   "metadata": {},
   "source": [
    "MinMaxScaler = MinMaxScaler()\n",
    "RobustScaler = RobustScaler()"
   ]
  },
  {
   "cell_type": "markdown",
   "id": "d9e7954a",
   "metadata": {},
   "source": [
    "## RUS and SMOTE"
   ]
  },
  {
   "cell_type": "code",
   "execution_count": 195,
   "id": "50f9fb08",
   "metadata": {},
   "outputs": [],
   "source": [
    "from imblearn.over_sampling import SMOTE\n",
    "from imblearn.under_sampling import RandomUnderSampler\n",
    "from imblearn.pipeline import Pipeline as im_pipeline\n",
    "\n",
    "# parameters to adapt\n",
    "over = SMOTE(sampling_strategy=0.8, random_state=seed) # means that we want the minority class population to be oversampled up to 60% of the majority class pop\n",
    "under = RandomUnderSampler(sampling_strategy='majority', random_state=seed) # will under sample the majority class down to be equal to the minority classs pop\n",
    "over_under = im_pipeline(steps=[\n",
    "      ('over', over)\n",
    "    , ('under', under)\n",
    "])"
   ]
  },
  {
   "cell_type": "markdown",
   "id": "ae790d70",
   "metadata": {},
   "source": [
    "## Feature selection"
   ]
  },
  {
   "cell_type": "code",
   "execution_count": 196,
   "id": "40f55045",
   "metadata": {},
   "outputs": [],
   "source": [
    "from sklearn.feature_selection import RFE\n",
    "from sklearn.tree import DecisionTreeClassifier\n",
    "from sklearn.feature_selection import SelectKBest\n",
    "\n",
    "rfe = RFE(estimator=DecisionTreeClassifier(random_state=seed), n_features_to_select=50)\n",
    "SKB = SelectKBest(k=50)"
   ]
  },
  {
   "cell_type": "markdown",
   "id": "9b5875ff",
   "metadata": {},
   "source": [
    "# GridSearchCV per model"
   ]
  },
  {
   "cell_type": "markdown",
   "id": "0d4bf94b",
   "metadata": {},
   "source": [
    "We are going to to a grid search for steps and hyperparamaters for to models successively: RFClassifier and LGBM"
   ]
  },
  {
   "cell_type": "code",
   "execution_count": 197,
   "id": "00e86e3a",
   "metadata": {},
   "outputs": [],
   "source": [
    "from sklearn.model_selection import StratifiedKFold"
   ]
  },
  {
   "cell_type": "markdown",
   "id": "20e77de3-b4f0-465b-9b26-3009d6f59d65",
   "metadata": {},
   "source": [
    "## lists of models"
   ]
  },
  {
   "cell_type": "code",
   "execution_count": 198,
   "id": "4f4058a3-89c2-482e-a8df-4483d631e721",
   "metadata": {},
   "outputs": [],
   "source": [
    "models_cv = []\n",
    "mean_train_scores = []\n",
    "mean_test_scores = []"
   ]
  },
  {
   "cell_type": "markdown",
   "id": "74bcc86c",
   "metadata": {},
   "source": [
    "## SKFold and spliting X and y"
   ]
  },
  {
   "cell_type": "code",
   "execution_count": 199,
   "id": "b2af62aa",
   "metadata": {},
   "outputs": [],
   "source": [
    "# stratified kfold used for the two CVs\n",
    "Skfold = StratifiedKFold(n_splits=5, shuffle=True, random_state=seed)"
   ]
  },
  {
   "cell_type": "code",
   "execution_count": 200,
   "id": "1872aab5",
   "metadata": {},
   "outputs": [],
   "source": [
    "# splitting features and Target \n",
    "X, y = train_sample.iloc[:,2:-1], train_sample.iloc[:,-1]"
   ]
  },
  {
   "cell_type": "markdown",
   "id": "a6233545",
   "metadata": {},
   "source": [
    "## RFClassifier"
   ]
  },
  {
   "cell_type": "code",
   "execution_count": 213,
   "id": "056d94a5",
   "metadata": {},
   "outputs": [],
   "source": [
    "from sklearn.ensemble import RandomForestClassifier\n",
    "RFC = RandomForestClassifier(random_state=seed)"
   ]
  },
  {
   "cell_type": "markdown",
   "id": "c5cbbc8f",
   "metadata": {},
   "source": [
    "### building imbl pipeline and grid"
   ]
  },
  {
   "cell_type": "code",
   "execution_count": 214,
   "id": "fa29e60b",
   "metadata": {},
   "outputs": [],
   "source": [
    "pipe_rfc = im_pipeline(steps=[\n",
    "      ('imputer', SimpleImputer())\n",
    "    , ('scaler', MinMaxScaler())\n",
    "    , ('weight_strat', SMOTE())\n",
    "    , ('feat_selec', SelectKBest(k=50))\n",
    "    , ('RFC', RandomForestClassifier())    \n",
    "]\n",
    "    ,memory=\"D:/Dowloads_D/Data_OC/P7\", verbose=True)"
   ]
  },
  {
   "cell_type": "code",
   "execution_count": 215,
   "id": "81f13684",
   "metadata": {},
   "outputs": [],
   "source": [
    "imputers=[\n",
    "    # median_imputer \n",
    "     mean_imputer # best\n",
    "    # , zero_imputer # retunrs NaN, 0s cause a division to raise an error\n",
    "    # , cust_imputer # retunrs NaN\n",
    "]\n",
    "# scalers\n",
    "scalers=[\n",
    "     #MinMaxScaler\n",
    "     RobustScaler()    #best\n",
    "]\n",
    "# over/undersampling\n",
    "weight_strat=[\n",
    "    # over\n",
    "     under\n",
    "    # , over_under #returns NaN\n",
    "]\n",
    "# Feature_selectors\n",
    "SKB #best\n",
    "\n",
    "# params grid\n",
    "\n",
    "param_grid_rfc = {  'imputer': imputers\n",
    "        , 'scaler': scalers\n",
    "        , 'weight_strat': weight_strat\n",
    "        , 'feat_selec': [SKB] \n",
    "        , 'RFC': [RFC]\n",
    "        , 'RFC__max_depth': [10]\n",
    "        , 'RFC__n_estimators': [50]\n",
    "       }"
   ]
  },
  {
   "cell_type": "code",
   "execution_count": 216,
   "id": "f1ec6805",
   "metadata": {},
   "outputs": [],
   "source": [
    "from sklearn.model_selection import GridSearchCV\n",
    "\n",
    "grid_rfc = GridSearchCV(pipe_rfc, param_grid_rfc, cv=Skfold, scoring='roc_auc', verbose=2, n_jobs=-1, return_train_score=True)"
   ]
  },
  {
   "cell_type": "code",
   "execution_count": 217,
   "id": "e2b59505",
   "metadata": {},
   "outputs": [
    {
     "name": "stdout",
     "output_type": "stream",
     "text": [
      "Fitting 5 folds for each of 1 candidates, totalling 5 fits\n",
      "[Pipeline] ........... (step 1 of 5) Processing imputer, total=   2.6s\n",
      "[Pipeline] ............ (step 2 of 5) Processing scaler, total=   0.4s\n",
      "[Pipeline] ...... (step 3 of 5) Processing weight_strat, total=   0.0s\n"
     ]
    },
    {
     "name": "stderr",
     "output_type": "stream",
     "text": [
      "Features [ 12  39  41  44  47  49  54  56  72  76  77 145 169 172 193 207 219 226] are constant.\n",
      "invalid value encountered in true_divide\n"
     ]
    },
    {
     "name": "stdout",
     "output_type": "stream",
     "text": [
      "[Pipeline] ........ (step 4 of 5) Processing feat_selec, total=   0.0s\n",
      "[Pipeline] ............... (step 5 of 5) Processing RFC, total=   0.9s\n",
      "Fitting 5 folds for each of 1 candidates, totalling 5 fits\n",
      "[Pipeline] ............... (step 5 of 5) Processing RFC, total=   0.6s\n",
      "Fitting 5 folds for each of 1 candidates, totalling 5 fits\n",
      "[Pipeline] ............... (step 5 of 5) Processing RFC, total=   0.5s\n",
      "Fitting 5 folds for each of 1 candidates, totalling 5 fits\n",
      "[Pipeline] ............... (step 5 of 5) Processing RFC, total=   0.6s\n",
      "Fitting 5 folds for each of 1 candidates, totalling 5 fits\n",
      "[Pipeline] ............... (step 5 of 5) Processing RFC, total=   0.5s\n",
      "Fitting 5 folds for each of 1 candidates, totalling 5 fits\n",
      "[Pipeline] ............... (step 5 of 5) Processing RFC, total=   0.5s\n",
      "Fitting 5 folds for each of 1 candidates, totalling 5 fits\n",
      "[Pipeline] ............... (step 5 of 5) Processing RFC, total=   0.9s\n",
      "Fitting 5 folds for each of 1 candidates, totalling 5 fits\n",
      "[Pipeline] ............... (step 5 of 5) Processing RFC, total=   0.6s\n",
      "7.91 s ± 966 ms per loop (mean ± std. dev. of 7 runs, 1 loop each)\n"
     ]
    }
   ],
   "source": [
    "%%timeit\n",
    "grid_rfc.fit(X, y)"
   ]
  },
  {
   "cell_type": "code",
   "execution_count": 218,
   "id": "932c409f",
   "metadata": {},
   "outputs": [
    {
     "data": {
      "text/plain": [
       "{'RFC': RandomForestClassifier(max_depth=10, n_estimators=50, random_state=42),\n",
       " 'RFC__max_depth': 10,\n",
       " 'RFC__n_estimators': 50,\n",
       " 'feat_selec': SelectKBest(k=50),\n",
       " 'imputer': SimpleImputer(),\n",
       " 'scaler': RobustScaler(),\n",
       " 'weight_strat': RandomUnderSampler(random_state=42, sampling_strategy='majority')}"
      ]
     },
     "execution_count": 218,
     "metadata": {},
     "output_type": "execute_result"
    }
   ],
   "source": [
    "grid_rfc.best_params_"
   ]
  },
  {
   "cell_type": "code",
   "execution_count": 219,
   "id": "179cdc69",
   "metadata": {},
   "outputs": [],
   "source": [
    "grid_rfc_results = pd.DataFrame(grid_rfc.cv_results_)"
   ]
  },
  {
   "cell_type": "code",
   "execution_count": 220,
   "id": "fa78a17f",
   "metadata": {},
   "outputs": [
    {
     "data": {
      "text/html": [
       "<div>\n",
       "<style scoped>\n",
       "    .dataframe tbody tr th:only-of-type {\n",
       "        vertical-align: middle;\n",
       "    }\n",
       "\n",
       "    .dataframe tbody tr th {\n",
       "        vertical-align: top;\n",
       "    }\n",
       "\n",
       "    .dataframe thead th {\n",
       "        text-align: right;\n",
       "    }\n",
       "</style>\n",
       "<table border=\"1\" class=\"dataframe\">\n",
       "  <thead>\n",
       "    <tr style=\"text-align: right;\">\n",
       "      <th></th>\n",
       "      <th>mean_fit_time</th>\n",
       "      <th>std_fit_time</th>\n",
       "      <th>mean_score_time</th>\n",
       "      <th>std_score_time</th>\n",
       "      <th>param_RFC</th>\n",
       "      <th>param_RFC__max_depth</th>\n",
       "      <th>param_RFC__n_estimators</th>\n",
       "      <th>param_feat_selec</th>\n",
       "      <th>param_imputer</th>\n",
       "      <th>param_scaler</th>\n",
       "      <th>param_weight_strat</th>\n",
       "      <th>params</th>\n",
       "      <th>split0_test_score</th>\n",
       "      <th>split1_test_score</th>\n",
       "      <th>split2_test_score</th>\n",
       "      <th>split3_test_score</th>\n",
       "      <th>split4_test_score</th>\n",
       "      <th>mean_test_score</th>\n",
       "      <th>std_test_score</th>\n",
       "      <th>rank_test_score</th>\n",
       "      <th>split0_train_score</th>\n",
       "      <th>split1_train_score</th>\n",
       "      <th>split2_train_score</th>\n",
       "      <th>split3_train_score</th>\n",
       "      <th>split4_train_score</th>\n",
       "      <th>mean_train_score</th>\n",
       "      <th>std_train_score</th>\n",
       "    </tr>\n",
       "  </thead>\n",
       "  <tbody>\n",
       "    <tr>\n",
       "      <th>0</th>\n",
       "      <td>1.961861</td>\n",
       "      <td>0.405552</td>\n",
       "      <td>0.60897</td>\n",
       "      <td>0.162654</td>\n",
       "      <td>RandomForestClassifier(max_depth=10, n_estimators=50, random_state=42)</td>\n",
       "      <td>10</td>\n",
       "      <td>50</td>\n",
       "      <td>SelectKBest(k=50)</td>\n",
       "      <td>SimpleImputer()</td>\n",
       "      <td>RobustScaler()</td>\n",
       "      <td>RandomUnderSampler(random_state=42, sampling_strategy='majority')</td>\n",
       "      <td>{'RFC': RandomForestClassifier(max_depth=10, n_estimators=50, random_state=42), 'RFC__max_depth': 10, 'RFC__n_estimators': 50, 'feat_selec': SelectKBest(k=50), 'imputer': SimpleImputer(), 'scaler': RobustScaler(), 'weight_strat': RandomUnderSampler(random_state=42, sampling_strategy='majority')}</td>\n",
       "      <td>0.725277</td>\n",
       "      <td>0.71751</td>\n",
       "      <td>0.697758</td>\n",
       "      <td>0.710766</td>\n",
       "      <td>0.703702</td>\n",
       "      <td>0.711003</td>\n",
       "      <td>0.009745</td>\n",
       "      <td>1</td>\n",
       "      <td>0.878682</td>\n",
       "      <td>0.87676</td>\n",
       "      <td>0.885189</td>\n",
       "      <td>0.876448</td>\n",
       "      <td>0.879515</td>\n",
       "      <td>0.879319</td>\n",
       "      <td>0.003153</td>\n",
       "    </tr>\n",
       "  </tbody>\n",
       "</table>\n",
       "</div>"
      ],
      "text/plain": [
       "   mean_fit_time  std_fit_time  mean_score_time  std_score_time  \\\n",
       "0       1.961861      0.405552          0.60897        0.162654   \n",
       "\n",
       "                                                                param_RFC  \\\n",
       "0  RandomForestClassifier(max_depth=10, n_estimators=50, random_state=42)   \n",
       "\n",
       "  param_RFC__max_depth param_RFC__n_estimators   param_feat_selec  \\\n",
       "0                   10                      50  SelectKBest(k=50)   \n",
       "\n",
       "     param_imputer    param_scaler  \\\n",
       "0  SimpleImputer()  RobustScaler()   \n",
       "\n",
       "                                                  param_weight_strat  \\\n",
       "0  RandomUnderSampler(random_state=42, sampling_strategy='majority')   \n",
       "\n",
       "                                                                                                                                                                                                                                                                                                     params  \\\n",
       "0  {'RFC': RandomForestClassifier(max_depth=10, n_estimators=50, random_state=42), 'RFC__max_depth': 10, 'RFC__n_estimators': 50, 'feat_selec': SelectKBest(k=50), 'imputer': SimpleImputer(), 'scaler': RobustScaler(), 'weight_strat': RandomUnderSampler(random_state=42, sampling_strategy='majority')}   \n",
       "\n",
       "   split0_test_score  split1_test_score  split2_test_score  split3_test_score  \\\n",
       "0           0.725277            0.71751           0.697758           0.710766   \n",
       "\n",
       "   split4_test_score  mean_test_score  std_test_score  rank_test_score  \\\n",
       "0           0.703702         0.711003        0.009745                1   \n",
       "\n",
       "   split0_train_score  split1_train_score  split2_train_score  \\\n",
       "0            0.878682             0.87676            0.885189   \n",
       "\n",
       "   split3_train_score  split4_train_score  mean_train_score  std_train_score  \n",
       "0            0.876448            0.879515          0.879319         0.003153  "
      ]
     },
     "execution_count": 220,
     "metadata": {},
     "output_type": "execute_result"
    }
   ],
   "source": [
    "grid_rfc_results.head(1)"
   ]
  },
  {
   "cell_type": "markdown",
   "id": "bb129ae7",
   "metadata": {},
   "source": [
    "#### Imputers grid results"
   ]
  },
  {
   "cell_type": "code",
   "execution_count": 221,
   "id": "b3e5ac9c",
   "metadata": {},
   "outputs": [],
   "source": [
    "grid_rfc_results['param_imputer'] = grid_rfc_results['param_imputer'].astype('str')"
   ]
  },
  {
   "cell_type": "code",
   "execution_count": 222,
   "id": "63bba74b",
   "metadata": {},
   "outputs": [
    {
     "data": {
      "text/html": [
       "<div>\n",
       "<style scoped>\n",
       "    .dataframe tbody tr th:only-of-type {\n",
       "        vertical-align: middle;\n",
       "    }\n",
       "\n",
       "    .dataframe tbody tr th {\n",
       "        vertical-align: top;\n",
       "    }\n",
       "\n",
       "    .dataframe thead th {\n",
       "        text-align: right;\n",
       "    }\n",
       "</style>\n",
       "<table border=\"1\" class=\"dataframe\">\n",
       "  <thead>\n",
       "    <tr style=\"text-align: right;\">\n",
       "      <th></th>\n",
       "      <th>mean_test_score</th>\n",
       "      <th>std_test_score</th>\n",
       "    </tr>\n",
       "    <tr>\n",
       "      <th>param_imputer</th>\n",
       "      <th></th>\n",
       "      <th></th>\n",
       "    </tr>\n",
       "  </thead>\n",
       "  <tbody>\n",
       "    <tr>\n",
       "      <th>SimpleImputer()</th>\n",
       "      <td>0.711003</td>\n",
       "      <td>0.009745</td>\n",
       "    </tr>\n",
       "  </tbody>\n",
       "</table>\n",
       "</div>"
      ],
      "text/plain": [
       "                 mean_test_score  std_test_score\n",
       "param_imputer                                   \n",
       "SimpleImputer()         0.711003        0.009745"
      ]
     },
     "execution_count": 222,
     "metadata": {},
     "output_type": "execute_result"
    }
   ],
   "source": [
    "grid_rfc_results[['param_imputer', 'mean_test_score', 'std_test_score']].groupby('param_imputer').agg({'mean_test_score':'mean', 'std_test_score':'mean'})"
   ]
  },
  {
   "cell_type": "markdown",
   "id": "6090421a",
   "metadata": {},
   "source": [
    "Mean imputation (0.695) is slightly better than median (0.688) imputation. Why constant and custom imputation threw NaN ?"
   ]
  },
  {
   "cell_type": "markdown",
   "id": "13aad07f",
   "metadata": {
    "tags": []
   },
   "source": [
    "#### Scaler grid results"
   ]
  },
  {
   "cell_type": "code",
   "execution_count": 223,
   "id": "bfb035a3",
   "metadata": {},
   "outputs": [],
   "source": [
    "grid_rfc_results['param_scaler'] = grid_rfc_results['param_scaler'].astype('str')"
   ]
  },
  {
   "cell_type": "code",
   "execution_count": 224,
   "id": "77e96199",
   "metadata": {},
   "outputs": [
    {
     "data": {
      "text/html": [
       "<div>\n",
       "<style scoped>\n",
       "    .dataframe tbody tr th:only-of-type {\n",
       "        vertical-align: middle;\n",
       "    }\n",
       "\n",
       "    .dataframe tbody tr th {\n",
       "        vertical-align: top;\n",
       "    }\n",
       "\n",
       "    .dataframe thead th {\n",
       "        text-align: right;\n",
       "    }\n",
       "</style>\n",
       "<table border=\"1\" class=\"dataframe\">\n",
       "  <thead>\n",
       "    <tr style=\"text-align: right;\">\n",
       "      <th></th>\n",
       "      <th>mean_test_score</th>\n",
       "      <th>std_test_score</th>\n",
       "    </tr>\n",
       "    <tr>\n",
       "      <th>param_scaler</th>\n",
       "      <th></th>\n",
       "      <th></th>\n",
       "    </tr>\n",
       "  </thead>\n",
       "  <tbody>\n",
       "    <tr>\n",
       "      <th>RobustScaler()</th>\n",
       "      <td>0.711003</td>\n",
       "      <td>0.009745</td>\n",
       "    </tr>\n",
       "  </tbody>\n",
       "</table>\n",
       "</div>"
      ],
      "text/plain": [
       "                mean_test_score  std_test_score\n",
       "param_scaler                                   \n",
       "RobustScaler()         0.711003        0.009745"
      ]
     },
     "execution_count": 224,
     "metadata": {},
     "output_type": "execute_result"
    }
   ],
   "source": [
    "grid_rfc_results[['param_scaler', 'mean_test_score', 'std_test_score']].groupby('param_scaler').agg({'mean_test_score':'mean', 'std_test_score':'mean'})"
   ]
  },
  {
   "cell_type": "markdown",
   "id": "e2cadfee",
   "metadata": {},
   "source": [
    "RobustScaler (0.694) is slightly better than MinMaxScaler (0.688987)"
   ]
  },
  {
   "cell_type": "markdown",
   "id": "db846e26-9295-43a8-bb03-6246e88de1b9",
   "metadata": {
    "tags": []
   },
   "source": [
    "#### Weight strat grid results"
   ]
  },
  {
   "cell_type": "code",
   "execution_count": 225,
   "id": "7100a9ca-5059-4a2c-87fd-dce7202c9b39",
   "metadata": {},
   "outputs": [],
   "source": [
    "grid_rfc_results['param_weight_strat'] = grid_rfc_results['param_weight_strat'].astype('str')"
   ]
  },
  {
   "cell_type": "code",
   "execution_count": 226,
   "id": "95168c42-1bbc-495b-baeb-4bc21afd03be",
   "metadata": {},
   "outputs": [
    {
     "data": {
      "text/html": [
       "<div>\n",
       "<style scoped>\n",
       "    .dataframe tbody tr th:only-of-type {\n",
       "        vertical-align: middle;\n",
       "    }\n",
       "\n",
       "    .dataframe tbody tr th {\n",
       "        vertical-align: top;\n",
       "    }\n",
       "\n",
       "    .dataframe thead th {\n",
       "        text-align: right;\n",
       "    }\n",
       "</style>\n",
       "<table border=\"1\" class=\"dataframe\">\n",
       "  <thead>\n",
       "    <tr style=\"text-align: right;\">\n",
       "      <th></th>\n",
       "      <th>mean_test_score</th>\n",
       "      <th>std_test_score</th>\n",
       "    </tr>\n",
       "    <tr>\n",
       "      <th>param_weight_strat</th>\n",
       "      <th></th>\n",
       "      <th></th>\n",
       "    </tr>\n",
       "  </thead>\n",
       "  <tbody>\n",
       "    <tr>\n",
       "      <th>RandomUnderSampler(random_state=42, sampling_strategy='majority')</th>\n",
       "      <td>0.711003</td>\n",
       "      <td>0.009745</td>\n",
       "    </tr>\n",
       "  </tbody>\n",
       "</table>\n",
       "</div>"
      ],
      "text/plain": [
       "                                                                   mean_test_score  \\\n",
       "param_weight_strat                                                                   \n",
       "RandomUnderSampler(random_state=42, sampling_strategy='majority')         0.711003   \n",
       "\n",
       "                                                                   std_test_score  \n",
       "param_weight_strat                                                                 \n",
       "RandomUnderSampler(random_state=42, sampling_strategy='majority')        0.009745  "
      ]
     },
     "execution_count": 226,
     "metadata": {},
     "output_type": "execute_result"
    }
   ],
   "source": [
    "grid_rfc_results[['param_weight_strat', 'mean_test_score', 'std_test_score']].groupby('param_weight_strat').agg({'mean_test_score':'mean', 'std_test_score':'mean'})"
   ]
  },
  {
   "cell_type": "markdown",
   "id": "1f2e3fdc-4f49-4396-bfe5-2a2b1dae2a9a",
   "metadata": {},
   "source": [
    "RUS is slitghly better (0.714754) VS SMOTE (0.710505). Why over_under returns NaN ?"
   ]
  },
  {
   "cell_type": "markdown",
   "id": "d107b773",
   "metadata": {},
   "source": [
    "#### Feature selector grid results"
   ]
  },
  {
   "cell_type": "code",
   "execution_count": 227,
   "id": "3e0b422f",
   "metadata": {},
   "outputs": [],
   "source": [
    "grid_rfc_results['param_feat_selec'] = grid_rfc_results['param_feat_selec'].astype('str')"
   ]
  },
  {
   "cell_type": "code",
   "execution_count": 228,
   "id": "16934c48",
   "metadata": {},
   "outputs": [
    {
     "data": {
      "text/html": [
       "<div>\n",
       "<style scoped>\n",
       "    .dataframe tbody tr th:only-of-type {\n",
       "        vertical-align: middle;\n",
       "    }\n",
       "\n",
       "    .dataframe tbody tr th {\n",
       "        vertical-align: top;\n",
       "    }\n",
       "\n",
       "    .dataframe thead th {\n",
       "        text-align: right;\n",
       "    }\n",
       "</style>\n",
       "<table border=\"1\" class=\"dataframe\">\n",
       "  <thead>\n",
       "    <tr style=\"text-align: right;\">\n",
       "      <th></th>\n",
       "      <th>mean_test_score</th>\n",
       "      <th>std_test_score</th>\n",
       "    </tr>\n",
       "    <tr>\n",
       "      <th>param_feat_selec</th>\n",
       "      <th></th>\n",
       "      <th></th>\n",
       "    </tr>\n",
       "  </thead>\n",
       "  <tbody>\n",
       "    <tr>\n",
       "      <th>SelectKBest(k=50)</th>\n",
       "      <td>0.711003</td>\n",
       "      <td>0.009745</td>\n",
       "    </tr>\n",
       "  </tbody>\n",
       "</table>\n",
       "</div>"
      ],
      "text/plain": [
       "                   mean_test_score  std_test_score\n",
       "param_feat_selec                                  \n",
       "SelectKBest(k=50)         0.711003        0.009745"
      ]
     },
     "execution_count": 228,
     "metadata": {},
     "output_type": "execute_result"
    }
   ],
   "source": [
    "grid_rfc_results[['param_feat_selec', 'mean_test_score', 'std_test_score']].groupby('param_feat_selec').agg({'mean_test_score':'mean', 'std_test_score':'mean'})"
   ]
  },
  {
   "cell_type": "markdown",
   "id": "9d952267",
   "metadata": {},
   "source": [
    "En moyenne sur l'ensemble des 320 fits SelectKbest(k=50) (avg test AUC: 0.698) est meilleur est beaucoup plus rapide que RFE (avg test AUC: 0.684)\n",
    "\n",
    "grille des fits\n",
    "param_grid_rfc = {  'imputer': [SimpleImputer(strategy='median'), SimpleImputer(strategy='mean'), SimpleImputer(strategy='constant'), cust_imputer]\n",
    "        , 'scaler': [MinMaxScaler(), RobustScaler()]\n",
    "        , 'over': [over]\n",
    "        #, 'under': [RandomUnderSampler(sampling_strategy=0.5)]\n",
    "        , 'feat_selec': [rfe, SKB] \n",
    "        , 'RFC': [RFC]\n",
    "        , 'RFC__max_depth': [None, 10, 20, 30]\n",
    "        , 'RFC__n_estimators': [100,]\n",
    "       }"
   ]
  },
  {
   "cell_type": "code",
   "execution_count": 229,
   "id": "125b6a3b",
   "metadata": {},
   "outputs": [],
   "source": [
    "models_cv.append('RFClassifier')\n",
    "mean_test_scores.append(max(grid_rfc.cv_results_['mean_test_score']))\n",
    "mean_train_scores.append(max(grid_rfc.cv_results_['mean_train_score']))"
   ]
  },
  {
   "cell_type": "markdown",
   "id": "b51fe96c",
   "metadata": {},
   "source": [
    "## LGBMC"
   ]
  },
  {
   "cell_type": "code",
   "execution_count": 230,
   "id": "0cfbc82f",
   "metadata": {},
   "outputs": [],
   "source": [
    "from lightgbm import LGBMClassifier\n",
    "LBMC = LGBMClassifier(objective='binary', random_state=seed)"
   ]
  },
  {
   "cell_type": "markdown",
   "id": "85bfd0e3",
   "metadata": {},
   "source": [
    "### building imbl pipeline and grid"
   ]
  },
  {
   "cell_type": "code",
   "execution_count": 231,
   "id": "9f8bb25b",
   "metadata": {},
   "outputs": [],
   "source": [
    "pipe_lgbm = im_pipeline(steps=[\n",
    "      ('imputer', SimpleImputer())\n",
    "    , ('scaler', MinMaxScaler())\n",
    "    , ('weight_strat', SMOTE())\n",
    "#    , ('under', RandomUnderSampler())\n",
    "    , ('feat_selec', SelectKBest(k=50))\n",
    "    , ('LBMC', LGBMClassifier())    \n",
    "]\n",
    "    ,memory=\"D:/Dowloads_D/Data_OC/P7\", verbose=True)"
   ]
  },
  {
   "cell_type": "code",
   "execution_count": 232,
   "id": "a3599568",
   "metadata": {},
   "outputs": [],
   "source": [
    "imputers=[\n",
    "     median_imputer # best\n",
    "    #, mean_imputer \n",
    "    #, zero_imputer # retunrs NaN\n",
    "    #, cust_imputer # retunrs NaN\n",
    "]\n",
    "# scalers\n",
    "scalers=[\n",
    "     #MinMaxScaler\n",
    "     RobustScaler()    #best\n",
    "]\n",
    "# over/undersampling\n",
    "weight_strat=[\n",
    "    #  over\n",
    "     under\n",
    "    # , over_under # returns NaN\n",
    "]\n",
    "# Feature_selectors\n",
    "SKB #best\n",
    "\n",
    "# LGBM parameters\n",
    "boosting_type = [\n",
    "    #'gbdt'\n",
    "     'dart' # best\n",
    "    #, 'goss'\n",
    "    #, 'rf'   \n",
    "]\n",
    "max_depth =[\n",
    "    7\n",
    "    #, 8\n",
    "    #, 10\n",
    "    #, 50\n",
    "    #, 100\n",
    "    #, None\n",
    "]\n",
    "n_estimators=[\n",
    "  #  20\n",
    "  #  , 30\n",
    "     40\n",
    "]\n",
    "num_leaves=[\n",
    "   # 5\n",
    "     7\n",
    "   # , 10\n",
    "]\n",
    "subsample=[\n",
    "    1\n",
    "   # , .8\n",
    "]\n",
    "colsample_bytree=[\n",
    "    .8\n",
    "]\n",
    "reg_alpha=[\n",
    "    # 0\n",
    "    .1\n",
    "]\n",
    "reg_lambda=[\n",
    "    0\n",
    "    # , .1\n",
    "]\n",
    "min_split_gain=[\n",
    "      0\n",
    "    # , .01\n",
    "]\n",
    "# params grid\n",
    "\n",
    "param_grid_lgbm = {\n",
    "          'imputer': imputers\n",
    "        , 'scaler': scalers\n",
    "        , 'weight_strat': weight_strat\n",
    "        #, 'under': [RandomUnderSampler(sampling_strategy=0.5)]\n",
    "        , 'feat_selec': [SKB] \n",
    "        , 'LBMC': [LBMC]\n",
    "        , 'LBMC__n_estimators':n_estimators\n",
    "        , 'LBMC__num_leaves':num_leaves\n",
    "        , 'LBMC__colsample_bytree':colsample_bytree\n",
    "        , 'LBMC__subsample':subsample\n",
    "        , 'LBMC__max_depth':max_depth\n",
    "        , 'LBMC__reg_alpha':reg_alpha\n",
    "        , 'LBMC__reg_lambda':reg_lambda\n",
    "        , 'LBMC__min_split_gain':min_split_gain\n",
    "       }"
   ]
  },
  {
   "cell_type": "code",
   "execution_count": 233,
   "id": "d1a2806d",
   "metadata": {},
   "outputs": [],
   "source": [
    "from sklearn.model_selection import GridSearchCV\n",
    "\n",
    "grid_lgbm = GridSearchCV(pipe_lgbm, param_grid_lgbm, cv=Skfold, scoring='roc_auc', verbose=2, n_jobs=-1, return_train_score=True)"
   ]
  },
  {
   "cell_type": "code",
   "execution_count": 234,
   "id": "a0ccf6ea",
   "metadata": {},
   "outputs": [
    {
     "name": "stdout",
     "output_type": "stream",
     "text": [
      "Fitting 5 folds for each of 1 candidates, totalling 5 fits\n",
      "[Pipeline] ........... (step 1 of 5) Processing imputer, total=   3.1s\n",
      "[Pipeline] ............ (step 2 of 5) Processing scaler, total=   0.3s\n",
      "[Pipeline] ...... (step 3 of 5) Processing weight_strat, total=   0.0s\n"
     ]
    },
    {
     "name": "stderr",
     "output_type": "stream",
     "text": [
      "Features [ 12  39  41  44  47  49  54  56  72  76  77 145 169 172 193 207 212 216\n",
      " 219 220 221 226 229 230] are constant.\n",
      "invalid value encountered in true_divide\n"
     ]
    },
    {
     "name": "stdout",
     "output_type": "stream",
     "text": [
      "[Pipeline] ........ (step 4 of 5) Processing feat_selec, total=   0.0s\n",
      "[Pipeline] .............. (step 5 of 5) Processing LBMC, total=   0.2s\n"
     ]
    },
    {
     "data": {
      "text/plain": [
       "GridSearchCV(cv=StratifiedKFold(n_splits=5, random_state=42, shuffle=True),\n",
       "             estimator=Pipeline(memory='D:/Dowloads_D/Data_OC/P7',\n",
       "                                steps=[('imputer', SimpleImputer()),\n",
       "                                       ('scaler', MinMaxScaler()),\n",
       "                                       ('weight_strat', SMOTE()),\n",
       "                                       ('feat_selec', SelectKBest(k=50)),\n",
       "                                       ('LBMC', LGBMClassifier())],\n",
       "                                verbose=True),\n",
       "             n_jobs=-1,\n",
       "             param_grid={'LBMC': [LGBMClassifier(colsample_bytree=0....\n",
       "                         'LBMC__n_estimators': [40], 'LBMC__num_leaves': [7],\n",
       "                         'LBMC__reg_alpha': [0.1], 'LBMC__reg_lambda': [0],\n",
       "                         'LBMC__subsample': [1],\n",
       "                         'feat_selec': [SelectKBest(k=50)],\n",
       "                         'imputer': [SimpleImputer(strategy='median')],\n",
       "                         'scaler': [RobustScaler()],\n",
       "                         'weight_strat': [RandomUnderSampler(random_state=42,\n",
       "                                                             sampling_strategy='majority')]},\n",
       "             return_train_score=True, scoring='roc_auc', verbose=2)"
      ]
     },
     "execution_count": 234,
     "metadata": {},
     "output_type": "execute_result"
    }
   ],
   "source": [
    "%timeit\n",
    "grid_lgbm.fit(X, y)"
   ]
  },
  {
   "cell_type": "code",
   "execution_count": 235,
   "id": "e0bd2abe",
   "metadata": {},
   "outputs": [
    {
     "data": {
      "text/plain": [
       "0.7234864597583286"
      ]
     },
     "execution_count": 235,
     "metadata": {},
     "output_type": "execute_result"
    }
   ],
   "source": [
    "max(grid_lgbm.cv_results_['mean_test_score'])"
   ]
  },
  {
   "cell_type": "code",
   "execution_count": 236,
   "id": "14e6b5d0",
   "metadata": {},
   "outputs": [
    {
     "data": {
      "text/plain": [
       "{'LBMC': LGBMClassifier(colsample_bytree=0.8, max_depth=7, min_split_gain=0,\n",
       "                n_estimators=40, num_leaves=7, objective='binary',\n",
       "                random_state=42, reg_alpha=0.1, reg_lambda=0, subsample=1),\n",
       " 'LBMC__colsample_bytree': 0.8,\n",
       " 'LBMC__max_depth': 7,\n",
       " 'LBMC__min_split_gain': 0,\n",
       " 'LBMC__n_estimators': 40,\n",
       " 'LBMC__num_leaves': 7,\n",
       " 'LBMC__reg_alpha': 0.1,\n",
       " 'LBMC__reg_lambda': 0,\n",
       " 'LBMC__subsample': 1,\n",
       " 'feat_selec': SelectKBest(k=50),\n",
       " 'imputer': SimpleImputer(strategy='median'),\n",
       " 'scaler': RobustScaler(),\n",
       " 'weight_strat': RandomUnderSampler(random_state=42, sampling_strategy='majority')}"
      ]
     },
     "execution_count": 236,
     "metadata": {},
     "output_type": "execute_result"
    }
   ],
   "source": [
    "grid_lgbm.best_params_"
   ]
  },
  {
   "cell_type": "markdown",
   "id": "47940c8d",
   "metadata": {},
   "source": [
    "### backup best params and scores"
   ]
  },
  {
   "cell_type": "markdown",
   "id": "f64889a3",
   "metadata": {},
   "source": [
    "full param grid best params\n",
    "{'LBMC': LGBMClassifier(colsample_bytree=0.8, max_depth=10, min_split_gain=0,\n",
    "                n_estimators=50, num_leaves=10, objective='binary',\n",
    "                random_state=42, reg_alpha=0, reg_lambda=0, subsample=1),\n",
    " 'LBMC__colsample_bytree': 0.8,\n",
    " 'LBMC__max_depth': 10,\n",
    " 'LBMC__min_split_gain': 0,\n",
    " 'LBMC__n_estimators': 50,\n",
    " 'LBMC__num_leaves': 10,\n",
    " 'LBMC__reg_alpha': 0,\n",
    " 'LBMC__reg_lambda': 0,\n",
    " 'LBMC__subsample': 1,\n",
    " 'feat_selec': SelectKBest(k=50),\n",
    " 'imputer': SimpleImputer(strategy='median'),\n",
    " 'scaler': RobustScaler(),\n",
    " 'weight_strat': SMOTE(random_state=42, sampling_strategy=0.4)}\n",
    "\n",
    "best score = 0.715\n",
    "\n",
    "second more specific grid\n",
    "{'LBMC': LGBMClassifier(colsample_bytree=0.8, max_depth=7, min_split_gain=0,\n",
    "                n_estimators=40, num_leaves=10, objective='binary',\n",
    "                random_state=42, reg_alpha=0.1, reg_lambda=0, subsample=1),\n",
    " 'LBMC__colsample_bytree': 0.8,\n",
    " 'LBMC__max_depth': 7,\n",
    " 'LBMC__min_split_gain': 0,\n",
    " 'LBMC__n_estimators': 40,\n",
    " 'LBMC__num_leaves': 10,\n",
    " 'LBMC__reg_alpha': 0.1,\n",
    " 'LBMC__reg_lambda': 0,\n",
    " 'LBMC__subsample': 1,\n",
    " 'feat_selec': SelectKBest(k=50),\n",
    " 'imputer': SimpleImputer(strategy='median'),\n",
    " 'scaler': RobustScaler(),\n",
    " 'weight_strat': SMOTE(random_state=42, sampling_strategy=0.4)}\n",
    " \n",
    " best score:0.7146\n",
    " the score is not better\n",
    " \n",
    " third grid: increased the size of the training set by 8%\n",
    " {'LBMC': LGBMClassifier(colsample_bytree=0.8, max_depth=7, min_split_gain=0,\n",
    "                n_estimators=40, num_leaves=10, objective='binary',\n",
    "                random_state=42, reg_alpha=0.1, reg_lambda=0, subsample=1),\n",
    " 'LBMC__colsample_bytree': 0.8,\n",
    " 'LBMC__max_depth': 7,\n",
    " 'LBMC__min_split_gain': 0,\n",
    " 'LBMC__n_estimators': 40,\n",
    " 'LBMC__num_leaves': 10,\n",
    " 'LBMC__reg_alpha': 0.1,\n",
    " 'LBMC__reg_lambda': 0,\n",
    " 'LBMC__subsample': 1,\n",
    " 'feat_selec': SelectKBest(k=50),\n",
    " 'imputer': SimpleImputer(strategy='median'),\n",
    " 'scaler': RobustScaler(),\n",
    " 'weight_strat': SMOTE(random_state=42, sampling_strategy=0.4)}\n",
    " \n",
    " best score: 0.7118340056655664"
   ]
  },
  {
   "cell_type": "code",
   "execution_count": 237,
   "id": "3cc44c1c",
   "metadata": {},
   "outputs": [],
   "source": [
    "df_grid_lgbm = pd.DataFrame(grid_lgbm.cv_results_)"
   ]
  },
  {
   "cell_type": "code",
   "execution_count": 238,
   "id": "96903bce",
   "metadata": {},
   "outputs": [
    {
     "data": {
      "text/html": [
       "<div>\n",
       "<style scoped>\n",
       "    .dataframe tbody tr th:only-of-type {\n",
       "        vertical-align: middle;\n",
       "    }\n",
       "\n",
       "    .dataframe tbody tr th {\n",
       "        vertical-align: top;\n",
       "    }\n",
       "\n",
       "    .dataframe thead th {\n",
       "        text-align: right;\n",
       "    }\n",
       "</style>\n",
       "<table border=\"1\" class=\"dataframe\">\n",
       "  <thead>\n",
       "    <tr style=\"text-align: right;\">\n",
       "      <th></th>\n",
       "      <th>mean_fit_time</th>\n",
       "      <th>std_fit_time</th>\n",
       "      <th>mean_score_time</th>\n",
       "      <th>std_score_time</th>\n",
       "      <th>param_LBMC</th>\n",
       "      <th>param_LBMC__colsample_bytree</th>\n",
       "      <th>param_LBMC__max_depth</th>\n",
       "      <th>param_LBMC__min_split_gain</th>\n",
       "      <th>param_LBMC__n_estimators</th>\n",
       "      <th>param_LBMC__num_leaves</th>\n",
       "      <th>param_LBMC__reg_alpha</th>\n",
       "      <th>param_LBMC__reg_lambda</th>\n",
       "      <th>param_LBMC__subsample</th>\n",
       "      <th>param_feat_selec</th>\n",
       "      <th>param_imputer</th>\n",
       "      <th>param_scaler</th>\n",
       "      <th>param_weight_strat</th>\n",
       "      <th>params</th>\n",
       "      <th>split0_test_score</th>\n",
       "      <th>split1_test_score</th>\n",
       "      <th>split2_test_score</th>\n",
       "      <th>split3_test_score</th>\n",
       "      <th>split4_test_score</th>\n",
       "      <th>mean_test_score</th>\n",
       "      <th>std_test_score</th>\n",
       "      <th>rank_test_score</th>\n",
       "      <th>split0_train_score</th>\n",
       "      <th>split1_train_score</th>\n",
       "      <th>split2_train_score</th>\n",
       "      <th>split3_train_score</th>\n",
       "      <th>split4_train_score</th>\n",
       "      <th>mean_train_score</th>\n",
       "      <th>std_train_score</th>\n",
       "    </tr>\n",
       "  </thead>\n",
       "  <tbody>\n",
       "    <tr>\n",
       "      <th>0</th>\n",
       "      <td>8.422435</td>\n",
       "      <td>1.517557</td>\n",
       "      <td>0.430642</td>\n",
       "      <td>0.159737</td>\n",
       "      <td>LGBMClassifier(colsample_bytree=0.8, max_depth=7, min_split_gain=0,\\n               n_estimators=40, num_leaves=7, objective='binary',\\n               random_state=42, reg_alpha=0.1, reg_lambda=0, subsample=1)</td>\n",
       "      <td>0.8</td>\n",
       "      <td>7</td>\n",
       "      <td>0</td>\n",
       "      <td>40</td>\n",
       "      <td>7</td>\n",
       "      <td>0.1</td>\n",
       "      <td>0</td>\n",
       "      <td>1</td>\n",
       "      <td>SelectKBest(k=50)</td>\n",
       "      <td>SimpleImputer(strategy='median')</td>\n",
       "      <td>RobustScaler()</td>\n",
       "      <td>RandomUnderSampler(random_state=42, sampling_strategy='majority')</td>\n",
       "      <td>{'LBMC': LGBMClassifier(colsample_bytree=0.8, max_depth=7, min_split_gain=0,\n",
       "               n_estimators=40, num_leaves=7, objective='binary',\n",
       "               random_state=42, reg_alpha=0.1, reg_lambda=0, subsample=1), 'LBMC__colsample_bytree': 0.8, 'LBMC__max_depth': 7, 'LBMC__min_split_gain': 0, 'LBMC__n_estimators': 40, 'LBMC__num_leaves': 7, 'LBMC__reg_alpha': 0.1, 'LBMC__reg_lambda': 0, 'LBMC__subsample': 1, 'feat_selec': SelectKBest(k=50), 'imputer': SimpleImputer(strategy='median'), 'scaler': RobustScaler(), 'weight_strat': RandomUnderSampler(random_state=42, sampling_strategy='majority')}</td>\n",
       "      <td>0.738118</td>\n",
       "      <td>0.723287</td>\n",
       "      <td>0.720692</td>\n",
       "      <td>0.727866</td>\n",
       "      <td>0.707469</td>\n",
       "      <td>0.723486</td>\n",
       "      <td>0.009977</td>\n",
       "      <td>1</td>\n",
       "      <td>0.74775</td>\n",
       "      <td>0.75278</td>\n",
       "      <td>0.764042</td>\n",
       "      <td>0.753676</td>\n",
       "      <td>0.762122</td>\n",
       "      <td>0.756074</td>\n",
       "      <td>0.006098</td>\n",
       "    </tr>\n",
       "  </tbody>\n",
       "</table>\n",
       "</div>"
      ],
      "text/plain": [
       "   mean_fit_time  std_fit_time  mean_score_time  std_score_time  \\\n",
       "0       8.422435      1.517557         0.430642        0.159737   \n",
       "\n",
       "                                                                                                                                                                                                          param_LBMC  \\\n",
       "0  LGBMClassifier(colsample_bytree=0.8, max_depth=7, min_split_gain=0,\\n               n_estimators=40, num_leaves=7, objective='binary',\\n               random_state=42, reg_alpha=0.1, reg_lambda=0, subsample=1)   \n",
       "\n",
       "  param_LBMC__colsample_bytree param_LBMC__max_depth  \\\n",
       "0                          0.8                     7   \n",
       "\n",
       "  param_LBMC__min_split_gain param_LBMC__n_estimators param_LBMC__num_leaves  \\\n",
       "0                          0                       40                      7   \n",
       "\n",
       "  param_LBMC__reg_alpha param_LBMC__reg_lambda param_LBMC__subsample  \\\n",
       "0                   0.1                      0                     1   \n",
       "\n",
       "    param_feat_selec                     param_imputer    param_scaler  \\\n",
       "0  SelectKBest(k=50)  SimpleImputer(strategy='median')  RobustScaler()   \n",
       "\n",
       "                                                  param_weight_strat  \\\n",
       "0  RandomUnderSampler(random_state=42, sampling_strategy='majority')   \n",
       "\n",
       "                                                                                                                                                                                                                                                                                                                                                                                                                                                                                                                                                                                                                       params  \\\n",
       "0  {'LBMC': LGBMClassifier(colsample_bytree=0.8, max_depth=7, min_split_gain=0,\n",
       "               n_estimators=40, num_leaves=7, objective='binary',\n",
       "               random_state=42, reg_alpha=0.1, reg_lambda=0, subsample=1), 'LBMC__colsample_bytree': 0.8, 'LBMC__max_depth': 7, 'LBMC__min_split_gain': 0, 'LBMC__n_estimators': 40, 'LBMC__num_leaves': 7, 'LBMC__reg_alpha': 0.1, 'LBMC__reg_lambda': 0, 'LBMC__subsample': 1, 'feat_selec': SelectKBest(k=50), 'imputer': SimpleImputer(strategy='median'), 'scaler': RobustScaler(), 'weight_strat': RandomUnderSampler(random_state=42, sampling_strategy='majority')}   \n",
       "\n",
       "   split0_test_score  split1_test_score  split2_test_score  split3_test_score  \\\n",
       "0           0.738118           0.723287           0.720692           0.727866   \n",
       "\n",
       "   split4_test_score  mean_test_score  std_test_score  rank_test_score  \\\n",
       "0           0.707469         0.723486        0.009977                1   \n",
       "\n",
       "   split0_train_score  split1_train_score  split2_train_score  \\\n",
       "0             0.74775             0.75278            0.764042   \n",
       "\n",
       "   split3_train_score  split4_train_score  mean_train_score  std_train_score  \n",
       "0            0.753676            0.762122          0.756074         0.006098  "
      ]
     },
     "execution_count": 238,
     "metadata": {},
     "output_type": "execute_result"
    }
   ],
   "source": [
    "df_grid_lgbm.head(1)"
   ]
  },
  {
   "cell_type": "markdown",
   "id": "ea40fe81",
   "metadata": {},
   "source": [
    "#### Imputers grid results"
   ]
  },
  {
   "cell_type": "code",
   "execution_count": 239,
   "id": "3454d371",
   "metadata": {},
   "outputs": [],
   "source": [
    "df_grid_lgbm['param_imputer'] = df_grid_lgbm['param_imputer'].astype('str')"
   ]
  },
  {
   "cell_type": "code",
   "execution_count": 240,
   "id": "ddffae6c",
   "metadata": {},
   "outputs": [
    {
     "data": {
      "text/html": [
       "<div>\n",
       "<style scoped>\n",
       "    .dataframe tbody tr th:only-of-type {\n",
       "        vertical-align: middle;\n",
       "    }\n",
       "\n",
       "    .dataframe tbody tr th {\n",
       "        vertical-align: top;\n",
       "    }\n",
       "\n",
       "    .dataframe thead th {\n",
       "        text-align: right;\n",
       "    }\n",
       "</style>\n",
       "<table border=\"1\" class=\"dataframe\">\n",
       "  <thead>\n",
       "    <tr style=\"text-align: right;\">\n",
       "      <th></th>\n",
       "      <th>mean_test_score</th>\n",
       "      <th>std_test_score</th>\n",
       "    </tr>\n",
       "    <tr>\n",
       "      <th>param_imputer</th>\n",
       "      <th></th>\n",
       "      <th></th>\n",
       "    </tr>\n",
       "  </thead>\n",
       "  <tbody>\n",
       "    <tr>\n",
       "      <th>SimpleImputer(strategy='median')</th>\n",
       "      <td>0.723486</td>\n",
       "      <td>0.009977</td>\n",
       "    </tr>\n",
       "  </tbody>\n",
       "</table>\n",
       "</div>"
      ],
      "text/plain": [
       "                                  mean_test_score  std_test_score\n",
       "param_imputer                                                    \n",
       "SimpleImputer(strategy='median')         0.723486        0.009977"
      ]
     },
     "execution_count": 240,
     "metadata": {},
     "output_type": "execute_result"
    }
   ],
   "source": [
    "df_grid_lgbm[['param_imputer', 'mean_test_score', 'std_test_score']].groupby('param_imputer').agg({'mean_test_score':'mean', 'std_test_score':'mean'})"
   ]
  },
  {
   "cell_type": "markdown",
   "id": "d7aa681f",
   "metadata": {},
   "source": [
    "median imputation (0.680) is slightly better than mean (0.679) imputation. Why constant and custom imputation threw NaN ?"
   ]
  },
  {
   "cell_type": "markdown",
   "id": "1acc84cf",
   "metadata": {},
   "source": [
    "#### Scaler grid results"
   ]
  },
  {
   "cell_type": "code",
   "execution_count": 241,
   "id": "280c7561",
   "metadata": {},
   "outputs": [],
   "source": [
    "df_grid_lgbm['param_scaler'] = df_grid_lgbm['param_scaler'].astype('str')"
   ]
  },
  {
   "cell_type": "code",
   "execution_count": 242,
   "id": "2299b3cb",
   "metadata": {},
   "outputs": [
    {
     "data": {
      "text/html": [
       "<div>\n",
       "<style scoped>\n",
       "    .dataframe tbody tr th:only-of-type {\n",
       "        vertical-align: middle;\n",
       "    }\n",
       "\n",
       "    .dataframe tbody tr th {\n",
       "        vertical-align: top;\n",
       "    }\n",
       "\n",
       "    .dataframe thead th {\n",
       "        text-align: right;\n",
       "    }\n",
       "</style>\n",
       "<table border=\"1\" class=\"dataframe\">\n",
       "  <thead>\n",
       "    <tr style=\"text-align: right;\">\n",
       "      <th></th>\n",
       "      <th>mean_test_score</th>\n",
       "      <th>std_test_score</th>\n",
       "    </tr>\n",
       "    <tr>\n",
       "      <th>param_scaler</th>\n",
       "      <th></th>\n",
       "      <th></th>\n",
       "    </tr>\n",
       "  </thead>\n",
       "  <tbody>\n",
       "    <tr>\n",
       "      <th>RobustScaler()</th>\n",
       "      <td>0.723486</td>\n",
       "      <td>0.009977</td>\n",
       "    </tr>\n",
       "  </tbody>\n",
       "</table>\n",
       "</div>"
      ],
      "text/plain": [
       "                mean_test_score  std_test_score\n",
       "param_scaler                                   \n",
       "RobustScaler()         0.723486        0.009977"
      ]
     },
     "execution_count": 242,
     "metadata": {},
     "output_type": "execute_result"
    }
   ],
   "source": [
    "df_grid_lgbm[['param_scaler', 'mean_test_score', 'std_test_score']].groupby('param_scaler').agg({'mean_test_score':'mean', 'std_test_score':'mean'})"
   ]
  },
  {
   "cell_type": "markdown",
   "id": "4d61fd15",
   "metadata": {},
   "source": [
    "RobustScaler (0.681) is slightly better than MinMaxScaler (0.678315)"
   ]
  },
  {
   "cell_type": "markdown",
   "id": "eee2d39e-2417-4f2e-ae27-3af5a896c1a5",
   "metadata": {
    "tags": []
   },
   "source": [
    "#### Weight strat grid results"
   ]
  },
  {
   "cell_type": "code",
   "execution_count": 243,
   "id": "6f5ceef5-7aec-4d69-88cc-12ab5b649a6c",
   "metadata": {},
   "outputs": [],
   "source": [
    "df_grid_lgbm['param_weight_strat'] = df_grid_lgbm['param_weight_strat'].astype('str')"
   ]
  },
  {
   "cell_type": "code",
   "execution_count": 244,
   "id": "8e6aaafe-8fa0-4f77-9150-a398ab085f7e",
   "metadata": {},
   "outputs": [
    {
     "data": {
      "text/html": [
       "<div>\n",
       "<style scoped>\n",
       "    .dataframe tbody tr th:only-of-type {\n",
       "        vertical-align: middle;\n",
       "    }\n",
       "\n",
       "    .dataframe tbody tr th {\n",
       "        vertical-align: top;\n",
       "    }\n",
       "\n",
       "    .dataframe thead th {\n",
       "        text-align: right;\n",
       "    }\n",
       "</style>\n",
       "<table border=\"1\" class=\"dataframe\">\n",
       "  <thead>\n",
       "    <tr style=\"text-align: right;\">\n",
       "      <th></th>\n",
       "      <th>mean_test_score</th>\n",
       "      <th>std_test_score</th>\n",
       "    </tr>\n",
       "    <tr>\n",
       "      <th>param_weight_strat</th>\n",
       "      <th></th>\n",
       "      <th></th>\n",
       "    </tr>\n",
       "  </thead>\n",
       "  <tbody>\n",
       "    <tr>\n",
       "      <th>RandomUnderSampler(random_state=42, sampling_strategy='majority')</th>\n",
       "      <td>0.723486</td>\n",
       "      <td>0.009977</td>\n",
       "    </tr>\n",
       "  </tbody>\n",
       "</table>\n",
       "</div>"
      ],
      "text/plain": [
       "                                                                   mean_test_score  \\\n",
       "param_weight_strat                                                                   \n",
       "RandomUnderSampler(random_state=42, sampling_strategy='majority')         0.723486   \n",
       "\n",
       "                                                                   std_test_score  \n",
       "param_weight_strat                                                                 \n",
       "RandomUnderSampler(random_state=42, sampling_strategy='majority')        0.009977  "
      ]
     },
     "execution_count": 244,
     "metadata": {},
     "output_type": "execute_result"
    }
   ],
   "source": [
    "df_grid_lgbm[['param_weight_strat', 'mean_test_score', 'std_test_score']].groupby('param_weight_strat').agg({'mean_test_score':'mean', 'std_test_score':'mean'})"
   ]
  },
  {
   "cell_type": "code",
   "execution_count": 245,
   "id": "0de20670-d4f5-4b2f-834d-9810c8b36413",
   "metadata": {},
   "outputs": [
    {
     "data": {
      "text/html": [
       "<div>\n",
       "<style scoped>\n",
       "    .dataframe tbody tr th:only-of-type {\n",
       "        vertical-align: middle;\n",
       "    }\n",
       "\n",
       "    .dataframe tbody tr th {\n",
       "        vertical-align: top;\n",
       "    }\n",
       "\n",
       "    .dataframe thead th {\n",
       "        text-align: right;\n",
       "    }\n",
       "</style>\n",
       "<table border=\"1\" class=\"dataframe\">\n",
       "  <thead>\n",
       "    <tr style=\"text-align: right;\">\n",
       "      <th></th>\n",
       "      <th>mean_fit_time</th>\n",
       "      <th>std_fit_time</th>\n",
       "      <th>mean_score_time</th>\n",
       "      <th>std_score_time</th>\n",
       "      <th>param_LBMC</th>\n",
       "      <th>param_LBMC__colsample_bytree</th>\n",
       "      <th>param_LBMC__max_depth</th>\n",
       "      <th>param_LBMC__min_split_gain</th>\n",
       "      <th>param_LBMC__n_estimators</th>\n",
       "      <th>param_LBMC__num_leaves</th>\n",
       "      <th>param_LBMC__reg_alpha</th>\n",
       "      <th>param_LBMC__reg_lambda</th>\n",
       "      <th>param_LBMC__subsample</th>\n",
       "      <th>param_feat_selec</th>\n",
       "      <th>param_imputer</th>\n",
       "      <th>param_scaler</th>\n",
       "      <th>param_weight_strat</th>\n",
       "      <th>params</th>\n",
       "      <th>split0_test_score</th>\n",
       "      <th>split1_test_score</th>\n",
       "      <th>split2_test_score</th>\n",
       "      <th>split3_test_score</th>\n",
       "      <th>split4_test_score</th>\n",
       "      <th>mean_test_score</th>\n",
       "      <th>std_test_score</th>\n",
       "      <th>rank_test_score</th>\n",
       "      <th>split0_train_score</th>\n",
       "      <th>split1_train_score</th>\n",
       "      <th>split2_train_score</th>\n",
       "      <th>split3_train_score</th>\n",
       "      <th>split4_train_score</th>\n",
       "      <th>mean_train_score</th>\n",
       "      <th>std_train_score</th>\n",
       "    </tr>\n",
       "  </thead>\n",
       "  <tbody>\n",
       "  </tbody>\n",
       "</table>\n",
       "</div>"
      ],
      "text/plain": [
       "Empty DataFrame\n",
       "Columns: [mean_fit_time, std_fit_time, mean_score_time, std_score_time, param_LBMC, param_LBMC__colsample_bytree, param_LBMC__max_depth, param_LBMC__min_split_gain, param_LBMC__n_estimators, param_LBMC__num_leaves, param_LBMC__reg_alpha, param_LBMC__reg_lambda, param_LBMC__subsample, param_feat_selec, param_imputer, param_scaler, param_weight_strat, params, split0_test_score, split1_test_score, split2_test_score, split3_test_score, split4_test_score, mean_test_score, std_test_score, rank_test_score, split0_train_score, split1_train_score, split2_train_score, split3_train_score, split4_train_score, mean_train_score, std_train_score]\n",
       "Index: []"
      ]
     },
     "execution_count": 245,
     "metadata": {},
     "output_type": "execute_result"
    }
   ],
   "source": [
    "df_grid_lgbm[df_grid_lgbm['param_weight_strat'].str.contains('Pipeline')]"
   ]
  },
  {
   "cell_type": "markdown",
   "id": "0c2c86eb",
   "metadata": {},
   "source": [
    "#### Feature selector grid results"
   ]
  },
  {
   "cell_type": "code",
   "execution_count": 246,
   "id": "cd920b0e",
   "metadata": {},
   "outputs": [],
   "source": [
    "df_grid_lgbm['param_feat_selec'] = df_grid_lgbm['param_feat_selec'].astype('str')"
   ]
  },
  {
   "cell_type": "code",
   "execution_count": 247,
   "id": "d81ec6b9",
   "metadata": {},
   "outputs": [
    {
     "data": {
      "text/html": [
       "<div>\n",
       "<style scoped>\n",
       "    .dataframe tbody tr th:only-of-type {\n",
       "        vertical-align: middle;\n",
       "    }\n",
       "\n",
       "    .dataframe tbody tr th {\n",
       "        vertical-align: top;\n",
       "    }\n",
       "\n",
       "    .dataframe thead th {\n",
       "        text-align: right;\n",
       "    }\n",
       "</style>\n",
       "<table border=\"1\" class=\"dataframe\">\n",
       "  <thead>\n",
       "    <tr style=\"text-align: right;\">\n",
       "      <th></th>\n",
       "      <th>mean_test_score</th>\n",
       "      <th>std_test_score</th>\n",
       "    </tr>\n",
       "    <tr>\n",
       "      <th>param_feat_selec</th>\n",
       "      <th></th>\n",
       "      <th></th>\n",
       "    </tr>\n",
       "  </thead>\n",
       "  <tbody>\n",
       "    <tr>\n",
       "      <th>SelectKBest(k=50)</th>\n",
       "      <td>0.723486</td>\n",
       "      <td>0.009977</td>\n",
       "    </tr>\n",
       "  </tbody>\n",
       "</table>\n",
       "</div>"
      ],
      "text/plain": [
       "                   mean_test_score  std_test_score\n",
       "param_feat_selec                                  \n",
       "SelectKBest(k=50)         0.723486        0.009977"
      ]
     },
     "execution_count": 247,
     "metadata": {},
     "output_type": "execute_result"
    }
   ],
   "source": [
    "df_grid_lgbm[['param_feat_selec', 'mean_test_score', 'std_test_score']].groupby('param_feat_selec').agg({'mean_test_score':'mean', 'std_test_score':'mean'})"
   ]
  },
  {
   "cell_type": "markdown",
   "id": "bde819cd",
   "metadata": {},
   "source": [
    "En moyenne sur l'ensemble des 320 fits SelectKbest(k=50) (avg test AUC: 0.698) est meilleur est beaucoup plus rapide que RFE (avg test AUC: 0.684)\n",
    "\n",
    "grille des fits\n",
    "param_grid_rfc = {  'imputer': [SimpleImputer(strategy='median'), SimpleImputer(strategy='mean'), SimpleImputer(strategy='constant'), cust_imputer]\n",
    "        , 'scaler': [MinMaxScaler(), RobustScaler()]\n",
    "        , 'over': [over]\n",
    "        #, 'under': [RandomUnderSampler(sampling_strategy=0.5)]\n",
    "        , 'feat_selec': [rfe, SKB] \n",
    "        , 'RFC': [RFC]\n",
    "        , 'RFC__max_depth': [None, 10, 20, 30]\n",
    "        , 'RFC__n_estimators': [100,]\n",
    "       }"
   ]
  },
  {
   "cell_type": "code",
   "execution_count": 248,
   "id": "4f27ba0d-8e76-4b1e-a58e-a9891d6e12f5",
   "metadata": {},
   "outputs": [],
   "source": [
    "models_cv.append('LGBMC')\n",
    "mean_test_scores.append(max(df_grid_lgbm['mean_test_score']))\n",
    "mean_train_scores.append(max(df_grid_lgbm['mean_train_score']))"
   ]
  },
  {
   "cell_type": "markdown",
   "id": "dbc48d30",
   "metadata": {},
   "source": [
    "# Selection of the best pipe"
   ]
  },
  {
   "cell_type": "code",
   "execution_count": 256,
   "id": "91c427f5-39d2-4b4d-b1af-98ab80375fb3",
   "metadata": {},
   "outputs": [],
   "source": [
    "set_style_pers()"
   ]
  },
  {
   "cell_type": "code",
   "execution_count": 257,
   "id": "ca7efbef-22e0-44da-ab59-331dff2f0368",
   "metadata": {},
   "outputs": [
    {
     "data": {
      "text/plain": [
       "Text(0.5, 1.0, 'Comparison of mean train and test scores of RFC and LGBMC')"
      ]
     },
     "execution_count": 257,
     "metadata": {},
     "output_type": "execute_result"
    },
    {
     "data": {
      "image/png": "[encoded data removed]",
      "text/plain": [
       "<Figure size 499.225x360 with 1 Axes>"
      ]
     },
     "metadata": {},
     "output_type": "display_data"
    }
   ],
   "source": [
    "# in oder to plot the scores by model, we build a df and melt it to use train/test as an hue\n",
    "df_models_scores = pd.DataFrame()\n",
    "df_models_scores['model'] = models_cv\n",
    "df_models_scores['mean_train_scores'] = mean_train_scores\n",
    "df_models_scores['mean_test_scores'] = mean_test_scores\n",
    "df_models_scores = pd.melt(df_models_scores, id_vars='model', var_name='train/test', value_name='AUC')\n",
    "sns.catplot(data=df_models_scores, x='model', y='AUC', hue='train/test', kind='bar')\n",
    "plt.gca().set_ylim([0.6, 0.9])\n",
    "plt.gca().set_title('Comparison of mean train and test scores of RFC and LGBMC', fontsize=18)\n"
   ]
  },
  {
   "cell_type": "code",
   "execution_count": 258,
   "id": "97f726aa",
   "metadata": {},
   "outputs": [],
   "source": [
    "# creating the best pipe with the optimised parameters and steps\n",
    "best_pipe = im_pipeline(steps=[\n",
    "      ('imputer', SimpleImputer(strategy='median'))\n",
    "    , ('scaler', RobustScaler())\n",
    "    , ('weight_strat', RandomUnderSampler(sampling_strategy='majority', random_state=seed))\n",
    "    , ('feat_selec', SelectKBest(k=50))\n",
    "    , ('LBMC', LGBMClassifier(colsample_bytree=0.8, max_depth=7, min_split_gain=0,\n",
    "                n_estimators=40, num_leaves=10, objective='binary',\n",
    "                random_state=seed, reg_alpha=0.1, reg_lambda=0, subsample=1))    \n",
    "]\n",
    "    ,memory=\"D:/Dowloads_D/Data_OC/P7\", verbose=True)"
   ]
  },
  {
   "cell_type": "markdown",
   "id": "62db1ab6",
   "metadata": {},
   "source": [
    "## split Xval, yval"
   ]
  },
  {
   "cell_type": "code",
   "execution_count": 318,
   "id": "53b7d4fd",
   "metadata": {},
   "outputs": [],
   "source": [
    "Xval, yval = val_sample.iloc[:,2:-1], val_sample.iloc[:,-1]"
   ]
  },
  {
   "cell_type": "markdown",
   "id": "7b2a1922-29aa-4d5f-a587-6027672f1f8b",
   "metadata": {},
   "source": [
    "## lists for baseline comparison"
   ]
  },
  {
   "cell_type": "code",
   "execution_count": 435,
   "id": "b3cc7dfc-8a9e-46da-ac2e-a1c4dee764f0",
   "metadata": {},
   "outputs": [],
   "source": [
    "# These lists will collect the different metrics values for baseline, not optimized best model, and optimized best model\n",
    "# optimized means using a probability threshold that minimizes false negatives\n",
    "models_bs_check = []\n",
    "recalls_bs_check = []\n",
    "accuracy_bs_check = []\n",
    "auc_bs_check = []\n",
    "fn_bs_check = []\n",
    "cust_metrics_bs_check = []"
   ]
  },
  {
   "cell_type": "markdown",
   "id": "46113b9b-ffb2-42c8-8a4c-3099266d64d3",
   "metadata": {},
   "source": [
    "# Definition of custom metric to minimize fn"
   ]
  },
  {
   "cell_type": "code",
   "execution_count": 389,
   "id": "ef39df47-2cb7-495d-a372-30956e354e1c",
   "metadata": {},
   "outputs": [],
   "source": [
    "def cust_metric(ytrue, yval_pred):\n",
    "    \"\"\"we sum up the tems of the confusion matrix, false positives and false nagatives a negatively correlated to the score.\n",
    "    False negatives 10 times more than false positives.\n",
    "    In production, it will be up to the client to decide how both false predictions should impact the metrics\"\"\"\n",
    "    tp, fn, fp, tn = confusion_matrix(yval, yval_pred, labels=[1, 0]).ravel()\n",
    "    score = (tp - 10*fn - fp + tn)/(tp + fn + fp + tn)\n",
    "    return score\n",
    "\n",
    "# test\n",
    "# cust_metric(yval, yval_pred)"
   ]
  },
  {
   "cell_type": "markdown",
   "id": "f3f606c9",
   "metadata": {},
   "source": [
    "# Baseline check"
   ]
  },
  {
   "cell_type": "code",
   "execution_count": 390,
   "id": "a09476e3",
   "metadata": {},
   "outputs": [],
   "source": [
    "from sklearn.dummy import DummyClassifier"
   ]
  },
  {
   "cell_type": "code",
   "execution_count": 391,
   "id": "8988b258",
   "metadata": {},
   "outputs": [],
   "source": [
    "baseline_pipe = im_pipeline(steps=[\n",
    "      ('imputer', SimpleImputer(strategy='median'))\n",
    "    , ('scaler', RobustScaler())\n",
    "    , ('weight_strat', RandomUnderSampler(sampling_strategy='majority', random_state=seed))\n",
    "#    , ('under', RandomUnderSampler())\n",
    "    , ('feat_selec', SelectKBest(k=50))\n",
    "    , ('Baseline', DummyClassifier(strategy=\"most_frequent\"))    \n",
    "]\n",
    "    ,memory=\"D:/Dowloads_D/Data_OC/P7\", verbose=True)"
   ]
  },
  {
   "cell_type": "code",
   "execution_count": 392,
   "id": "1010a4ae",
   "metadata": {},
   "outputs": [
    {
     "name": "stdout",
     "output_type": "stream",
     "text": [
      "[Pipeline] .......... (step 5 of 5) Processing Baseline, total=   0.0s\n"
     ]
    },
    {
     "data": {
      "text/plain": [
       "Pipeline(memory='D:/Dowloads_D/Data_OC/P7',\n",
       "         steps=[('imputer', SimpleImputer(strategy='median')),\n",
       "                ('scaler', RobustScaler()),\n",
       "                ('weight_strat',\n",
       "                 RandomUnderSampler(random_state=42,\n",
       "                                    sampling_strategy='majority')),\n",
       "                ('feat_selec', SelectKBest(k=50)),\n",
       "                ('Baseline', DummyClassifier(strategy='most_frequent'))],\n",
       "         verbose=True)"
      ]
     },
     "execution_count": 392,
     "metadata": {},
     "output_type": "execute_result"
    }
   ],
   "source": [
    "%timeit\n",
    "baseline_pipe.fit(Xval, yval)"
   ]
  },
  {
   "cell_type": "code",
   "execution_count": 393,
   "id": "b4128b6e",
   "metadata": {},
   "outputs": [],
   "source": [
    "from sklearn.metrics import confusion_matrix, accuracy_score, roc_auc_score"
   ]
  },
  {
   "cell_type": "code",
   "execution_count": 394,
   "id": "0cd64dee",
   "metadata": {},
   "outputs": [],
   "source": [
    "yval_base_pred = baseline_pipe.predict(Xval)\n",
    "yval_base_pred_proba = baseline_pipe.predict_proba(Xval)"
   ]
  },
  {
   "cell_type": "code",
   "execution_count": 395,
   "id": "25923bf3",
   "metadata": {},
   "outputs": [
    {
     "name": "stdout",
     "output_type": "stream",
     "text": [
      "recall : 0.0\n",
      "accuracy : 0.9192694030929325\n",
      "AUC : 0.5\n",
      "custom : 0.11196343402225756\n"
     ]
    }
   ],
   "source": [
    "print(\"recall :\", recall_score(yval, yval_base_pred))\n",
    "print(\"accuracy :\", accuracy_score(yval, yval_base_pred))\n",
    "print(\"AUC :\", roc_auc_score(yval, yval_base_pred_proba[:,1]))\n",
    "print(\"fn_rate :\", 1 - recall_score(yval, yval_base_pred))\n",
    "print(\"custom :\",cust_metric(yval, yval_base_pred))"
   ]
  },
  {
   "cell_type": "code",
   "execution_count": 436,
   "id": "c48150bc",
   "metadata": {},
   "outputs": [],
   "source": [
    "models_bs_check.append(\"Most frequent\")\n",
    "recalls_bs_check.append(recall_score(yval, yval_base_pred))\n",
    "accuracy_bs_check.append(accuracy_score(yval, yval_base_pred))\n",
    "auc_bs_check.append(roc_auc_score(yval, yval_base_pred_proba[:,1]))\n",
    "fn_bs_check.append(1-recall_score(yval, yval_base_pred))\n",
    "cust_metrics_bs_check.append(cust_metric(yval, yval_base_pred_proba[:,1]))"
   ]
  },
  {
   "cell_type": "code",
   "execution_count": 397,
   "id": "86fd785d",
   "metadata": {},
   "outputs": [],
   "source": [
    "from sklearn.metrics import plot_roc_curve"
   ]
  },
  {
   "cell_type": "code",
   "execution_count": 398,
   "id": "cc31b833",
   "metadata": {},
   "outputs": [
    {
     "data": {
      "text/plain": [
       "<sklearn.metrics._plot.roc_curve.RocCurveDisplay at 0x29d50c5f1c0>"
      ]
     },
     "execution_count": 398,
     "metadata": {},
     "output_type": "execute_result"
    },
    {
     "data": {
      "image/png": "[encoded data removed]",
      "text/plain": [
       "<Figure size 720x432 with 1 Axes>"
      ]
     },
     "metadata": {},
     "output_type": "display_data"
    }
   ],
   "source": [
    "plot_roc_curve(baseline_pipe, Xval, yval)"
   ]
  },
  {
   "cell_type": "markdown",
   "id": "b83136b9",
   "metadata": {},
   "source": [
    "Accuracy is high, but the recall of the model is low, hence an AUC of 0.5.\n",
    "Best model has an AUC of 0.715"
   ]
  },
  {
   "cell_type": "markdown",
   "id": "8e3f8db0",
   "metadata": {},
   "source": [
    "# ROC Curve and confusion matrix of the best model"
   ]
  },
  {
   "cell_type": "code",
   "execution_count": 399,
   "id": "f5db211d",
   "metadata": {},
   "outputs": [],
   "source": [
    "from sklearn.metrics import confusion_matrix, accuracy_score, roc_auc_score"
   ]
  },
  {
   "cell_type": "code",
   "execution_count": 400,
   "id": "fcd3fc49-be15-49d6-ab27-a6ca778d9a3d",
   "metadata": {},
   "outputs": [
    {
     "name": "stdout",
     "output_type": "stream",
     "text": [
      "[Pipeline] .............. (step 5 of 5) Processing LBMC, total=   0.3s\n"
     ]
    },
    {
     "data": {
      "text/plain": [
       "Pipeline(memory='D:/Dowloads_D/Data_OC/P7',\n",
       "         steps=[('imputer', SimpleImputer(strategy='median')),\n",
       "                ('scaler', RobustScaler()),\n",
       "                ('weight_strat',\n",
       "                 RandomUnderSampler(random_state=42,\n",
       "                                    sampling_strategy='majority')),\n",
       "                ('feat_selec', SelectKBest(k=50)),\n",
       "                ('LBMC',\n",
       "                 LGBMClassifier(colsample_bytree=0.8, max_depth=7,\n",
       "                                min_split_gain=0, n_estimators=40,\n",
       "                                num_leaves=10, objective='binary',\n",
       "                                random_state=42, reg_alpha=0.1, reg_lambda=0,\n",
       "                                subsample=1))],\n",
       "         verbose=True)"
      ]
     },
     "execution_count": 400,
     "metadata": {},
     "output_type": "execute_result"
    }
   ],
   "source": [
    "best_pipe.fit(Xval, yval)"
   ]
  },
  {
   "cell_type": "code",
   "execution_count": 401,
   "id": "b96eac06",
   "metadata": {},
   "outputs": [],
   "source": [
    "yval_pred = best_pipe.predict(Xval)\n",
    "yval_pred_proba = best_pipe.predict_proba(Xval)"
   ]
  },
  {
   "cell_type": "code",
   "execution_count": 402,
   "id": "277c4c59",
   "metadata": {},
   "outputs": [
    {
     "name": "stdout",
     "output_type": "stream",
     "text": [
      "recall : 0.6762296916260127\n",
      "accuracy : 0.6782374620609914\n",
      "AUC : 0.7393623238071105\n",
      "custom : 0.12123139181962711\n"
     ]
    }
   ],
   "source": [
    "print(\"recall :\", recall_score(yval, yval_pred))\n",
    "print(\"accuracy :\", accuracy_score(yval, yval_pred))\n",
    "print(\"AUC :\", roc_auc_score(yval, yval_pred_proba[:,1]))\n",
    "print(\"custom :\",cust_metric(yval, yval_pred))"
   ]
  },
  {
   "cell_type": "code",
   "execution_count": 437,
   "id": "cb0d3a00",
   "metadata": {},
   "outputs": [],
   "source": [
    "models_bs_check.append(\"Best model\")\n",
    "recalls_bs_check.append(recall_score(yval, yval_pred))\n",
    "accuracy_bs_check.append(accuracy_score(yval, yval_pred))\n",
    "auc_bs_check.append(roc_auc_score(yval, yval_pred_proba[:,1]))\n",
    "fn_bs_check.append(1-recall_score(yval, yval_pred))\n",
    "cust_metrics_bs_check.append(cust_metric(yval, yval_pred))"
   ]
  },
  {
   "cell_type": "code",
   "execution_count": 404,
   "id": "5b77afb8",
   "metadata": {},
   "outputs": [
    {
     "data": {
      "text/plain": [
       "<sklearn.metrics._plot.roc_curve.RocCurveDisplay at 0x2a11c461370>"
      ]
     },
     "execution_count": 404,
     "metadata": {},
     "output_type": "execute_result"
    },
    {
     "data": {
      "image/png": "[encoded data removed]",
      "text/plain": [
       "<Figure size 720x432 with 1 Axes>"
      ]
     },
     "metadata": {},
     "output_type": "display_data"
    }
   ],
   "source": [
    "plot_roc_curve(best_pipe, Xval, yval)"
   ]
  },
  {
   "cell_type": "code",
   "execution_count": 405,
   "id": "40c7c023",
   "metadata": {},
   "outputs": [],
   "source": [
    "cm_lgbm = confusion_matrix(yval, yval_pred, labels=[1, 0])\n",
    "tn, fp, fn, tp = cm_lgbm.ravel()"
   ]
  },
  {
   "cell_type": "code",
   "execution_count": 406,
   "id": "d33c3848",
   "metadata": {},
   "outputs": [],
   "source": [
    "cm_lgbm_df = pd.DataFrame(cm_lgbm\n",
    "                          , index=[['Actual', 'Actual'], ['def', 'nodef']]\n",
    "                          , columns=[['Predicted', 'Predicted'], ['def', 'nodef']])"
   ]
  },
  {
   "cell_type": "code",
   "execution_count": 407,
   "id": "44e452d8",
   "metadata": {},
   "outputs": [
    {
     "data": {
      "text/html": [
       "<div>\n",
       "<style scoped>\n",
       "    .dataframe tbody tr th:only-of-type {\n",
       "        vertical-align: middle;\n",
       "    }\n",
       "\n",
       "    .dataframe tbody tr th {\n",
       "        vertical-align: top;\n",
       "    }\n",
       "\n",
       "    .dataframe thead tr th {\n",
       "        text-align: left;\n",
       "    }\n",
       "</style>\n",
       "<table border=\"1\" class=\"dataframe\">\n",
       "  <thead>\n",
       "    <tr>\n",
       "      <th></th>\n",
       "      <th></th>\n",
       "      <th colspan=\"2\" halign=\"left\">Predicted</th>\n",
       "    </tr>\n",
       "    <tr>\n",
       "      <th></th>\n",
       "      <th></th>\n",
       "      <th>def</th>\n",
       "      <th>nodef</th>\n",
       "    </tr>\n",
       "  </thead>\n",
       "  <tbody>\n",
       "    <tr>\n",
       "      <th rowspan=\"2\" valign=\"top\">Actual</th>\n",
       "      <th>def</th>\n",
       "      <td>15109</td>\n",
       "      <td>7234</td>\n",
       "    </tr>\n",
       "    <tr>\n",
       "      <th>nodef</th>\n",
       "      <td>81817</td>\n",
       "      <td>172600</td>\n",
       "    </tr>\n",
       "  </tbody>\n",
       "</table>\n",
       "</div>"
      ],
      "text/plain": [
       "             Predicted        \n",
       "                   def   nodef\n",
       "Actual def       15109    7234\n",
       "       nodef     81817  172600"
      ]
     },
     "execution_count": 407,
     "metadata": {},
     "output_type": "execute_result"
    }
   ],
   "source": [
    "cm_lgbm_df"
   ]
  },
  {
   "cell_type": "code",
   "execution_count": 408,
   "id": "7e976a33-a5cf-4cc8-b9ee-7375dce0853f",
   "metadata": {},
   "outputs": [],
   "source": [
    "from sklearn.metrics import precision_recall_fscore_support\n",
    "from sklearn.metrics import precision_score\n",
    "from sklearn.metrics import recall_score\n",
    "from sklearn.metrics import f1_score\n",
    "# precision, recall, fscore, support = precision_recall_fscore_support(yval, yval_pred)\n",
    "precision = precision_score(yval, yval_pred)\n",
    "recall = recall_score(yval, yval_pred)\n",
    "specificity = tn / (tn + fp)\n",
    "fscore = f1_score(yval, yval_pred)"
   ]
  },
  {
   "cell_type": "code",
   "execution_count": 409,
   "id": "080418b6-5baa-4c28-8147-08836d47da11",
   "metadata": {},
   "outputs": [
    {
     "data": {
      "text/plain": [
       "precision      0.155882\n",
       "recall         0.676230\n",
       "specificity    0.676230\n",
       "fscore         0.253360\n",
       "dtype: float64"
      ]
     },
     "execution_count": 409,
     "metadata": {},
     "output_type": "execute_result"
    }
   ],
   "source": [
    "# cm_metrics = pd.Series([precision, recall, fscore, support], index = ['precision', 'recall', 'fscore', 'support'])\n",
    "cm_metrics = pd.Series([precision, recall, specificity, fscore], index = ['precision', 'recall', 'specificity', 'fscore'])\n",
    "cm_metrics"
   ]
  },
  {
   "cell_type": "markdown",
   "id": "b86e6347-695b-449f-ab0b-32938ce9795e",
   "metadata": {
    "tags": []
   },
   "source": [
    "## Optimize threshold to maximise False Negative (1-recall)"
   ]
  },
  {
   "cell_type": "code",
   "execution_count": 410,
   "id": "1bccb038-0469-4041-ad2c-d9d90fbfe19f",
   "metadata": {},
   "outputs": [],
   "source": [
    "from sklearn.metrics import recall_score"
   ]
  },
  {
   "cell_type": "code",
   "execution_count": 411,
   "id": "23cf0f69-c849-4c53-b6cc-a52fd5fe54ac",
   "metadata": {},
   "outputs": [],
   "source": [
    "def cust_predict_proba(pos_class_proba_array, thres=0.5):\n",
    "    \"\"\"This is a threshold function that convert an array of probabilities of belonging to class \"1\" into a array of labels 0 or 1 with respect to the threshold\n",
    "    We will use this function to set up an optimal threshold that minimize false negative, unlike the default value of 0.5\"\"\"\n",
    "    pos_class_proba_array = pd.Series(pos_class_proba_array)\n",
    "    pos_class_proba_array = pos_class_proba_array.map(lambda x: 1 if x > thres else 0)\n",
    "    return pos_class_proba_array.to_numpy()"
   ]
  },
  {
   "cell_type": "code",
   "execution_count": 412,
   "id": "9d36b7c4-f95a-47b2-a6bd-7870176d6bb2",
   "metadata": {},
   "outputs": [],
   "source": [
    "scores = [] # i need to define the custom metric here that penalizes false negatives ut do not sacrifice accuracy too much\n",
    "False_Negatives_rates = [] \n",
    "thresholds      = [0.95, 0.91, 0.86, 0.82, 0.77, 0.73, 0.68, 0.64, 0.59, 0.55, 0.5, 0.46, 0.41, 0.37, 0.32, 0.28, 0.23, 0.19, 0.14, 0.1]\n",
    "\n",
    "for thr in thresholds:\n",
    "    recall = recall_score(yval, cust_predict_proba(yval_pred_proba[:,1], thres=thr))\n",
    "    false_negatives_rate = 1 - recall\n",
    "    False_Negatives_rates.append(false_negatives_rate)\n",
    "    scores.append(cust_metric(yval, cust_predict_proba(yval_pred_proba[:,1], thres=thr)))"
   ]
  },
  {
   "cell_type": "code",
   "execution_count": 413,
   "id": "449e536e-4acb-4523-b1ab-ca79110632a0",
   "metadata": {},
   "outputs": [
    {
     "data": {
      "text/plain": [
       "Text(0.5, 0, 'default probability threshold')"
      ]
     },
     "execution_count": 413,
     "metadata": {},
     "output_type": "execute_result"
    },
    {
     "data": {
      "image/png": "[encoded data removed]",
      "text/plain": [
       "<Figure size 720x432 with 1 Axes>"
      ]
     },
     "metadata": {},
     "output_type": "display_data"
    }
   ],
   "source": [
    "plt.plot(thresholds, scores)\n",
    "plt.ylabel(\"custom metric\")\n",
    "plt.xlabel(\"default probability threshold\")"
   ]
  },
  {
   "cell_type": "code",
   "execution_count": 414,
   "id": "16e12f6b-0346-487d-907b-9f2bc994eea5",
   "metadata": {},
   "outputs": [],
   "source": [
    "cm_lgbm = confusion_matrix(yval, cust_predict_proba(yval_pred_proba[:,1], thres=0.65), labels=[1, 0])"
   ]
  },
  {
   "cell_type": "code",
   "execution_count": 415,
   "id": "15774f6e-c7d8-430d-b76f-78b1632f4eab",
   "metadata": {},
   "outputs": [],
   "source": [
    "cm_lgbm_df = pd.DataFrame(cm_lgbm\n",
    "                          , index=[['Actual', 'Actual'], ['def', 'nodef']]\n",
    "                          , columns=[['Predicted', 'Predicted'], ['def', 'nodef']])"
   ]
  },
  {
   "cell_type": "code",
   "execution_count": 416,
   "id": "4b5b37ee-cd54-4480-8681-1fe72a37c5a1",
   "metadata": {},
   "outputs": [
    {
     "data": {
      "text/html": [
       "<div>\n",
       "<style scoped>\n",
       "    .dataframe tbody tr th:only-of-type {\n",
       "        vertical-align: middle;\n",
       "    }\n",
       "\n",
       "    .dataframe tbody tr th {\n",
       "        vertical-align: top;\n",
       "    }\n",
       "\n",
       "    .dataframe thead tr th {\n",
       "        text-align: left;\n",
       "    }\n",
       "</style>\n",
       "<table border=\"1\" class=\"dataframe\">\n",
       "  <thead>\n",
       "    <tr>\n",
       "      <th></th>\n",
       "      <th></th>\n",
       "      <th colspan=\"2\" halign=\"left\">Predicted</th>\n",
       "    </tr>\n",
       "    <tr>\n",
       "      <th></th>\n",
       "      <th></th>\n",
       "      <th>def</th>\n",
       "      <th>nodef</th>\n",
       "    </tr>\n",
       "  </thead>\n",
       "  <tbody>\n",
       "    <tr>\n",
       "      <th rowspan=\"2\" valign=\"top\">Actual</th>\n",
       "      <th>def</th>\n",
       "      <td>8693</td>\n",
       "      <td>13650</td>\n",
       "    </tr>\n",
       "    <tr>\n",
       "      <th>nodef</th>\n",
       "      <td>30103</td>\n",
       "      <td>224314</td>\n",
       "    </tr>\n",
       "  </tbody>\n",
       "</table>\n",
       "</div>"
      ],
      "text/plain": [
       "             Predicted        \n",
       "                   def   nodef\n",
       "Actual def        8693   13650\n",
       "       nodef     30103  224314"
      ]
     },
     "execution_count": 416,
     "metadata": {},
     "output_type": "execute_result"
    }
   ],
   "source": [
    "cm_lgbm_df"
   ]
  },
  {
   "cell_type": "code",
   "execution_count": 417,
   "id": "0782e6d0-280e-4c36-8bc5-2fae277cb167",
   "metadata": {},
   "outputs": [],
   "source": [
    "# nous prédisons la classe avec le seuil optimal de 0.65\n",
    "yval_pred_opti = cust_predict_proba(yval_pred_proba[:,1], thres=0.65)"
   ]
  },
  {
   "cell_type": "code",
   "execution_count": 418,
   "id": "4c09c616-bba1-4c4c-a5d1-f8f645b3d92b",
   "metadata": {},
   "outputs": [
    {
     "name": "stdout",
     "output_type": "stream",
     "text": [
      "recall : 0.38907040236315626\n",
      "accuracy : 0.8419099580864287\n",
      "AUC : 0.7393623238071105\n",
      "custom : 0.23993351640410465\n"
     ]
    }
   ],
   "source": [
    "print(\"recall :\", recall_score(yval, yval_pred_opti))\n",
    "print(\"accuracy :\", accuracy_score(yval, yval_pred_opti))\n",
    "print(\"AUC :\", roc_auc_score(yval, yval_pred_proba[:,1]))\n",
    "print(\"custom :\",cust_metric(yval, yval_pred_opti))"
   ]
  },
  {
   "cell_type": "code",
   "execution_count": 438,
   "id": "0dde7cea-1f42-446b-ae56-39ad67afb91e",
   "metadata": {},
   "outputs": [],
   "source": [
    "models_bs_check.append(\"Opti best model\")\n",
    "recalls_bs_check.append(recall_score(yval, yval_pred_opti))\n",
    "accuracy_bs_check.append(accuracy_score(yval, yval_pred_opti))\n",
    "auc_bs_check.append(roc_auc_score(yval, yval_pred_proba[:,1]))\n",
    "fn_bs_check.append(1-recall_score(yval, yval_pred_opti))\n",
    "cust_metrics_bs_check.append(cust_metric(yval, yval_pred_opti))"
   ]
  },
  {
   "cell_type": "code",
   "execution_count": 427,
   "id": "c452b267-a1f7-42e0-a191-5408b1916347",
   "metadata": {},
   "outputs": [
    {
     "data": {
      "text/plain": [
       "[0.5, 0.7393623238071105, 0.7393623238071105]"
      ]
     },
     "execution_count": 427,
     "metadata": {},
     "output_type": "execute_result"
    }
   ],
   "source": [
    "auc_bs_check"
   ]
  },
  {
   "cell_type": "code",
   "execution_count": 439,
   "id": "07549586-d39d-49e2-8972-11f594bc20e8",
   "metadata": {},
   "outputs": [
    {
     "data": {
      "text/plain": [
       "<seaborn.axisgrid.FacetGrid at 0x29d4f9e02e0>"
      ]
     },
     "execution_count": 439,
     "metadata": {},
     "output_type": "execute_result"
    },
    {
     "data": {
      "image/png": "[encoded data removed]",
      "text/plain": [
       "<Figure size 452.6x360 with 1 Axes>"
      ]
     },
     "metadata": {},
     "output_type": "display_data"
    }
   ],
   "source": [
    "# in oder to plot the scores by model, we build a df and melt it to use train/test as an hue\n",
    "df_model_bs_scores = pd.DataFrame()\n",
    "df_model_bs_scores['model'] = models_bs_check\n",
    "df_model_bs_scores['Recall'] = recalls_bs_check\n",
    "df_model_bs_scores['Accuracy'] = accuracy_bs_check\n",
    "df_model_bs_scores['AUC'] = auc_bs_check\n",
    "df_model_bs_scores['fn_rate'] = fn_bs_check\n",
    "df_model_bs_scores['Custom'] = cust_metrics_bs_check\n",
    "df_model_bs_scores = pd.melt(df_model_bs_scores, id_vars='model', var_name='scores', value_name='values')\n",
    "sns.catplot(data=df_model_bs_scores, x='model', y='values', hue='scores', kind='bar')\n",
    "# plt.gca().set_ylim([0.6, 0.9])\n",
    "# plt.gca().set_title('Comparison of mean train and test scores of RFC and LGBMC', fontsize=18)"
   ]
  },
  {
   "cell_type": "markdown",
   "id": "262fdc57-18fe-4c4d-80fa-6176e6f01980",
   "metadata": {},
   "source": [
    "# Test of best model"
   ]
  },
  {
   "cell_type": "code",
   "execution_count": null,
   "id": "ccc0f8d0-caa2-4ae3-a63b-9c43712a0164",
   "metadata": {},
   "outputs": [],
   "source": []
  },
  {
   "cell_type": "markdown",
   "id": "b9b592c4-ac06-4b02-a7a6-8bbbd50ac53e",
   "metadata": {},
   "source": [
    "# Training of the best model"
   ]
  },
  {
   "cell_type": "code",
   "execution_count": 306,
   "id": "1c6b0b15-1f96-414d-a1e7-756d2e614d4b",
   "metadata": {},
   "outputs": [
    {
     "name": "stdout",
     "output_type": "stream",
     "text": [
      "[Pipeline] ........... (step 1 of 5) Processing imputer, total=  27.2s\n"
     ]
    },
    {
     "name": "stderr",
     "output_type": "stream",
     "text": [
      "Persisting input arguments took 1.11s to run.\n",
      "If this happens often in your code, it can cause performance problems \n",
      "(results will be correct in all cases). \n",
      "The reason for this is probably some large input arguments for a wrapped\n",
      " function (e.g. large strings).\n",
      "THIS IS A JOBLIB ISSUE. If you can, kindly provide the joblib's team with an\n",
      " example so that they can fix the problem.\n"
     ]
    },
    {
     "name": "stdout",
     "output_type": "stream",
     "text": [
      "[Pipeline] ............ (step 2 of 5) Processing scaler, total=   2.2s\n"
     ]
    },
    {
     "name": "stderr",
     "output_type": "stream",
     "text": [
      "Persisting input arguments took 1.17s to run.\n",
      "If this happens often in your code, it can cause performance problems \n",
      "(results will be correct in all cases). \n",
      "The reason for this is probably some large input arguments for a wrapped\n",
      " function (e.g. large strings).\n",
      "THIS IS A JOBLIB ISSUE. If you can, kindly provide the joblib's team with an\n",
      " example so that they can fix the problem.\n"
     ]
    },
    {
     "name": "stdout",
     "output_type": "stream",
     "text": [
      "[Pipeline] ...... (step 3 of 5) Processing weight_strat, total=   0.4s\n"
     ]
    },
    {
     "name": "stderr",
     "output_type": "stream",
     "text": [
      "Persisting input arguments took 1.17s to run.\n",
      "If this happens often in your code, it can cause performance problems \n",
      "(results will be correct in all cases). \n",
      "The reason for this is probably some large input arguments for a wrapped\n",
      " function (e.g. large strings).\n",
      "THIS IS A JOBLIB ISSUE. If you can, kindly provide the joblib's team with an\n",
      " example so that they can fix the problem.\n",
      "Features [ 14  49 195 209 221 228] are constant.\n",
      "invalid value encountered in true_divide\n"
     ]
    },
    {
     "name": "stdout",
     "output_type": "stream",
     "text": [
      "[Pipeline] ........ (step 4 of 5) Processing feat_selec, total=   0.2s\n",
      "[Pipeline] .............. (step 5 of 5) Processing LBMC, total=   0.4s\n"
     ]
    },
    {
     "data": {
      "text/plain": [
       "Pipeline(memory='D:/Dowloads_D/Data_OC/P7',\n",
       "         steps=[('imputer', SimpleImputer(strategy='median')),\n",
       "                ('scaler', RobustScaler()),\n",
       "                ('weight_strat',\n",
       "                 RandomUnderSampler(random_state=42,\n",
       "                                    sampling_strategy='majority')),\n",
       "                ('feat_selec', SelectKBest(k=50)),\n",
       "                ('LBMC',\n",
       "                 LGBMClassifier(colsample_bytree=0.8, max_depth=7,\n",
       "                                min_split_gain=0, n_estimators=40,\n",
       "                                num_leaves=10, objective='binary',\n",
       "                                random_state=42, reg_alpha=0.1, reg_lambda=0,\n",
       "                                subsample=1))],\n",
       "         verbose=True)"
      ]
     },
     "execution_count": 306,
     "metadata": {},
     "output_type": "execute_result"
    }
   ],
   "source": [
    "%%timeit\n",
    "best_pipe.fit(train.iloc[:,:-1], train.iloc[:, -1])"
   ]
  },
  {
   "cell_type": "markdown",
   "id": "f6f8f090-b491-43a5-b8ed-d26908d349b8",
   "metadata": {},
   "source": [
    "# Features importance best model"
   ]
  },
  {
   "cell_type": "markdown",
   "id": "d154b7d1-c4d7-4f58-890c-28fb14838d42",
   "metadata": {},
   "source": [
    "We are here analysing the features importance of the best model."
   ]
  },
  {
   "cell_type": "code",
   "execution_count": 307,
   "id": "9f0276dc-f2cc-4bd4-a03a-4d097c661903",
   "metadata": {},
   "outputs": [],
   "source": [
    "# getting indexes of the 50 columns selected by SelectKBest\n",
    "selected_columns= best_pipe.named_steps[\"feat_selec\"].get_support(indices=True)"
   ]
  },
  {
   "cell_type": "code",
   "execution_count": 310,
   "id": "702aaa51-44eb-467d-b741-e450868655fd",
   "metadata": {},
   "outputs": [
    {
     "data": {
      "image/png": "[encoded data removed]",
      "text/plain": [
       "<Figure size 1440x936 with 1 Axes>"
      ]
     },
     "metadata": {},
     "output_type": "display_data"
    }
   ],
   "source": [
    "# collecting features importance of the selected columns in a Dataframe\n",
    "feature_imp = pd.DataFrame(zip(best_pipe.named_steps[\"LBMC\"].feature_importances_, train.iloc[:,selected_columns].columns), columns=['Value','Feature'])\n",
    "plt.figure(figsize=(20, 13))\n",
    "# and plotting it\n",
    "sns.barplot(x=\"Value\", y=\"Feature\", data=feature_imp.sort_values(by=\"Value\", ascending=False).head(50))\n",
    "plt.title('LightGBM Features (avg over folds)')\n",
    "plt.tight_layout()\n",
    "plt.show()"
   ]
  },
  {
   "cell_type": "markdown",
   "id": "2955dc02",
   "metadata": {
    "tags": []
   },
   "source": [
    "# SHAP"
   ]
  },
  {
   "cell_type": "code",
   "execution_count": 311,
   "id": "d96f6e8c",
   "metadata": {},
   "outputs": [],
   "source": [
    "import shap"
   ]
  },
  {
   "cell_type": "markdown",
   "id": "42f46ab2",
   "metadata": {},
   "source": [
    "### Xval preprocessed"
   ]
  },
  {
   "cell_type": "code",
   "execution_count": null,
   "id": "f421051d",
   "metadata": {},
   "outputs": [],
   "source": [
    "# to use shap we need to compute the shap values of the preprocessed data\n",
    "# and unfortunately shap.Explainer does not work directly with pipelines\n",
    "Xval_prep = Xval.copy()\n",
    "yval_prep = yval.copy()\n",
    "for step in list(best_pipe.named_steps.keys())[:4]:\n",
    "    print(step)\n",
    "    # unlike other transformers, SMOTE apply fit_sample, to both X and y\n",
    "    if step == 'weight_strat':\n",
    "        Xval_prep, yval_prep = best_pipe.named_steps[step].fit_sample(Xval_prep, yval_prep)\n",
    "    else:\n",
    "        Xval_prep = best_pipe.named_steps[step].transform(Xval_prep)"
   ]
  },
  {
   "cell_type": "code",
   "execution_count": null,
   "id": "6f9ecbc7",
   "metadata": {},
   "outputs": [],
   "source": [
    "# then we need to store the preprocessed data as a df with the named features as colmuns\n",
    "# storing the names of features after SelectKBest\n",
    "feat_selec_cols = X.iloc[:,selected_columns].columns\n",
    "# storing preprocessed Xval as a df with columns names\n",
    "Xval_prep = pd.DataFrame(data=Xval_prep, columns=feat_selec_cols)"
   ]
  },
  {
   "cell_type": "markdown",
   "id": "3680a953",
   "metadata": {},
   "source": [
    "## Explainer and graphs"
   ]
  },
  {
   "cell_type": "markdown",
   "id": "dda75f76",
   "metadata": {},
   "source": [
    "https://github.com/slundberg/shap/issues/1917"
   ]
  },
  {
   "cell_type": "code",
   "execution_count": null,
   "id": "5ceb3ec1",
   "metadata": {},
   "outputs": [],
   "source": [
    "model = best_pipe.named_steps['LBMC']\n",
    "model.fit(Xval_prep, yval_prep)"
   ]
  },
  {
   "cell_type": "code",
   "execution_count": null,
   "id": "6ad51eb7-208b-43d6-b202-e1939fde1b6a",
   "metadata": {},
   "outputs": [],
   "source": [
    "explainer = shap.TreeExplainer(model) # data is required if you're using interventional feature_perturbation\n",
    "# or\n",
    "# expainer = shap.Explainer(model, masker=X_) # masker required\n",
    "# calculate shap with shap_values method\n",
    "\n",
    "# if the below line is run in a different cell, I get an error of reshaping, no solution foundk\n",
    "shapvs = explainer.shap_values(Xval_prep) # check should be default"
   ]
  },
  {
   "cell_type": "code",
   "execution_count": null,
   "id": "01195c46-ba60-4384-b932-a0ce2482d193",
   "metadata": {},
   "outputs": [],
   "source": [
    "shapvs[0].shape"
   ]
  },
  {
   "cell_type": "markdown",
   "id": "299fce62-d930-4949-9860-a7c669272b5e",
   "metadata": {},
   "source": [
    "waterfall long : 2min"
   ]
  },
  {
   "cell_type": "code",
   "execution_count": null,
   "id": "9c0bc46c",
   "metadata": {},
   "outputs": [],
   "source": [
    "# use the following function for waterfall: display contribution for one client\n",
    "# tree explainer with LGBM returns the shap values of both class 0 and 1 : list of two arrays of shape (44686, 50)\n",
    "# we are interested in explaining the contributions to default predictions so our shap values will be shapvs[1]\n",
    "# more info here https://github.com/slundberg/shap/issues/837\n",
    "shap.plots._waterfall.waterfall_legacy(explainer.expected_value[1], shapvs[1][0], features=Xval_prep.iloc[0].values, feature_names=Xval_prep.columns)"
   ]
  },
  {
   "cell_type": "code",
   "execution_count": null,
   "id": "4fa9738f-e34f-4bf5-b436-8922189531bc",
   "metadata": {},
   "outputs": [],
   "source": [
    "shapvs[1][0, :].shape"
   ]
  },
  {
   "cell_type": "code",
   "execution_count": null,
   "id": "9a82676a",
   "metadata": {},
   "outputs": [],
   "source": [
    "# visualize the first prediction's explanation with a force plot\n",
    "shap.force_plot(explainer.expected_value[1], shapvs[1][0, :], features=Xval_prep.iloc[0,:], feature_names=feat_selec_cols)"
   ]
  },
  {
   "cell_type": "code",
   "execution_count": null,
   "id": "64f695ef",
   "metadata": {},
   "outputs": [],
   "source": [
    "# summarize the effects of top features\n",
    "shap.summary_plot(shapvs[1], Xval_prep.values, Xval_prep.columns, max_display=30)"
   ]
  },
  {
   "cell_type": "markdown",
   "id": "e5b0f230-c9e9-4bb9-82f3-a4611b3c78fd",
   "metadata": {},
   "source": [
    "Plus flag document 3 est faible (bleu), plus la proba de défaut est faible"
   ]
  },
  {
   "cell_type": "markdown",
   "id": "712b7ac8-ea77-4781-8435-3ae0f7e3c718",
   "metadata": {
    "tags": []
   },
   "source": [
    "# Pickling train data, explainer and model"
   ]
  },
  {
   "cell_type": "code",
   "execution_count": 446,
   "id": "a70f9d24-71e6-400e-b8ee-644ef2d997c7",
   "metadata": {},
   "outputs": [],
   "source": [
    "\"\"\"# exporting train data\n",
    "train.to_csv(\"C:/Users/VP/Google Drive/Education/OC/working_directory/P7/Credit_granting_CS_Streamlit/train.csv\") \n",
    "# exporting explainer and shap values\"\"\"\n",
    "explainer_shapvs = [explainer, shapvs]\n",
    "with open(\"C:/Users/VP/Google Drive/Education/OC/working_directory/P7/Credit_granting_CS_Streamlit/explainer_shapvs\", 'wb') as fic:\n",
    "    mon_pickler = pickle.Pickler(fic)\n",
    "    mon_pickler.dump(explainer_shapvs)\n",
    "# exporting final model\n",
    "with open(\"C:/Users/VP/Google Drive/Education/OC/working_directory/P7/Credit_granting_CS_Streamlit/model\", 'wb') as fic:\n",
    "    mon_pickler = pickle.Pickler(fic)\n",
    "    mon_pickler.dump(best_pipe)"
   ]
  }
 ],
 "metadata": {
  "kernelspec": {
   "display_name": "venv_1",
   "language": "python",
   "name": "venv_1"
  },
  "language_info": {
   "codemirror_mode": {
    "name": "ipython",
    "version": 3
   },
   "file_extension": ".py",
   "mimetype": "text/x-python",
   "name": "python",
   "nbconvert_exporter": "python",
   "pygments_lexer": "ipython3",
   "version": "3.8.10"
  }
 },
 "nbformat": 4,
 "nbformat_minor": 5
}
