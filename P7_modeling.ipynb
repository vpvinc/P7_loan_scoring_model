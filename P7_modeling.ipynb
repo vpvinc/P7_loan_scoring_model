{
 "cells": [
  {
   "cell_type": "code",
   "execution_count": null,
   "id": "23b39506",
   "metadata": {},
   "outputs": [],
   "source": [
    "\n"
   ]
  },
  {
   "cell_type": "markdown",
   "id": "430399a7",
   "metadata": {},
   "source": [
    "## importing libraries and custom functions"
   ]
  },
  {
   "cell_type": "code",
   "execution_count": 253,
   "id": "8ed2f623",
   "metadata": {},
   "outputs": [],
   "source": [
    "seed = 42\n",
    "\n",
    "import numpy as np\n",
    "import pandas as pd\n",
    "import os\n",
    "import re\n",
    "import random\n",
    "import matplotlib\n",
    "import matplotlib.pyplot as plt\n",
    "%matplotlib inline\n",
    "\n",
    "import seaborn as sns\n",
    "sns.set()\n",
    "plt.rc('figure', figsize=(10, 6))\n",
    "\n",
    "import pickle\n",
    "import IPython.display"
   ]
  },
  {
   "cell_type": "code",
   "execution_count": 254,
   "id": "3bfad451",
   "metadata": {},
   "outputs": [],
   "source": [
    "\"\"\"display options\"\"\"\n",
    "\n",
    "pd.set_option('display.max_rows', 100)\n",
    "pd.set_option('display.max_columns', None)\n",
    "# pd.set_option('display.width', None)\n",
    "pd.set_option('display.max_colwidth', None)\n",
    "# pd.reset_option(\"max_colwidth\")"
   ]
  },
  {
   "cell_type": "code",
   "execution_count": 255,
   "id": "66e250f1",
   "metadata": {},
   "outputs": [
    {
     "name": "stdout",
     "output_type": "stream",
     "text": [
      "\n",
      "# plot params\n",
      "- set_style_pers\n",
      "\n",
      "# EDA functions\n",
      " ## multiple dfs exploration\n",
      "- dfs_insight\n",
      " ## univariate analysis\n",
      "- plot_cont_kde\n",
      "- plot_cat_countplot\n",
      "# Clustering functions\n",
      "- radar_ploting_clustering\n",
      "\n"
     ]
    },
    {
     "data": {
      "text/plain": [
       "<Figure size 720x432 with 0 Axes>"
      ]
     },
     "metadata": {},
     "output_type": "display_data"
    }
   ],
   "source": [
    "\"\"\"Importing functions and style params\"\"\"\n",
    "os.chdir('C:/Users/VP/Google Drive/Education/OC/working_directory/personal_modules')\n",
    "%run -i useful_functions.py"
   ]
  },
  {
   "cell_type": "markdown",
   "id": "9f6ef971",
   "metadata": {},
   "source": [
    "# Importing datasets after EDA"
   ]
  },
  {
   "cell_type": "markdown",
   "id": "365b4add",
   "metadata": {},
   "source": [
    "these datasets have been cleaned from outliers for DAYS_BIRTH, cat variables have been onehotencoded or labelencoded (card <= 2) and variables correlated at more than 0.8 were removed"
   ]
  },
  {
   "cell_type": "code",
   "execution_count": 256,
   "id": "a38ae362",
   "metadata": {},
   "outputs": [],
   "source": [
    "with open(\"D:/Dowloads_D/Data_OC/P7/uncorr_data.txt\", 'rb') as fic:\n",
    "    mon_depickler = pickle.Unpickler(fic)\n",
    "    loaded = mon_depickler.load()\n",
    "\n",
    "train, test = loaded"
   ]
  },
  {
   "cell_type": "code",
   "execution_count": 257,
   "id": "c1ae4103",
   "metadata": {},
   "outputs": [],
   "source": [
    "dfs_dict= dict()\n",
    "dfs_dict[\"train\"] = train\n",
    "dfs_dict[\"test\"] = test"
   ]
  },
  {
   "cell_type": "markdown",
   "id": "7098e107",
   "metadata": {},
   "source": [
    "# sampling dataset for cross validation"
   ]
  },
  {
   "cell_type": "code",
   "execution_count": 258,
   "id": "72d2df2f",
   "metadata": {},
   "outputs": [],
   "source": [
    "from sklearn.model_selection import train_test_split"
   ]
  },
  {
   "cell_type": "code",
   "execution_count": 259,
   "id": "55e36f43",
   "metadata": {},
   "outputs": [],
   "source": [
    "# sampling the train dataset to make the CV faster, stratifying as per TARGET\n",
    "train_sample, val_sample = train_test_split(train, test_size=0.90, stratify=train['TARGET'], random_state=seed)"
   ]
  },
  {
   "cell_type": "code",
   "execution_count": 260,
   "id": "c1f2e1e4",
   "metadata": {},
   "outputs": [
    {
     "data": {
      "text/plain": [
       "0    28269\n",
       "1     2482\n",
       "Name: TARGET, dtype: int64"
      ]
     },
     "execution_count": 260,
     "metadata": {},
     "output_type": "execute_result"
    }
   ],
   "source": [
    "target_count = train_sample['TARGET'].value_counts()\n",
    "target_count"
   ]
  },
  {
   "cell_type": "code",
   "execution_count": null,
   "id": "449526ac",
   "metadata": {},
   "outputs": [],
   "source": []
  },
  {
   "cell_type": "code",
   "execution_count": 261,
   "id": "a14b4666",
   "metadata": {},
   "outputs": [
    {
     "data": {
      "image/png": "[encoded data removed]",
      "text/plain": [
       "<Figure size 720x432 with 1 Axes>"
      ]
     },
     "metadata": {},
     "output_type": "display_data"
    }
   ],
   "source": [
    "sns.barplot(x=target_count.index, y=target_count.values)\n",
    "\n",
    "for p in plt.gca().patches:\n",
    "    plt.gca().annotate(\"{:.1%} \\n {}\".format(round(p.get_height() / sum(target_count.values), 1)\n",
    "                                             , round(p.get_height()))                             # % and count\n",
    "                        , (p.get_x()+0.4, p.get_height()+2000)                                    # position\n",
    "                        , ha='center', va='top', color='k', size=18)                              # kwargs\n",
    "    \n",
    "plt.title('Distribution of TARGET after Sampling', fontsize=25);"
   ]
  },
  {
   "cell_type": "markdown",
   "id": "e3447803",
   "metadata": {},
   "source": [
    "# Preprocessing pipeline"
   ]
  },
  {
   "cell_type": "markdown",
   "id": "ff031a11",
   "metadata": {},
   "source": [
    "### Particular case, imputation of Days_Employed"
   ]
  },
  {
   "cell_type": "markdown",
   "id": "ce63590b",
   "metadata": {},
   "source": [
    "During the EDA, we spotted 55474 clients with an aberrant number of days_employed, we replaced it by NaN and flagged them with a column DAYS_EMPLOYED_ANOM.\n",
    "We are now imputing them with the median of the following group: NAME_EDUCATION_TYPE>OCCUPATION_TYPE>AGE_GROUP (last one to be created below)"
   ]
  },
  {
   "cell_type": "code",
   "execution_count": 262,
   "id": "ac8b641f",
   "metadata": {},
   "outputs": [],
   "source": [
    "# to deep dive in EDA: there are three DAYS_EMPLOYED that are NaN but that are flagged as False, we correct it below:\n",
    "# train.loc[(train['DAYS_EMPLOYED'].isna() == True) & (train['DAYS_EMPLOYED_ANOM'] == False), 'DAYS_EMPLOYED_ANOM'] = True\n",
    "# train.loc[(train['DAYS_EMPLOYED'].isna() == True), 'DAYS_EMPLOYED_ANOM'] == True\n",
    "# check done in EDA; looks ok, probably a punctual mistake"
   ]
  },
  {
   "cell_type": "code",
   "execution_count": 263,
   "id": "7fba517c",
   "metadata": {},
   "outputs": [],
   "source": [
    "# we need categorical variables not encoded to compute this median\n",
    "os.chdir('D:/Dowloads_D/Data_OC/P7' )\n",
    "app_test_impute = pd.read_csv('application_test.csv', usecols=['SK_ID_CURR', 'NAME_EDUCATION_TYPE','DAYS_BIRTH', 'DAYS_EMPLOYED'])\n",
    "app_train_impute = pd.read_csv('application_train.csv', usecols=['SK_ID_CURR', 'NAME_EDUCATION_TYPE','DAYS_BIRTH', 'DAYS_EMPLOYED'])"
   ]
  },
  {
   "cell_type": "code",
   "execution_count": 264,
   "id": "3fdf31d0",
   "metadata": {},
   "outputs": [],
   "source": [
    "# we are going to use the age group of the client for the imputation as well\n",
    "#            70y     60      45      21   \n",
    "age_bins = [-25550, -21900, -16425, -7665, 0]\n",
    "bins_labels = ['60-70', '45-60', '21-45', '0-21']\n",
    "app_train_impute['AGE_GROUP'] = pd.cut(app_train_impute['DAYS_BIRTH'], age_bins, labels=bins_labels)\n",
    "app_test_impute['AGE_GROUP'] = pd.cut(app_test_impute['DAYS_BIRTH'], age_bins, labels=bins_labels)"
   ]
  },
  {
   "cell_type": "code",
   "execution_count": 265,
   "id": "df9e3cd9",
   "metadata": {},
   "outputs": [
    {
     "data": {
      "text/html": [
       "<div>\n",
       "<style scoped>\n",
       "    .dataframe tbody tr th:only-of-type {\n",
       "        vertical-align: middle;\n",
       "    }\n",
       "\n",
       "    .dataframe tbody tr th {\n",
       "        vertical-align: top;\n",
       "    }\n",
       "\n",
       "    .dataframe thead th {\n",
       "        text-align: right;\n",
       "    }\n",
       "</style>\n",
       "<table border=\"1\" class=\"dataframe\">\n",
       "  <thead>\n",
       "    <tr style=\"text-align: right;\">\n",
       "      <th></th>\n",
       "      <th>NAME_EDUCATION_TYPE</th>\n",
       "      <th>AGE_GROUP</th>\n",
       "      <th>DAYS_EMPLOYED</th>\n",
       "    </tr>\n",
       "  </thead>\n",
       "  <tbody>\n",
       "    <tr>\n",
       "      <th>0</th>\n",
       "      <td>Academic degree</td>\n",
       "      <td>60-70</td>\n",
       "      <td>365243.0</td>\n",
       "    </tr>\n",
       "    <tr>\n",
       "      <th>1</th>\n",
       "      <td>Academic degree</td>\n",
       "      <td>45-60</td>\n",
       "      <td>-1552.0</td>\n",
       "    </tr>\n",
       "    <tr>\n",
       "      <th>2</th>\n",
       "      <td>Academic degree</td>\n",
       "      <td>21-45</td>\n",
       "      <td>-1846.0</td>\n",
       "    </tr>\n",
       "    <tr>\n",
       "      <th>4</th>\n",
       "      <td>Higher education</td>\n",
       "      <td>60-70</td>\n",
       "      <td>365243.0</td>\n",
       "    </tr>\n",
       "    <tr>\n",
       "      <th>5</th>\n",
       "      <td>Higher education</td>\n",
       "      <td>45-60</td>\n",
       "      <td>-1762.0</td>\n",
       "    </tr>\n",
       "    <tr>\n",
       "      <th>6</th>\n",
       "      <td>Higher education</td>\n",
       "      <td>21-45</td>\n",
       "      <td>-1435.0</td>\n",
       "    </tr>\n",
       "    <tr>\n",
       "      <th>8</th>\n",
       "      <td>Incomplete higher</td>\n",
       "      <td>60-70</td>\n",
       "      <td>365243.0</td>\n",
       "    </tr>\n",
       "    <tr>\n",
       "      <th>9</th>\n",
       "      <td>Incomplete higher</td>\n",
       "      <td>45-60</td>\n",
       "      <td>-1588.0</td>\n",
       "    </tr>\n",
       "    <tr>\n",
       "      <th>10</th>\n",
       "      <td>Incomplete higher</td>\n",
       "      <td>21-45</td>\n",
       "      <td>-1109.0</td>\n",
       "    </tr>\n",
       "    <tr>\n",
       "      <th>12</th>\n",
       "      <td>Lower secondary</td>\n",
       "      <td>60-70</td>\n",
       "      <td>365243.0</td>\n",
       "    </tr>\n",
       "    <tr>\n",
       "      <th>13</th>\n",
       "      <td>Lower secondary</td>\n",
       "      <td>45-60</td>\n",
       "      <td>-220.0</td>\n",
       "    </tr>\n",
       "    <tr>\n",
       "      <th>14</th>\n",
       "      <td>Lower secondary</td>\n",
       "      <td>21-45</td>\n",
       "      <td>-1256.0</td>\n",
       "    </tr>\n",
       "    <tr>\n",
       "      <th>16</th>\n",
       "      <td>Secondary / secondary special</td>\n",
       "      <td>60-70</td>\n",
       "      <td>365243.0</td>\n",
       "    </tr>\n",
       "    <tr>\n",
       "      <th>17</th>\n",
       "      <td>Secondary / secondary special</td>\n",
       "      <td>45-60</td>\n",
       "      <td>-1354.0</td>\n",
       "    </tr>\n",
       "    <tr>\n",
       "      <th>18</th>\n",
       "      <td>Secondary / secondary special</td>\n",
       "      <td>21-45</td>\n",
       "      <td>-1430.0</td>\n",
       "    </tr>\n",
       "    <tr>\n",
       "      <th>19</th>\n",
       "      <td>Secondary / secondary special</td>\n",
       "      <td>0-21</td>\n",
       "      <td>-797.0</td>\n",
       "    </tr>\n",
       "  </tbody>\n",
       "</table>\n",
       "</div>"
      ],
      "text/plain": [
       "              NAME_EDUCATION_TYPE AGE_GROUP  DAYS_EMPLOYED\n",
       "0                 Academic degree     60-70       365243.0\n",
       "1                 Academic degree     45-60        -1552.0\n",
       "2                 Academic degree     21-45        -1846.0\n",
       "4                Higher education     60-70       365243.0\n",
       "5                Higher education     45-60        -1762.0\n",
       "6                Higher education     21-45        -1435.0\n",
       "8               Incomplete higher     60-70       365243.0\n",
       "9               Incomplete higher     45-60        -1588.0\n",
       "10              Incomplete higher     21-45        -1109.0\n",
       "12                Lower secondary     60-70       365243.0\n",
       "13                Lower secondary     45-60         -220.0\n",
       "14                Lower secondary     21-45        -1256.0\n",
       "16  Secondary / secondary special     60-70       365243.0\n",
       "17  Secondary / secondary special     45-60        -1354.0\n",
       "18  Secondary / secondary special     21-45        -1430.0\n",
       "19  Secondary / secondary special      0-21         -797.0"
      ]
     },
     "execution_count": 265,
     "metadata": {},
     "output_type": "execute_result"
    }
   ],
   "source": [
    "# we build aour table of median per group using the train data\n",
    "days_employed_medians = app_train_impute[['NAME_EDUCATION_TYPE', 'AGE_GROUP', 'DAYS_EMPLOYED']].groupby(['NAME_EDUCATION_TYPE', 'AGE_GROUP']).median().reset_index()\n",
    "days_employed_medians.dropna(how='any', inplace=True)\n",
    "days_employed_medians"
   ]
  },
  {
   "cell_type": "code",
   "execution_count": 266,
   "id": "fc192b15",
   "metadata": {},
   "outputs": [],
   "source": [
    "# we add non encoded grouping features to the train dataset\n",
    "train['NAME_EDUCATION_TYPE'] = app_train_impute['NAME_EDUCATION_TYPE']\n",
    "train['AGE_GROUP'] = app_train_impute['AGE_GROUP']\n",
    "\n",
    "test['NAME_EDUCATION_TYPE'] = app_test_impute['NAME_EDUCATION_TYPE']\n",
    "test['AGE_GROUP'] = app_test_impute['AGE_GROUP']"
   ]
  },
  {
   "cell_type": "code",
   "execution_count": 267,
   "id": "d3fe6579",
   "metadata": {},
   "outputs": [],
   "source": [
    "# alternative with custom heavy function that has the advatantage of preveting data leakage without creating a transformer \n",
    "mask_train = (train['DAYS_EMPLOYED_ANOM'] == True)\n",
    "mask_test = (test['DAYS_EMPLOYED_ANOM'] == True)\n",
    "\n",
    "def get_median(NAME_EDUCATION_TYPE, AGE_GROUP, days_employed_medians):\n",
    "    \n",
    "    days_employed_medians = days_employed_medians.loc[(days_employed_medians['NAME_EDUCATION_TYPE'] == NAME_EDUCATION_TYPE) \n",
    "                                                      # & (days_employed_medians['OCCUPATION_TYPE'] == OCCUPATION_TYPE) \n",
    "                                                      & (days_employed_medians['AGE_GROUP'] == AGE_GROUP),:]\n",
    "    \n",
    "    # print(days_employed_medians['DAYS_EMPLOYED'])\n",
    "    return int(days_employed_medians['DAYS_EMPLOYED'])"
   ]
  },
  {
   "cell_type": "code",
   "execution_count": 268,
   "id": "2a821fec",
   "metadata": {},
   "outputs": [],
   "source": [
    "train.loc[mask_train,'DAYS_EMPLOYED'] = train.loc[mask_train,:].apply(lambda x: get_median(x['NAME_EDUCATION_TYPE'], x['AGE_GROUP'], days_employed_medians), axis=1)\n",
    "test.loc[mask_test,'DAYS_EMPLOYED'] = test.loc[mask_test,:].apply(lambda x: get_median(x['NAME_EDUCATION_TYPE'], x['AGE_GROUP'], days_employed_medians), axis=1)"
   ]
  },
  {
   "cell_type": "code",
   "execution_count": 269,
   "id": "44fe59ab",
   "metadata": {},
   "outputs": [],
   "source": [
    "# imputation using pandas (faster)\n",
    "# fill_median = lambda g: g.fillna(g.median())\n",
    "# train.loc[train['DAYS_EMPLOYED_ANOM'] == True,'DAYS_EMPLOYED'] = train.groupby(['NAME_EDUCATION_TYPE', 'AGE_GROUP'])['DAYS_EMPLOYED'].apply(fill_median)"
   ]
  },
  {
   "cell_type": "code",
   "execution_count": 270,
   "id": "b90386e1",
   "metadata": {},
   "outputs": [
    {
     "data": {
      "text/plain": [
       "\"\\ndef median(s):\\n    m = s.median()\\n    if np.isnan(m):\\n        m = train['DAYS_EMPLOYED'].median()\\n    return m\\ntrain['DAYS_EMPLOYED'] =  (train.groupby(['NAME_EDUCATION_TYPE', 'AGE_GROUP'],\\n                                         dropna=False\\n                                        )\\n                                ['DAYS_EMPLOYED'].apply(lambda x: x.fillna(median(x)))\\n                          )\\n\""
      ]
     },
     "execution_count": 270,
     "metadata": {},
     "output_type": "execute_result"
    }
   ],
   "source": [
    "# imputation using pandas (faster) + use of general median in case of median equal to NaN for the group\n",
    "\"\"\"\n",
    "def median(s):\n",
    "    m = s.median()\n",
    "    if np.isnan(m):\n",
    "        m = train['DAYS_EMPLOYED'].median()\n",
    "    return m\n",
    "train['DAYS_EMPLOYED'] =  (train.groupby(['NAME_EDUCATION_TYPE', 'AGE_GROUP'],\n",
    "                                         dropna=False\n",
    "                                        )\n",
    "                                ['DAYS_EMPLOYED'].apply(lambda x: x.fillna(median(x)))\n",
    "                          )\n",
    "\"\"\""
   ]
  },
  {
   "cell_type": "code",
   "execution_count": 271,
   "id": "d4a53c69",
   "metadata": {},
   "outputs": [],
   "source": [
    "# droping cat columns used for imputation\n",
    "train.drop(['NAME_EDUCATION_TYPE', 'AGE_GROUP'], axis=1, inplace=True)\n",
    "# droping another useless column\n",
    "# train.drop(['1'], axis=1, inplace=True)\n",
    "\n",
    "test.drop(['NAME_EDUCATION_TYPE', 'AGE_GROUP'], axis=1, inplace=True)\n",
    "# droping another useless column\n",
    "# test.drop(['1'], axis=1, inplace=True)"
   ]
  },
  {
   "cell_type": "markdown",
   "id": "b453f621",
   "metadata": {},
   "source": [
    "## imputation transform"
   ]
  },
  {
   "cell_type": "markdown",
   "id": "5bc5f290",
   "metadata": {},
   "source": [
    "We are building different imputers to find the best one. Note that categorical variables are now numeric thanks to encoding, so no need to applied a separa"
   ]
  },
  {
   "cell_type": "code",
   "execution_count": 272,
   "id": "47850591",
   "metadata": {},
   "outputs": [],
   "source": [
    "from sklearn.impute import SimpleImputer"
   ]
  },
  {
   "cell_type": "code",
   "execution_count": 273,
   "id": "01ee2859",
   "metadata": {},
   "outputs": [],
   "source": [
    "median_imputer = SimpleImputer(strategy='median')\n",
    "mean_imputer = SimpleImputer(strategy='mean')\n",
    "zero_imputer = SimpleImputer(strategy='constant')"
   ]
  },
  {
   "cell_type": "markdown",
   "id": "4ea6493b",
   "metadata": {},
   "source": [
    "### Custom imputer"
   ]
  },
  {
   "cell_type": "markdown",
   "id": "3a7743bb",
   "metadata": {},
   "source": [
    "We are going to create a custom transformer that will apply two distinct treatments, either 0 for for selected variables or the the median by  for all the other variables"
   ]
  },
  {
   "cell_type": "code",
   "execution_count": 274,
   "id": "6d41b6b8",
   "metadata": {},
   "outputs": [
    {
     "data": {
      "text/plain": [
       "COMMONAREA_AVG                              214865\n",
       "NONLIVINGAPARTMENTS_AVG                     213514\n",
       "FLOORSMIN_AVG                               208642\n",
       "YEARS_BUILD_AVG                             204488\n",
       "OWN_CAR_AGE                                 202929\n",
       "LANDAREA_AVG                                182590\n",
       "BASEMENTAREA_AVG                            179943\n",
       "NONLIVINGAREA_AVG                           169682\n",
       "APARTMENTS_AVG                              156061\n",
       "ENTRANCES_AVG                               154828\n",
       "FLOORSMAX_AVG                               153020\n",
       "YEARS_BEGINEXPLUATATION_AVG                 150007\n",
       "AMT_REQ_CREDIT_BUREAU_HOUR                   41519\n",
       "AMT_REQ_CREDIT_BUREAU_DAY                    41519\n",
       "AMT_REQ_CREDIT_BUREAU_WEEK                   41519\n",
       "AMT_REQ_CREDIT_BUREAU_MON                    41519\n",
       "AMT_REQ_CREDIT_BUREAU_QRT                    41519\n",
       "AMT_REQ_CREDIT_BUREAU_YEAR                   41519\n",
       "DEF_30_CNT_SOCIAL_CIRCLE                      1021\n",
       "OBS_30_CNT_SOCIAL_CIRCLE                      1021\n",
       "EXT_SOURCE_2_x                                 660\n",
       "AMT_ANNUITY                                     12\n",
       "DAYS_LAST_PHONE_CHANGE                           1\n",
       "ORGANIZATION_TYPE_Business Entity Type 2         0\n",
       "ORGANIZATION_TYPE_Industry: type 8               0\n",
       "ORGANIZATION_TYPE_Industry: type 13              0\n",
       "ORGANIZATION_TYPE_Industry: type 2               0\n",
       "ORGANIZATION_TYPE_Industry: type 3               0\n",
       "ORGANIZATION_TYPE_Industry: type 4               0\n",
       "ORGANIZATION_TYPE_Industry: type 5               0\n",
       "dtype: int64"
      ]
     },
     "execution_count": 274,
     "metadata": {},
     "output_type": "execute_result"
    }
   ],
   "source": [
    "train[[col for col in train.columns if 'bureau' not in col]].isna().sum().sort_values(ascending=False).head(30)"
   ]
  },
  {
   "cell_type": "markdown",
   "id": "9c5bd073",
   "metadata": {},
   "source": [
    "EXT_SOURCE_2_x has 0.2% of NaN, so we can impute it with median despite its correlation to the target without running the risk of biasing the dataset"
   ]
  },
  {
   "cell_type": "code",
   "execution_count": 275,
   "id": "a4485efd",
   "metadata": {},
   "outputs": [],
   "source": [
    "# variables where NaN will be replaced by 0\n",
    "zero_imputed_cols = [\n",
    "       *list(train[[col for col in train.columns if 'bureau' in col]].isna().mean().sort_values(ascending=False).index) # all variables to the bureau datasets, NaN are all the clients of app train that had no history in the bueau datasets, so 0 is a relevant choice\n",
    "        , 'COMMONAREA_AVG' # if the person is not living in a common area, 0 would be logical\n",
    "        , 'YEARS_BUILD_AVG'\n",
    "        , 'OWN_CAR_AGE'   # NaN probably means client does not own a car\n",
    "        , 'YEARS_BEGINEXPLUATATION_AVG'\n",
    "        , 'AMT_REQ_CREDIT_BUREAU_HOUR'  # number of enquiries made about a client to credit bureau, NaN means probably no inquiries were made\n",
    "        , 'AMT_REQ_CREDIT_BUREAU_DAY'\n",
    "        , 'AMT_REQ_CREDIT_BUREAU_WEEK'\n",
    "        , 'AMT_REQ_CREDIT_BUREAU_MON'\n",
    "        , 'AMT_REQ_CREDIT_BUREAU_QRT'\n",
    "        , 'AMT_REQ_CREDIT_BUREAU_YEAR'\n",
    "        , 'DEF_30_CNT_SOCIAL_CIRCLE'   # NaN probably means no observations\n",
    "        , 'OBS_30_CNT_SOCIAL_CIRCLE'\n",
    "    \n",
    "]\n",
    "\n",
    "# variables where NaN will be replaced by median\n",
    "non_zero_imputed_cols = [col for col in train.columns if col not in zero_imputed_cols]"
   ]
  },
  {
   "cell_type": "code",
   "execution_count": 276,
   "id": "b3dcdb7e",
   "metadata": {},
   "outputs": [],
   "source": [
    "from sklearn.compose import ColumnTransformer\n",
    "cust_imputer = ColumnTransformer([\n",
    "      (\"zero_imputer\", SimpleImputer(strategy='constant'), zero_imputed_cols)\n",
    "    , (\"median\", SimpleImputer(strategy='median'), non_zero_imputed_cols)\n",
    "], remainder='passthrough')"
   ]
  },
  {
   "cell_type": "code",
   "execution_count": 277,
   "id": "7cf22e09",
   "metadata": {},
   "outputs": [],
   "source": [
    "# test to check that custom imputer works\n",
    "train_array = cust_imputer.fit_transform(train)"
   ]
  },
  {
   "cell_type": "code",
   "execution_count": 278,
   "id": "fe79f7dd",
   "metadata": {},
   "outputs": [],
   "source": [
    "train = pd.DataFrame(train_array, index = train.index, columns=train.columns)"
   ]
  },
  {
   "cell_type": "code",
   "execution_count": 279,
   "id": "0a280b0e",
   "metadata": {},
   "outputs": [
    {
     "data": {
      "text/plain": [
       "SK_ID_CURR                                  0\n",
       "ORGANIZATION_TYPE_Housing                   0\n",
       "ORGANIZATION_TYPE_Business Entity Type 1    0\n",
       "ORGANIZATION_TYPE_Business Entity Type 2    0\n",
       "ORGANIZATION_TYPE_Business Entity Type 3    0\n",
       "ORGANIZATION_TYPE_Cleaning                  0\n",
       "ORGANIZATION_TYPE_Construction              0\n",
       "ORGANIZATION_TYPE_Culture                   0\n",
       "ORGANIZATION_TYPE_Electricity               0\n",
       "ORGANIZATION_TYPE_Emergency                 0\n",
       "ORGANIZATION_TYPE_Government                0\n",
       "ORGANIZATION_TYPE_Hotel                     0\n",
       "ORGANIZATION_TYPE_Industry: type 1          0\n",
       "NAME_CONTRACT_TYPE                          0\n",
       "ORGANIZATION_TYPE_Industry: type 10         0\n",
       "ORGANIZATION_TYPE_Industry: type 11         0\n",
       "ORGANIZATION_TYPE_Industry: type 12         0\n",
       "ORGANIZATION_TYPE_Industry: type 13         0\n",
       "ORGANIZATION_TYPE_Industry: type 2          0\n",
       "ORGANIZATION_TYPE_Industry: type 3          0\n",
       "ORGANIZATION_TYPE_Industry: type 4          0\n",
       "ORGANIZATION_TYPE_Industry: type 5          0\n",
       "ORGANIZATION_TYPE_Industry: type 6          0\n",
       "ORGANIZATION_TYPE_Industry: type 7          0\n",
       "ORGANIZATION_TYPE_Bank                      0\n",
       "ORGANIZATION_TYPE_Agriculture               0\n",
       "ORGANIZATION_TYPE_Advertising               0\n",
       "WEEKDAY_APPR_PROCESS_START_WEDNESDAY        0\n",
       "OCCUPATION_TYPE_Core staff                  0\n",
       "OCCUPATION_TYPE_Drivers                     0\n",
       "dtype: int64"
      ]
     },
     "execution_count": 279,
     "metadata": {},
     "output_type": "execute_result"
    }
   ],
   "source": [
    "train[[col for col in train.columns if 'bureau' not in col]].isna().sum().sort_values(ascending=False).head(30)"
   ]
  },
  {
   "cell_type": "markdown",
   "id": "9199a346",
   "metadata": {},
   "source": [
    "## feature scaling transform"
   ]
  },
  {
   "cell_type": "code",
   "execution_count": 280,
   "id": "51646667",
   "metadata": {},
   "outputs": [],
   "source": [
    "from sklearn.preprocessing import MinMaxScaler, RobustScaler"
   ]
  },
  {
   "cell_type": "markdown",
   "id": "4171d34e",
   "metadata": {},
   "source": [
    "MinMaxScaler = MinMaxScaler()\n",
    "RobustScaler = RobustScaler()"
   ]
  },
  {
   "cell_type": "markdown",
   "id": "447653be",
   "metadata": {},
   "source": [
    "## RUS and SMOTE"
   ]
  },
  {
   "cell_type": "code",
   "execution_count": 281,
   "id": "48172da5",
   "metadata": {},
   "outputs": [],
   "source": [
    "from imblearn.over_sampling import SMOTE\n",
    "from imblearn.under_sampling import RandomUnderSampler\n",
    "\n",
    "# parameters to adapt\n",
    "over = SMOTE(sampling_strategy=0.4, random_state=seed)\n",
    "under = RandomUnderSampler(sampling_strategy=0.5, random_state=seed)"
   ]
  },
  {
   "cell_type": "markdown",
   "id": "2a57baf3",
   "metadata": {},
   "source": [
    "## Feature selection"
   ]
  },
  {
   "cell_type": "code",
   "execution_count": 282,
   "id": "01af1b25",
   "metadata": {},
   "outputs": [],
   "source": [
    "from sklearn.feature_selection import RFE\n",
    "from sklearn.tree import DecisionTreeClassifier\n",
    "from sklearn.feature_selection import SelectKBest\n",
    "\n",
    "rfe = RFE(estimator=DecisionTreeClassifier(random_state=seed), n_features_to_select=50)\n",
    "SKB = SelectKBest(k=50)"
   ]
  },
  {
   "cell_type": "markdown",
   "id": "26112e22",
   "metadata": {},
   "source": [
    "# GridSearchCV per model"
   ]
  },
  {
   "cell_type": "markdown",
   "id": "bcf15ec1",
   "metadata": {},
   "source": [
    "We are going to to a grid search for steps and hyperparamaters for to models successively: RFClassifier and LGBM"
   ]
  },
  {
   "cell_type": "code",
   "execution_count": 283,
   "id": "e3d9c48d",
   "metadata": {},
   "outputs": [],
   "source": [
    "from sklearn.model_selection import StratifiedKFold"
   ]
  },
  {
   "cell_type": "markdown",
   "id": "48e3c941",
   "metadata": {},
   "source": [
    "## SKFold and spliting X and y"
   ]
  },
  {
   "cell_type": "code",
   "execution_count": 284,
   "id": "2036f7dc",
   "metadata": {},
   "outputs": [],
   "source": [
    "# stratified kfold used for the two CVs\n",
    "Skfold = StratifiedKFold(n_splits=5, shuffle=True, random_state=seed)"
   ]
  },
  {
   "cell_type": "code",
   "execution_count": 311,
   "id": "8b699fa9",
   "metadata": {},
   "outputs": [],
   "source": [
    "# splitting features and Target \n",
    "X, y = train_sample.iloc[:,2:-1], train_sample.iloc[:,-1]"
   ]
  },
  {
   "cell_type": "markdown",
   "id": "7d0ba25b",
   "metadata": {},
   "source": [
    "### test smote + RUS"
   ]
  },
  {
   "cell_type": "code",
   "execution_count": 286,
   "id": "f438ab36",
   "metadata": {},
   "outputs": [],
   "source": [
    "from imblearn.pipeline import Pipeline as im_pipeline"
   ]
  },
  {
   "cell_type": "code",
   "execution_count": 287,
   "id": "70cbcdf0",
   "metadata": {},
   "outputs": [],
   "source": [
    "class cust_im_pipeline(im_pipeline):\n",
    "    def just_transforms(self, X):\n",
    "        \"\"\"Applies all transforms to the data, without applying last \n",
    "           estimator.\n",
    "\n",
    "        Parameters\n",
    "        ----------\n",
    "        X : iterable\n",
    "            Data to predict on. Must fulfill input requirements of first step of\n",
    "            the pipeline.\n",
    "        \"\"\"\n",
    "        Xt = X\n",
    "        for name, transform in self.steps[:-1]:\n",
    "            try:\n",
    "                Xt = transform.transform(Xt)\n",
    "            except:\n",
    "                Xt = transform.transform(Xt)\n",
    "        return Xt"
   ]
  },
  {
   "cell_type": "code",
   "execution_count": 288,
   "id": "6bad5687",
   "metadata": {},
   "outputs": [],
   "source": [
    "pipe = im_pipeline(steps=[\n",
    "      ('imputer', SimpleImputer())\n",
    "    , ('scaler', MinMaxScaler())\n",
    "])"
   ]
  },
  {
   "cell_type": "code",
   "execution_count": 289,
   "id": "89b288b6",
   "metadata": {},
   "outputs": [],
   "source": [
    "Xr= pipe.fit_transform(X, y)"
   ]
  },
  {
   "cell_type": "code",
   "execution_count": 290,
   "id": "498199ff",
   "metadata": {},
   "outputs": [],
   "source": [
    "Xo, yo = over.fit_sample(Xr, y)"
   ]
  },
  {
   "cell_type": "code",
   "execution_count": 291,
   "id": "1d0f403a",
   "metadata": {},
   "outputs": [
    {
     "data": {
      "text/plain": [
       "(39576, 313)"
      ]
     },
     "execution_count": 291,
     "metadata": {},
     "output_type": "execute_result"
    }
   ],
   "source": [
    "Xo.shape"
   ]
  },
  {
   "cell_type": "code",
   "execution_count": 292,
   "id": "cba5025a",
   "metadata": {},
   "outputs": [
    {
     "data": {
      "text/plain": [
       "0    28269\n",
       "1    11307\n",
       "Name: TARGET, dtype: int64"
      ]
     },
     "execution_count": 292,
     "metadata": {},
     "output_type": "execute_result"
    }
   ],
   "source": [
    "yo.value_counts()"
   ]
  },
  {
   "cell_type": "code",
   "execution_count": 293,
   "id": "0341b80e",
   "metadata": {},
   "outputs": [],
   "source": [
    "Xu, yu = under.fit_sample(Xr, y)"
   ]
  },
  {
   "cell_type": "code",
   "execution_count": 294,
   "id": "24b3fca7",
   "metadata": {},
   "outputs": [
    {
     "data": {
      "text/plain": [
       "0    4964\n",
       "1    2482\n",
       "Name: TARGET, dtype: int64"
      ]
     },
     "execution_count": 294,
     "metadata": {},
     "output_type": "execute_result"
    }
   ],
   "source": [
    "yu.value_counts()"
   ]
  },
  {
   "cell_type": "markdown",
   "id": "0f478341",
   "metadata": {},
   "source": [
    "## RFClassifier"
   ]
  },
  {
   "cell_type": "code",
   "execution_count": 42,
   "id": "ddd0d5f7",
   "metadata": {},
   "outputs": [],
   "source": [
    "from sklearn.ensemble import RandomForestClassifier\n",
    "RFC = RandomForestClassifier(random_state=seed)"
   ]
  },
  {
   "cell_type": "markdown",
   "id": "44ea278e",
   "metadata": {},
   "source": [
    "### building imbl pipeline and grid"
   ]
  },
  {
   "cell_type": "code",
   "execution_count": 44,
   "id": "c7499382",
   "metadata": {},
   "outputs": [],
   "source": [
    "pipe_rfc = im_pipeline(steps=[\n",
    "      ('imputer', SimpleImputer())\n",
    "    , ('scaler', MinMaxScaler())\n",
    "    , ('weight_strat', SMOTE())\n",
    "#    , ('under', RandomUnderSampler())\n",
    "    , ('feat_selec', SelectKBest(k=50))\n",
    "    , ('RFC', RandomForestClassifier())    \n",
    "]\n",
    "    ,memory=\"D:/Dowloads_D/Data_OC/P7\", verbose=True)"
   ]
  },
  {
   "cell_type": "code",
   "execution_count": 45,
   "id": "983e9ce8",
   "metadata": {},
   "outputs": [],
   "source": [
    "imputers=[\n",
    "       #median_imputer \n",
    "     mean_imputer # best\n",
    "    #, zero_imputer # retunrs NaN\n",
    "    #, cust_imputer # retunrs NaN\n",
    "]\n",
    "# scalers\n",
    "scalers=[\n",
    "     #MinMaxScaler\n",
    "     RobustScaler()    #best\n",
    "]\n",
    "# over/undersampling\n",
    "weight_strat=[\n",
    "     over\n",
    "    #, under\n",
    "]\n",
    "# Feature_selectors\n",
    "SKB #best\n",
    "\n",
    "# params grid\n",
    "\n",
    "param_grid_rfc = {  'imputer': imputers\n",
    "        , 'scaler': scalers\n",
    "        , 'weight_strat': weight_strat\n",
    "        #, 'under': [RandomUnderSampler(sampling_strategy=0.5)]\n",
    "        , 'feat_selec': [SKB] \n",
    "        , 'RFC': [RFC]\n",
    "        , 'RFC__max_depth': [10]\n",
    "        , 'RFC__n_estimators': [50]\n",
    "       }"
   ]
  },
  {
   "cell_type": "code",
   "execution_count": 46,
   "id": "2d99bd4d",
   "metadata": {},
   "outputs": [],
   "source": [
    "from sklearn.model_selection import GridSearchCV\n",
    "\n",
    "grid_rfc = GridSearchCV(pipe_rfc, param_grid_rfc, cv=Skfold, scoring='roc_auc', verbose=2, n_jobs=-1, )"
   ]
  },
  {
   "cell_type": "code",
   "execution_count": 47,
   "id": "6b7a6ecb",
   "metadata": {},
   "outputs": [
    {
     "name": "stdout",
     "output_type": "stream",
     "text": [
      "Fitting 5 folds for each of 1 candidates, totalling 5 fits\n",
      "[Pipeline] ........... (step 1 of 5) Processing imputer, total=   0.3s\n",
      "[Pipeline] ............ (step 2 of 5) Processing scaler, total=   0.1s\n",
      "[Pipeline] .............. (step 3 of 5) Processing over, total=   0.0s\n"
     ]
    },
    {
     "name": "stderr",
     "output_type": "stream",
     "text": [
      "C:\\Users\\VP\\anaconda3\\lib\\site-packages\\sklearn\\feature_selection\\_univariate_selection.py:114: UserWarning: Features [ 14  41  43  49  51  76  80  81 149 197 211 220 223 230] are constant.\n",
      "  warnings.warn(\"Features %s are constant.\" % constant_features_idx,\n",
      "C:\\Users\\VP\\anaconda3\\lib\\site-packages\\sklearn\\feature_selection\\_univariate_selection.py:116: RuntimeWarning: invalid value encountered in true_divide\n",
      "  f = msb / msw\n"
     ]
    },
    {
     "name": "stdout",
     "output_type": "stream",
     "text": [
      "[Pipeline] ........ (step 4 of 5) Processing feat_selec, total=   0.0s\n",
      "[Pipeline] ............... (step 5 of 5) Processing RFC, total=   0.8s\n",
      "Fitting 5 folds for each of 1 candidates, totalling 5 fits\n",
      "[Pipeline] ............... (step 5 of 5) Processing RFC, total=   0.7s\n",
      "Fitting 5 folds for each of 1 candidates, totalling 5 fits\n",
      "[Pipeline] ............... (step 5 of 5) Processing RFC, total=   0.7s\n",
      "Fitting 5 folds for each of 1 candidates, totalling 5 fits\n",
      "[Pipeline] ............... (step 5 of 5) Processing RFC, total=   0.7s\n",
      "Fitting 5 folds for each of 1 candidates, totalling 5 fits\n",
      "[Pipeline] ............... (step 5 of 5) Processing RFC, total=   0.7s\n",
      "Fitting 5 folds for each of 1 candidates, totalling 5 fits\n",
      "[Pipeline] ............... (step 5 of 5) Processing RFC, total=   0.7s\n",
      "Fitting 5 folds for each of 1 candidates, totalling 5 fits\n",
      "[Pipeline] ............... (step 5 of 5) Processing RFC, total=   0.8s\n",
      "Fitting 5 folds for each of 1 candidates, totalling 5 fits\n",
      "[Pipeline] ............... (step 5 of 5) Processing RFC, total=   0.7s\n",
      "2.97 s ± 109 ms per loop (mean ± std. dev. of 7 runs, 1 loop each)\n"
     ]
    }
   ],
   "source": [
    "%%timeit\n",
    "grid_rfc.fit(X, y)"
   ]
  },
  {
   "cell_type": "code",
   "execution_count": 48,
   "id": "e74820e9",
   "metadata": {},
   "outputs": [
    {
     "data": {
      "text/plain": [
       "{'RFC': RandomForestClassifier(max_depth=10, n_estimators=50, random_state=42),\n",
       " 'RFC__max_depth': 10,\n",
       " 'RFC__n_estimators': 50,\n",
       " 'feat_selec': SelectKBest(k=50),\n",
       " 'imputer': SimpleImputer(),\n",
       " 'over': SMOTE(random_state=42, sampling_strategy=0.4),\n",
       " 'scaler': RobustScaler()}"
      ]
     },
     "execution_count": 48,
     "metadata": {},
     "output_type": "execute_result"
    }
   ],
   "source": [
    "grid_rfc.best_params_"
   ]
  },
  {
   "cell_type": "code",
   "execution_count": 49,
   "id": "ad5c566b",
   "metadata": {},
   "outputs": [],
   "source": [
    "grid_rfc_results = pd.DataFrame(grid_rfc.cv_results_)"
   ]
  },
  {
   "cell_type": "code",
   "execution_count": 50,
   "id": "8ba0dfc6",
   "metadata": {},
   "outputs": [
    {
     "data": {
      "text/html": [
       "<div>\n",
       "<style scoped>\n",
       "    .dataframe tbody tr th:only-of-type {\n",
       "        vertical-align: middle;\n",
       "    }\n",
       "\n",
       "    .dataframe tbody tr th {\n",
       "        vertical-align: top;\n",
       "    }\n",
       "\n",
       "    .dataframe thead th {\n",
       "        text-align: right;\n",
       "    }\n",
       "</style>\n",
       "<table border=\"1\" class=\"dataframe\">\n",
       "  <thead>\n",
       "    <tr style=\"text-align: right;\">\n",
       "      <th></th>\n",
       "      <th>mean_fit_time</th>\n",
       "      <th>std_fit_time</th>\n",
       "      <th>mean_score_time</th>\n",
       "      <th>std_score_time</th>\n",
       "      <th>param_RFC</th>\n",
       "      <th>param_RFC__max_depth</th>\n",
       "      <th>param_RFC__n_estimators</th>\n",
       "      <th>param_feat_selec</th>\n",
       "      <th>param_imputer</th>\n",
       "      <th>param_over</th>\n",
       "      <th>param_scaler</th>\n",
       "      <th>params</th>\n",
       "      <th>split0_test_score</th>\n",
       "      <th>split1_test_score</th>\n",
       "      <th>split2_test_score</th>\n",
       "      <th>split3_test_score</th>\n",
       "      <th>split4_test_score</th>\n",
       "      <th>mean_test_score</th>\n",
       "      <th>std_test_score</th>\n",
       "      <th>rank_test_score</th>\n",
       "    </tr>\n",
       "  </thead>\n",
       "  <tbody>\n",
       "    <tr>\n",
       "      <th>0</th>\n",
       "      <td>1.004522</td>\n",
       "      <td>0.152328</td>\n",
       "      <td>0.074592</td>\n",
       "      <td>0.014096</td>\n",
       "      <td>RandomForestClassifier(max_depth=10, n_estimators=50, random_state=42)</td>\n",
       "      <td>10</td>\n",
       "      <td>50</td>\n",
       "      <td>SelectKBest(k=50)</td>\n",
       "      <td>SimpleImputer()</td>\n",
       "      <td>SMOTE(random_state=42, sampling_strategy=0.4)</td>\n",
       "      <td>RobustScaler()</td>\n",
       "      <td>{'RFC': RandomForestClassifier(max_depth=10, n_estimators=50, random_state=42), 'RFC__max_depth': 10, 'RFC__n_estimators': 50, 'feat_selec': SelectKBest(k=50), 'imputer': SimpleImputer(), 'over': SMOTE(random_state=42, sampling_strategy=0.4), 'scaler': RobustScaler()}</td>\n",
       "      <td>0.699578</td>\n",
       "      <td>0.67558</td>\n",
       "      <td>0.62461</td>\n",
       "      <td>0.66789</td>\n",
       "      <td>0.704044</td>\n",
       "      <td>0.67434</td>\n",
       "      <td>0.028409</td>\n",
       "      <td>1</td>\n",
       "    </tr>\n",
       "  </tbody>\n",
       "</table>\n",
       "</div>"
      ],
      "text/plain": [
       "   mean_fit_time  std_fit_time  mean_score_time  std_score_time  \\\n",
       "0       1.004522      0.152328         0.074592        0.014096   \n",
       "\n",
       "                                                                param_RFC  \\\n",
       "0  RandomForestClassifier(max_depth=10, n_estimators=50, random_state=42)   \n",
       "\n",
       "  param_RFC__max_depth param_RFC__n_estimators   param_feat_selec  \\\n",
       "0                   10                      50  SelectKBest(k=50)   \n",
       "\n",
       "     param_imputer                                     param_over  \\\n",
       "0  SimpleImputer()  SMOTE(random_state=42, sampling_strategy=0.4)   \n",
       "\n",
       "     param_scaler  \\\n",
       "0  RobustScaler()   \n",
       "\n",
       "                                                                                                                                                                                                                                                                         params  \\\n",
       "0  {'RFC': RandomForestClassifier(max_depth=10, n_estimators=50, random_state=42), 'RFC__max_depth': 10, 'RFC__n_estimators': 50, 'feat_selec': SelectKBest(k=50), 'imputer': SimpleImputer(), 'over': SMOTE(random_state=42, sampling_strategy=0.4), 'scaler': RobustScaler()}   \n",
       "\n",
       "   split0_test_score  split1_test_score  split2_test_score  split3_test_score  \\\n",
       "0           0.699578            0.67558            0.62461            0.66789   \n",
       "\n",
       "   split4_test_score  mean_test_score  std_test_score  rank_test_score  \n",
       "0           0.704044          0.67434        0.028409                1  "
      ]
     },
     "execution_count": 50,
     "metadata": {},
     "output_type": "execute_result"
    }
   ],
   "source": [
    "grid_rfc_results.head(1)"
   ]
  },
  {
   "cell_type": "markdown",
   "id": "32d39cc5",
   "metadata": {},
   "source": [
    "#### Imputers grid results"
   ]
  },
  {
   "cell_type": "code",
   "execution_count": 51,
   "id": "f3c09c8c",
   "metadata": {},
   "outputs": [],
   "source": [
    "grid_rfc_results['param_imputer'] = grid_rfc_results['param_imputer'].astype('str')"
   ]
  },
  {
   "cell_type": "code",
   "execution_count": 52,
   "id": "91b6a647",
   "metadata": {},
   "outputs": [
    {
     "data": {
      "text/html": [
       "<div>\n",
       "<style scoped>\n",
       "    .dataframe tbody tr th:only-of-type {\n",
       "        vertical-align: middle;\n",
       "    }\n",
       "\n",
       "    .dataframe tbody tr th {\n",
       "        vertical-align: top;\n",
       "    }\n",
       "\n",
       "    .dataframe thead th {\n",
       "        text-align: right;\n",
       "    }\n",
       "</style>\n",
       "<table border=\"1\" class=\"dataframe\">\n",
       "  <thead>\n",
       "    <tr style=\"text-align: right;\">\n",
       "      <th></th>\n",
       "      <th>mean_test_score</th>\n",
       "      <th>std_test_score</th>\n",
       "    </tr>\n",
       "    <tr>\n",
       "      <th>param_imputer</th>\n",
       "      <th></th>\n",
       "      <th></th>\n",
       "    </tr>\n",
       "  </thead>\n",
       "  <tbody>\n",
       "    <tr>\n",
       "      <th>SimpleImputer()</th>\n",
       "      <td>0.67434</td>\n",
       "      <td>0.028409</td>\n",
       "    </tr>\n",
       "  </tbody>\n",
       "</table>\n",
       "</div>"
      ],
      "text/plain": [
       "                 mean_test_score  std_test_score\n",
       "param_imputer                                   \n",
       "SimpleImputer()          0.67434        0.028409"
      ]
     },
     "execution_count": 52,
     "metadata": {},
     "output_type": "execute_result"
    }
   ],
   "source": [
    "grid_rfc_results[['param_imputer', 'mean_test_score', 'std_test_score']].groupby('param_imputer').agg({'mean_test_score':'mean', 'std_test_score':'mean'})"
   ]
  },
  {
   "cell_type": "markdown",
   "id": "26dc8053",
   "metadata": {},
   "source": [
    "Mean imputation (0.695) is slightly better than median (0.688) imputation. Why constant and custom imputation threw NaN ?"
   ]
  },
  {
   "cell_type": "markdown",
   "id": "d6ddee7d",
   "metadata": {},
   "source": [
    "#### Scaler grid results"
   ]
  },
  {
   "cell_type": "code",
   "execution_count": 53,
   "id": "b6c12f82",
   "metadata": {},
   "outputs": [],
   "source": [
    "grid_rfc_results['param_scaler'] = grid_rfc_results['param_scaler'].astype('str')"
   ]
  },
  {
   "cell_type": "code",
   "execution_count": 54,
   "id": "8ecd63c7",
   "metadata": {},
   "outputs": [
    {
     "data": {
      "text/html": [
       "<div>\n",
       "<style scoped>\n",
       "    .dataframe tbody tr th:only-of-type {\n",
       "        vertical-align: middle;\n",
       "    }\n",
       "\n",
       "    .dataframe tbody tr th {\n",
       "        vertical-align: top;\n",
       "    }\n",
       "\n",
       "    .dataframe thead th {\n",
       "        text-align: right;\n",
       "    }\n",
       "</style>\n",
       "<table border=\"1\" class=\"dataframe\">\n",
       "  <thead>\n",
       "    <tr style=\"text-align: right;\">\n",
       "      <th></th>\n",
       "      <th>mean_test_score</th>\n",
       "      <th>std_test_score</th>\n",
       "    </tr>\n",
       "    <tr>\n",
       "      <th>param_scaler</th>\n",
       "      <th></th>\n",
       "      <th></th>\n",
       "    </tr>\n",
       "  </thead>\n",
       "  <tbody>\n",
       "    <tr>\n",
       "      <th>RobustScaler()</th>\n",
       "      <td>0.67434</td>\n",
       "      <td>0.028409</td>\n",
       "    </tr>\n",
       "  </tbody>\n",
       "</table>\n",
       "</div>"
      ],
      "text/plain": [
       "                mean_test_score  std_test_score\n",
       "param_scaler                                   \n",
       "RobustScaler()          0.67434        0.028409"
      ]
     },
     "execution_count": 54,
     "metadata": {},
     "output_type": "execute_result"
    }
   ],
   "source": [
    "grid_rfc_results[['param_scaler', 'mean_test_score', 'std_test_score']].groupby('param_scaler').agg({'mean_test_score':'mean', 'std_test_score':'mean'})"
   ]
  },
  {
   "cell_type": "markdown",
   "id": "6379e252",
   "metadata": {},
   "source": [
    "RobustScaler (0.694) is slightly better than MinMaxScaler (0.688987)"
   ]
  },
  {
   "cell_type": "markdown",
   "id": "660fcb25",
   "metadata": {},
   "source": [
    "#### Feature selector grid results"
   ]
  },
  {
   "cell_type": "code",
   "execution_count": 55,
   "id": "abac81a1",
   "metadata": {},
   "outputs": [],
   "source": [
    "grid_rfc_results['param_feat_selec'] = grid_rfc_results['param_feat_selec'].astype('str')"
   ]
  },
  {
   "cell_type": "code",
   "execution_count": 56,
   "id": "3daeeae8",
   "metadata": {},
   "outputs": [
    {
     "data": {
      "text/html": [
       "<div>\n",
       "<style scoped>\n",
       "    .dataframe tbody tr th:only-of-type {\n",
       "        vertical-align: middle;\n",
       "    }\n",
       "\n",
       "    .dataframe tbody tr th {\n",
       "        vertical-align: top;\n",
       "    }\n",
       "\n",
       "    .dataframe thead th {\n",
       "        text-align: right;\n",
       "    }\n",
       "</style>\n",
       "<table border=\"1\" class=\"dataframe\">\n",
       "  <thead>\n",
       "    <tr style=\"text-align: right;\">\n",
       "      <th></th>\n",
       "      <th>mean_test_score</th>\n",
       "      <th>std_test_score</th>\n",
       "    </tr>\n",
       "    <tr>\n",
       "      <th>param_feat_selec</th>\n",
       "      <th></th>\n",
       "      <th></th>\n",
       "    </tr>\n",
       "  </thead>\n",
       "  <tbody>\n",
       "    <tr>\n",
       "      <th>SelectKBest(k=50)</th>\n",
       "      <td>0.67434</td>\n",
       "      <td>0.028409</td>\n",
       "    </tr>\n",
       "  </tbody>\n",
       "</table>\n",
       "</div>"
      ],
      "text/plain": [
       "                   mean_test_score  std_test_score\n",
       "param_feat_selec                                  \n",
       "SelectKBest(k=50)          0.67434        0.028409"
      ]
     },
     "execution_count": 56,
     "metadata": {},
     "output_type": "execute_result"
    }
   ],
   "source": [
    "grid_rfc_results[['param_feat_selec', 'mean_test_score', 'std_test_score']].groupby('param_feat_selec').agg({'mean_test_score':'mean', 'std_test_score':'mean'})"
   ]
  },
  {
   "cell_type": "markdown",
   "id": "e3d67e01",
   "metadata": {},
   "source": [
    "En moyenne sur l'ensemble des 320 fits SelectKbest(k=50) (avg test AUC: 0.698) est meilleur est beaucoup plus rapide que RFE (avg test AUC: 0.684)\n",
    "\n",
    "grille des fits\n",
    "param_grid_rfc = {  'imputer': [SimpleImputer(strategy='median'), SimpleImputer(strategy='mean'), SimpleImputer(strategy='constant'), cust_imputer]\n",
    "        , 'scaler': [MinMaxScaler(), RobustScaler()]\n",
    "        , 'over': [over]\n",
    "        #, 'under': [RandomUnderSampler(sampling_strategy=0.5)]\n",
    "        , 'feat_selec': [rfe, SKB] \n",
    "        , 'RFC': [RFC]\n",
    "        , 'RFC__max_depth': [None, 10, 20, 30]\n",
    "        , 'RFC__n_estimators': [100,]\n",
    "       }"
   ]
  },
  {
   "cell_type": "code",
   "execution_count": 57,
   "id": "0a1293fe",
   "metadata": {},
   "outputs": [
    {
     "data": {
      "text/plain": [
       "0.6743404520546419"
      ]
     },
     "execution_count": 57,
     "metadata": {},
     "output_type": "execute_result"
    }
   ],
   "source": [
    "max(grid_rfc.cv_results_['mean_test_score'])"
   ]
  },
  {
   "cell_type": "markdown",
   "id": "3952f1ee",
   "metadata": {},
   "source": [
    "## LGBMC"
   ]
  },
  {
   "cell_type": "code",
   "execution_count": 192,
   "id": "704b7809",
   "metadata": {},
   "outputs": [],
   "source": [
    "from lightgbm import LGBMClassifier\n",
    "LBMC = LGBMClassifier(objective='binary', random_state=seed)"
   ]
  },
  {
   "cell_type": "markdown",
   "id": "e2102f23",
   "metadata": {},
   "source": [
    "### building imbl pipeline and grid"
   ]
  },
  {
   "cell_type": "code",
   "execution_count": 323,
   "id": "b96aa529",
   "metadata": {},
   "outputs": [],
   "source": [
    "pipe_lgbm = im_pipeline(steps=[\n",
    "      ('imputer', SimpleImputer())\n",
    "    , ('scaler', MinMaxScaler())\n",
    "    , ('weight_strat', SMOTE())\n",
    "#    , ('under', RandomUnderSampler())\n",
    "    , ('feat_selec', SelectKBest(k=50))\n",
    "    , ('LBMC', LGBMClassifier())    \n",
    "]\n",
    "    ,memory=\"D:/Dowloads_D/Data_OC/P7\", verbose=True)"
   ]
  },
  {
   "cell_type": "code",
   "execution_count": 296,
   "id": "d5e7527c",
   "metadata": {},
   "outputs": [],
   "source": [
    "imputers=[\n",
    "     median_imputer # best\n",
    "    #, mean_imputer \n",
    "    #, zero_imputer # retunrs NaN\n",
    "    #, cust_imputer # retunrs NaN\n",
    "]\n",
    "# scalers\n",
    "scalers=[\n",
    "     #MinMaxScaler\n",
    "     RobustScaler()    #best\n",
    "]\n",
    "# over/undersampling\n",
    "weight_strat=[\n",
    "     over\n",
    "    #, under\n",
    "]\n",
    "# Feature_selectors\n",
    "SKB #best\n",
    "\n",
    "# LGBM parameters\n",
    "boosting_type = [\n",
    "    #'gbdt'\n",
    "     'dart' # best\n",
    "    #, 'goss'\n",
    "    #, 'rf'   \n",
    "]\n",
    "max_depth =[\n",
    "    7\n",
    "    , 8\n",
    "    , 10\n",
    "    #, 50\n",
    "    #, 100\n",
    "    #, None\n",
    "]\n",
    "n_estimators=[\n",
    "    20\n",
    "    , 30\n",
    "    , 40\n",
    "]\n",
    "num_leaves=[\n",
    "    5\n",
    "    , 7\n",
    "    , 10\n",
    "]\n",
    "subsample=[\n",
    "    1\n",
    "    , .8\n",
    "]\n",
    "colsample_bytree=[\n",
    "    .8\n",
    "]\n",
    "reg_alpha=[\n",
    "    0\n",
    "    ,.1\n",
    "]\n",
    "reg_lambda=[\n",
    "    0\n",
    "    , .1\n",
    "]\n",
    "min_split_gain=[\n",
    "      0\n",
    "    , .01\n",
    "]\n",
    "# params grid\n",
    "\n",
    "param_grid_lgbm = {\n",
    "          'imputer': imputers\n",
    "        , 'scaler': scalers\n",
    "        , 'weight_strat': weight_strat\n",
    "        #, 'under': [RandomUnderSampler(sampling_strategy=0.5)]\n",
    "        , 'feat_selec': [SKB] \n",
    "        , 'LBMC': [LBMC]\n",
    "        , 'LBMC__n_estimators':n_estimators\n",
    "        , 'LBMC__num_leaves':num_leaves\n",
    "        , 'LBMC__colsample_bytree':colsample_bytree\n",
    "        , 'LBMC__subsample':subsample\n",
    "        , 'LBMC__max_depth':max_depth\n",
    "        , 'LBMC__reg_alpha':reg_alpha\n",
    "        , 'LBMC__reg_lambda':reg_lambda\n",
    "        , 'LBMC__min_split_gain':min_split_gain\n",
    "       }"
   ]
  },
  {
   "cell_type": "code",
   "execution_count": 297,
   "id": "fdf2546c",
   "metadata": {},
   "outputs": [],
   "source": [
    "from sklearn.model_selection import GridSearchCV\n",
    "\n",
    "grid_lgbm = GridSearchCV(pipe_lgbm, param_grid_lgbm, cv=Skfold, scoring='roc_auc', verbose=2, n_jobs=-1, )"
   ]
  },
  {
   "cell_type": "code",
   "execution_count": 298,
   "id": "cc877a96",
   "metadata": {},
   "outputs": [
    {
     "name": "stdout",
     "output_type": "stream",
     "text": [
      "Fitting 5 folds for each of 432 candidates, totalling 2160 fits\n"
     ]
    },
    {
     "ename": "KeyboardInterrupt",
     "evalue": "",
     "output_type": "error",
     "traceback": [
      "\u001b[1;31m---------------------------------------------------------------------------\u001b[0m",
      "\u001b[1;31mKeyboardInterrupt\u001b[0m                         Traceback (most recent call last)",
      "\u001b[1;32museful_functions.py\u001b[0m in \u001b[0;36m<module>\u001b[1;34m\u001b[0m\n\u001b[0;32m      1\u001b[0m \u001b[0mget_ipython\u001b[0m\u001b[1;33m(\u001b[0m\u001b[1;33m)\u001b[0m\u001b[1;33m.\u001b[0m\u001b[0mrun_line_magic\u001b[0m\u001b[1;33m(\u001b[0m\u001b[1;34m'timeit'\u001b[0m\u001b[1;33m,\u001b[0m \u001b[1;34m''\u001b[0m\u001b[1;33m)\u001b[0m\u001b[1;33m\u001b[0m\u001b[1;33m\u001b[0m\u001b[0m\n\u001b[1;32m----> 2\u001b[1;33m \u001b[0mgrid_lgbm\u001b[0m\u001b[1;33m.\u001b[0m\u001b[0mfit\u001b[0m\u001b[1;33m(\u001b[0m\u001b[0mX\u001b[0m\u001b[1;33m,\u001b[0m \u001b[0my\u001b[0m\u001b[1;33m)\u001b[0m\u001b[1;33m\u001b[0m\u001b[1;33m\u001b[0m\u001b[0m\n\u001b[0m",
      "\u001b[1;32m~\\anaconda3\\lib\\site-packages\\sklearn\\utils\\validation.py\u001b[0m in \u001b[0;36minner_f\u001b[1;34m(*args, **kwargs)\u001b[0m\n\u001b[0;32m     61\u001b[0m             \u001b[0mextra_args\u001b[0m \u001b[1;33m=\u001b[0m \u001b[0mlen\u001b[0m\u001b[1;33m(\u001b[0m\u001b[0margs\u001b[0m\u001b[1;33m)\u001b[0m \u001b[1;33m-\u001b[0m \u001b[0mlen\u001b[0m\u001b[1;33m(\u001b[0m\u001b[0mall_args\u001b[0m\u001b[1;33m)\u001b[0m\u001b[1;33m\u001b[0m\u001b[1;33m\u001b[0m\u001b[0m\n\u001b[0;32m     62\u001b[0m             \u001b[1;32mif\u001b[0m \u001b[0mextra_args\u001b[0m \u001b[1;33m<=\u001b[0m \u001b[1;36m0\u001b[0m\u001b[1;33m:\u001b[0m\u001b[1;33m\u001b[0m\u001b[1;33m\u001b[0m\u001b[0m\n\u001b[1;32m---> 63\u001b[1;33m                 \u001b[1;32mreturn\u001b[0m \u001b[0mf\u001b[0m\u001b[1;33m(\u001b[0m\u001b[1;33m*\u001b[0m\u001b[0margs\u001b[0m\u001b[1;33m,\u001b[0m \u001b[1;33m**\u001b[0m\u001b[0mkwargs\u001b[0m\u001b[1;33m)\u001b[0m\u001b[1;33m\u001b[0m\u001b[1;33m\u001b[0m\u001b[0m\n\u001b[0m\u001b[0;32m     64\u001b[0m \u001b[1;33m\u001b[0m\u001b[0m\n\u001b[0;32m     65\u001b[0m             \u001b[1;31m# extra_args > 0\u001b[0m\u001b[1;33m\u001b[0m\u001b[1;33m\u001b[0m\u001b[1;33m\u001b[0m\u001b[0m\n",
      "\u001b[1;32m~\\anaconda3\\lib\\site-packages\\sklearn\\model_selection\\_search.py\u001b[0m in \u001b[0;36mfit\u001b[1;34m(self, X, y, groups, **fit_params)\u001b[0m\n\u001b[0;32m    839\u001b[0m                 \u001b[1;32mreturn\u001b[0m \u001b[0mresults\u001b[0m\u001b[1;33m\u001b[0m\u001b[1;33m\u001b[0m\u001b[0m\n\u001b[0;32m    840\u001b[0m \u001b[1;33m\u001b[0m\u001b[0m\n\u001b[1;32m--> 841\u001b[1;33m             \u001b[0mself\u001b[0m\u001b[1;33m.\u001b[0m\u001b[0m_run_search\u001b[0m\u001b[1;33m(\u001b[0m\u001b[0mevaluate_candidates\u001b[0m\u001b[1;33m)\u001b[0m\u001b[1;33m\u001b[0m\u001b[1;33m\u001b[0m\u001b[0m\n\u001b[0m\u001b[0;32m    842\u001b[0m \u001b[1;33m\u001b[0m\u001b[0m\n\u001b[0;32m    843\u001b[0m             \u001b[1;31m# multimetric is determined here because in the case of a callable\u001b[0m\u001b[1;33m\u001b[0m\u001b[1;33m\u001b[0m\u001b[1;33m\u001b[0m\u001b[0m\n",
      "\u001b[1;32m~\\anaconda3\\lib\\site-packages\\sklearn\\model_selection\\_search.py\u001b[0m in \u001b[0;36m_run_search\u001b[1;34m(self, evaluate_candidates)\u001b[0m\n\u001b[0;32m   1294\u001b[0m     \u001b[1;32mdef\u001b[0m \u001b[0m_run_search\u001b[0m\u001b[1;33m(\u001b[0m\u001b[0mself\u001b[0m\u001b[1;33m,\u001b[0m \u001b[0mevaluate_candidates\u001b[0m\u001b[1;33m)\u001b[0m\u001b[1;33m:\u001b[0m\u001b[1;33m\u001b[0m\u001b[1;33m\u001b[0m\u001b[0m\n\u001b[0;32m   1295\u001b[0m         \u001b[1;34m\"\"\"Search all candidates in param_grid\"\"\"\u001b[0m\u001b[1;33m\u001b[0m\u001b[1;33m\u001b[0m\u001b[0m\n\u001b[1;32m-> 1296\u001b[1;33m         \u001b[0mevaluate_candidates\u001b[0m\u001b[1;33m(\u001b[0m\u001b[0mParameterGrid\u001b[0m\u001b[1;33m(\u001b[0m\u001b[0mself\u001b[0m\u001b[1;33m.\u001b[0m\u001b[0mparam_grid\u001b[0m\u001b[1;33m)\u001b[0m\u001b[1;33m)\u001b[0m\u001b[1;33m\u001b[0m\u001b[1;33m\u001b[0m\u001b[0m\n\u001b[0m\u001b[0;32m   1297\u001b[0m \u001b[1;33m\u001b[0m\u001b[0m\n\u001b[0;32m   1298\u001b[0m \u001b[1;33m\u001b[0m\u001b[0m\n",
      "\u001b[1;32m~\\anaconda3\\lib\\site-packages\\sklearn\\model_selection\\_search.py\u001b[0m in \u001b[0;36mevaluate_candidates\u001b[1;34m(candidate_params, cv, more_results)\u001b[0m\n\u001b[0;32m    793\u001b[0m                               n_splits, n_candidates, n_candidates * n_splits))\n\u001b[0;32m    794\u001b[0m \u001b[1;33m\u001b[0m\u001b[0m\n\u001b[1;32m--> 795\u001b[1;33m                 out = parallel(delayed(_fit_and_score)(clone(base_estimator),\n\u001b[0m\u001b[0;32m    796\u001b[0m                                                        \u001b[0mX\u001b[0m\u001b[1;33m,\u001b[0m \u001b[0my\u001b[0m\u001b[1;33m,\u001b[0m\u001b[1;33m\u001b[0m\u001b[1;33m\u001b[0m\u001b[0m\n\u001b[0;32m    797\u001b[0m                                                        \u001b[0mtrain\u001b[0m\u001b[1;33m=\u001b[0m\u001b[0mtrain\u001b[0m\u001b[1;33m,\u001b[0m \u001b[0mtest\u001b[0m\u001b[1;33m=\u001b[0m\u001b[0mtest\u001b[0m\u001b[1;33m,\u001b[0m\u001b[1;33m\u001b[0m\u001b[1;33m\u001b[0m\u001b[0m\n",
      "\u001b[1;32m~\\anaconda3\\lib\\site-packages\\joblib\\parallel.py\u001b[0m in \u001b[0;36m__call__\u001b[1;34m(self, iterable)\u001b[0m\n\u001b[0;32m   1052\u001b[0m \u001b[1;33m\u001b[0m\u001b[0m\n\u001b[0;32m   1053\u001b[0m             \u001b[1;32mwith\u001b[0m \u001b[0mself\u001b[0m\u001b[1;33m.\u001b[0m\u001b[0m_backend\u001b[0m\u001b[1;33m.\u001b[0m\u001b[0mretrieval_context\u001b[0m\u001b[1;33m(\u001b[0m\u001b[1;33m)\u001b[0m\u001b[1;33m:\u001b[0m\u001b[1;33m\u001b[0m\u001b[1;33m\u001b[0m\u001b[0m\n\u001b[1;32m-> 1054\u001b[1;33m                 \u001b[0mself\u001b[0m\u001b[1;33m.\u001b[0m\u001b[0mretrieve\u001b[0m\u001b[1;33m(\u001b[0m\u001b[1;33m)\u001b[0m\u001b[1;33m\u001b[0m\u001b[1;33m\u001b[0m\u001b[0m\n\u001b[0m\u001b[0;32m   1055\u001b[0m             \u001b[1;31m# Make sure that we get a last message telling us we are done\u001b[0m\u001b[1;33m\u001b[0m\u001b[1;33m\u001b[0m\u001b[1;33m\u001b[0m\u001b[0m\n\u001b[0;32m   1056\u001b[0m             \u001b[0melapsed_time\u001b[0m \u001b[1;33m=\u001b[0m \u001b[0mtime\u001b[0m\u001b[1;33m.\u001b[0m\u001b[0mtime\u001b[0m\u001b[1;33m(\u001b[0m\u001b[1;33m)\u001b[0m \u001b[1;33m-\u001b[0m \u001b[0mself\u001b[0m\u001b[1;33m.\u001b[0m\u001b[0m_start_time\u001b[0m\u001b[1;33m\u001b[0m\u001b[1;33m\u001b[0m\u001b[0m\n",
      "\u001b[1;32m~\\anaconda3\\lib\\site-packages\\joblib\\parallel.py\u001b[0m in \u001b[0;36mretrieve\u001b[1;34m(self)\u001b[0m\n\u001b[0;32m    931\u001b[0m             \u001b[1;32mtry\u001b[0m\u001b[1;33m:\u001b[0m\u001b[1;33m\u001b[0m\u001b[1;33m\u001b[0m\u001b[0m\n\u001b[0;32m    932\u001b[0m                 \u001b[1;32mif\u001b[0m \u001b[0mgetattr\u001b[0m\u001b[1;33m(\u001b[0m\u001b[0mself\u001b[0m\u001b[1;33m.\u001b[0m\u001b[0m_backend\u001b[0m\u001b[1;33m,\u001b[0m \u001b[1;34m'supports_timeout'\u001b[0m\u001b[1;33m,\u001b[0m \u001b[1;32mFalse\u001b[0m\u001b[1;33m)\u001b[0m\u001b[1;33m:\u001b[0m\u001b[1;33m\u001b[0m\u001b[1;33m\u001b[0m\u001b[0m\n\u001b[1;32m--> 933\u001b[1;33m                     \u001b[0mself\u001b[0m\u001b[1;33m.\u001b[0m\u001b[0m_output\u001b[0m\u001b[1;33m.\u001b[0m\u001b[0mextend\u001b[0m\u001b[1;33m(\u001b[0m\u001b[0mjob\u001b[0m\u001b[1;33m.\u001b[0m\u001b[0mget\u001b[0m\u001b[1;33m(\u001b[0m\u001b[0mtimeout\u001b[0m\u001b[1;33m=\u001b[0m\u001b[0mself\u001b[0m\u001b[1;33m.\u001b[0m\u001b[0mtimeout\u001b[0m\u001b[1;33m)\u001b[0m\u001b[1;33m)\u001b[0m\u001b[1;33m\u001b[0m\u001b[1;33m\u001b[0m\u001b[0m\n\u001b[0m\u001b[0;32m    934\u001b[0m                 \u001b[1;32melse\u001b[0m\u001b[1;33m:\u001b[0m\u001b[1;33m\u001b[0m\u001b[1;33m\u001b[0m\u001b[0m\n\u001b[0;32m    935\u001b[0m                     \u001b[0mself\u001b[0m\u001b[1;33m.\u001b[0m\u001b[0m_output\u001b[0m\u001b[1;33m.\u001b[0m\u001b[0mextend\u001b[0m\u001b[1;33m(\u001b[0m\u001b[0mjob\u001b[0m\u001b[1;33m.\u001b[0m\u001b[0mget\u001b[0m\u001b[1;33m(\u001b[0m\u001b[1;33m)\u001b[0m\u001b[1;33m)\u001b[0m\u001b[1;33m\u001b[0m\u001b[1;33m\u001b[0m\u001b[0m\n",
      "\u001b[1;32m~\\anaconda3\\lib\\site-packages\\joblib\\_parallel_backends.py\u001b[0m in \u001b[0;36mwrap_future_result\u001b[1;34m(future, timeout)\u001b[0m\n\u001b[0;32m    540\u001b[0m         AsyncResults.get from multiprocessing.\"\"\"\n\u001b[0;32m    541\u001b[0m         \u001b[1;32mtry\u001b[0m\u001b[1;33m:\u001b[0m\u001b[1;33m\u001b[0m\u001b[1;33m\u001b[0m\u001b[0m\n\u001b[1;32m--> 542\u001b[1;33m             \u001b[1;32mreturn\u001b[0m \u001b[0mfuture\u001b[0m\u001b[1;33m.\u001b[0m\u001b[0mresult\u001b[0m\u001b[1;33m(\u001b[0m\u001b[0mtimeout\u001b[0m\u001b[1;33m=\u001b[0m\u001b[0mtimeout\u001b[0m\u001b[1;33m)\u001b[0m\u001b[1;33m\u001b[0m\u001b[1;33m\u001b[0m\u001b[0m\n\u001b[0m\u001b[0;32m    543\u001b[0m         \u001b[1;32mexcept\u001b[0m \u001b[0mCfTimeoutError\u001b[0m \u001b[1;32mas\u001b[0m \u001b[0me\u001b[0m\u001b[1;33m:\u001b[0m\u001b[1;33m\u001b[0m\u001b[1;33m\u001b[0m\u001b[0m\n\u001b[0;32m    544\u001b[0m             \u001b[1;32mraise\u001b[0m \u001b[0mTimeoutError\u001b[0m \u001b[1;32mfrom\u001b[0m \u001b[0me\u001b[0m\u001b[1;33m\u001b[0m\u001b[1;33m\u001b[0m\u001b[0m\n",
      "\u001b[1;32m~\\anaconda3\\lib\\concurrent\\futures\\_base.py\u001b[0m in \u001b[0;36mresult\u001b[1;34m(self, timeout)\u001b[0m\n\u001b[0;32m    432\u001b[0m                 \u001b[1;32mreturn\u001b[0m \u001b[0mself\u001b[0m\u001b[1;33m.\u001b[0m\u001b[0m__get_result\u001b[0m\u001b[1;33m(\u001b[0m\u001b[1;33m)\u001b[0m\u001b[1;33m\u001b[0m\u001b[1;33m\u001b[0m\u001b[0m\n\u001b[0;32m    433\u001b[0m \u001b[1;33m\u001b[0m\u001b[0m\n\u001b[1;32m--> 434\u001b[1;33m             \u001b[0mself\u001b[0m\u001b[1;33m.\u001b[0m\u001b[0m_condition\u001b[0m\u001b[1;33m.\u001b[0m\u001b[0mwait\u001b[0m\u001b[1;33m(\u001b[0m\u001b[0mtimeout\u001b[0m\u001b[1;33m)\u001b[0m\u001b[1;33m\u001b[0m\u001b[1;33m\u001b[0m\u001b[0m\n\u001b[0m\u001b[0;32m    435\u001b[0m \u001b[1;33m\u001b[0m\u001b[0m\n\u001b[0;32m    436\u001b[0m             \u001b[1;32mif\u001b[0m \u001b[0mself\u001b[0m\u001b[1;33m.\u001b[0m\u001b[0m_state\u001b[0m \u001b[1;32min\u001b[0m \u001b[1;33m[\u001b[0m\u001b[0mCANCELLED\u001b[0m\u001b[1;33m,\u001b[0m \u001b[0mCANCELLED_AND_NOTIFIED\u001b[0m\u001b[1;33m]\u001b[0m\u001b[1;33m:\u001b[0m\u001b[1;33m\u001b[0m\u001b[1;33m\u001b[0m\u001b[0m\n",
      "\u001b[1;32m~\\anaconda3\\lib\\threading.py\u001b[0m in \u001b[0;36mwait\u001b[1;34m(self, timeout)\u001b[0m\n\u001b[0;32m    300\u001b[0m         \u001b[1;32mtry\u001b[0m\u001b[1;33m:\u001b[0m    \u001b[1;31m# restore state no matter what (e.g., KeyboardInterrupt)\u001b[0m\u001b[1;33m\u001b[0m\u001b[1;33m\u001b[0m\u001b[0m\n\u001b[0;32m    301\u001b[0m             \u001b[1;32mif\u001b[0m \u001b[0mtimeout\u001b[0m \u001b[1;32mis\u001b[0m \u001b[1;32mNone\u001b[0m\u001b[1;33m:\u001b[0m\u001b[1;33m\u001b[0m\u001b[1;33m\u001b[0m\u001b[0m\n\u001b[1;32m--> 302\u001b[1;33m                 \u001b[0mwaiter\u001b[0m\u001b[1;33m.\u001b[0m\u001b[0macquire\u001b[0m\u001b[1;33m(\u001b[0m\u001b[1;33m)\u001b[0m\u001b[1;33m\u001b[0m\u001b[1;33m\u001b[0m\u001b[0m\n\u001b[0m\u001b[0;32m    303\u001b[0m                 \u001b[0mgotit\u001b[0m \u001b[1;33m=\u001b[0m \u001b[1;32mTrue\u001b[0m\u001b[1;33m\u001b[0m\u001b[1;33m\u001b[0m\u001b[0m\n\u001b[0;32m    304\u001b[0m             \u001b[1;32melse\u001b[0m\u001b[1;33m:\u001b[0m\u001b[1;33m\u001b[0m\u001b[1;33m\u001b[0m\u001b[0m\n",
      "\u001b[1;31mKeyboardInterrupt\u001b[0m: "
     ]
    }
   ],
   "source": [
    "%timeit\n",
    "grid_lgbm.fit(X, y)"
   ]
  },
  {
   "cell_type": "code",
   "execution_count": 74,
   "id": "2aedeb0d",
   "metadata": {},
   "outputs": [
    {
     "data": {
      "text/plain": [
       "0.7118340056655664"
      ]
     },
     "execution_count": 74,
     "metadata": {},
     "output_type": "execute_result"
    }
   ],
   "source": [
    "max(grid_lgbm.cv_results_['mean_test_score'])"
   ]
  },
  {
   "cell_type": "code",
   "execution_count": 150,
   "id": "c5b9cda8",
   "metadata": {},
   "outputs": [
    {
     "data": {
      "text/plain": [
       "{'LBMC': LGBMClassifier(colsample_bytree=0.8, max_depth=10, min_split_gain=0,\n",
       "                n_estimators=40, num_leaves=10, objective='binary',\n",
       "                random_state=42, reg_alpha=0, reg_lambda=0.1, subsample=1),\n",
       " 'LBMC__colsample_bytree': 0.8,\n",
       " 'LBMC__max_depth': 10,\n",
       " 'LBMC__min_split_gain': 0,\n",
       " 'LBMC__n_estimators': 40,\n",
       " 'LBMC__num_leaves': 10,\n",
       " 'LBMC__reg_alpha': 0,\n",
       " 'LBMC__reg_lambda': 0.1,\n",
       " 'LBMC__subsample': 1,\n",
       " 'feat_selec': SelectKBest(k=50),\n",
       " 'imputer': SimpleImputer(strategy='median'),\n",
       " 'scaler': RobustScaler(),\n",
       " 'weight_strat': SMOTE(random_state=42, sampling_strategy=0.4)}"
      ]
     },
     "execution_count": 150,
     "metadata": {},
     "output_type": "execute_result"
    }
   ],
   "source": [
    "grid_lgbm.best_params_"
   ]
  },
  {
   "cell_type": "markdown",
   "id": "9cc24015",
   "metadata": {},
   "source": [
    "### backup best params and scores"
   ]
  },
  {
   "cell_type": "markdown",
   "id": "66bddc2d",
   "metadata": {},
   "source": [
    "full param grid best params\n",
    "{'LBMC': LGBMClassifier(colsample_bytree=0.8, max_depth=10, min_split_gain=0,\n",
    "                n_estimators=50, num_leaves=10, objective='binary',\n",
    "                random_state=42, reg_alpha=0, reg_lambda=0, subsample=1),\n",
    " 'LBMC__colsample_bytree': 0.8,\n",
    " 'LBMC__max_depth': 10,\n",
    " 'LBMC__min_split_gain': 0,\n",
    " 'LBMC__n_estimators': 50,\n",
    " 'LBMC__num_leaves': 10,\n",
    " 'LBMC__reg_alpha': 0,\n",
    " 'LBMC__reg_lambda': 0,\n",
    " 'LBMC__subsample': 1,\n",
    " 'feat_selec': SelectKBest(k=50),\n",
    " 'imputer': SimpleImputer(strategy='median'),\n",
    " 'scaler': RobustScaler(),\n",
    " 'weight_strat': SMOTE(random_state=42, sampling_strategy=0.4)}\n",
    "\n",
    "best score = 0.715\n",
    "\n",
    "second more specific grid\n",
    "{'LBMC': LGBMClassifier(colsample_bytree=0.8, max_depth=7, min_split_gain=0,\n",
    "                n_estimators=40, num_leaves=10, objective='binary',\n",
    "                random_state=42, reg_alpha=0.1, reg_lambda=0, subsample=1),\n",
    " 'LBMC__colsample_bytree': 0.8,\n",
    " 'LBMC__max_depth': 7,\n",
    " 'LBMC__min_split_gain': 0,\n",
    " 'LBMC__n_estimators': 40,\n",
    " 'LBMC__num_leaves': 10,\n",
    " 'LBMC__reg_alpha': 0.1,\n",
    " 'LBMC__reg_lambda': 0,\n",
    " 'LBMC__subsample': 1,\n",
    " 'feat_selec': SelectKBest(k=50),\n",
    " 'imputer': SimpleImputer(strategy='median'),\n",
    " 'scaler': RobustScaler(),\n",
    " 'weight_strat': SMOTE(random_state=42, sampling_strategy=0.4)}\n",
    " \n",
    " best score:0.7146\n",
    " the score is not better\n",
    " \n",
    " third grid: increased the size of the training set by 8%\n",
    " {'LBMC': LGBMClassifier(colsample_bytree=0.8, max_depth=7, min_split_gain=0,\n",
    "                n_estimators=40, num_leaves=10, objective='binary',\n",
    "                random_state=42, reg_alpha=0.1, reg_lambda=0, subsample=1),\n",
    " 'LBMC__colsample_bytree': 0.8,\n",
    " 'LBMC__max_depth': 7,\n",
    " 'LBMC__min_split_gain': 0,\n",
    " 'LBMC__n_estimators': 40,\n",
    " 'LBMC__num_leaves': 10,\n",
    " 'LBMC__reg_alpha': 0.1,\n",
    " 'LBMC__reg_lambda': 0,\n",
    " 'LBMC__subsample': 1,\n",
    " 'feat_selec': SelectKBest(k=50),\n",
    " 'imputer': SimpleImputer(strategy='median'),\n",
    " 'scaler': RobustScaler(),\n",
    " 'weight_strat': SMOTE(random_state=42, sampling_strategy=0.4)}\n",
    " \n",
    " best score: 0.7118340056655664"
   ]
  },
  {
   "cell_type": "code",
   "execution_count": null,
   "id": "b4a28106",
   "metadata": {},
   "outputs": [],
   "source": [
    "df_grid_lgbm = pd.DataFrame(grid_lgbm.cv_results_)"
   ]
  },
  {
   "cell_type": "code",
   "execution_count": null,
   "id": "12daafba",
   "metadata": {},
   "outputs": [],
   "source": [
    "df_grid_lgbm.head(1)"
   ]
  },
  {
   "cell_type": "markdown",
   "id": "4c5f604e",
   "metadata": {},
   "source": [
    "#### Imputers grid results"
   ]
  },
  {
   "cell_type": "code",
   "execution_count": null,
   "id": "3159e5fc",
   "metadata": {},
   "outputs": [],
   "source": [
    "df_grid_lgbm['param_imputer'] = df_grid_lgbm['param_imputer'].astype('str')"
   ]
  },
  {
   "cell_type": "code",
   "execution_count": null,
   "id": "3fc8049e",
   "metadata": {},
   "outputs": [],
   "source": [
    "df_grid_lgbm[['param_imputer', 'mean_test_score', 'std_test_score']].groupby('param_imputer').agg({'mean_test_score':'mean', 'std_test_score':'mean'})"
   ]
  },
  {
   "cell_type": "markdown",
   "id": "c5791d80",
   "metadata": {},
   "source": [
    "median imputation (0.680) is slightly better than mean (0.679) imputation. Why constant and custom imputation threw NaN ?"
   ]
  },
  {
   "cell_type": "markdown",
   "id": "c61fe88e",
   "metadata": {},
   "source": [
    "#### Scaler grid results"
   ]
  },
  {
   "cell_type": "code",
   "execution_count": null,
   "id": "700854b6",
   "metadata": {},
   "outputs": [],
   "source": [
    "df_grid_lgbm['param_scaler'] = df_grid_lgbm['param_scaler'].astype('str')"
   ]
  },
  {
   "cell_type": "code",
   "execution_count": null,
   "id": "3cc5ae9d",
   "metadata": {},
   "outputs": [],
   "source": [
    "df_grid_lgbm[['param_scaler', 'mean_test_score', 'std_test_score']].groupby('param_scaler').agg({'mean_test_score':'mean', 'std_test_score':'mean'})"
   ]
  },
  {
   "cell_type": "markdown",
   "id": "3ea5cd32",
   "metadata": {},
   "source": [
    "RobustScaler (0.681) is slightly better than MinMaxScaler (0.678315)"
   ]
  },
  {
   "cell_type": "markdown",
   "id": "ebde7ea3",
   "metadata": {},
   "source": [
    "#### Feature selector grid results"
   ]
  },
  {
   "cell_type": "code",
   "execution_count": null,
   "id": "ff158178",
   "metadata": {},
   "outputs": [],
   "source": [
    "df_grid_lgbm['param_feat_selec'] = df_grid_lgbm['param_feat_selec'].astype('str')"
   ]
  },
  {
   "cell_type": "code",
   "execution_count": null,
   "id": "e41bde5c",
   "metadata": {},
   "outputs": [],
   "source": [
    "df_grid_lgbm[['param_feat_selec', 'mean_test_score', 'std_test_score']].groupby('param_feat_selec').agg({'mean_test_score':'mean', 'std_test_score':'mean'})"
   ]
  },
  {
   "cell_type": "markdown",
   "id": "a5feb265",
   "metadata": {},
   "source": [
    "En moyenne sur l'ensemble des 320 fits SelectKbest(k=50) (avg test AUC: 0.698) est meilleur est beaucoup plus rapide que RFE (avg test AUC: 0.684)\n",
    "\n",
    "grille des fits\n",
    "param_grid_rfc = {  'imputer': [SimpleImputer(strategy='median'), SimpleImputer(strategy='mean'), SimpleImputer(strategy='constant'), cust_imputer]\n",
    "        , 'scaler': [MinMaxScaler(), RobustScaler()]\n",
    "        , 'over': [over]\n",
    "        #, 'under': [RandomUnderSampler(sampling_strategy=0.5)]\n",
    "        , 'feat_selec': [rfe, SKB] \n",
    "        , 'RFC': [RFC]\n",
    "        , 'RFC__max_depth': [None, 10, 20, 30]\n",
    "        , 'RFC__n_estimators': [100,]\n",
    "       }"
   ]
  },
  {
   "cell_type": "markdown",
   "id": "9f0fd7cf",
   "metadata": {},
   "source": [
    "# Selection of the best pipe"
   ]
  },
  {
   "cell_type": "code",
   "execution_count": null,
   "id": "63f567d1",
   "metadata": {},
   "outputs": [],
   "source": [
    "# creating the best pipe with the optimised parameters and steps\n",
    "best_pipe = im_pipeline(steps=[\n",
    "      ('imputer', SimpleImputer(strategy='median'))\n",
    "    , ('scaler', RobustScaler())\n",
    "    , ('weight_strat', SMOTE(random_state=42, sampling_strategy=0.4))\n",
    "#    , ('under', RandomUnderSampler())\n",
    "    , ('feat_selec', SelectKBest(k=50))\n",
    "    , ('LBMC', LGBMClassifier(colsample_bytree=0.8, max_depth=7, min_split_gain=0,\n",
    "                n_estimators=40, num_leaves=10, objective='binary',\n",
    "                random_state=42, reg_alpha=0.1, reg_lambda=0, subsample=1))    \n",
    "]\n",
    "    ,memory=\"D:/Dowloads_D/Data_OC/P7\", verbose=True)"
   ]
  },
  {
   "cell_type": "markdown",
   "id": "98f3ea53",
   "metadata": {},
   "source": [
    "# Baseline check"
   ]
  },
  {
   "cell_type": "code",
   "execution_count": 358,
   "id": "2690e653",
   "metadata": {},
   "outputs": [],
   "source": [
    "from sklearn.dummy import DummyClassifier"
   ]
  },
  {
   "cell_type": "code",
   "execution_count": 360,
   "id": "8cba24af",
   "metadata": {},
   "outputs": [],
   "source": [
    "baseline_pipe = im_pipeline(steps=[\n",
    "      ('imputer', SimpleImputer(strategy='median'))\n",
    "    , ('scaler', RobustScaler())\n",
    "    , ('weight_strat', SMOTE(random_state=42, sampling_strategy=0.4))\n",
    "#    , ('under', RandomUnderSampler())\n",
    "    , ('feat_selec', SelectKBest(k=50))\n",
    "    , ('Baseline', DummyClassifier(strategy=\"most_frequent\"))    \n",
    "]\n",
    "    ,memory=\"D:/Dowloads_D/Data_OC/P7\", verbose=True)"
   ]
  },
  {
   "cell_type": "code",
   "execution_count": 361,
   "id": "0da85793",
   "metadata": {},
   "outputs": [
    {
     "name": "stdout",
     "output_type": "stream",
     "text": [
      "[Pipeline] ........... (step 1 of 5) Processing imputer, total=  22.2s\n"
     ]
    },
    {
     "name": "stderr",
     "output_type": "stream",
     "text": [
      "C:\\Users\\VP\\anaconda3\\lib\\site-packages\\imblearn\\pipeline.py:229: UserWarning: Persisting input arguments took 1.48s to run.\n",
      "If this happens often in your code, it can cause performance problems \n",
      "(results will be correct in all cases). \n",
      "The reason for this is probably some large input arguments for a wrapped\n",
      " function (e.g. large strings).\n",
      "THIS IS A JOBLIB ISSUE. If you can, kindly provide the joblib's team with an\n",
      " example so that they can fix the problem.\n",
      "  X, fitted_transformer = fit_transform_one_cached(\n"
     ]
    },
    {
     "name": "stdout",
     "output_type": "stream",
     "text": [
      "[Pipeline] ............ (step 2 of 5) Processing scaler, total=   2.1s\n"
     ]
    },
    {
     "name": "stderr",
     "output_type": "stream",
     "text": [
      "C:\\Users\\VP\\anaconda3\\lib\\site-packages\\imblearn\\pipeline.py:229: UserWarning: Persisting input arguments took 1.29s to run.\n",
      "If this happens often in your code, it can cause performance problems \n",
      "(results will be correct in all cases). \n",
      "The reason for this is probably some large input arguments for a wrapped\n",
      " function (e.g. large strings).\n",
      "THIS IS A JOBLIB ISSUE. If you can, kindly provide the joblib's team with an\n",
      " example so that they can fix the problem.\n",
      "  X, fitted_transformer = fit_transform_one_cached(\n"
     ]
    },
    {
     "name": "stdout",
     "output_type": "stream",
     "text": [
      "[Pipeline] ...... (step 3 of 5) Processing weight_strat, total=  15.3s\n"
     ]
    },
    {
     "name": "stderr",
     "output_type": "stream",
     "text": [
      "C:\\Users\\VP\\anaconda3\\lib\\site-packages\\imblearn\\pipeline.py:236: UserWarning: Persisting input arguments took 1.15s to run.\n",
      "If this happens often in your code, it can cause performance problems \n",
      "(results will be correct in all cases). \n",
      "The reason for this is probably some large input arguments for a wrapped\n",
      " function (e.g. large strings).\n",
      "THIS IS A JOBLIB ISSUE. If you can, kindly provide the joblib's team with an\n",
      " example so that they can fix the problem.\n",
      "  X, y, fitted_transformer = fit_resample_one_cached(\n",
      "C:\\Users\\VP\\anaconda3\\lib\\site-packages\\sklearn\\feature_selection\\_univariate_selection.py:114: UserWarning: Features [195 218] are constant.\n",
      "  warnings.warn(\"Features %s are constant.\" % constant_features_idx,\n",
      "C:\\Users\\VP\\anaconda3\\lib\\site-packages\\sklearn\\feature_selection\\_univariate_selection.py:116: RuntimeWarning: invalid value encountered in true_divide\n",
      "  f = msb / msw\n"
     ]
    },
    {
     "name": "stdout",
     "output_type": "stream",
     "text": [
      "[Pipeline] ........ (step 4 of 5) Processing feat_selec, total=   1.9s\n",
      "[Pipeline] .......... (step 5 of 5) Processing Baseline, total=   0.0s\n"
     ]
    },
    {
     "name": "stderr",
     "output_type": "stream",
     "text": [
      "C:\\Users\\VP\\anaconda3\\lib\\site-packages\\imblearn\\pipeline.py:229: UserWarning: Persisting input arguments took 1.37s to run.\n",
      "If this happens often in your code, it can cause performance problems \n",
      "(results will be correct in all cases). \n",
      "The reason for this is probably some large input arguments for a wrapped\n",
      " function (e.g. large strings).\n",
      "THIS IS A JOBLIB ISSUE. If you can, kindly provide the joblib's team with an\n",
      " example so that they can fix the problem.\n",
      "  X, fitted_transformer = fit_transform_one_cached(\n"
     ]
    },
    {
     "data": {
      "text/plain": [
       "Pipeline(memory='D:/Dowloads_D/Data_OC/P7',\n",
       "         steps=[('imputer', SimpleImputer(strategy='median')),\n",
       "                ('scaler', RobustScaler()),\n",
       "                ('weight_strat', SMOTE(random_state=42, sampling_strategy=0.4)),\n",
       "                ('feat_selec', SelectKBest(k=50)),\n",
       "                ('Baseline', DummyClassifier(strategy='most_frequent'))],\n",
       "         verbose=True)"
      ]
     },
     "execution_count": 361,
     "metadata": {},
     "output_type": "execute_result"
    }
   ],
   "source": [
    "%timeit\n",
    "baseline_pipe.fit(Xval, yval)"
   ]
  },
  {
   "cell_type": "code",
   "execution_count": 133,
   "id": "37c80090",
   "metadata": {},
   "outputs": [],
   "source": [
    "from sklearn.metrics import confusion_matrix, accuracy_score, roc_auc_score"
   ]
  },
  {
   "cell_type": "code",
   "execution_count": 362,
   "id": "378fe3c6",
   "metadata": {},
   "outputs": [],
   "source": [
    "yval_base_pred = baseline_pipe.predict(Xval)\n",
    "yval_base_pred_proba = baseline_pipe.predict_proba(Xval)"
   ]
  },
  {
   "cell_type": "code",
   "execution_count": 363,
   "id": "0794d67f",
   "metadata": {},
   "outputs": [
    {
     "data": {
      "text/plain": [
       "0.9192694030929325"
      ]
     },
     "execution_count": 363,
     "metadata": {},
     "output_type": "execute_result"
    }
   ],
   "source": [
    "accuracy_score(yval, yval_base_pred)"
   ]
  },
  {
   "cell_type": "code",
   "execution_count": 365,
   "id": "34365fe8",
   "metadata": {},
   "outputs": [
    {
     "data": {
      "text/plain": [
       "0.5"
      ]
     },
     "execution_count": 365,
     "metadata": {},
     "output_type": "execute_result"
    }
   ],
   "source": [
    "roc_auc_score(yval, yval_base_pred_proba[:,1])"
   ]
  },
  {
   "cell_type": "code",
   "execution_count": 366,
   "id": "eae16e1b",
   "metadata": {},
   "outputs": [],
   "source": [
    "from sklearn.metrics import plot_roc_curve"
   ]
  },
  {
   "cell_type": "code",
   "execution_count": 367,
   "id": "68d1a881",
   "metadata": {},
   "outputs": [
    {
     "data": {
      "text/plain": [
       "<sklearn.metrics._plot.roc_curve.RocCurveDisplay at 0x1d72eed20a0>"
      ]
     },
     "execution_count": 367,
     "metadata": {},
     "output_type": "execute_result"
    },
    {
     "data": {
      "image/png": "[encoded data removed]",
      "text/plain": [
       "<Figure size 720x432 with 1 Axes>"
      ]
     },
     "metadata": {},
     "output_type": "display_data"
    }
   ],
   "source": [
    "plot_roc_curve(baseline_pipe, Xval, yval)"
   ]
  },
  {
   "cell_type": "markdown",
   "id": "bbc82500",
   "metadata": {},
   "source": [
    "Accuracy is high, but the recall of the model is low, hence an AUC of 0.5.\n",
    "Best model has an AUC of 0.715"
   ]
  },
  {
   "cell_type": "markdown",
   "id": "0af9d71c",
   "metadata": {},
   "source": [
    "# Features importance best model"
   ]
  },
  {
   "cell_type": "markdown",
   "id": "bd8340cc",
   "metadata": {},
   "source": [
    "We are here analysing the features importance of the best model."
   ]
  },
  {
   "cell_type": "code",
   "execution_count": 345,
   "id": "6a5a6ead",
   "metadata": {},
   "outputs": [
    {
     "name": "stdout",
     "output_type": "stream",
     "text": [
      "[Pipeline] .............. (step 5 of 5) Processing LBMC, total=   0.4s\n"
     ]
    },
    {
     "data": {
      "text/plain": [
       "Pipeline(memory='D:/Dowloads_D/Data_OC/P7',\n",
       "         steps=[('imputer', SimpleImputer(strategy='median')),\n",
       "                ('scaler', RobustScaler()),\n",
       "                ('weight_strat', SMOTE(random_state=42, sampling_strategy=0.4)),\n",
       "                ('feat_selec', SelectKBest(k=50)),\n",
       "                ('LBMC',\n",
       "                 LGBMClassifier(colsample_bytree=0.8, max_depth=7,\n",
       "                                min_split_gain=0, n_estimators=40,\n",
       "                                num_leaves=10, objective='binary',\n",
       "                                random_state=42, reg_alpha=0.1, reg_lambda=0,\n",
       "                                subsample=1))],\n",
       "         verbose=True)"
      ]
     },
     "execution_count": 345,
     "metadata": {},
     "output_type": "execute_result"
    }
   ],
   "source": [
    "best_pipe.fit(X, y)"
   ]
  },
  {
   "cell_type": "code",
   "execution_count": 338,
   "id": "821f9005",
   "metadata": {},
   "outputs": [],
   "source": [
    "# getting indexes of the 50 columns selected by SelectKBest\n",
    "selected_columns= best_pipe.named_steps[\"feat_selec\"].get_support(indices=True)"
   ]
  },
  {
   "cell_type": "code",
   "execution_count": 346,
   "id": "cfe3bc7a",
   "metadata": {},
   "outputs": [
    {
     "data": {
      "image/png": "[encoded data removed]",
      "text/plain": [
       "<Figure size 1440x720 with 1 Axes>"
      ]
     },
     "metadata": {},
     "output_type": "display_data"
    }
   ],
   "source": [
    "# collecting features importance of the selected columns in a Dataframe\n",
    "feature_imp = pd.DataFrame(zip(best_pipe.named_steps[\"LBMC\"].feature_importances_, X.iloc[:,selected_columns].columns), columns=['Value','Feature'])\n",
    "plt.figure(figsize=(20, 10))\n",
    "# and plotting it\n",
    "sns.barplot(x=\"Value\", y=\"Feature\", data=feature_imp.sort_values(by=\"Value\", ascending=False).head(50))\n",
    "plt.title('LightGBM Features (avg over folds)')\n",
    "plt.tight_layout()\n",
    "plt.show()"
   ]
  },
  {
   "cell_type": "markdown",
   "id": "05990378",
   "metadata": {},
   "source": [
    "# confusion matrix of the best model"
   ]
  },
  {
   "cell_type": "code",
   "execution_count": 348,
   "id": "a1c33d4b",
   "metadata": {},
   "outputs": [],
   "source": [
    "Xval, yval = val_sample.iloc[:,2:-1], val_sample.iloc[:,-1]"
   ]
  },
  {
   "cell_type": "code",
   "execution_count": 133,
   "id": "b7b2fbbd",
   "metadata": {},
   "outputs": [],
   "source": [
    "from sklearn.metrics import confusion_matrix, accuracy_score, roc_auc_score"
   ]
  },
  {
   "cell_type": "code",
   "execution_count": 349,
   "id": "d0a339fd",
   "metadata": {},
   "outputs": [],
   "source": [
    "yval_pred = best_pipe.predict(Xval)\n",
    "yval_pred_proba = best_pipe.predict_proba(Xval)"
   ]
  },
  {
   "cell_type": "code",
   "execution_count": 350,
   "id": "b2f03ef6",
   "metadata": {},
   "outputs": [
    {
     "data": {
      "text/plain": [
       "0.9192694030929325"
      ]
     },
     "execution_count": 350,
     "metadata": {},
     "output_type": "execute_result"
    }
   ],
   "source": [
    "accuracy_score(yval, yval_pred)"
   ]
  },
  {
   "cell_type": "code",
   "execution_count": 351,
   "id": "082583d4",
   "metadata": {},
   "outputs": [
    {
     "data": {
      "text/plain": [
       "0.7240277971238918"
      ]
     },
     "execution_count": 351,
     "metadata": {},
     "output_type": "execute_result"
    }
   ],
   "source": [
    "roc_auc_score(yval, yval_pred_proba[:,1])"
   ]
  },
  {
   "cell_type": "code",
   "execution_count": 352,
   "id": "7426e18d",
   "metadata": {},
   "outputs": [],
   "source": [
    "cm_lgbm = confusion_matrix(yval, yval_pred, labels=[1, 0])"
   ]
  },
  {
   "cell_type": "code",
   "execution_count": 353,
   "id": "05938687",
   "metadata": {},
   "outputs": [],
   "source": [
    "cm_lgbm_df = pd.DataFrame(cm_lgbm\n",
    "                          , index=[['Actual', 'Actual'], ['def', 'nodef']]\n",
    "                          , columns=[['Predicted', 'Predicted'], ['def', 'nodef']])"
   ]
  },
  {
   "cell_type": "code",
   "execution_count": 357,
   "id": "f81fa3bb",
   "metadata": {},
   "outputs": [
    {
     "data": {
      "text/html": [
       "<div>\n",
       "<style scoped>\n",
       "    .dataframe tbody tr th:only-of-type {\n",
       "        vertical-align: middle;\n",
       "    }\n",
       "\n",
       "    .dataframe tbody tr th {\n",
       "        vertical-align: top;\n",
       "    }\n",
       "\n",
       "    .dataframe thead tr th {\n",
       "        text-align: left;\n",
       "    }\n",
       "</style>\n",
       "<table border=\"1\" class=\"dataframe\">\n",
       "  <thead>\n",
       "    <tr>\n",
       "      <th></th>\n",
       "      <th></th>\n",
       "      <th colspan=\"2\" halign=\"left\">Predicted</th>\n",
       "    </tr>\n",
       "    <tr>\n",
       "      <th></th>\n",
       "      <th></th>\n",
       "      <th>def</th>\n",
       "      <th>nodef</th>\n",
       "    </tr>\n",
       "  </thead>\n",
       "  <tbody>\n",
       "    <tr>\n",
       "      <th rowspan=\"2\" valign=\"top\">Actual</th>\n",
       "      <th>def</th>\n",
       "      <td>2</td>\n",
       "      <td>22341</td>\n",
       "    </tr>\n",
       "    <tr>\n",
       "      <th>nodef</th>\n",
       "      <td>2</td>\n",
       "      <td>254415</td>\n",
       "    </tr>\n",
       "  </tbody>\n",
       "</table>\n",
       "</div>"
      ],
      "text/plain": [
       "             Predicted        \n",
       "                   def   nodef\n",
       "Actual def           2   22341\n",
       "       nodef         2  254415"
      ]
     },
     "execution_count": 357,
     "metadata": {},
     "output_type": "execute_result"
    }
   ],
   "source": [
    "cm_lgbm_df"
   ]
  },
  {
   "cell_type": "code",
   "execution_count": 368,
   "id": "56b75337",
   "metadata": {},
   "outputs": [
    {
     "data": {
      "text/plain": [
       "<sklearn.metrics._plot.roc_curve.RocCurveDisplay at 0x1d7763d9760>"
      ]
     },
     "execution_count": 368,
     "metadata": {},
     "output_type": "execute_result"
    },
    {
     "data": {
      "image/png": "[encoded data removed]",
      "text/plain": [
       "<Figure size 720x432 with 1 Axes>"
      ]
     },
     "metadata": {},
     "output_type": "display_data"
    }
   ],
   "source": [
    "plot_roc_curve(best_pipe, Xval, yval)"
   ]
  },
  {
   "cell_type": "markdown",
   "id": "b66da72a",
   "metadata": {},
   "source": [
    "## Optimize threshold to maximise False Negative (1-recall)"
   ]
  },
  {
   "cell_type": "code",
   "execution_count": 383,
   "id": "ebcdc114",
   "metadata": {},
   "outputs": [],
   "source": [
    "from sklearn.metrics import recall_score"
   ]
  },
  {
   "cell_type": "code",
   "execution_count": 370,
   "id": "77dcd136",
   "metadata": {},
   "outputs": [],
   "source": [
    "def cust_predict_proba(pos_class_proba_array, thres=0.5):\n",
    "    pos_class_proba_array = pd.Series(pos_class_proba_array)\n",
    "    pos_class_proba_array = pos_class_proba_array.map(lambda x: 1 if x > thres else 0)\n",
    "    return pos_class_proba_array.to_numpy()"
   ]
  },
  {
   "cell_type": "code",
   "execution_count": 384,
   "id": "8015a702",
   "metadata": {},
   "outputs": [],
   "source": [
    "False_Negatives_rates = [] # i need to define the custom metric here that penalizes false negatives ut do not sacrifice accuracy too much\n",
    "thresholds      = [0.1 , 0.14, 0.19, 0.23, 0.28, 0.32, 0.37, 0.41, 0.46, 0.5 , 0.55, 0.59, 0.64, 0.68, 0.73, 0.77, 0.82, 0.86, 0.91, 0.95]\n",
    "\n",
    "for thr in thresholds:\n",
    "    recall = recall_score(yval, cust_predict_proba(yval_pred_proba[:,1], thres=thr))\n",
    "    false_negatives_rate = 1 - recall\n",
    "    False_Negatives_rates.append(false_negatives_rate)"
   ]
  },
  {
   "cell_type": "code",
   "execution_count": 385,
   "id": "d0530b2d",
   "metadata": {},
   "outputs": [
    {
     "data": {
      "text/plain": [
       "[0.20162914559369827,\n",
       " 0.3919795909233317,\n",
       " 0.6005012755672918,\n",
       " 0.7295349773978428,\n",
       " 0.8470214384818511,\n",
       " 0.9136642348834086,\n",
       " 0.971087141386564,\n",
       " 0.9914067045607126,\n",
       " 0.9992391352996465,\n",
       " 0.9999104865058408,\n",
       " 1.0,\n",
       " 1.0,\n",
       " 1.0,\n",
       " 1.0,\n",
       " 1.0,\n",
       " 1.0,\n",
       " 1.0,\n",
       " 1.0,\n",
       " 1.0,\n",
       " 1.0]"
      ]
     },
     "execution_count": 385,
     "metadata": {},
     "output_type": "execute_result"
    }
   ],
   "source": [
    "False_Negatives_rates"
   ]
  }
 ],
 "metadata": {
  "kernelspec": {
   "display_name": "Python 3",
   "language": "python",
   "name": "python3"
  },
  "language_info": {
   "codemirror_mode": {
    "name": "ipython",
    "version": 3
   },
   "file_extension": ".py",
   "mimetype": "text/x-python",
   "name": "python",
   "nbconvert_exporter": "python",
   "pygments_lexer": "ipython3",
   "version": "3.8.3"
  }
 },
 "nbformat": 4,
 "nbformat_minor": 5
}
